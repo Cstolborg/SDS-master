{
  "nbformat": 4,
  "nbformat_minor": 0,
  "metadata": {
    "kernelspec": {
      "display_name": "R",
      "language": "R",
      "name": "ir"
    },
    "language_info": {
      "codemirror_mode": "r",
      "file_extension": ".r",
      "mimetype": "text/x-r-source",
      "name": "R",
      "pygments_lexer": "r",
      "version": "3.3.1"
    },
    "colab": {
      "name": "M1_DS_basics_R_group_merge.ipynb",
      "provenance": [],
      "collapsed_sections": [],
      "include_colab_link": true
    }
  },
  "cells": [
    {
      "cell_type": "markdown",
      "metadata": {
        "id": "view-in-github",
        "colab_type": "text"
      },
      "source": [
        "<a href=\"https://colab.research.google.com/github/SDS-AAU/SDS-master/blob/master/M1/DS_basics_R_group_merge_example.ipynb\" target=\"_parent\"><img src=\"https://colab.research.google.com/assets/colab-badge.svg\" alt=\"Open In Colab\"/></a>"
      ]
    },
    {
      "cell_type": "markdown",
      "metadata": {
        "id": "SxQ2akRHItfw",
        "colab_type": "text"
      },
      "source": [
        "# M1: Data Science Basics: Groupby & Join (merge)\n",
        "\n",
        "in this tutorial I'm using the [MovieLens 100k data](https://) to demonstrate different data manipulation techniques\n",
        "It builds on the by Kevin Markham found here: https://github.com/justmarkham/pandas-videos/blob/master/pandas_merge.ipynb\n",
        "\n",
        "\n",
        "Out task is to calculate the average rating as well as number of ratings for a movie and add this information to the movies-dataframe"
      ]
    },
    {
      "cell_type": "code",
      "metadata": {
        "id": "656HIba9B56n",
        "colab_type": "code",
        "colab": {}
      },
      "source": [
        "# Load standard packages\n",
        "library(tidyverse) # DS ecosystem\n",
        "library(magrittr) # Advanced piping"
      ],
      "execution_count": null,
      "outputs": []
    },
    {
      "cell_type": "code",
      "metadata": {
        "id": "p_WhOVv3Wup5",
        "colab_type": "code",
        "colab": {}
      },
      "source": [
        "# Load movies\n",
        "movies <- read_delim('https://raw.githubusercontent.com/justmarkham/pandas-videos/master/data/u.item', \n",
        "                   delim = '|',\n",
        "                   col_names = c('movie_id', 'title'))"
      ],
      "execution_count": null,
      "outputs": []
    },
    {
      "cell_type": "code",
      "metadata": {
        "id": "4J1O4XqSWzwH",
        "colab_type": "code",
        "colab": {}
      },
      "source": [
        "# First inspection\n",
        "movies %>% head()"
      ],
      "execution_count": null,
      "outputs": []
    },
    {
      "cell_type": "code",
      "metadata": {
        "id": "KevuzpFJW4fU",
        "colab_type": "code",
        "colab": {}
      },
      "source": [
        "# Number of unique movie IDs\n",
        "movies %>% n_distinct('movie_id')"
      ],
      "execution_count": null,
      "outputs": []
    },
    {
      "cell_type": "code",
      "metadata": {
        "id": "z5xDwDyeW92m",
        "colab_type": "code",
        "colab": {}
      },
      "source": [
        "# Loading ratings\n",
        "ratings <- read_delim('https://github.com/justmarkham/pandas-videos/raw/master/data/u.data', \n",
        "                   delim = '\\t',\n",
        "                   col_names = c('user_id', 'movie_id', 'rating', 'timestamp'))"
      ],
      "execution_count": null,
      "outputs": []
    },
    {
      "cell_type": "code",
      "metadata": {
        "id": "oc8CgTj5XDQD",
        "colab_type": "code",
        "colab": {}
      },
      "source": [
        "ratings %>% head()"
      ],
      "execution_count": null,
      "outputs": []
    },
    {
      "cell_type": "code",
      "metadata": {
        "id": "GntceXStXGQe",
        "colab_type": "code",
        "colab": {}
      },
      "source": [
        "ratings %>% n_distinct('movie_id')"
      ],
      "execution_count": null,
      "outputs": []
    },
    {
      "cell_type": "code",
      "metadata": {
        "id": "Y7chrrudXIaT",
        "colab_type": "code",
        "colab": {}
      },
      "source": [
        "# Average movie ratings\n",
        "ratings_mean <- ratings %>%\n",
        "  group_by(movie_id) %>%\n",
        "  summarise(rating_mean = mean(rating, na.rm = TRUE) %>% round(2),\n",
        "            rating_n = n()) %>%\n",
        "  arrange(desc(rating_mean)) "
      ],
      "execution_count": null,
      "outputs": []
    },
    {
      "cell_type": "code",
      "metadata": {
        "id": "gUCDJnThXM12",
        "colab_type": "code",
        "colab": {}
      },
      "source": [
        "ratings_mean %>% head()"
      ],
      "execution_count": null,
      "outputs": []
    },
    {
      "cell_type": "code",
      "metadata": {
        "id": "ziI0jZelXSKh",
        "colab_type": "code",
        "colab": {}
      },
      "source": [
        "# Join the average ratings with the movies dataframe\n",
        "movies %<>% left_join(ratings_mean, by = 'movie_id')"
      ],
      "execution_count": null,
      "outputs": []
    },
    {
      "cell_type": "code",
      "metadata": {
        "id": "ed5sca0gXfOd",
        "colab_type": "code",
        "colab": {}
      },
      "source": [
        "movies %>% head()"
      ],
      "execution_count": null,
      "outputs": []
    },
    {
      "cell_type": "markdown",
      "metadata": {
        "id": "0nB3JF6JXr4D",
        "colab_type": "text"
      },
      "source": [
        "# Your Turn\n",
        "\n",
        "## Extended homework\n",
        "\n",
        "Using this data: https://github.com/fivethirtyeight/data/blob/master/alcohol-consumption/drinks.csv about alcohol consuption worldwide (per capita) for 2010.\n",
        "You can read the article based on the data here: [Dear Mona Followup: Where Do People Drink The Most Beer, Wine And Spirits?](https://fivethirtyeight.com/features/dear-mona-followup-where-do-people-drink-the-most-beer-wine-and-spirits/)\n",
        "\n",
        "\n",
        "Try to calculate the total consuption numbers, multiplying the per capita figures with the population of the countries in 2010\n",
        "https://github.com/datasets/population/blob/master/data/population.csv\n",
        "\n",
        "In R you can use the Contrycode package (https://github.com/vincentarelbundock/countrycode) to turn contry names into codes for more precise merging (contry-names are often written in various ways)\n",
        "\n",
        "Install it from github via 'remotes::install_github('vincentarelbundock/countrycode')'\n",
        "\n"
      ]
    },
    {
      "cell_type": "code",
      "metadata": {
        "id": "s5QRSQTJYBBE",
        "colab_type": "code",
        "colab": {}
      },
      "source": [
        ""
      ],
      "execution_count": null,
      "outputs": []
    }
  ]
}