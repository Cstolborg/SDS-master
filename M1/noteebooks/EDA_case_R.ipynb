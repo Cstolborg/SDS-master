{
  "nbformat": 4,
  "nbformat_minor": 0,
  "metadata": {
    "kernelspec": {
      "display_name": "R",
      "language": "R",
      "name": "ir"
    },
    "language_info": {
      "mimetype": "text/x-r-source",
      "name": "R",
      "pygments_lexer": "r",
      "version": "3.4.2",
      "file_extension": ".r",
      "codemirror_mode": "r"
    },
    "colab": {
      "name": "SDS_M1_datamunging_python_R.ipynb",
      "provenance": [],
      "collapsed_sections": [],
      "include_colab_link": true
    }
  },
  "cells": [
    {
      "cell_type": "markdown",
      "metadata": {
        "id": "view-in-github",
        "colab_type": "text"
      },
      "source": [
        "<a href=\"https://colab.research.google.com/github/SDS-AAU/SDS-master/blob/master/M1/noteebooks/EDA_case_R.ipynb\" target=\"_parent\"><img src=\"https://colab.research.google.com/assets/colab-badge.svg\" alt=\"Open In Colab\"/></a>"
      ]
    },
    {
      "cell_type": "code",
      "metadata": {
        "_uuid": "e91a8c71ecbabe307ebf19867d6249f8d75ed045",
        "_execution_state": "idle",
        "trusted": true,
        "id": "d31J-xWgYt4e",
        "colab_type": "code",
        "colab": {}
      },
      "source": [
        "## Importing packages\n",
        "library(tidyverse) # metapackage with lots of helpful functions\n",
        "library(magrittr)"
      ],
      "execution_count": 2,
      "outputs": []
    },
    {
      "cell_type": "markdown",
      "metadata": {
        "_uuid": "e9b2f353c305538df9dd9f19fa794887a3bf6967",
        "id": "e7wbZQ7qYt4k",
        "colab_type": "text"
      },
      "source": [
        "# Exploring the police dataset\n",
        "\n",
        "Alright, lets get started. First, load the data (csv) from the SDS server"
      ]
    },
    {
      "cell_type": "code",
      "metadata": {
        "id": "7kD_WTBDIw0q",
        "colab_type": "code",
        "colab": {
          "base_uri": "https://localhost:8080/",
          "height": 340
        },
        "outputId": "cf10f124-8362-4583-c837-9a0bd495fbdc"
      },
      "source": [
        "data <- read_csv(\"https://sds-aau.github.io/SDS-master/M1/data/RI-clean.csv.gz\")"
      ],
      "execution_count": 3,
      "outputs": [
        {
          "output_type": "stream",
          "text": [
            "Parsed with column specification:\n",
            "cols(\n",
            "  .default = col_character(),\n",
            "  stop_date = \u001b[34mcol_date(format = \"\")\u001b[39m,\n",
            "  stop_time = \u001b[34mcol_time(format = \"\")\u001b[39m,\n",
            "  county_name = \u001b[33mcol_logical()\u001b[39m,\n",
            "  county_fips = \u001b[33mcol_logical()\u001b[39m,\n",
            "  fine_grained_location = \u001b[33mcol_logical()\u001b[39m,\n",
            "  driver_age_raw = \u001b[32mcol_double()\u001b[39m,\n",
            "  driver_age = \u001b[32mcol_double()\u001b[39m,\n",
            "  search_conducted = \u001b[33mcol_logical()\u001b[39m,\n",
            "  contraband_found = \u001b[33mcol_logical()\u001b[39m,\n",
            "  is_arrested = \u001b[33mcol_logical()\u001b[39m,\n",
            "  out_of_state = \u001b[33mcol_logical()\u001b[39m,\n",
            "  drugs_related_stop = \u001b[33mcol_logical()\u001b[39m\n",
            ")\n",
            "\n",
            "See spec(...) for full column specifications.\n",
            "\n"
          ],
          "name": "stderr"
        }
      ]
    },
    {
      "cell_type": "markdown",
      "metadata": {
        "id": "8dK0qkt2JgCq",
        "colab_type": "text"
      },
      "source": [
        "Lets do a first inspection of the dataset."
      ]
    },
    {
      "cell_type": "code",
      "metadata": {
        "id": "lPq8za4sJawr",
        "colab_type": "code",
        "colab": {
          "base_uri": "https://localhost:8080/",
          "height": 428
        },
        "outputId": "4a90a149-7e3b-472b-e240-ee0c29deadb1"
      },
      "source": [
        "data %>% head()"
      ],
      "execution_count": 4,
      "outputs": [
        {
          "output_type": "display_data",
          "data": {
            "text/plain": [
              "  id            state stop_date  stop_time location_raw county_name county_fips\n",
              "1 RI-2005-00001 RI    2005-01-02 01:55:00  Zone K1      NA          NA         \n",
              "2 RI-2005-00002 RI    2005-01-02 20:30:00  Zone X4      NA          NA         \n",
              "3 RI-2005-00003 RI    2005-01-04 11:30:00  Zone X1      NA          NA         \n",
              "4 RI-2005-00004 RI    2005-01-04 12:55:00  Zone X4      NA          NA         \n",
              "5 RI-2005-00005 RI    2005-01-06 01:30:00  Zone X4      NA          NA         \n",
              "6 RI-2005-00006 RI    2005-01-12 08:05:00  Zone X1      NA          NA         \n",
              "  fine_grained_location police_department driver_gender ⋯ search_conducted\n",
              "1 NA                    600               M             ⋯ FALSE           \n",
              "2 NA                    500               M             ⋯ FALSE           \n",
              "3 NA                    000               NA            ⋯ FALSE           \n",
              "4 NA                    500               M             ⋯ FALSE           \n",
              "5 NA                    500               M             ⋯ FALSE           \n",
              "6 NA                    000               M             ⋯ FALSE           \n",
              "  search_type_raw search_type contraband_found stop_outcome is_arrested\n",
              "1 NA              NA          FALSE            Citation     FALSE      \n",
              "2 NA              NA          FALSE            Citation     FALSE      \n",
              "3 NA              NA          FALSE            NA              NA      \n",
              "4 NA              NA          FALSE            Citation     FALSE      \n",
              "5 NA              NA          FALSE            Citation     FALSE      \n",
              "6 NA              NA          FALSE            Citation     FALSE      \n",
              "  stop_duration out_of_state drugs_related_stop district\n",
              "1 0-15 Min      FALSE        FALSE              Zone K1 \n",
              "2 16-30 Min     FALSE        FALSE              Zone X4 \n",
              "3 NA               NA        FALSE              Zone X1 \n",
              "4 0-15 Min      FALSE        FALSE              Zone X4 \n",
              "5 0-15 Min      FALSE        FALSE              Zone X4 \n",
              "6 30+ Min        TRUE        FALSE              Zone X1 "
            ],
            "text/latex": "A tibble: 6 × 26\n\\begin{tabular}{lllllllllllllllllllll}\n id & state & stop\\_date & stop\\_time & location\\_raw & county\\_name & county\\_fips & fine\\_grained\\_location & police\\_department & driver\\_gender & ⋯ & search\\_conducted & search\\_type\\_raw & search\\_type & contraband\\_found & stop\\_outcome & is\\_arrested & stop\\_duration & out\\_of\\_state & drugs\\_related\\_stop & district\\\\\n <chr> & <chr> & <date> & <time> & <chr> & <lgl> & <lgl> & <lgl> & <chr> & <chr> & ⋯ & <lgl> & <chr> & <chr> & <lgl> & <chr> & <lgl> & <chr> & <lgl> & <lgl> & <chr>\\\\\n\\hline\n\t RI-2005-00001 & RI & 2005-01-02 & 01:55:00 & Zone K1 & NA & NA & NA & 600 & M  & ⋯ & FALSE & NA & NA & FALSE & Citation & FALSE & 0-15 Min  & FALSE & FALSE & Zone K1\\\\\n\t RI-2005-00002 & RI & 2005-01-02 & 20:30:00 & Zone X4 & NA & NA & NA & 500 & M  & ⋯ & FALSE & NA & NA & FALSE & Citation & FALSE & 16-30 Min & FALSE & FALSE & Zone X4\\\\\n\t RI-2005-00003 & RI & 2005-01-04 & 11:30:00 & Zone X1 & NA & NA & NA & 000 & NA & ⋯ & FALSE & NA & NA & FALSE & NA       &    NA & NA        &    NA & FALSE & Zone X1\\\\\n\t RI-2005-00004 & RI & 2005-01-04 & 12:55:00 & Zone X4 & NA & NA & NA & 500 & M  & ⋯ & FALSE & NA & NA & FALSE & Citation & FALSE & 0-15 Min  & FALSE & FALSE & Zone X4\\\\\n\t RI-2005-00005 & RI & 2005-01-06 & 01:30:00 & Zone X4 & NA & NA & NA & 500 & M  & ⋯ & FALSE & NA & NA & FALSE & Citation & FALSE & 0-15 Min  & FALSE & FALSE & Zone X4\\\\\n\t RI-2005-00006 & RI & 2005-01-12 & 08:05:00 & Zone X1 & NA & NA & NA & 000 & M  & ⋯ & FALSE & NA & NA & FALSE & Citation & FALSE & 30+ Min   &  TRUE & FALSE & Zone X1\\\\\n\\end{tabular}\n",
            "text/markdown": "\nA tibble: 6 × 26\n\n| id &lt;chr&gt; | state &lt;chr&gt; | stop_date &lt;date&gt; | stop_time &lt;time&gt; | location_raw &lt;chr&gt; | county_name &lt;lgl&gt; | county_fips &lt;lgl&gt; | fine_grained_location &lt;lgl&gt; | police_department &lt;chr&gt; | driver_gender &lt;chr&gt; | ⋯ ⋯ | search_conducted &lt;lgl&gt; | search_type_raw &lt;chr&gt; | search_type &lt;chr&gt; | contraband_found &lt;lgl&gt; | stop_outcome &lt;chr&gt; | is_arrested &lt;lgl&gt; | stop_duration &lt;chr&gt; | out_of_state &lt;lgl&gt; | drugs_related_stop &lt;lgl&gt; | district &lt;chr&gt; |\n|---|---|---|---|---|---|---|---|---|---|---|---|---|---|---|---|---|---|---|---|---|\n| RI-2005-00001 | RI | 2005-01-02 | 01:55:00 | Zone K1 | NA | NA | NA | 600 | M  | ⋯ | FALSE | NA | NA | FALSE | Citation | FALSE | 0-15 Min  | FALSE | FALSE | Zone K1 |\n| RI-2005-00002 | RI | 2005-01-02 | 20:30:00 | Zone X4 | NA | NA | NA | 500 | M  | ⋯ | FALSE | NA | NA | FALSE | Citation | FALSE | 16-30 Min | FALSE | FALSE | Zone X4 |\n| RI-2005-00003 | RI | 2005-01-04 | 11:30:00 | Zone X1 | NA | NA | NA | 000 | NA | ⋯ | FALSE | NA | NA | FALSE | NA       |    NA | NA        |    NA | FALSE | Zone X1 |\n| RI-2005-00004 | RI | 2005-01-04 | 12:55:00 | Zone X4 | NA | NA | NA | 500 | M  | ⋯ | FALSE | NA | NA | FALSE | Citation | FALSE | 0-15 Min  | FALSE | FALSE | Zone X4 |\n| RI-2005-00005 | RI | 2005-01-06 | 01:30:00 | Zone X4 | NA | NA | NA | 500 | M  | ⋯ | FALSE | NA | NA | FALSE | Citation | FALSE | 0-15 Min  | FALSE | FALSE | Zone X4 |\n| RI-2005-00006 | RI | 2005-01-12 | 08:05:00 | Zone X1 | NA | NA | NA | 000 | M  | ⋯ | FALSE | NA | NA | FALSE | Citation | FALSE | 30+ Min   |  TRUE | FALSE | Zone X1 |\n\n",
            "text/html": [
              "<table>\n",
              "<caption>A tibble: 6 × 26</caption>\n",
              "<thead>\n",
              "\t<tr><th scope=col>id</th><th scope=col>state</th><th scope=col>stop_date</th><th scope=col>stop_time</th><th scope=col>location_raw</th><th scope=col>county_name</th><th scope=col>county_fips</th><th scope=col>fine_grained_location</th><th scope=col>police_department</th><th scope=col>driver_gender</th><th scope=col>⋯</th><th scope=col>search_conducted</th><th scope=col>search_type_raw</th><th scope=col>search_type</th><th scope=col>contraband_found</th><th scope=col>stop_outcome</th><th scope=col>is_arrested</th><th scope=col>stop_duration</th><th scope=col>out_of_state</th><th scope=col>drugs_related_stop</th><th scope=col>district</th></tr>\n",
              "\t<tr><th scope=col>&lt;chr&gt;</th><th scope=col>&lt;chr&gt;</th><th scope=col>&lt;date&gt;</th><th scope=col>&lt;time&gt;</th><th scope=col>&lt;chr&gt;</th><th scope=col>&lt;lgl&gt;</th><th scope=col>&lt;lgl&gt;</th><th scope=col>&lt;lgl&gt;</th><th scope=col>&lt;chr&gt;</th><th scope=col>&lt;chr&gt;</th><th scope=col>⋯</th><th scope=col>&lt;lgl&gt;</th><th scope=col>&lt;chr&gt;</th><th scope=col>&lt;chr&gt;</th><th scope=col>&lt;lgl&gt;</th><th scope=col>&lt;chr&gt;</th><th scope=col>&lt;lgl&gt;</th><th scope=col>&lt;chr&gt;</th><th scope=col>&lt;lgl&gt;</th><th scope=col>&lt;lgl&gt;</th><th scope=col>&lt;chr&gt;</th></tr>\n",
              "</thead>\n",
              "<tbody>\n",
              "\t<tr><td>RI-2005-00001</td><td>RI</td><td>2005-01-02</td><td>01:55:00</td><td>Zone K1</td><td>NA</td><td>NA</td><td>NA</td><td>600</td><td>M </td><td>⋯</td><td>FALSE</td><td>NA</td><td>NA</td><td>FALSE</td><td>Citation</td><td>FALSE</td><td>0-15 Min </td><td>FALSE</td><td>FALSE</td><td>Zone K1</td></tr>\n",
              "\t<tr><td>RI-2005-00002</td><td>RI</td><td>2005-01-02</td><td>20:30:00</td><td>Zone X4</td><td>NA</td><td>NA</td><td>NA</td><td>500</td><td>M </td><td>⋯</td><td>FALSE</td><td>NA</td><td>NA</td><td>FALSE</td><td>Citation</td><td>FALSE</td><td>16-30 Min</td><td>FALSE</td><td>FALSE</td><td>Zone X4</td></tr>\n",
              "\t<tr><td>RI-2005-00003</td><td>RI</td><td>2005-01-04</td><td>11:30:00</td><td>Zone X1</td><td>NA</td><td>NA</td><td>NA</td><td>000</td><td>NA</td><td>⋯</td><td>FALSE</td><td>NA</td><td>NA</td><td>FALSE</td><td>NA      </td><td>   NA</td><td>NA       </td><td>   NA</td><td>FALSE</td><td>Zone X1</td></tr>\n",
              "\t<tr><td>RI-2005-00004</td><td>RI</td><td>2005-01-04</td><td>12:55:00</td><td>Zone X4</td><td>NA</td><td>NA</td><td>NA</td><td>500</td><td>M </td><td>⋯</td><td>FALSE</td><td>NA</td><td>NA</td><td>FALSE</td><td>Citation</td><td>FALSE</td><td>0-15 Min </td><td>FALSE</td><td>FALSE</td><td>Zone X4</td></tr>\n",
              "\t<tr><td>RI-2005-00005</td><td>RI</td><td>2005-01-06</td><td>01:30:00</td><td>Zone X4</td><td>NA</td><td>NA</td><td>NA</td><td>500</td><td>M </td><td>⋯</td><td>FALSE</td><td>NA</td><td>NA</td><td>FALSE</td><td>Citation</td><td>FALSE</td><td>0-15 Min </td><td>FALSE</td><td>FALSE</td><td>Zone X4</td></tr>\n",
              "\t<tr><td>RI-2005-00006</td><td>RI</td><td>2005-01-12</td><td>08:05:00</td><td>Zone X1</td><td>NA</td><td>NA</td><td>NA</td><td>000</td><td>M </td><td>⋯</td><td>FALSE</td><td>NA</td><td>NA</td><td>FALSE</td><td>Citation</td><td>FALSE</td><td>30+ Min  </td><td> TRUE</td><td>FALSE</td><td>Zone X1</td></tr>\n",
              "</tbody>\n",
              "</table>\n"
            ]
          },
          "metadata": {
            "tags": []
          }
        }
      ]
    },
    {
      "cell_type": "code",
      "metadata": {
        "id": "bDfZOLG0JP3Q",
        "colab_type": "code",
        "colab": {
          "base_uri": "https://localhost:8080/",
          "height": 493
        },
        "outputId": "362a36fb-2261-43a8-b8b5-5b78e7539cc0"
      },
      "source": [
        "data %>% glimpse()"
      ],
      "execution_count": 5,
      "outputs": [
        {
          "output_type": "stream",
          "text": [
            "Rows: 509,681\n",
            "Columns: 26\n",
            "$ id                    \u001b[3m\u001b[90m<chr>\u001b[39m\u001b[23m \"RI-2005-00001\", \"RI-2005-00002\", \"RI-2005-0000…\n",
            "$ state                 \u001b[3m\u001b[90m<chr>\u001b[39m\u001b[23m \"RI\", \"RI\", \"RI\", \"RI\", \"RI\", \"RI\", \"RI\", \"RI\",…\n",
            "$ stop_date             \u001b[3m\u001b[90m<date>\u001b[39m\u001b[23m 2005-01-02, 2005-01-02, 2005-01-04, 2005-01-04…\n",
            "$ stop_time             \u001b[3m\u001b[90m<time>\u001b[39m\u001b[23m 01:55:00, 20:30:00, 11:30:00, 12:55:00, 01:30:…\n",
            "$ location_raw          \u001b[3m\u001b[90m<chr>\u001b[39m\u001b[23m \"Zone K1\", \"Zone X4\", \"Zone X1\", \"Zone X4\", \"Zo…\n",
            "$ county_name           \u001b[3m\u001b[90m<lgl>\u001b[39m\u001b[23m NA, NA, NA, NA, NA, NA, NA, NA, NA, NA, NA, NA,…\n",
            "$ county_fips           \u001b[3m\u001b[90m<lgl>\u001b[39m\u001b[23m NA, NA, NA, NA, NA, NA, NA, NA, NA, NA, NA, NA,…\n",
            "$ fine_grained_location \u001b[3m\u001b[90m<lgl>\u001b[39m\u001b[23m NA, NA, NA, NA, NA, NA, NA, NA, NA, NA, NA, NA,…\n",
            "$ police_department     \u001b[3m\u001b[90m<chr>\u001b[39m\u001b[23m \"600\", \"500\", \"000\", \"500\", \"500\", \"000\", \"300\"…\n",
            "$ driver_gender         \u001b[3m\u001b[90m<chr>\u001b[39m\u001b[23m \"M\", \"M\", NA, \"M\", \"M\", \"M\", \"M\", \"M\", \"M\", \"M\"…\n",
            "$ driver_age_raw        \u001b[3m\u001b[90m<dbl>\u001b[39m\u001b[23m 1985, 1987, NA, 1986, 1978, 1973, 1965, 1967, 1…\n",
            "$ driver_age            \u001b[3m\u001b[90m<dbl>\u001b[39m\u001b[23m 20, 18, NA, 19, 27, 32, 40, 38, 33, 18, 29, 27,…\n",
            "$ driver_race_raw       \u001b[3m\u001b[90m<chr>\u001b[39m\u001b[23m \"W\", \"W\", NA, \"W\", \"B\", \"B\", \"W\", \"H\", \"W\", \"W\"…\n",
            "$ driver_race           \u001b[3m\u001b[90m<chr>\u001b[39m\u001b[23m \"White\", \"White\", NA, \"White\", \"Black\", \"Black\"…\n",
            "$ violation_raw         \u001b[3m\u001b[90m<chr>\u001b[39m\u001b[23m \"Speeding\", \"Speeding\", NA, \"Equipment/Inspecti…\n",
            "$ violation             \u001b[3m\u001b[90m<chr>\u001b[39m\u001b[23m \"Speeding\", \"Speeding\", NA, \"Equipment\", \"Equip…\n",
            "$ search_conducted      \u001b[3m\u001b[90m<lgl>\u001b[39m\u001b[23m FALSE, FALSE, FALSE, FALSE, FALSE, FALSE, FALSE…\n",
            "$ search_type_raw       \u001b[3m\u001b[90m<chr>\u001b[39m\u001b[23m NA, NA, NA, NA, NA, NA, NA, NA, NA, \"Probable C…\n",
            "$ search_type           \u001b[3m\u001b[90m<chr>\u001b[39m\u001b[23m NA, NA, NA, NA, NA, NA, NA, NA, NA, \"Probable C…\n",
            "$ contraband_found      \u001b[3m\u001b[90m<lgl>\u001b[39m\u001b[23m FALSE, FALSE, FALSE, FALSE, FALSE, FALSE, FALSE…\n",
            "$ stop_outcome          \u001b[3m\u001b[90m<chr>\u001b[39m\u001b[23m \"Citation\", \"Citation\", NA, \"Citation\", \"Citati…\n",
            "$ is_arrested           \u001b[3m\u001b[90m<lgl>\u001b[39m\u001b[23m FALSE, FALSE, NA, FALSE, FALSE, FALSE, FALSE, F…\n",
            "$ stop_duration         \u001b[3m\u001b[90m<chr>\u001b[39m\u001b[23m \"0-15 Min\", \"16-30 Min\", NA, \"0-15 Min\", \"0-15 …\n",
            "$ out_of_state          \u001b[3m\u001b[90m<lgl>\u001b[39m\u001b[23m FALSE, FALSE, NA, FALSE, FALSE, TRUE, TRUE, TRU…\n",
            "$ drugs_related_stop    \u001b[3m\u001b[90m<lgl>\u001b[39m\u001b[23m FALSE, FALSE, FALSE, FALSE, FALSE, FALSE, FALSE…\n",
            "$ district              \u001b[3m\u001b[90m<chr>\u001b[39m\u001b[23m \"Zone K1\", \"Zone X4\", \"Zone X1\", \"Zone X4\", \"Zo…\n"
          ],
          "name": "stdout"
        }
      ]
    },
    {
      "cell_type": "markdown",
      "metadata": {
        "id": "sN6HNL_qJnto",
        "colab_type": "text"
      },
      "source": [
        "- Each row is one traffic stop\n",
        "- NA are missing values"
      ]
    },
    {
      "cell_type": "code",
      "metadata": {
        "id": "LoSL2NqMJ2iq",
        "colab_type": "code",
        "colab": {
          "base_uri": "https://localhost:8080/",
          "height": 428
        },
        "outputId": "411ea1b2-2c50-4f05-aefb-a1d54e9529dc"
      },
      "source": [
        "data %>%\n",
        "filter(driver_gender %>% is.na()) %>% \n",
        "head()"
      ],
      "execution_count": 10,
      "outputs": [
        {
          "output_type": "display_data",
          "data": {
            "text/plain": [
              "  id            state stop_date  stop_time location_raw county_name county_fips\n",
              "1 RI-2005-00003 RI    2005-01-04 11:30:00  Zone X1      NA          NA         \n",
              "2 RI-2005-00018 RI    2005-03-05 00:20:00  Zone X4      NA          NA         \n",
              "3 RI-2005-00036 RI    2005-06-08 08:40:00  Zone X4      NA          NA         \n",
              "4 RI-2005-00075 RI    2005-08-17 13:20:00  Zone X1      NA          NA         \n",
              "5 RI-2005-00076 RI    2005-08-17 15:59:00  Zone X1      NA          NA         \n",
              "6 RI-2005-00081 RI    2005-08-24 18:00:00  Zone X1      NA          NA         \n",
              "  fine_grained_location police_department driver_gender ⋯ search_conducted\n",
              "1 NA                    000               NA            ⋯ FALSE           \n",
              "2 NA                    500               NA            ⋯ FALSE           \n",
              "3 NA                    500               NA            ⋯ FALSE           \n",
              "4 NA                    000               NA            ⋯ FALSE           \n",
              "5 NA                    000               NA            ⋯ FALSE           \n",
              "6 NA                    000               NA            ⋯ FALSE           \n",
              "  search_type_raw search_type contraband_found stop_outcome is_arrested\n",
              "1 NA              NA          FALSE            NA           NA         \n",
              "2 NA              NA          FALSE            NA           NA         \n",
              "3 NA              NA          FALSE            NA           NA         \n",
              "4 NA              NA          FALSE            NA           NA         \n",
              "5 NA              NA          FALSE            NA           NA         \n",
              "6 NA              NA          FALSE            NA           NA         \n",
              "  stop_duration out_of_state drugs_related_stop district\n",
              "1 NA            NA           FALSE              Zone X1 \n",
              "2 NA            NA           FALSE              Zone X4 \n",
              "3 NA            NA           FALSE              Zone X4 \n",
              "4 NA            NA           FALSE              Zone X1 \n",
              "5 NA            NA           FALSE              Zone X1 \n",
              "6 NA            NA           FALSE              Zone X1 "
            ],
            "text/latex": "A tibble: 6 × 26\n\\begin{tabular}{lllllllllllllllllllll}\n id & state & stop\\_date & stop\\_time & location\\_raw & county\\_name & county\\_fips & fine\\_grained\\_location & police\\_department & driver\\_gender & ⋯ & search\\_conducted & search\\_type\\_raw & search\\_type & contraband\\_found & stop\\_outcome & is\\_arrested & stop\\_duration & out\\_of\\_state & drugs\\_related\\_stop & district\\\\\n <chr> & <chr> & <date> & <time> & <chr> & <lgl> & <lgl> & <lgl> & <chr> & <chr> & ⋯ & <lgl> & <chr> & <chr> & <lgl> & <chr> & <lgl> & <chr> & <lgl> & <lgl> & <chr>\\\\\n\\hline\n\t RI-2005-00003 & RI & 2005-01-04 & 11:30:00 & Zone X1 & NA & NA & NA & 000 & NA & ⋯ & FALSE & NA & NA & FALSE & NA & NA & NA & NA & FALSE & Zone X1\\\\\n\t RI-2005-00018 & RI & 2005-03-05 & 00:20:00 & Zone X4 & NA & NA & NA & 500 & NA & ⋯ & FALSE & NA & NA & FALSE & NA & NA & NA & NA & FALSE & Zone X4\\\\\n\t RI-2005-00036 & RI & 2005-06-08 & 08:40:00 & Zone X4 & NA & NA & NA & 500 & NA & ⋯ & FALSE & NA & NA & FALSE & NA & NA & NA & NA & FALSE & Zone X4\\\\\n\t RI-2005-00075 & RI & 2005-08-17 & 13:20:00 & Zone X1 & NA & NA & NA & 000 & NA & ⋯ & FALSE & NA & NA & FALSE & NA & NA & NA & NA & FALSE & Zone X1\\\\\n\t RI-2005-00076 & RI & 2005-08-17 & 15:59:00 & Zone X1 & NA & NA & NA & 000 & NA & ⋯ & FALSE & NA & NA & FALSE & NA & NA & NA & NA & FALSE & Zone X1\\\\\n\t RI-2005-00081 & RI & 2005-08-24 & 18:00:00 & Zone X1 & NA & NA & NA & 000 & NA & ⋯ & FALSE & NA & NA & FALSE & NA & NA & NA & NA & FALSE & Zone X1\\\\\n\\end{tabular}\n",
            "text/markdown": "\nA tibble: 6 × 26\n\n| id &lt;chr&gt; | state &lt;chr&gt; | stop_date &lt;date&gt; | stop_time &lt;time&gt; | location_raw &lt;chr&gt; | county_name &lt;lgl&gt; | county_fips &lt;lgl&gt; | fine_grained_location &lt;lgl&gt; | police_department &lt;chr&gt; | driver_gender &lt;chr&gt; | ⋯ ⋯ | search_conducted &lt;lgl&gt; | search_type_raw &lt;chr&gt; | search_type &lt;chr&gt; | contraband_found &lt;lgl&gt; | stop_outcome &lt;chr&gt; | is_arrested &lt;lgl&gt; | stop_duration &lt;chr&gt; | out_of_state &lt;lgl&gt; | drugs_related_stop &lt;lgl&gt; | district &lt;chr&gt; |\n|---|---|---|---|---|---|---|---|---|---|---|---|---|---|---|---|---|---|---|---|---|\n| RI-2005-00003 | RI | 2005-01-04 | 11:30:00 | Zone X1 | NA | NA | NA | 000 | NA | ⋯ | FALSE | NA | NA | FALSE | NA | NA | NA | NA | FALSE | Zone X1 |\n| RI-2005-00018 | RI | 2005-03-05 | 00:20:00 | Zone X4 | NA | NA | NA | 500 | NA | ⋯ | FALSE | NA | NA | FALSE | NA | NA | NA | NA | FALSE | Zone X4 |\n| RI-2005-00036 | RI | 2005-06-08 | 08:40:00 | Zone X4 | NA | NA | NA | 500 | NA | ⋯ | FALSE | NA | NA | FALSE | NA | NA | NA | NA | FALSE | Zone X4 |\n| RI-2005-00075 | RI | 2005-08-17 | 13:20:00 | Zone X1 | NA | NA | NA | 000 | NA | ⋯ | FALSE | NA | NA | FALSE | NA | NA | NA | NA | FALSE | Zone X1 |\n| RI-2005-00076 | RI | 2005-08-17 | 15:59:00 | Zone X1 | NA | NA | NA | 000 | NA | ⋯ | FALSE | NA | NA | FALSE | NA | NA | NA | NA | FALSE | Zone X1 |\n| RI-2005-00081 | RI | 2005-08-24 | 18:00:00 | Zone X1 | NA | NA | NA | 000 | NA | ⋯ | FALSE | NA | NA | FALSE | NA | NA | NA | NA | FALSE | Zone X1 |\n\n",
            "text/html": [
              "<table>\n",
              "<caption>A tibble: 6 × 26</caption>\n",
              "<thead>\n",
              "\t<tr><th scope=col>id</th><th scope=col>state</th><th scope=col>stop_date</th><th scope=col>stop_time</th><th scope=col>location_raw</th><th scope=col>county_name</th><th scope=col>county_fips</th><th scope=col>fine_grained_location</th><th scope=col>police_department</th><th scope=col>driver_gender</th><th scope=col>⋯</th><th scope=col>search_conducted</th><th scope=col>search_type_raw</th><th scope=col>search_type</th><th scope=col>contraband_found</th><th scope=col>stop_outcome</th><th scope=col>is_arrested</th><th scope=col>stop_duration</th><th scope=col>out_of_state</th><th scope=col>drugs_related_stop</th><th scope=col>district</th></tr>\n",
              "\t<tr><th scope=col>&lt;chr&gt;</th><th scope=col>&lt;chr&gt;</th><th scope=col>&lt;date&gt;</th><th scope=col>&lt;time&gt;</th><th scope=col>&lt;chr&gt;</th><th scope=col>&lt;lgl&gt;</th><th scope=col>&lt;lgl&gt;</th><th scope=col>&lt;lgl&gt;</th><th scope=col>&lt;chr&gt;</th><th scope=col>&lt;chr&gt;</th><th scope=col>⋯</th><th scope=col>&lt;lgl&gt;</th><th scope=col>&lt;chr&gt;</th><th scope=col>&lt;chr&gt;</th><th scope=col>&lt;lgl&gt;</th><th scope=col>&lt;chr&gt;</th><th scope=col>&lt;lgl&gt;</th><th scope=col>&lt;chr&gt;</th><th scope=col>&lt;lgl&gt;</th><th scope=col>&lt;lgl&gt;</th><th scope=col>&lt;chr&gt;</th></tr>\n",
              "</thead>\n",
              "<tbody>\n",
              "\t<tr><td>RI-2005-00003</td><td>RI</td><td>2005-01-04</td><td>11:30:00</td><td>Zone X1</td><td>NA</td><td>NA</td><td>NA</td><td>000</td><td>NA</td><td>⋯</td><td>FALSE</td><td>NA</td><td>NA</td><td>FALSE</td><td>NA</td><td>NA</td><td>NA</td><td>NA</td><td>FALSE</td><td>Zone X1</td></tr>\n",
              "\t<tr><td>RI-2005-00018</td><td>RI</td><td>2005-03-05</td><td>00:20:00</td><td>Zone X4</td><td>NA</td><td>NA</td><td>NA</td><td>500</td><td>NA</td><td>⋯</td><td>FALSE</td><td>NA</td><td>NA</td><td>FALSE</td><td>NA</td><td>NA</td><td>NA</td><td>NA</td><td>FALSE</td><td>Zone X4</td></tr>\n",
              "\t<tr><td>RI-2005-00036</td><td>RI</td><td>2005-06-08</td><td>08:40:00</td><td>Zone X4</td><td>NA</td><td>NA</td><td>NA</td><td>500</td><td>NA</td><td>⋯</td><td>FALSE</td><td>NA</td><td>NA</td><td>FALSE</td><td>NA</td><td>NA</td><td>NA</td><td>NA</td><td>FALSE</td><td>Zone X4</td></tr>\n",
              "\t<tr><td>RI-2005-00075</td><td>RI</td><td>2005-08-17</td><td>13:20:00</td><td>Zone X1</td><td>NA</td><td>NA</td><td>NA</td><td>000</td><td>NA</td><td>⋯</td><td>FALSE</td><td>NA</td><td>NA</td><td>FALSE</td><td>NA</td><td>NA</td><td>NA</td><td>NA</td><td>FALSE</td><td>Zone X1</td></tr>\n",
              "\t<tr><td>RI-2005-00076</td><td>RI</td><td>2005-08-17</td><td>15:59:00</td><td>Zone X1</td><td>NA</td><td>NA</td><td>NA</td><td>000</td><td>NA</td><td>⋯</td><td>FALSE</td><td>NA</td><td>NA</td><td>FALSE</td><td>NA</td><td>NA</td><td>NA</td><td>NA</td><td>FALSE</td><td>Zone X1</td></tr>\n",
              "\t<tr><td>RI-2005-00081</td><td>RI</td><td>2005-08-24</td><td>18:00:00</td><td>Zone X1</td><td>NA</td><td>NA</td><td>NA</td><td>000</td><td>NA</td><td>⋯</td><td>FALSE</td><td>NA</td><td>NA</td><td>FALSE</td><td>NA</td><td>NA</td><td>NA</td><td>NA</td><td>FALSE</td><td>Zone X1</td></tr>\n",
              "</tbody>\n",
              "</table>\n"
            ]
          },
          "metadata": {
            "tags": []
          }
        }
      ]
    },
    {
      "cell_type": "markdown",
      "metadata": {
        "id": "fnGRkKhociQA",
        "colab_type": "text"
      },
      "source": [
        "Lets use `summarize_all()` and `gather()` to get an overview on missing values across the dataset."
      ]
    },
    {
      "cell_type": "code",
      "metadata": {
        "id": "zf0VATSWMyT-",
        "colab_type": "code",
        "colab": {
          "base_uri": "https://localhost:8080/",
          "height": 603
        },
        "outputId": "88118b31-ce06-49b7-8394-7875af894f72"
      },
      "source": [
        "data %>%\n",
        "  select(-id) %>%\n",
        "  summarise_all(function(x) sum(is.na(x))) %>%\n",
        "  pivot_longer(everything())"
      ],
      "execution_count": 15,
      "outputs": [
        {
          "output_type": "display_data",
          "data": {
            "text/plain": [
              "   name                  value \n",
              "1  state                      0\n",
              "2  stop_date                 10\n",
              "3  stop_time                 10\n",
              "4  location_raw               0\n",
              "5  county_name           509681\n",
              "6  county_fips           509681\n",
              "7  fine_grained_location 509681\n",
              "8  police_department         10\n",
              "9  driver_gender          29097\n",
              "10 driver_age_raw         29049\n",
              "11 driver_age             30695\n",
              "12 driver_race_raw        29073\n",
              "13 driver_race            29073\n",
              "14 violation_raw          29073\n",
              "15 violation              29073\n",
              "16 search_conducted          10\n",
              "17 search_type_raw       491919\n",
              "18 search_type           491919\n",
              "19 contraband_found           0\n",
              "20 stop_outcome           29073\n",
              "21 is_arrested            29073\n",
              "22 stop_duration          29073\n",
              "23 out_of_state           29881\n",
              "24 drugs_related_stop         0\n",
              "25 district                   0"
            ],
            "text/latex": "A tibble: 25 × 2\n\\begin{tabular}{ll}\n name & value\\\\\n <chr> & <int>\\\\\n\\hline\n\t state                 &      0\\\\\n\t stop\\_date             &     10\\\\\n\t stop\\_time             &     10\\\\\n\t location\\_raw          &      0\\\\\n\t county\\_name           & 509681\\\\\n\t county\\_fips           & 509681\\\\\n\t fine\\_grained\\_location & 509681\\\\\n\t police\\_department     &     10\\\\\n\t driver\\_gender         &  29097\\\\\n\t driver\\_age\\_raw        &  29049\\\\\n\t driver\\_age            &  30695\\\\\n\t driver\\_race\\_raw       &  29073\\\\\n\t driver\\_race           &  29073\\\\\n\t violation\\_raw         &  29073\\\\\n\t violation             &  29073\\\\\n\t search\\_conducted      &     10\\\\\n\t search\\_type\\_raw       & 491919\\\\\n\t search\\_type           & 491919\\\\\n\t contraband\\_found      &      0\\\\\n\t stop\\_outcome          &  29073\\\\\n\t is\\_arrested           &  29073\\\\\n\t stop\\_duration         &  29073\\\\\n\t out\\_of\\_state          &  29881\\\\\n\t drugs\\_related\\_stop    &      0\\\\\n\t district              &      0\\\\\n\\end{tabular}\n",
            "text/markdown": "\nA tibble: 25 × 2\n\n| name &lt;chr&gt; | value &lt;int&gt; |\n|---|---|\n| state                 |      0 |\n| stop_date             |     10 |\n| stop_time             |     10 |\n| location_raw          |      0 |\n| county_name           | 509681 |\n| county_fips           | 509681 |\n| fine_grained_location | 509681 |\n| police_department     |     10 |\n| driver_gender         |  29097 |\n| driver_age_raw        |  29049 |\n| driver_age            |  30695 |\n| driver_race_raw       |  29073 |\n| driver_race           |  29073 |\n| violation_raw         |  29073 |\n| violation             |  29073 |\n| search_conducted      |     10 |\n| search_type_raw       | 491919 |\n| search_type           | 491919 |\n| contraband_found      |      0 |\n| stop_outcome          |  29073 |\n| is_arrested           |  29073 |\n| stop_duration         |  29073 |\n| out_of_state          |  29881 |\n| drugs_related_stop    |      0 |\n| district              |      0 |\n\n",
            "text/html": [
              "<table>\n",
              "<caption>A tibble: 25 × 2</caption>\n",
              "<thead>\n",
              "\t<tr><th scope=col>name</th><th scope=col>value</th></tr>\n",
              "\t<tr><th scope=col>&lt;chr&gt;</th><th scope=col>&lt;int&gt;</th></tr>\n",
              "</thead>\n",
              "<tbody>\n",
              "\t<tr><td>state                </td><td>     0</td></tr>\n",
              "\t<tr><td>stop_date            </td><td>    10</td></tr>\n",
              "\t<tr><td>stop_time            </td><td>    10</td></tr>\n",
              "\t<tr><td>location_raw         </td><td>     0</td></tr>\n",
              "\t<tr><td>county_name          </td><td>509681</td></tr>\n",
              "\t<tr><td>county_fips          </td><td>509681</td></tr>\n",
              "\t<tr><td>fine_grained_location</td><td>509681</td></tr>\n",
              "\t<tr><td>police_department    </td><td>    10</td></tr>\n",
              "\t<tr><td>driver_gender        </td><td> 29097</td></tr>\n",
              "\t<tr><td>driver_age_raw       </td><td> 29049</td></tr>\n",
              "\t<tr><td>driver_age           </td><td> 30695</td></tr>\n",
              "\t<tr><td>driver_race_raw      </td><td> 29073</td></tr>\n",
              "\t<tr><td>driver_race          </td><td> 29073</td></tr>\n",
              "\t<tr><td>violation_raw        </td><td> 29073</td></tr>\n",
              "\t<tr><td>violation            </td><td> 29073</td></tr>\n",
              "\t<tr><td>search_conducted     </td><td>    10</td></tr>\n",
              "\t<tr><td>search_type_raw      </td><td>491919</td></tr>\n",
              "\t<tr><td>search_type          </td><td>491919</td></tr>\n",
              "\t<tr><td>contraband_found     </td><td>     0</td></tr>\n",
              "\t<tr><td>stop_outcome         </td><td> 29073</td></tr>\n",
              "\t<tr><td>is_arrested          </td><td> 29073</td></tr>\n",
              "\t<tr><td>stop_duration        </td><td> 29073</td></tr>\n",
              "\t<tr><td>out_of_state         </td><td> 29881</td></tr>\n",
              "\t<tr><td>drugs_related_stop   </td><td>     0</td></tr>\n",
              "\t<tr><td>district             </td><td>     0</td></tr>\n",
              "</tbody>\n",
              "</table>\n"
            ]
          },
          "metadata": {
            "tags": []
          }
        }
      ]
    },
    {
      "cell_type": "markdown",
      "metadata": {
        "id": "dDtHDLv-c2RO",
        "colab_type": "text"
      },
      "source": [
        "Clean the data a bit"
      ]
    },
    {
      "cell_type": "code",
      "metadata": {
        "id": "wE-Qu5HxQIyQ",
        "colab_type": "code",
        "colab": {}
      },
      "source": [
        "# We drop the county_name columns.\n",
        "data %<>%\n",
        "  select(-county_name)"
      ],
      "execution_count": 16,
      "outputs": []
    },
    {
      "cell_type": "code",
      "metadata": {
        "id": "ssu6M-eWQmjz",
        "colab_type": "code",
        "colab": {}
      },
      "source": [
        "# Drop all rows where stop_data, time, and driver_gender are missing\n",
        "data %<>%\n",
        "  drop_na(stop_date, stop_time, driver_gender)"
      ],
      "execution_count": 17,
      "outputs": []
    },
    {
      "cell_type": "markdown",
      "metadata": {
        "id": "sVp8FfN0ZgEo",
        "colab_type": "text"
      },
      "source": [
        "# Adjusting dates, times and index"
      ]
    },
    {
      "cell_type": "code",
      "metadata": {
        "id": "VEPzqWdEQ6jG",
        "colab_type": "code",
        "colab": {}
      },
      "source": [
        "# We start by concatenating the two string columns into one that we call combined, using paste()\n",
        "data %<>%\n",
        "  mutate(datetime_stop = paste(stop_date, stop_time, sep = \" \"))"
      ],
      "execution_count": 20,
      "outputs": []
    },
    {
      "cell_type": "code",
      "metadata": {
        "id": "axoxFScD5r5q",
        "colab_type": "code",
        "colab": {
          "base_uri": "https://localhost:8080/",
          "height": 204
        },
        "outputId": "3ffed74f-b7a2-4058-a8f2-dd9d2d4173eb"
      },
      "source": [
        "data %>% \n",
        "  select(datetime_stop) %>%\n",
        "  head()"
      ],
      "execution_count": 21,
      "outputs": [
        {
          "output_type": "display_data",
          "data": {
            "text/plain": [
              "  datetime_stop      \n",
              "1 2005-01-02 01:55:00\n",
              "2 2005-01-02 20:30:00\n",
              "3 2005-01-04 12:55:00\n",
              "4 2005-01-06 01:30:00\n",
              "5 2005-01-12 08:05:00\n",
              "6 2005-01-18 08:15:00"
            ],
            "text/latex": "A tibble: 6 × 1\n\\begin{tabular}{l}\n datetime\\_stop\\\\\n <chr>\\\\\n\\hline\n\t 2005-01-02 01:55:00\\\\\n\t 2005-01-02 20:30:00\\\\\n\t 2005-01-04 12:55:00\\\\\n\t 2005-01-06 01:30:00\\\\\n\t 2005-01-12 08:05:00\\\\\n\t 2005-01-18 08:15:00\\\\\n\\end{tabular}\n",
            "text/markdown": "\nA tibble: 6 × 1\n\n| datetime_stop &lt;chr&gt; |\n|---|\n| 2005-01-02 01:55:00 |\n| 2005-01-02 20:30:00 |\n| 2005-01-04 12:55:00 |\n| 2005-01-06 01:30:00 |\n| 2005-01-12 08:05:00 |\n| 2005-01-18 08:15:00 |\n\n",
            "text/html": [
              "<table>\n",
              "<caption>A tibble: 6 × 1</caption>\n",
              "<thead>\n",
              "\t<tr><th scope=col>datetime_stop</th></tr>\n",
              "\t<tr><th scope=col>&lt;chr&gt;</th></tr>\n",
              "</thead>\n",
              "<tbody>\n",
              "\t<tr><td>2005-01-02 01:55:00</td></tr>\n",
              "\t<tr><td>2005-01-02 20:30:00</td></tr>\n",
              "\t<tr><td>2005-01-04 12:55:00</td></tr>\n",
              "\t<tr><td>2005-01-06 01:30:00</td></tr>\n",
              "\t<tr><td>2005-01-12 08:05:00</td></tr>\n",
              "\t<tr><td>2005-01-18 08:15:00</td></tr>\n",
              "</tbody>\n",
              "</table>\n"
            ]
          },
          "metadata": {
            "tags": []
          }
        }
      ]
    },
    {
      "cell_type": "code",
      "metadata": {
        "id": "A2CCyDIteS-B",
        "colab_type": "code",
        "colab": {}
      },
      "source": [
        "# The lubridate library helps us to transform strings into dates ore datetimes (timestamps)\n",
        "library(lubridate)"
      ],
      "execution_count": 22,
      "outputs": []
    },
    {
      "cell_type": "code",
      "metadata": {
        "id": "-uM36Y1P53z9",
        "colab_type": "code",
        "colab": {}
      },
      "source": [
        "data %<>%\n",
        "  mutate(datetime_stop = datetime_stop %>% as_datetime()) "
      ],
      "execution_count": 24,
      "outputs": []
    },
    {
      "cell_type": "code",
      "metadata": {
        "id": "4QEfjDRm59dz",
        "colab_type": "code",
        "colab": {
          "base_uri": "https://localhost:8080/",
          "height": 204
        },
        "outputId": "521f8368-4076-4697-b706-bd7bf4d0b5e5"
      },
      "source": [
        "data %>% \n",
        "  select(datetime_stop) %>%\n",
        "  head()"
      ],
      "execution_count": 25,
      "outputs": [
        {
          "output_type": "display_data",
          "data": {
            "text/plain": [
              "  datetime_stop      \n",
              "1 2005-01-02 01:55:00\n",
              "2 2005-01-02 20:30:00\n",
              "3 2005-01-04 12:55:00\n",
              "4 2005-01-06 01:30:00\n",
              "5 2005-01-12 08:05:00\n",
              "6 2005-01-18 08:15:00"
            ],
            "text/latex": "A tibble: 6 × 1\n\\begin{tabular}{l}\n datetime\\_stop\\\\\n <dttm>\\\\\n\\hline\n\t 2005-01-02 01:55:00\\\\\n\t 2005-01-02 20:30:00\\\\\n\t 2005-01-04 12:55:00\\\\\n\t 2005-01-06 01:30:00\\\\\n\t 2005-01-12 08:05:00\\\\\n\t 2005-01-18 08:15:00\\\\\n\\end{tabular}\n",
            "text/markdown": "\nA tibble: 6 × 1\n\n| datetime_stop &lt;dttm&gt; |\n|---|\n| 2005-01-02 01:55:00 |\n| 2005-01-02 20:30:00 |\n| 2005-01-04 12:55:00 |\n| 2005-01-06 01:30:00 |\n| 2005-01-12 08:05:00 |\n| 2005-01-18 08:15:00 |\n\n",
            "text/html": [
              "<table>\n",
              "<caption>A tibble: 6 × 1</caption>\n",
              "<thead>\n",
              "\t<tr><th scope=col>datetime_stop</th></tr>\n",
              "\t<tr><th scope=col>&lt;dttm&gt;</th></tr>\n",
              "</thead>\n",
              "<tbody>\n",
              "\t<tr><td>2005-01-02 01:55:00</td></tr>\n",
              "\t<tr><td>2005-01-02 20:30:00</td></tr>\n",
              "\t<tr><td>2005-01-04 12:55:00</td></tr>\n",
              "\t<tr><td>2005-01-06 01:30:00</td></tr>\n",
              "\t<tr><td>2005-01-12 08:05:00</td></tr>\n",
              "\t<tr><td>2005-01-18 08:15:00</td></tr>\n",
              "</tbody>\n",
              "</table>\n"
            ]
          },
          "metadata": {
            "tags": []
          }
        }
      ]
    },
    {
      "cell_type": "markdown",
      "metadata": {
        "id": "kJjNX4UEaO-t",
        "colab_type": "text"
      },
      "source": [
        "# Explore the data step-by-step"
      ]
    },
    {
      "cell_type": "code",
      "metadata": {
        "id": "eJeM5YM4bCQX",
        "colab_type": "code",
        "colab": {
          "base_uri": "https://localhost:8080/",
          "height": 238
        },
        "outputId": "7d38be72-bd82-4a18-a0a8-6229f8283abf"
      },
      "source": [
        "# Count number of stop outcomes\n",
        "data %>%\n",
        "group_by(stop_outcome) %>%\n",
        "summarize(n = n())\n",
        "\n",
        "## Note: Could be done faster with\n",
        "# data %>% count(stop_outcome)"
      ],
      "execution_count": 26,
      "outputs": [
        {
          "output_type": "stream",
          "text": [
            "`summarise()` ungrouping output (override with `.groups` argument)\n",
            "\n"
          ],
          "name": "stderr"
        },
        {
          "output_type": "display_data",
          "data": {
            "text/plain": [
              "  stop_outcome     n     \n",
              "1 Arrest Driver     14630\n",
              "2 Arrest Passenger   1973\n",
              "3 Citation         428378\n",
              "4 N/D                3431\n",
              "5 No Action          3332\n",
              "6 Warning           28840"
            ],
            "text/latex": "A tibble: 6 × 2\n\\begin{tabular}{ll}\n stop\\_outcome & n\\\\\n <chr> & <int>\\\\\n\\hline\n\t Arrest Driver    &  14630\\\\\n\t Arrest Passenger &   1973\\\\\n\t Citation         & 428378\\\\\n\t N/D              &   3431\\\\\n\t No Action        &   3332\\\\\n\t Warning          &  28840\\\\\n\\end{tabular}\n",
            "text/markdown": "\nA tibble: 6 × 2\n\n| stop_outcome &lt;chr&gt; | n &lt;int&gt; |\n|---|---|\n| Arrest Driver    |  14630 |\n| Arrest Passenger |   1973 |\n| Citation         | 428378 |\n| N/D              |   3431 |\n| No Action        |   3332 |\n| Warning          |  28840 |\n\n",
            "text/html": [
              "<table>\n",
              "<caption>A tibble: 6 × 2</caption>\n",
              "<thead>\n",
              "\t<tr><th scope=col>stop_outcome</th><th scope=col>n</th></tr>\n",
              "\t<tr><th scope=col>&lt;chr&gt;</th><th scope=col>&lt;int&gt;</th></tr>\n",
              "</thead>\n",
              "<tbody>\n",
              "\t<tr><td>Arrest Driver   </td><td> 14630</td></tr>\n",
              "\t<tr><td>Arrest Passenger</td><td>  1973</td></tr>\n",
              "\t<tr><td>Citation        </td><td>428378</td></tr>\n",
              "\t<tr><td>N/D             </td><td>  3431</td></tr>\n",
              "\t<tr><td>No Action       </td><td>  3332</td></tr>\n",
              "\t<tr><td>Warning         </td><td> 28840</td></tr>\n",
              "</tbody>\n",
              "</table>\n"
            ]
          },
          "metadata": {
            "tags": []
          }
        }
      ]
    },
    {
      "cell_type": "code",
      "metadata": {
        "id": "IKsmPP00aOdD",
        "colab_type": "code",
        "colab": {}
      },
      "source": [
        "# there are many ways to do the same thing. Meet count(), the short form of group_by(x) %>% summarize(n = n())\n",
        "data %>%\n",
        "count(stop_outcome, sort = TRUE)"
      ],
      "execution_count": null,
      "outputs": []
    },
    {
      "cell_type": "code",
      "metadata": {
        "id": "AnHCxNEEcKEC",
        "colab_type": "code",
        "colab": {}
      },
      "source": [
        "# Relative proportions\n",
        "data %>%\n",
        "count(driver_race, sort = TRUE) %>%\n",
        "mutate(pct = (n / sum(n)) %>% round(2) )"
      ],
      "execution_count": null,
      "outputs": []
    },
    {
      "cell_type": "markdown",
      "metadata": {
        "id": "-NAdom8keZjg",
        "colab_type": "text"
      },
      "source": [
        "### Let's try out some hypotheses\n",
        "\n",
        "One hypothesis could be that the stop_outcome is different for different races. Discrimination?"
      ]
    },
    {
      "cell_type": "code",
      "metadata": {
        "id": "17PlvAQWeBVW",
        "colab_type": "code",
        "colab": {}
      },
      "source": [
        "data %>%\n",
        "count(driver_race, stop_outcome) %>%\n",
        "group_by(driver_race) %>%\n",
        "mutate(pct = (n / sum(n)) %>% round(2) ) \n"
      ],
      "execution_count": null,
      "outputs": []
    },
    {
      "cell_type": "markdown",
      "metadata": {
        "id": "Ga_ofnEi8Rxu",
        "colab_type": "text"
      },
      "source": [
        "Nice, can we have that also in a easy to investigate matrix? Sure, lets use `spread()`. Notice there are many more functions to do that, such as `prob.table`, but I here stay in the `dplyr` framework"
      ]
    },
    {
      "cell_type": "code",
      "metadata": {
        "id": "GNED6BLr9P3Q",
        "colab_type": "code",
        "colab": {}
      },
      "source": [
        "data %>%\n",
        "count(driver_race, stop_outcome) %>%\n",
        "group_by(driver_race) %>%\n",
        "mutate(pct = (n / sum(n, na.rm = TRUE)) %>% round(2) ) %>%\n",
        "select(-n) %>%\n",
        "spread(stop_outcome, pct)"
      ],
      "execution_count": null,
      "outputs": []
    },
    {
      "cell_type": "markdown",
      "metadata": {
        "id": "h_qbv-Uy_SW6",
        "colab_type": "text"
      },
      "source": [
        "We might also have a look at nice datasummary. The `summarytools` package has some nice functions to do so."
      ]
    },
    {
      "cell_type": "code",
      "metadata": {
        "id": "uhcXGhZy_glP",
        "colab_type": "code",
        "colab": {}
      },
      "source": [
        "# install.packages(\"summarytools\")\n",
        "# library(summarytools)"
      ],
      "execution_count": null,
      "outputs": []
    },
    {
      "cell_type": "code",
      "metadata": {
        "id": "m5NyNWSS_g1g",
        "colab_type": "code",
        "colab": {}
      },
      "source": [
        "# data %>% dfSummary()"
      ],
      "execution_count": null,
      "outputs": []
    },
    {
      "cell_type": "markdown",
      "metadata": {
        "id": "u6lEpg_WB-o8",
        "colab_type": "text"
      },
      "source": [
        "### Filtering by multiple conditions\n",
        "\n",
        "Again, we can use `dplyr` `filter()` with multiple conditions, or `group_by()` + `summarize()` for summaries in nested groups."
      ]
    },
    {
      "cell_type": "code",
      "metadata": {
        "id": "w5aIu0rwCrky",
        "colab_type": "code",
        "colab": {}
      },
      "source": [
        "# Filter for being histanic and arrested\n",
        "data %>%\n",
        "filter(driver_race == \"Hispanic\" & is_arrested == TRUE) %>%\n",
        "head(10)"
      ],
      "execution_count": null,
      "outputs": []
    },
    {
      "cell_type": "markdown",
      "metadata": {
        "id": "PvPqMYi1EjIO",
        "colab_type": "text"
      },
      "source": [
        "##### Rules for filtering\n",
        "\n",
        "- & AND\n",
        "- | OR\n",
        "- Each condition must be surrounded by () and many are possible\n",
        "- == Equality\n",
        "- != Inequality\n",
        "\n",
        "##### Remember, that we are not making any statement about causation. This is purely a correlation exercise (so far!)\n",
        "\n",
        "#### A bit on boolean series\n",
        "\n",
        "True = 1 and False = 0\n",
        "Which means that you can perform calculations on them:"
      ]
    },
    {
      "cell_type": "code",
      "metadata": {
        "id": "bSS8y102DgW3",
        "colab_type": "code",
        "colab": {}
      },
      "source": [
        "# Create a DataFrame of male and female drivers stopped for speeding\n",
        "# We can take a shortcut using `group_by`\n",
        "data %>%\n",
        "filter(violation == \"Speeding\") %>%\n",
        "count(driver_gender, stop_outcome) %>%\n",
        "group_by(driver_gender) %>%\n",
        "mutate(pct = (n / sum(n, na.rm = TRUE)) %>% round(2) )\n"
      ],
      "execution_count": null,
      "outputs": []
    },
    {
      "cell_type": "markdown",
      "metadata": {
        "id": "Ak5B7o9mGUxt",
        "colab_type": "text"
      },
      "source": [
        "### \"protective frisk\"\n",
        "Sometimes during stops if a search is conducted, the officer also checks the driver if they have a weapon. This is called a \"protective frisk\".\n",
        "Let's try to figure out if men are frisked more than women."
      ]
    },
    {
      "cell_type": "code",
      "metadata": {
        "id": "Wolkp1PwGViY",
        "colab_type": "code",
        "colab": {}
      },
      "source": [
        "# Look at the different search types performed\n",
        "data %>%\n",
        "count(search_type, sort = TRUE)\n"
      ],
      "execution_count": null,
      "outputs": []
    },
    {
      "cell_type": "markdown",
      "metadata": {
        "id": "4TxPrg_zGt_b",
        "colab_type": "text"
      },
      "source": [
        "#### Extracting a string\n",
        "As you can see, search type is a multiple choice object/string column. *Incident to Arrest* and *Pribable Cause* are the most commont but combinations are possible. Generally, to work with text strings, the `tioyverse` package `stringr` has many useful functions. We can use the `str_detect` method to filter to filter out cases of interest. This will return a boolean series, which we can assign to a new varioable 'frisk' in our dataframe.\n",
        "\n",
        "**NOTE:** For missing search type values, `str_detect()` would traditionaly output an `NA`, therefore we beforehand replace them with an empty string with `replace_na(\"\")`"
      ]
    },
    {
      "cell_type": "code",
      "metadata": {
        "id": "IiUZ2YSWHEhI",
        "colab_type": "code",
        "colab": {}
      },
      "source": [
        "data %<>%\n",
        "mutate(frisk = search_type %>% replace_na(\"\") %>% str_detect(\"Protective Frisk\") )"
      ],
      "execution_count": null,
      "outputs": []
    },
    {
      "cell_type": "code",
      "metadata": {
        "id": "aUir2m_eM4tZ",
        "colab_type": "code",
        "colab": {}
      },
      "source": [
        "# How many frisks have been performed? (1598)\n",
        "# Notice that pull() extracts a vector from a dataframe\n",
        "data %>% pull(frisk) %>% sum()"
      ],
      "execution_count": null,
      "outputs": []
    },
    {
      "cell_type": "markdown",
      "metadata": {
        "id": "kzB0pEKmOwfv",
        "colab_type": "text"
      },
      "source": [
        "## Using the datetime index to select data\n",
        "\n",
        "What if you assume that things got better or worse over the years? Remember the `lubridate` package for handling date-times?"
      ]
    },
    {
      "cell_type": "code",
      "metadata": {
        "id": "MsHIl6f6P5HR",
        "colab_type": "code",
        "colab": {}
      },
      "source": [
        "# Are things getting better or worse over the years?\n",
        "library(lubridate)"
      ],
      "execution_count": null,
      "outputs": []
    },
    {
      "cell_type": "code",
      "metadata": {
        "id": "WS0Dsb87k0zZ",
        "colab_type": "code",
        "colab": {}
      },
      "source": [
        "data %<>%\n",
        "mutate(year = year(stop_date), month = month(stop_date), day = day (stop_date)) %>%\n",
        "drop_na(year)"
      ],
      "execution_count": null,
      "outputs": []
    },
    {
      "cell_type": "code",
      "metadata": {
        "id": "LHtn6FX2RRIs",
        "colab_type": "code",
        "colab": {}
      },
      "source": [
        "data %>%\n",
        "group_by(year) %>%\n",
        "summarize(frisk_mean = frisk %>% mean())"
      ],
      "execution_count": null,
      "outputs": []
    },
    {
      "cell_type": "markdown",
      "metadata": {
        "id": "ARlqX6N1UNvL",
        "colab_type": "text"
      },
      "source": [
        "We can obviously also plot that with `ggplot`.\n",
        "\n",
        "Note: We use `gather()` to create tidy data where multiple variables can be jointly plotted."
      ]
    },
    {
      "cell_type": "code",
      "metadata": {
        "id": "9P5AaAGAjT_H",
        "colab_type": "code",
        "colab": {}
      },
      "source": [
        "data %>%\n",
        "group_by(year) %>%\n",
        "summarize(frisk = frisk %>% mean(na.rm = TRUE), is_arrested = is_arrested %>% mean(na.rm = TRUE))  %>%\n",
        "ungroup() %>% \n",
        "gather(key = \"key\", value = \"mean\", frisk, is_arrested) %>%\n",
        "ggplot(aes(x = year, y = mean, color = key)) +\n",
        "geom_line()"
      ],
      "execution_count": null,
      "outputs": []
    },
    {
      "cell_type": "markdown",
      "metadata": {
        "id": "Fcyh6ICPnPSv",
        "colab_type": "text"
      },
      "source": [
        "We can do grouping on different levels. For instance, lets see in which months we have most arrests"
      ]
    },
    {
      "cell_type": "code",
      "metadata": {
        "id": "uSiaqQoLnOJg",
        "colab_type": "code",
        "colab": {}
      },
      "source": [
        "data %>% \n",
        "filter(is_arrested == TRUE) %>%\n",
        "ggplot(aes(x = month)) + geom_bar()"
      ],
      "execution_count": null,
      "outputs": []
    },
    {
      "cell_type": "markdown",
      "metadata": {
        "id": "XXbN5bbupaIs",
        "colab_type": "text"
      },
      "source": [
        "We see arrest rates are higher in the winter than in the summer. "
      ]
    },
    {
      "cell_type": "markdown",
      "metadata": {
        "id": "s-UhBprsqy0b",
        "colab_type": "text"
      },
      "source": [
        "### Transforming categorical in to nummerical data\n",
        "\n",
        "You may have noted the `stop_duration` column in our dataset and that it is an `string` variable. That means, we can use it as a dimension but not to perform any calculations. What we can do, is map the categories to a reasonable nummerical value using a mapping dictionary the  `recode` command."
      ]
    },
    {
      "cell_type": "code",
      "metadata": {
        "id": "MHzCtWgjrLHL",
        "colab_type": "code",
        "colab": {}
      },
      "source": [
        "data %>%\n",
        "count(stop_duration)"
      ],
      "execution_count": null,
      "outputs": []
    },
    {
      "cell_type": "code",
      "metadata": {
        "id": "op6fIxUAtUlN",
        "colab_type": "code",
        "colab": {}
      },
      "source": [
        "data %<>%\n",
        "  mutate(stop_duration_num =  recode(stop_duration, \"0-15 Min\" = 7.5 , \"16-30 Min\" = 23, \"30+ Min\" = 45, ) )"
      ],
      "execution_count": null,
      "outputs": []
    },
    {
      "cell_type": "code",
      "metadata": {
        "id": "utjLymoKyZIP",
        "colab_type": "code",
        "colab": {}
      },
      "source": [
        "data %>%\n",
        "count(stop_duration_num)"
      ],
      "execution_count": null,
      "outputs": []
    },
    {
      "cell_type": "markdown",
      "metadata": {
        "id": "fWnfRf82y2m-",
        "colab_type": "text"
      },
      "source": [
        "#### A quick intro to loops\n",
        "\n",
        "Is quite covered in my R intro."
      ]
    },
    {
      "cell_type": "code",
      "metadata": {
        "id": "1xKqNU_sy4FS",
        "colab_type": "code",
        "colab": {}
      },
      "source": [
        "# Let's do everything in one line\n",
        "data %>%\n",
        "group_by(violation_raw) %>%\n",
        "summarize(stop_duration_num = mean(stop_duration_num, na.rm = TRUE))  %>%\n",
        "ggplot(aes(x = violation_raw, y = stop_duration_num)) +\n",
        "geom_col() +\n",
        "coord_flip() # To have horizontal bars"
      ],
      "execution_count": null,
      "outputs": []
    },
    {
      "cell_type": "markdown",
      "metadata": {
        "id": "d0rMoLao2yUH",
        "colab_type": "text"
      },
      "source": [
        "#### Cutting intervals\n",
        "\n",
        "`driver_age` contains the (duh) the age of the driver. It's a continuous nummerical value and thus good for more advanced analysis but perhaps a bit to detailed for exploration.\n",
        "\n",
        "More instrumental in that context would be to slice that variable up into ordered categries corresponding to age-populations of interest, say \"teen\", \"20s\", \"30s\" etc."
      ]
    },
    {
      "cell_type": "code",
      "metadata": {
        "id": "yCyRLjil3RJ6",
        "colab_type": "code",
        "colab": {}
      },
      "source": [
        "data %>% select(driver_age) %>% summary()"
      ],
      "execution_count": null,
      "outputs": []
    },
    {
      "cell_type": "code",
      "metadata": {
        "id": "7CVc2PjW3j67",
        "colab_type": "code",
        "colab": {}
      },
      "source": [
        "# Create categories with cut()\n",
        "data %>% \n",
        "mutate(driver_age_cat = driver_age %>% cut(5)) %>%\n",
        "head()"
      ],
      "execution_count": null,
      "outputs": []
    },
    {
      "cell_type": "code",
      "metadata": {
        "id": "Ddg4mJKy32Ag",
        "colab_type": "code",
        "colab": {}
      },
      "source": [
        "# We can also provide labels\n",
        "labs <- c(\"teen\", \"20s\", \"30s\", \"40s\", \"50+\")\n",
        "\n",
        "# Create categories with cut()\n",
        "data %>% mutate(driver_age_cat =  driver_age %>% cut(breaks = c(20,30,40,50)) %>% head()"
      ],
      "execution_count": null,
      "outputs": []
    }
  ]
}