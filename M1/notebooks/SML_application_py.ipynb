{
  "nbformat": 4,
  "nbformat_minor": 0,
  "metadata": {
    "colab": {
      "name": "SML_application_py.ipynb",
      "provenance": [],
      "authorship_tag": "ABX9TyPKBlIIuj22u1voXTxjQ7An",
      "include_colab_link": true
    },
    "kernelspec": {
      "name": "python3",
      "display_name": "Python 3"
    }
  },
  "cells": [
    {
      "cell_type": "markdown",
      "metadata": {
        "id": "view-in-github",
        "colab_type": "text"
      },
      "source": [
        "<a href=\"https://colab.research.google.com/github/SDS-AAU/SDS-master/blob/master/M1/notebooks/SML_application_py.ipynb\" target=\"_parent\"><img src=\"https://colab.research.google.com/assets/colab-badge.svg\" alt=\"Open In Colab\"/></a>"
      ]
    },
    {
      "cell_type": "code",
      "metadata": {
        "id": "MdCF5_Pz6EJO",
        "colab_type": "code",
        "colab": {}
      },
      "source": [
        "import numpy as np\n",
        "import pandas as pd\n",
        "import seaborn as sns\n",
        "import statsmodels.api as sm\n",
        "sns.set(style=\"darkgrid\", color_codes=True)"
      ],
      "execution_count": 165,
      "outputs": []
    },
    {
      "cell_type": "code",
      "metadata": {
        "id": "CxDGjO6H7Y_-",
        "colab_type": "code",
        "colab": {}
      },
      "source": [
        "np.random.seed(21)\n",
        "\n",
        "beta0 = 15\n",
        "beta1 = 0.3"
      ],
      "execution_count": 166,
      "outputs": []
    },
    {
      "cell_type": "code",
      "metadata": {
        "id": "du0cebp57NbE",
        "colab_type": "code",
        "colab": {}
      },
      "source": [
        "x = np.random.uniform(0,100, 500)\n",
        "y = beta0 + (beta1*x) + np.random.normal(0, 5, 500)"
      ],
      "execution_count": 167,
      "outputs": []
    },
    {
      "cell_type": "code",
      "metadata": {
        "id": "PEOpPu-68RJO",
        "colab_type": "code",
        "colab": {
          "base_uri": "https://localhost:8080/",
          "height": 285
        },
        "outputId": "9aabd14e-4415-403f-bc02-a0635549518e"
      },
      "source": [
        "sns.scatterplot(x = x, y = y)"
      ],
      "execution_count": 168,
      "outputs": [
        {
          "output_type": "execute_result",
          "data": {
            "text/plain": [
              "<matplotlib.axes._subplots.AxesSubplot at 0x7f5b42ee5b00>"
            ]
          },
          "metadata": {
            "tags": []
          },
          "execution_count": 168
        },
        {
          "output_type": "display_data",
          "data": {
            "image/png": "[encoded data removed]",
            "text/plain": [
              "<Figure size 432x288 with 1 Axes>"
            ]
          },
          "metadata": {
            "tags": []
          }
        }
      ]
    },
    {
      "cell_type": "code",
      "metadata": {
        "id": "Pfc4_FOn8cGP",
        "colab_type": "code",
        "colab": {
          "base_uri": "https://localhost:8080/",
          "height": 370
        },
        "outputId": "2fdb152a-b52a-4284-efd9-224c3040eb39"
      },
      "source": [
        "X = sm.add_constant(x)\n",
        "\n",
        "mod = sm.OLS(y, X)\n",
        "res = mod.fit()\n",
        "\n",
        "print(res.summary2())"
      ],
      "execution_count": 169,
      "outputs": [
        {
          "output_type": "stream",
          "text": [
            "                 Results: Ordinary least squares\n",
            "==================================================================\n",
            "Model:              OLS              Adj. R-squared:     0.737    \n",
            "Dependent Variable: y                AIC:                3042.5723\n",
            "Date:               2020-09-17 14:58 BIC:                3051.0015\n",
            "No. Observations:   500              Log-Likelihood:     -1519.3  \n",
            "Df Model:           1                F-statistic:        1401.    \n",
            "Df Residuals:       498              Prob (F-statistic): 7.86e-147\n",
            "R-squared:          0.738            Scale:              25.617   \n",
            "--------------------------------------------------------------------\n",
            "            Coef.    Std.Err.      t      P>|t|     [0.025    0.975]\n",
            "--------------------------------------------------------------------\n",
            "const      15.1501     0.4609   32.8699   0.0000   14.2445   16.0556\n",
            "x1          0.2918     0.0078   37.4254   0.0000    0.2765    0.3071\n",
            "------------------------------------------------------------------\n",
            "Omnibus:              1.174         Durbin-Watson:           1.898\n",
            "Prob(Omnibus):        0.556         Jarque-Bera (JB):        0.996\n",
            "Skew:                 -0.022        Prob(JB):                0.608\n",
            "Kurtosis:             3.214         Condition No.:           120  \n",
            "==================================================================\n",
            "\n"
          ],
          "name": "stdout"
        }
      ]
    },
    {
      "cell_type": "code",
      "metadata": {
        "id": "kWMp7h0e9iOD",
        "colab_type": "code",
        "colab": {
          "base_uri": "https://localhost:8080/",
          "height": 285
        },
        "outputId": "7df31cab-b8f0-41ba-89f1-166f519f208c"
      },
      "source": [
        "sns.regplot(x = x, y = y )"
      ],
      "execution_count": 170,
      "outputs": [
        {
          "output_type": "execute_result",
          "data": {
            "text/plain": [
              "<matplotlib.axes._subplots.AxesSubplot at 0x7f5b42ea2860>"
            ]
          },
          "metadata": {
            "tags": []
          },
          "execution_count": 170
        },
        {
          "output_type": "display_data",
          "data": {
            "image/png": "[encoded data removed]",
            "text/plain": [
              "<Figure size 432x288 with 1 Axes>"
            ]
          },
          "metadata": {
            "tags": []
          }
        }
      ]
    },
    {
      "cell_type": "code",
      "metadata": {
        "id": "YZ0Skzt5B528",
        "colab_type": "code",
        "colab": {}
      },
      "source": [
        "y_pred = res.predict(X)"
      ],
      "execution_count": 171,
      "outputs": []
    },
    {
      "cell_type": "code",
      "metadata": {
        "id": "PvLxv7cZCJhc",
        "colab_type": "code",
        "colab": {
          "base_uri": "https://localhost:8080/",
          "height": 285
        },
        "outputId": "ee5ec40a-6206-41fa-902e-3e4f05a4a9d1"
      },
      "source": [
        "sns.scatterplot(x = x, y = y, alpha=0.5)\n",
        "sns.scatterplot(x = x, y = y_pred)"
      ],
      "execution_count": 172,
      "outputs": [
        {
          "output_type": "execute_result",
          "data": {
            "text/plain": [
              "<matplotlib.axes._subplots.AxesSubplot at 0x7f5b42e4ac88>"
            ]
          },
          "metadata": {
            "tags": []
          },
          "execution_count": 172
        },
        {
          "output_type": "display_data",
          "data": {
            "image/png": "[encoded data removed]",
            "text/plain": [
              "<Figure size 432x288 with 1 Axes>"
            ]
          },
          "metadata": {
            "tags": []
          }
        }
      ]
    },
    {
      "cell_type": "code",
      "metadata": {
        "id": "fb1EDq8sCZMF",
        "colab_type": "code",
        "colab": {}
      },
      "source": [
        "error_reg = y - y_pred"
      ],
      "execution_count": 173,
      "outputs": []
    },
    {
      "cell_type": "code",
      "metadata": {
        "id": "a1AXe__XDmtH",
        "colab_type": "code",
        "colab": {
          "base_uri": "https://localhost:8080/",
          "height": 34
        },
        "outputId": "de48a9ed-675f-4255-83d4-b4ff834050f5"
      },
      "source": [
        "np.mean(error_reg)"
      ],
      "execution_count": 174,
      "outputs": [
        {
          "output_type": "execute_result",
          "data": {
            "text/plain": [
              "-4.760636329592672e-16"
            ]
          },
          "metadata": {
            "tags": []
          },
          "execution_count": 174
        }
      ]
    },
    {
      "cell_type": "code",
      "metadata": {
        "id": "PvvMoNTBDqFz",
        "colab_type": "code",
        "colab": {
          "base_uri": "https://localhost:8080/",
          "height": 34
        },
        "outputId": "989fab9b-e87c-4dd2-af73-d25211063ba5"
      },
      "source": [
        "np.sqrt(np.mean(error_reg**2))"
      ],
      "execution_count": 175,
      "outputs": [
        {
          "output_type": "execute_result",
          "data": {
            "text/plain": [
              "5.051240204155663"
            ]
          },
          "metadata": {
            "tags": []
          },
          "execution_count": 175
        }
      ]
    },
    {
      "cell_type": "code",
      "metadata": {
        "id": "yCyXVmlBDx7D",
        "colab_type": "code",
        "colab": {}
      },
      "source": [
        "np.random.seed(42)"
      ],
      "execution_count": 176,
      "outputs": []
    },
    {
      "cell_type": "code",
      "metadata": {
        "id": "xdTU4kMhGgpR",
        "colab_type": "code",
        "colab": {}
      },
      "source": [
        "x_new = np.random.uniform(0,100, 500)\n",
        "y_new = beta0 + (beta1*x_new) + np.random.normal(0, 5, 500)"
      ],
      "execution_count": 177,
      "outputs": []
    },
    {
      "cell_type": "code",
      "metadata": {
        "id": "8ACRRxV-GtJW",
        "colab_type": "code",
        "colab": {}
      },
      "source": [
        "X_new = sm.add_constant(x_new)"
      ],
      "execution_count": 178,
      "outputs": []
    },
    {
      "cell_type": "code",
      "metadata": {
        "id": "_s_W0hvaHBa2",
        "colab_type": "code",
        "colab": {}
      },
      "source": [
        "y_pred_new = res.predict(X_new)"
      ],
      "execution_count": 179,
      "outputs": []
    },
    {
      "cell_type": "code",
      "metadata": {
        "id": "AlE_SG3bHaiR",
        "colab_type": "code",
        "colab": {}
      },
      "source": [
        "error_reg_new = y_new - y_pred_new"
      ],
      "execution_count": 180,
      "outputs": []
    },
    {
      "cell_type": "code",
      "metadata": {
        "id": "UR2XMAFyHnFE",
        "colab_type": "code",
        "colab": {
          "base_uri": "https://localhost:8080/",
          "height": 34
        },
        "outputId": "8fbebb02-b84a-45b1-ffec-528e1573ffc2"
      },
      "source": [
        "np.sqrt(np.mean(error_reg_new**2))"
      ],
      "execution_count": 181,
      "outputs": [
        {
          "output_type": "execute_result",
          "data": {
            "text/plain": [
              "5.061466857807731"
            ]
          },
          "metadata": {
            "tags": []
          },
          "execution_count": 181
        }
      ]
    },
    {
      "cell_type": "code",
      "metadata": {
        "id": "BX09NdGxIIjE",
        "colab_type": "code",
        "colab": {}
      },
      "source": [
        "np.random.seed(21)"
      ],
      "execution_count": 182,
      "outputs": []
    },
    {
      "cell_type": "code",
      "metadata": {
        "id": "N3co80U0IvTS",
        "colab_type": "code",
        "colab": {}
      },
      "source": [
        "beta1 = 5\n",
        "\n",
        "x = np.random.normal(0, 1, 500)\n",
        "y = np.random.binomial(1, 1/(1+np.exp(-(beta1*x))))"
      ],
      "execution_count": 183,
      "outputs": []
    },
    {
      "cell_type": "code",
      "metadata": {
        "id": "hwHJyORIJirb",
        "colab_type": "code",
        "colab": {
          "base_uri": "https://localhost:8080/",
          "height": 285
        },
        "outputId": "538faffd-f496-4975-9fd1-ca902a778f2c"
      },
      "source": [
        "sns.scatterplot(x = x, y = y, alpha=0.5)"
      ],
      "execution_count": 184,
      "outputs": [
        {
          "output_type": "execute_result",
          "data": {
            "text/plain": [
              "<matplotlib.axes._subplots.AxesSubplot at 0x7f5b42d44048>"
            ]
          },
          "metadata": {
            "tags": []
          },
          "execution_count": 184
        },
        {
          "output_type": "display_data",
          "data": {
            "image/png": "[encoded data removed]",
            "text/plain": [
              "<Figure size 432x288 with 1 Axes>"
            ]
          },
          "metadata": {
            "tags": []
          }
        }
      ]
    },
    {
      "cell_type": "code",
      "metadata": {
        "id": "y6RuloOyK3e0",
        "colab_type": "code",
        "colab": {}
      },
      "source": [
        "X = sm.add_constant(x)"
      ],
      "execution_count": 185,
      "outputs": []
    },
    {
      "cell_type": "code",
      "metadata": {
        "id": "E32KMbB6Ks7V",
        "colab_type": "code",
        "colab": {}
      },
      "source": [
        "mod = sm.GLM(y, X, sm.families.Binomial())"
      ],
      "execution_count": 186,
      "outputs": []
    },
    {
      "cell_type": "code",
      "metadata": {
        "id": "kwhvJscZK_i1",
        "colab_type": "code",
        "colab": {}
      },
      "source": [
        "res = mod.fit()"
      ],
      "execution_count": 187,
      "outputs": []
    },
    {
      "cell_type": "code",
      "metadata": {
        "id": "FCyiZT9HLPVh",
        "colab_type": "code",
        "colab": {
          "base_uri": "https://localhost:8080/",
          "height": 302
        },
        "outputId": "7eb19a9d-9260-4380-fd59-8bee128e88d2"
      },
      "source": [
        "print(res.summary2())"
      ],
      "execution_count": 188,
      "outputs": [
        {
          "output_type": "stream",
          "text": [
            "               Results: Generalized linear model\n",
            "===============================================================\n",
            "Model:              GLM              AIC:            254.2953  \n",
            "Link Function:      logit            BIC:            -2844.5795\n",
            "Dependent Variable: y                Log-Likelihood: -125.15   \n",
            "Date:               2020-09-17 15:05 LL-Null:        -346.43   \n",
            "No. Observations:   500              Deviance:       250.30    \n",
            "Df Model:           1                Pearson chi2:   362.      \n",
            "Df Residuals:       498              Scale:          1.0000    \n",
            "Method:             IRLS                                       \n",
            "-----------------------------------------------------------------\n",
            "          Coef.    Std.Err.      z      P>|z|     [0.025   0.975]\n",
            "-----------------------------------------------------------------\n",
            "const     0.0541     0.1609    0.3363   0.7366   -0.2613   0.3695\n",
            "x1        4.6371     0.4403   10.5322   0.0000    3.7742   5.5000\n",
            "===============================================================\n",
            "\n"
          ],
          "name": "stdout"
        }
      ]
    },
    {
      "cell_type": "code",
      "metadata": {
        "id": "x9aF5TLgLVne",
        "colab_type": "code",
        "colab": {
          "base_uri": "https://localhost:8080/",
          "height": 285
        },
        "outputId": "74b5dd42-2146-42bb-be6a-34e29658af1d"
      },
      "source": [
        "sns.regplot(x, y, logistic=True)"
      ],
      "execution_count": 189,
      "outputs": [
        {
          "output_type": "execute_result",
          "data": {
            "text/plain": [
              "<matplotlib.axes._subplots.AxesSubplot at 0x7f5b42d31be0>"
            ]
          },
          "metadata": {
            "tags": []
          },
          "execution_count": 189
        },
        {
          "output_type": "display_data",
          "data": {
            "image/png": "[encoded data removed]",
            "text/plain": [
              "<Figure size 432x288 with 1 Axes>"
            ]
          },
          "metadata": {
            "tags": []
          }
        }
      ]
    },
    {
      "cell_type": "code",
      "metadata": {
        "id": "hCS3PWH-MTwI",
        "colab_type": "code",
        "colab": {}
      },
      "source": [
        "y_pred = res.predict(X)\n",
        "y_pred_class = np.round(y_pred)"
      ],
      "execution_count": 190,
      "outputs": []
    },
    {
      "cell_type": "code",
      "metadata": {
        "id": "_tfP_nMnMtAr",
        "colab_type": "code",
        "colab": {}
      },
      "source": [
        "data_class = pd.DataFrame({'x':x, \n",
        "                           'y':y, \n",
        "                           'predicted' : y_pred, \n",
        "                           'predicted_class' : y_pred_class})"
      ],
      "execution_count": 191,
      "outputs": []
    },
    {
      "cell_type": "code",
      "metadata": {
        "id": "y-WerS9mNdfy",
        "colab_type": "code",
        "colab": {
          "base_uri": "https://localhost:8080/",
          "height": 195
        },
        "outputId": "dba9f3e7-eb2f-4283-a446-7e6ffb279f84"
      },
      "source": [
        "data_class.head()"
      ],
      "execution_count": 192,
      "outputs": [
        {
          "output_type": "execute_result",
          "data": {
            "text/html": [
              "<div>\n",
              "<style scoped>\n",
              "    .dataframe tbody tr th:only-of-type {\n",
              "        vertical-align: middle;\n",
              "    }\n",
              "\n",
              "    .dataframe tbody tr th {\n",
              "        vertical-align: top;\n",
              "    }\n",
              "\n",
              "    .dataframe thead th {\n",
              "        text-align: right;\n",
              "    }\n",
              "</style>\n",
              "<table border=\"1\" class=\"dataframe\">\n",
              "  <thead>\n",
              "    <tr style=\"text-align: right;\">\n",
              "      <th></th>\n",
              "      <th>x</th>\n",
              "      <th>y</th>\n",
              "      <th>predicted</th>\n",
              "      <th>predicted_class</th>\n",
              "    </tr>\n",
              "  </thead>\n",
              "  <tbody>\n",
              "    <tr>\n",
              "      <th>0</th>\n",
              "      <td>-0.051964</td>\n",
              "      <td>0</td>\n",
              "      <td>0.453426</td>\n",
              "      <td>0.0</td>\n",
              "    </tr>\n",
              "    <tr>\n",
              "      <th>1</th>\n",
              "      <td>-0.111196</td>\n",
              "      <td>0</td>\n",
              "      <td>0.386630</td>\n",
              "      <td>0.0</td>\n",
              "    </tr>\n",
              "    <tr>\n",
              "      <th>2</th>\n",
              "      <td>1.041797</td>\n",
              "      <td>1</td>\n",
              "      <td>0.992498</td>\n",
              "      <td>1.0</td>\n",
              "    </tr>\n",
              "    <tr>\n",
              "      <th>3</th>\n",
              "      <td>-1.256739</td>\n",
              "      <td>0</td>\n",
              "      <td>0.003099</td>\n",
              "      <td>0.0</td>\n",
              "    </tr>\n",
              "    <tr>\n",
              "      <th>4</th>\n",
              "      <td>0.745388</td>\n",
              "      <td>1</td>\n",
              "      <td>0.970987</td>\n",
              "      <td>1.0</td>\n",
              "    </tr>\n",
              "  </tbody>\n",
              "</table>\n",
              "</div>"
            ],
            "text/plain": [
              "          x  y  predicted  predicted_class\n",
              "0 -0.051964  0   0.453426              0.0\n",
              "1 -0.111196  0   0.386630              0.0\n",
              "2  1.041797  1   0.992498              1.0\n",
              "3 -1.256739  0   0.003099              0.0\n",
              "4  0.745388  1   0.970987              1.0"
            ]
          },
          "metadata": {
            "tags": []
          },
          "execution_count": 192
        }
      ]
    },
    {
      "cell_type": "code",
      "metadata": {
        "id": "WigGXbM6NiDR",
        "colab_type": "code",
        "colab": {}
      },
      "source": [
        "from sklearn.metrics import confusion_matrix\n",
        "from sklearn.metrics import classification_report"
      ],
      "execution_count": 193,
      "outputs": []
    },
    {
      "cell_type": "code",
      "metadata": {
        "id": "OVrIpYAvN0Bh",
        "colab_type": "code",
        "colab": {}
      },
      "source": [
        "cm_log = confusion_matrix(y, y_pred_class)"
      ],
      "execution_count": 194,
      "outputs": []
    },
    {
      "cell_type": "code",
      "metadata": {
        "id": "JvbMKSUCN5-8",
        "colab_type": "code",
        "colab": {
          "base_uri": "https://localhost:8080/",
          "height": 50
        },
        "outputId": "0ca34796-a0ff-4f50-aad2-80700357f15d"
      },
      "source": [
        "cm_log"
      ],
      "execution_count": 195,
      "outputs": [
        {
          "output_type": "execute_result",
          "data": {
            "text/plain": [
              "array([[217,  27],\n",
              "       [ 28, 228]])"
            ]
          },
          "metadata": {
            "tags": []
          },
          "execution_count": 195
        }
      ]
    },
    {
      "cell_type": "code",
      "metadata": {
        "id": "eKL_tefzN6nD",
        "colab_type": "code",
        "colab": {}
      },
      "source": [
        "# Import the confusion matrix plotter module\n",
        "from mlxtend.plotting import plot_confusion_matrix"
      ],
      "execution_count": 196,
      "outputs": []
    },
    {
      "cell_type": "code",
      "metadata": {
        "id": "BHou2uG7ONaP",
        "colab_type": "code",
        "colab": {
          "base_uri": "https://localhost:8080/",
          "height": 318
        },
        "outputId": "1860f665-c539-47d6-9814-a8aae5f9f4fc"
      },
      "source": [
        "plot_confusion_matrix(conf_mat=cm_log,\n",
        "                                show_absolute=True,\n",
        "                                show_normed=True)"
      ],
      "execution_count": 197,
      "outputs": [
        {
          "output_type": "execute_result",
          "data": {
            "text/plain": [
              "(<Figure size 432x288 with 1 Axes>,\n",
              " <matplotlib.axes._subplots.AxesSubplot at 0x7f5b42cefc88>)"
            ]
          },
          "metadata": {
            "tags": []
          },
          "execution_count": 197
        },
        {
          "output_type": "display_data",
          "data": {
            "image/png": "[encoded data removed]",
            "text/plain": [
              "<Figure size 432x288 with 1 Axes>"
            ]
          },
          "metadata": {
            "tags": []
          }
        }
      ]
    },
    {
      "cell_type": "code",
      "metadata": {
        "id": "1fwQI2cSO7Dd",
        "colab_type": "code",
        "colab": {
          "base_uri": "https://localhost:8080/",
          "height": 168
        },
        "outputId": "76d74851-fbd1-4d68-98ce-46fed54512cb"
      },
      "source": [
        "print(classification_report(y,y_pred_class))"
      ],
      "execution_count": 198,
      "outputs": [
        {
          "output_type": "stream",
          "text": [
            "              precision    recall  f1-score   support\n",
            "\n",
            "           0       0.89      0.89      0.89       244\n",
            "           1       0.89      0.89      0.89       256\n",
            "\n",
            "    accuracy                           0.89       500\n",
            "   macro avg       0.89      0.89      0.89       500\n",
            "weighted avg       0.89      0.89      0.89       500\n",
            "\n"
          ],
          "name": "stdout"
        }
      ]
    },
    {
      "cell_type": "code",
      "metadata": {
        "id": "ZhIGQ88eP6Sq",
        "colab_type": "code",
        "colab": {}
      },
      "source": [
        "from sklearn.datasets import load_boston"
      ],
      "execution_count": null,
      "outputs": []
    },
    {
      "cell_type": "code",
      "metadata": {
        "id": "RoIdfN8CQyy-",
        "colab_type": "code",
        "colab": {}
      },
      "source": [
        "X, y = load_boston(return_X_y=True)"
      ],
      "execution_count": null,
      "outputs": []
    },
    {
      "cell_type": "code",
      "metadata": {
        "id": "E2qae0K9Q4lE",
        "colab_type": "code",
        "colab": {}
      },
      "source": [
        "load_boston()['feature_names']"
      ],
      "execution_count": null,
      "outputs": []
    },
    {
      "cell_type": "code",
      "metadata": {
        "id": "L1VIivCXROP9",
        "colab_type": "code",
        "colab": {}
      },
      "source": [
        "data = pd.DataFrame(load_boston()['data'], columns=load_boston()['feature_names'])"
      ],
      "execution_count": null,
      "outputs": []
    },
    {
      "cell_type": "code",
      "metadata": {
        "id": "2nUyW64qReQ4",
        "colab_type": "code",
        "colab": {}
      },
      "source": [
        "data['y'] = load_boston()['target']"
      ],
      "execution_count": null,
      "outputs": []
    },
    {
      "cell_type": "code",
      "metadata": {
        "id": "mQ0s_cHSSQud",
        "colab_type": "code",
        "colab": {}
      },
      "source": [
        "data.describe()"
      ],
      "execution_count": null,
      "outputs": []
    },
    {
      "cell_type": "code",
      "metadata": {
        "id": "lhBQtA-7Sc_O",
        "colab_type": "code",
        "colab": {}
      },
      "source": [
        "corr = data.corr()"
      ],
      "execution_count": null,
      "outputs": []
    },
    {
      "cell_type": "code",
      "metadata": {
        "id": "PRccmEg3SrwT",
        "colab_type": "code",
        "colab": {}
      },
      "source": [
        "cmap = sns.diverging_palette(230, 20, as_cmap=True)\n",
        "mask = np.triu(np.ones_like(corr, dtype=bool))\n",
        "sns.heatmap(corr,mask=mask, cmap=cmap)"
      ],
      "execution_count": null,
      "outputs": []
    },
    {
      "cell_type": "code",
      "metadata": {
        "id": "r2FjItv3SsL2",
        "colab_type": "code",
        "colab": {}
      },
      "source": [
        "sns.pairplot(data, corner=True, diag_kind='kde')"
      ],
      "execution_count": null,
      "outputs": []
    },
    {
      "cell_type": "code",
      "metadata": {
        "id": "Slrp0gW3Te8K",
        "colab_type": "code",
        "colab": {}
      },
      "source": [
        "from sklearn.model_selection import train_test_split\n",
        "from sklearn.preprocessing import StandardScaler"
      ],
      "execution_count": null,
      "outputs": []
    },
    {
      "cell_type": "code",
      "metadata": {
        "id": "xzKIEDgTVMcm",
        "colab_type": "code",
        "colab": {}
      },
      "source": [
        "X_scaled = StandardScaler().fit_transform(X)"
      ],
      "execution_count": null,
      "outputs": []
    },
    {
      "cell_type": "code",
      "metadata": {
        "id": "eqxNfmrCUjAC",
        "colab_type": "code",
        "colab": {}
      },
      "source": [
        "X_train, X_test, y_train, y_test = train_test_split(X, y)"
      ],
      "execution_count": null,
      "outputs": []
    },
    {
      "cell_type": "code",
      "metadata": {
        "id": "1s9_PskiVUeT",
        "colab_type": "code",
        "colab": {}
      },
      "source": [
        "from sklearn.linear_model import LinearRegression, ElasticNet\n",
        "from sklearn.ensemble import RandomForestRegressor"
      ],
      "execution_count": null,
      "outputs": []
    },
    {
      "cell_type": "code",
      "metadata": {
        "id": "u_hHOysHVhjh",
        "colab_type": "code",
        "colab": {}
      },
      "source": [
        "model_ols = LinearRegression()\n",
        "model_el = ElasticNet()\n",
        "model_rf = RandomForestRegressor(n_estimators=25)"
      ],
      "execution_count": null,
      "outputs": []
    },
    {
      "cell_type": "code",
      "metadata": {
        "id": "mGi8qxtnVozi",
        "colab_type": "code",
        "colab": {}
      },
      "source": [
        "model_ols.fit(X_train, y_train)\n",
        "model_el.fit(X_train, y_train)\n",
        "model_rf.fit(X_train, y_train)"
      ],
      "execution_count": null,
      "outputs": []
    },
    {
      "cell_type": "code",
      "metadata": {
        "id": "oheGP4GJZzR9",
        "colab_type": "code",
        "colab": {}
      },
      "source": [
        "from sklearn.model_selection import GridSearchCV\n",
        "from sklearn.metrics import make_scorer \n",
        "from sklearn.metrics import mean_squared_error \n",
        "\n",
        "scorer = make_scorer(mean_squared_error)"
      ],
      "execution_count": null,
      "outputs": []
    },
    {
      "cell_type": "code",
      "metadata": {
        "id": "lTbRWyHNPOPd",
        "colab_type": "code",
        "colab": {}
      },
      "source": [
        "parameters_el = {'alpha':[0.1, 0.5, 1.0], 'l1_ratio':[0.1, 0.5, 0.75]}"
      ],
      "execution_count": null,
      "outputs": []
    },
    {
      "cell_type": "code",
      "metadata": {
        "id": "OIJ7GB2vQA9v",
        "colab_type": "code",
        "colab": {}
      },
      "source": [
        "# TODO: Perform grid search on the classifier using 'scorer' as the scoring method.\n",
        "grid_obj = GridSearchCV(model_el, parameters_el, scoring=scorer)"
      ],
      "execution_count": null,
      "outputs": []
    },
    {
      "cell_type": "code",
      "metadata": {
        "id": "wjmkxLRiQbER",
        "colab_type": "code",
        "colab": {}
      },
      "source": [
        "grid_fit = grid_obj.fit(X, y)"
      ],
      "execution_count": null,
      "outputs": []
    },
    {
      "cell_type": "code",
      "metadata": {
        "id": "edHUEgeoQd0A",
        "colab_type": "code",
        "colab": {}
      },
      "source": [
        "# TODO: Get the estimator.\n",
        "best_clf = grid_fit.best_estimator_\n",
        "\n",
        "# Fit the new model.\n",
        "best_clf.fit(X_train, y_train)"
      ],
      "execution_count": null,
      "outputs": []
    },
    {
      "cell_type": "code",
      "metadata": {
        "id": "LMwiprMuRqNp",
        "colab_type": "code",
        "colab": {}
      },
      "source": [
        "model_rf = RandomForestRegressor()"
      ],
      "execution_count": null,
      "outputs": []
    },
    {
      "cell_type": "code",
      "metadata": {
        "id": "RGdNlJiaRlZR",
        "colab_type": "code",
        "colab": {}
      },
      "source": [
        "parameters_rf = {'bootstrap': [True, False],\n",
        " 'max_depth': [10, 20, None],\n",
        " 'min_samples_split': [5, 10],\n",
        " 'n_estimators': [20, 30, 40]}"
      ],
      "execution_count": null,
      "outputs": []
    },
    {
      "cell_type": "code",
      "metadata": {
        "id": "UHCirpRpRgjU",
        "colab_type": "code",
        "colab": {}
      },
      "source": [
        "# TODO: Perform grid search on the classifier using 'scorer' as the scoring method.\n",
        "grid_obj = GridSearchCV(model_rf, parameters_rf, scoring=scorer)"
      ],
      "execution_count": null,
      "outputs": []
    },
    {
      "cell_type": "code",
      "metadata": {
        "id": "z70_mSy5S5gA",
        "colab_type": "code",
        "colab": {}
      },
      "source": [
        "grid_fit = grid_obj.fit(X, y)"
      ],
      "execution_count": null,
      "outputs": []
    },
    {
      "cell_type": "code",
      "metadata": {
        "id": "ExtUWoPeS9nC",
        "colab_type": "code",
        "colab": {}
      },
      "source": [
        "# TODO: Get the estimator.\n",
        "best_clf = grid_fit.best_estimator_\n",
        "\n",
        "# Fit the new model.\n",
        "best_clf.fit(X_train, y_train)"
      ],
      "execution_count": null,
      "outputs": []
    },
    {
      "cell_type": "code",
      "metadata": {
        "id": "e3CbVUBfUFxE",
        "colab_type": "code",
        "colab": {}
      },
      "source": [
        "penguins = pd.read_csv(\"https://github.com/allisonhorst/palmerpenguins/raw/5b5891f01b52ae26ad8cb9755ec93672f49328a8/data/penguins_size.csv\")"
      ],
      "execution_count": null,
      "outputs": []
    },
    {
      "cell_type": "code",
      "metadata": {
        "id": "2we46_VnUKZ3",
        "colab_type": "code",
        "colab": {}
      },
      "source": [
        "penguins.head()"
      ],
      "execution_count": null,
      "outputs": []
    },
    {
      "cell_type": "code",
      "metadata": {
        "id": "-0z13tb4UNyL",
        "colab_type": "code",
        "colab": {}
      },
      "source": [
        "penguins.dropna(inplace=True)"
      ],
      "execution_count": null,
      "outputs": []
    },
    {
      "cell_type": "code",
      "metadata": {
        "id": "--kgIY8KUXhd",
        "colab_type": "code",
        "colab": {}
      },
      "source": [
        "from sklearn.preprocessing import LabelEncoder\n",
        "from sklearn.preprocessing import StandardScaler\n",
        "from sklearn.preprocessing import OneHotEncoder"
      ],
      "execution_count": null,
      "outputs": []
    },
    {
      "cell_type": "code",
      "metadata": {
        "id": "-_9V1hkMUx9D",
        "colab_type": "code",
        "colab": {}
      },
      "source": [
        "X = penguins.iloc[:,2:6]"
      ],
      "execution_count": null,
      "outputs": []
    },
    {
      "cell_type": "code",
      "metadata": {
        "id": "QOh2FvGuUsUy",
        "colab_type": "code",
        "colab": {}
      },
      "source": [
        "scaler = StandardScaler()\n",
        "X = scaler.fit_transform(X)"
      ],
      "execution_count": null,
      "outputs": []
    },
    {
      "cell_type": "code",
      "metadata": {
        "id": "IN33zcYOU72t",
        "colab_type": "code",
        "colab": {}
      },
      "source": [
        "y = penguins.iloc[:, 0]\n",
        "labelencoder_y = LabelEncoder()\n",
        "y = labelencoder_y.fit_transform(y)"
      ],
      "execution_count": null,
      "outputs": []
    },
    {
      "cell_type": "code",
      "metadata": {
        "id": "f6xpLOG9Va49",
        "colab_type": "code",
        "colab": {}
      },
      "source": [
        "from sklearn.model_selection import train_test_split\n",
        "X_train, X_test, y_train, y_test = train_test_split(X, y, test_size = 0.2, random_state = 21)"
      ],
      "execution_count": null,
      "outputs": []
    },
    {
      "cell_type": "code",
      "metadata": {
        "id": "ARl3T8WHVfKf",
        "colab_type": "code",
        "colab": {}
      },
      "source": [
        "from sklearn.linear_model import LogisticRegression\n",
        "model = LogisticRegression()\n",
        "model.fit(X_train, y_train)"
      ],
      "execution_count": null,
      "outputs": []
    },
    {
      "cell_type": "code",
      "metadata": {
        "id": "Y9B1LuOGVj6B",
        "colab_type": "code",
        "colab": {}
      },
      "source": [
        "true_penguins = labelencoder_y.inverse_transform(y_test)\n",
        "\n",
        "predicted_penguins = labelencoder_y.inverse_transform(model.predict(X_test))"
      ],
      "execution_count": null,
      "outputs": []
    },
    {
      "cell_type": "code",
      "metadata": {
        "id": "PZw49PWAVtPW",
        "colab_type": "code",
        "colab": {}
      },
      "source": [
        "df = pd.DataFrame({'true_penguins': true_penguins, 'predicted_penguins': predicted_penguins}) \n",
        "\n",
        "pd.crosstab(df.true_penguins, df.predicted_penguins)"
      ],
      "execution_count": null,
      "outputs": []
    },
    {
      "cell_type": "code",
      "metadata": {
        "id": "H1NTBCJ3V250",
        "colab_type": "code",
        "colab": {}
      },
      "source": [
        "print(classification_report(true_penguins,predicted_penguins, labels=labelencoder_y.classes_))"
      ],
      "execution_count": null,
      "outputs": []
    },
    {
      "cell_type": "code",
      "metadata": {
        "id": "F12fiU7jXp1-",
        "colab_type": "code",
        "colab": {}
      },
      "source": [
        "penguins.head()"
      ],
      "execution_count": null,
      "outputs": []
    },
    {
      "cell_type": "code",
      "metadata": {
        "id": "ESg_eU81eSWw",
        "colab_type": "code",
        "colab": {}
      },
      "source": [
        "y = penguins['culmen_length_mm']"
      ],
      "execution_count": null,
      "outputs": []
    },
    {
      "cell_type": "code",
      "metadata": {
        "id": "VLbf04myeky2",
        "colab_type": "code",
        "colab": {}
      },
      "source": [
        "X_dum = penguins.species_short.str.get_dummies()"
      ],
      "execution_count": null,
      "outputs": []
    },
    {
      "cell_type": "code",
      "metadata": {
        "id": "ZC_e206Uelz7",
        "colab_type": "code",
        "colab": {}
      },
      "source": [
        "X = pd.concat([penguins.iloc[:,4:6], X_dum], axis=1)"
      ],
      "execution_count": null,
      "outputs": []
    },
    {
      "cell_type": "code",
      "metadata": {
        "id": "haEsJGV4e2W5",
        "colab_type": "code",
        "colab": {}
      },
      "source": [
        "X.iloc[:,0:2] = StandardScaler().fit_transform(X.iloc[:,0:2])"
      ],
      "execution_count": null,
      "outputs": []
    },
    {
      "cell_type": "code",
      "metadata": {
        "id": "FFIC3TKfhm34",
        "colab_type": "code",
        "colab": {}
      },
      "source": [
        "from sklearn.model_selection import train_test_split\n",
        "X_train, X_test, y_train, y_test = train_test_split(X, y, test_size = 0.2, random_state = 21)"
      ],
      "execution_count": null,
      "outputs": []
    },
    {
      "cell_type": "code",
      "metadata": {
        "id": "quCFcW5Yhqzg",
        "colab_type": "code",
        "colab": {}
      },
      "source": [
        "model_ols = LinearRegression()\n",
        "model_rf = RandomForestRegressor()"
      ],
      "execution_count": null,
      "outputs": []
    },
    {
      "cell_type": "code",
      "metadata": {
        "id": "pxX1TOdrh1iy",
        "colab_type": "code",
        "colab": {}
      },
      "source": [
        "model_ols.fit(X_train, y_train)"
      ],
      "execution_count": null,
      "outputs": []
    },
    {
      "cell_type": "code",
      "metadata": {
        "id": "yV8NVwYdh79J",
        "colab_type": "code",
        "colab": {}
      },
      "source": [
        "model_rf.fit(X_train, y_train)"
      ],
      "execution_count": null,
      "outputs": []
    },
    {
      "cell_type": "code",
      "metadata": {
        "id": "IrioBRm7iBH8",
        "colab_type": "code",
        "colab": {}
      },
      "source": [
        "model_ols.score(X_test, y_test)"
      ],
      "execution_count": null,
      "outputs": []
    },
    {
      "cell_type": "code",
      "metadata": {
        "id": "rZYcC-rniIE8",
        "colab_type": "code",
        "colab": {}
      },
      "source": [
        "model_rf.score(X_test, y_test)"
      ],
      "execution_count": null,
      "outputs": []
    },
    {
      "cell_type": "code",
      "metadata": {
        "id": "BvVhEtpAiMTa",
        "colab_type": "code",
        "colab": {}
      },
      "source": [
        "model_ols.score(X_train, y_train)"
      ],
      "execution_count": null,
      "outputs": []
    },
    {
      "cell_type": "code",
      "metadata": {
        "id": "3JD9MLv5iY2a",
        "colab_type": "code",
        "colab": {}
      },
      "source": [
        "model_rf.score(X_train, y_train)"
      ],
      "execution_count": null,
      "outputs": []
    },
    {
      "cell_type": "code",
      "metadata": {
        "id": "Ltmwj_hdioKw",
        "colab_type": "code",
        "colab": {}
      },
      "source": [
        "y_pred_rf = model_rf.predict(X_test)"
      ],
      "execution_count": null,
      "outputs": []
    },
    {
      "cell_type": "code",
      "metadata": {
        "id": "ezFFY36xisS3",
        "colab_type": "code",
        "colab": {}
      },
      "source": [
        "y_pred_ols = model_ols.predict(X_test)"
      ],
      "execution_count": null,
      "outputs": []
    },
    {
      "cell_type": "code",
      "metadata": {
        "id": "H_Joj8o7ieaZ",
        "colab_type": "code",
        "colab": {}
      },
      "source": [
        "sns.scatterplot(y_test, y_pred_ols)"
      ],
      "execution_count": null,
      "outputs": []
    },
    {
      "cell_type": "code",
      "metadata": {
        "id": "rWev933qi0R6",
        "colab_type": "code",
        "colab": {}
      },
      "source": [
        "sns.scatterplot(y_test, y_pred_rf)"
      ],
      "execution_count": null,
      "outputs": []
    }
  ]
}