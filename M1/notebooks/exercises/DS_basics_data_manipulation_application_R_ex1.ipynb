{
  "nbformat": 4,
  "nbformat_minor": 0,
  "metadata": {
    "kernelspec": {
      "display_name": "R",
      "language": "R",
      "name": "ir"
    },
    "language_info": {
      "mimetype": "text/x-r-source",
      "name": "R",
      "pygments_lexer": "r",
      "version": "3.4.2",
      "file_extension": ".r",
      "codemirror_mode": "r"
    },
    "colab": {
      "name": "M1_1_datamunging_ex1.ipynb",
      "provenance": [],
      "include_colab_link": true
    }
  },
  "cells": [
    {
      "cell_type": "markdown",
      "metadata": {
        "id": "view-in-github",
        "colab_type": "text"
      },
      "source": [
        "<a href=\"https://colab.research.google.com/github/SDS-AAU/SDS-master/blob/master/M1/notebooks/exercises/DS_basics_data_manipulation_application_R_ex1.ipynb\" target=\"_parent\"><img src=\"https://colab.research.google.com/assets/colab-badge.svg\" alt=\"Open In Colab\"/></a>"
      ]
    },
    {
      "cell_type": "code",
      "metadata": {
        "_uuid": "e91a8c71ecbabe307ebf19867d6249f8d75ed045",
        "_execution_state": "idle",
        "trusted": true,
        "id": "gbg4oxdJONJF",
        "colab_type": "code",
        "colab": {}
      },
      "source": [
        "## Importing packages\n",
        "library(tidyverse) # metapackage with lots of helpful functions"
      ],
      "execution_count": null,
      "outputs": []
    },
    {
      "cell_type": "markdown",
      "metadata": {
        "_uuid": "e9b2f353c305538df9dd9f19fa794887a3bf6967",
        "id": "PnCuwZOlONJJ",
        "colab_type": "text"
      },
      "source": [
        "Ok, lets explore the starwars dataset. "
      ]
    },
    {
      "cell_type": "code",
      "metadata": {
        "trusted": true,
        "_uuid": "77d3158499a4848a47ff7ec06b89dfd4fe7ba106",
        "id": "ppaz2s7jONJJ",
        "colab_type": "code",
        "colab": {}
      },
      "source": [
        "starwars %>% head(10)"
      ],
      "execution_count": null,
      "outputs": []
    },
    {
      "cell_type": "markdown",
      "metadata": {
        "_uuid": "84c6a444f0606744646722eb8cf4ab69ab575c5e",
        "id": "YT9XjGcKONJO",
        "colab_type": "text"
      },
      "source": [
        "Ok, now its your turn: Can you tell me:\n",
        "\n",
        "1. Who is the tallest droid?"
      ]
    },
    {
      "cell_type": "code",
      "metadata": {
        "trusted": true,
        "_uuid": "75656fcf1511b8a037629f5b37a2d7d78212e36f",
        "id": "0RP_IUazONJP",
        "colab_type": "code",
        "colab": {}
      },
      "source": [
        ""
      ],
      "execution_count": null,
      "outputs": []
    },
    {
      "cell_type": "markdown",
      "metadata": {
        "_uuid": "770c1a78a7d3438d1848815c127bbf2f623cce55",
        "id": "5gT99078ONJT",
        "colab_type": "text"
      },
      "source": [
        "2. Are characters with different hair colors also of different weight? (strange hypothesis, though)"
      ]
    },
    {
      "cell_type": "code",
      "metadata": {
        "trusted": true,
        "_uuid": "13fd096364ca2ed14247beb9c559324cc991cc0b",
        "id": "VeofYJ0PONJU",
        "colab_type": "code",
        "colab": {}
      },
      "source": [
        ""
      ],
      "execution_count": null,
      "outputs": []
    },
    {
      "cell_type": "markdown",
      "metadata": {
        "_uuid": "90235d3a1bdd444e7352438093e43e7d69e1b5f6",
        "id": "heKp_5vjONJY",
        "colab_type": "text"
      },
      "source": [
        "3: Which homeworld is the most popular one?"
      ]
    },
    {
      "cell_type": "code",
      "metadata": {
        "trusted": true,
        "_uuid": "eff220d632736a8f7116af4fdee7a6bde49beff0",
        "id": "_YOO2s18ONJZ",
        "colab_type": "code",
        "colab": {}
      },
      "source": [
        ""
      ],
      "execution_count": null,
      "outputs": []
    }
  ]
}