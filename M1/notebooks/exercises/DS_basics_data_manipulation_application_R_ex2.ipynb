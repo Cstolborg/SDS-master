{
  "nbformat": 4,
  "nbformat_minor": 0,
  "metadata": {
    "kernelspec": {
      "display_name": "R",
      "language": "R",
      "name": "ir"
    },
    "language_info": {
      "mimetype": "text/x-r-source",
      "name": "R",
      "pygments_lexer": "r",
      "version": "3.4.2",
      "file_extension": ".r",
      "codemirror_mode": "r"
    },
    "colab": {
      "name": "SDS_M1_datamunging_ex2.ipynb",
      "provenance": [],
      "collapsed_sections": [],
      "include_colab_link": true
    }
  },
  "cells": [
    {
      "cell_type": "markdown",
      "metadata": {
        "id": "view-in-github",
        "colab_type": "text"
      },
      "source": [
        "<a href=\"https://colab.research.google.com/github/SDS-AAU/SDS-master/blob/master/M1/notebooks/exercises/DS_basics_data_manipulation_application_R_ex2.ipynb\" target=\"_parent\"><img src=\"https://colab.research.google.com/assets/colab-badge.svg\" alt=\"Open In Colab\"/></a>"
      ]
    },
    {
      "cell_type": "code",
      "metadata": {
        "_uuid": "8eef0721e6d219e17bb92906f88afcb87f056d79",
        "_execution_state": "idle",
        "trusted": false,
        "id": "p-hOfAC8yitS",
        "colab_type": "code",
        "colab": {}
      },
      "source": [
        "## Importing packages\n",
        "library(tidyverse) # metapackage with lots of helpful functions"
      ],
      "execution_count": null,
      "outputs": []
    },
    {
      "cell_type": "code",
      "metadata": {
        "trusted": true,
        "_uuid": "13bb1c76833d30921325acecbc89697aaa4effe8",
        "id": "bdXGNN4eyitW",
        "colab_type": "code",
        "colab": {}
      },
      "source": [
        "# Create some data\n",
        "df1 <- data_frame(x = c(1, 2, 5, 4), y = 4:1)\n",
        "df2 <- data_frame(x = c(1, 3, 4), a = 10, b = \"a\")"
      ],
      "execution_count": null,
      "outputs": []
    },
    {
      "cell_type": "markdown",
      "metadata": {
        "_uuid": "e01b5e6d8768cf802c5264bbc742de1375b1645b",
        "id": "uaRaa9bbyitb",
        "colab_type": "text"
      },
      "source": [
        "So, again your turn:\n",
        "\n",
        "* Do a df1 <- df2 left_join() on \"x\"\n",
        "* Do a df1 <- df2 left_join(), where you join y in df1 to x in df2\n",
        "* Do a df1 & df2 semi_join() on \"x\"\n",
        "* Do a df1 & df2 anti_join(), where you join y in df1 to x in df2\n",
        "\n",
        "Observe the magic unfolding..."
      ]
    }
  ]
}