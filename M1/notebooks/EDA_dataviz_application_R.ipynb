{
  "nbformat": 4,
  "nbformat_minor": 0,
  "metadata": {
    "Rmd_header": {
      "author": "Daniel S. Hain (dsh@business.aau.dk)",
      "date": "Updated `r format(Sys.time(), '%B %d, %Y')`",
      "output": {
        "html_notebook": {
          "code_folding": "show",
          "df_print": "paged",
          "theme": "flatly",
          "toc": true,
          "toc_depth": 2,
          "toc_float": {
            "collapsed": false
          }
        }
      },
      "title": "HowTo: Data manipulation in R"
    },
    "kernelspec": {
      "display_name": "R",
      "language": "R",
      "name": "ir"
    },
    "language_info": {
      "codemirror_mode": "r",
      "file_extension": ".r",
      "mimetype": "text/x-r-source",
      "name": "R",
      "pygments_lexer": "r"
    },
    "colab": {
      "name": "EDA_dataviz_application_R.ipynb",
      "provenance": [],
      "include_colab_link": true
    }
  },
  "cells": [
    {
      "cell_type": "markdown",
      "metadata": {
        "id": "view-in-github",
        "colab_type": "text"
      },
      "source": [
        "<a href=\"https://colab.research.google.com/github/SDS-AAU/SDS-master/blob/master/M1/notebooks/EDA_dataviz_application_R.ipynb\" target=\"_parent\"><img src=\"https://colab.research.google.com/assets/colab-badge.svg\" alt=\"Open In Colab\"/></a>"
      ]
    },
    {
      "cell_type": "code",
      "metadata": {
        "Rmd_chunk_options": "setup, include=FALSE",
        "autoscroll": false,
        "id": "vooLOR7vSIyR",
        "colab_type": "code",
        "colab": {}
      },
      "source": [
        "# Knitr options\n",
        "### Generic preamble\n",
        "Sys.setenv(LANG = \"en\") # For english language\n",
        "options(scipen = 5) # To deactivate annoying scientific number notation\n",
        "\n",
        "# rm(list=ls()); graphics.off() # get rid of everything in the workspace\n",
        "if (!require(\"knitr\")) install.packages(\"knitr\"); library(knitr) # For display of the markdown\n",
        "\n",
        "### Knitr options\n",
        "knitr::opts_chunk$set(warning=FALSE,\n",
        "                     message=FALSE,\n",
        "                     fig.align=\"center\"\n",
        "                     )"
      ],
      "execution_count": null,
      "outputs": []
    },
    {
      "cell_type": "code",
      "metadata": {
        "autoscroll": false,
        "id": "75uFk8PUSIyU",
        "colab_type": "code",
        "colab": {}
      },
      "source": [
        "### Load packages\n",
        "library(tidyverse) # Collection of all the good stuff like dplyr, ggplot2 ect.\n",
        "library(magrittr) # For extra-piping operators (eg. %<>%)"
      ],
      "execution_count": null,
      "outputs": []
    },
    {
      "cell_type": "markdown",
      "metadata": {
        "id": "rtJVXjaFSIyX",
        "colab_type": "text"
      },
      "source": [
        "\n",
        "\n",
        "# Introduction\n",
        "\n",
        "Welcome to the applied session in data visualization for Exploratory Data Analysis (EDA) in `R`.\n",
        "\n",
        "# Introduction to `gglot2`\n",
        "\n",
        "[`ggplot2`](https://ggplot2.tidyverse.org/) can be thought of as a mini-language (domain-specific language) within the `R` language. It is an R implementation of [Wilkinson's Grammar of Graphics book](https://www.springer.com/gp/book/9780387245447). [A Layered Grammar of Graphics](http://vita.had.co.nz/papers/layered-grammar.pdf) describes Hadley's implementation of these thoughts in the ggplot2's design. Due to its conceptional richness as well as the rich functionality provided, `ggplot2` has over time become the main sub-ecosustem for rgaphic visualization. Most packages dedicated to specialized forms of visualization (networks, interactions, etc.) will use the `ggplot` package as underlying plattform. So, it makes sense to dive a bit deeper into it functionality\n",
        "\n",
        "Conceptually, the main idea behind the Grammar of Graphics is that a statistical graphic is a mapping from variables to aesthetic attributes (x axis value, y axis value, color, shape, size) of geometric objects (points, line, bars).\n",
        "\n",
        " While the Grammar of Graphic contains more elements, we will focus in this brief intro in the two main ones, aestetics and geometries.\n",
        "\n",
        "* **Aestetics:** Devine the \"surface\" of your plot, in terms of what has to be mapped (size, coplor) on the x and y (and potentially adittional) axes. Aesteticts are defined within the `aes()` function.\n",
        "* **Geometries:** Visual elements you can see in the plot itself, such as bars, lines, and points. They are defined within various `geom_XYZ()` functions.\n",
        "\n",
        "![](https://github.com/SDS-AAU/SDS-master/raw/master/00_media/ggplot_structure.png)\n",
        "\n",
        "Basically, you define a surface grid and then plot something on top. We will talk about all of that in depth in later sessions, for now that's all you need to know to understand the following simple examples.\n",
        "\n",
        "# Application: the `BIXI Bikeshare Data` dataset\n",
        "\n",
        "Lets take a step back and zoom a bit into different forms of visualization. We will now take a look at the `BIXI Bikeshare Data`, covering 500k bike-rides in the BIXI bike-sharing system in Montreal.\n",
        "\n"
      ]
    },
    {
      "cell_type": "code",
      "metadata": {
        "autoscroll": false,
        "id": "77kujQYRSIyX",
        "colab_type": "code",
        "colab": {}
      },
      "source": [
        "bike <- readRDS(url(\"https://github.com/SDS-AAU/SDS-master/raw/master/00_data/bikes_montreal.rds?dl=1\"))"
      ],
      "execution_count": null,
      "outputs": []
    },
    {
      "cell_type": "markdown",
      "metadata": {
        "id": "M8wmN8XpSIya",
        "colab_type": "text"
      },
      "source": [
        "\n",
        "Lets take a look:\n",
        "\n"
      ]
    },
    {
      "cell_type": "code",
      "metadata": {
        "autoscroll": false,
        "id": "WQ1V7WSHSIya",
        "colab_type": "code",
        "colab": {}
      },
      "source": [
        "bike %>% glimpse()"
      ],
      "execution_count": null,
      "outputs": []
    },
    {
      "cell_type": "code",
      "metadata": {
        "autoscroll": false,
        "id": "uLMN8zuXSIyd",
        "colab_type": "code",
        "colab": {}
      },
      "source": [
        "bike %>% head()"
      ],
      "execution_count": null,
      "outputs": []
    },
    {
      "cell_type": "markdown",
      "metadata": {
        "id": "U2mCv_tUSIyf",
        "colab_type": "text"
      },
      "source": [
        "\n",
        "We see here a number of different variable types present, namely:\n",
        "\n",
        "* Continuous variables\n",
        "* Categorical variables\n",
        "* Temporal variables\n",
        "\n",
        "First of all: Lets remember, the first thing we do is defining the aestetics, first of all the dimensions (x, y) of the visualization.\n",
        "\n"
      ]
    },
    {
      "cell_type": "code",
      "metadata": {
        "autoscroll": false,
        "id": "FemvYNrhSIyf",
        "colab_type": "code",
        "colab": {}
      },
      "source": [
        "bike %>% ggplot(aes(x = weekday, y = start_hod))"
      ],
      "execution_count": null,
      "outputs": []
    },
    {
      "cell_type": "markdown",
      "metadata": {
        "id": "9EbrKcb_SIyh",
        "colab_type": "text"
      },
      "source": [
        "\n",
        "The result will be an empty plane with the dimensions we defined. Note that there are more aestetic dimensions which can be used to convey informations visualy, such as for instance:\n",
        "\n",
        "* Position (x, y)\n",
        "* Color\n",
        "* Shape\n",
        "* Alpha (Transparency)\n",
        "\n",
        "We will explore them later.\n",
        "\n",
        "## Basic visualization of variable types\n",
        "\n",
        "### Summaries of One Variable: Continuous\n",
        "\n",
        "When attempting to summarize a single variable, histograms and density distributions are often the visualization of choice. We can do that easily by using the `geom_histogram()` layer. Notice that we only define a `x` aestetic, since we only summarize one variable\n",
        "\n"
      ]
    },
    {
      "cell_type": "code",
      "metadata": {
        "autoscroll": false,
        "id": "Hla35RtgSIyi",
        "colab_type": "code",
        "colab": {}
      },
      "source": [
        "bike %>% ggplot(aes(x = duration_sec)) +\n",
        "  geom_histogram()"
      ],
      "execution_count": null,
      "outputs": []
    },
    {
      "cell_type": "markdown",
      "metadata": {
        "id": "6_O_De5XSIyk",
        "colab_type": "text"
      },
      "source": [
        "\n",
        "To plot a probability density function (PDF) instead, we can use the `geom_density()` layer.\n",
        "\n"
      ]
    },
    {
      "cell_type": "code",
      "metadata": {
        "autoscroll": false,
        "id": "0recs4jBSIyk",
        "colab_type": "code",
        "colab": {}
      },
      "source": [
        "bike %>% ggplot(aes(x = duration_sec)) +\n",
        "  geom_density()"
      ],
      "execution_count": null,
      "outputs": []
    },
    {
      "cell_type": "markdown",
      "metadata": {
        "id": "j8m4gKz0SIym",
        "colab_type": "text"
      },
      "source": [
        "\n",
        "Note the distribution appears right-skewed, since we have some outliers of very long bike rides. Adding a log-scale on the x-axis might help to reduce their impact on the visualization.\n",
        "\n",
        "\n"
      ]
    },
    {
      "cell_type": "code",
      "metadata": {
        "autoscroll": false,
        "id": "FXUZLOkCSIym",
        "colab_type": "code",
        "colab": {}
      },
      "source": [
        "bike %>% ggplot(aes(x = duration_sec)) +\n",
        "  geom_histogram() +\n",
        "  scale_x_log10()"
      ],
      "execution_count": null,
      "outputs": []
    },
    {
      "cell_type": "markdown",
      "metadata": {
        "id": "MDPNoNKKSIyo",
        "colab_type": "text"
      },
      "source": [
        "\n",
        "In case we would already like to start looking at conditional distributions, we could add an adittional `fill` aestetic.\n",
        "\n"
      ]
    },
    {
      "cell_type": "code",
      "metadata": {
        "autoscroll": false,
        "id": "mJ9neK5zSIyo",
        "colab_type": "code",
        "colab": {}
      },
      "source": [
        "bike %>% ggplot(aes(x = duration_sec, fill = weekday)) +\n",
        "  geom_histogram() +\n",
        "  scale_x_log10()"
      ],
      "execution_count": null,
      "outputs": []
    },
    {
      "cell_type": "markdown",
      "metadata": {
        "id": "h-Q2H4jJSIyr",
        "colab_type": "text"
      },
      "source": [
        "\n",
        "### Summaries of One Variable: Discrete\n",
        "\n",
        "To do the same for a discrete variable, we would start with a simple barplot via `geom_bar()`. Notice again that we only define a x aestetic. `ggplot` per default will use the count on the y-axis.\n",
        "\n"
      ]
    },
    {
      "cell_type": "code",
      "metadata": {
        "autoscroll": false,
        "id": "WOrn5udbSIyr",
        "colab_type": "code",
        "colab": {}
      },
      "source": [
        "bike %>% ggplot(aes(x = start_dow)) +\n",
        "  geom_bar()"
      ],
      "execution_count": null,
      "outputs": []
    },
    {
      "cell_type": "markdown",
      "metadata": {
        "id": "3MPmIcMNSIyu",
        "colab_type": "text"
      },
      "source": [
        "\n",
        "We could also use the membership as fill aestetic to map further information in the plot.\n",
        "\n"
      ]
    },
    {
      "cell_type": "code",
      "metadata": {
        "autoscroll": false,
        "id": "HClnhIndSIyu",
        "colab_type": "code",
        "colab": {}
      },
      "source": [
        "bike %>% ggplot(aes(x = start_dow, fill = membership)) +\n",
        "  geom_bar()"
      ],
      "execution_count": null,
      "outputs": []
    },
    {
      "cell_type": "markdown",
      "metadata": {
        "id": "m1vNl2mXSIyw",
        "colab_type": "text"
      },
      "source": [
        "\n",
        "### Summaries of One Variable: Temporal\n",
        "\n",
        "A temporal variable can also be visualized as a line-plot with `geom_line()`.\n",
        "\n"
      ]
    },
    {
      "cell_type": "code",
      "metadata": {
        "autoscroll": false,
        "id": "Fl-kfa39SIyw",
        "colab_type": "code",
        "colab": {}
      },
      "source": [
        "bike %>%\n",
        "  count(start_wk) %>%\n",
        "  ggplot(aes(x = start_wk, y = n)) +\n",
        "  geom_line()"
      ],
      "execution_count": null,
      "outputs": []
    },
    {
      "cell_type": "markdown",
      "metadata": {
        "id": "HWQG_yOISIyy",
        "colab_type": "text"
      },
      "source": [
        "\n",
        "To instead (or in addition) add a trendline, we can use `geom_smooth()`\n",
        "\n"
      ]
    },
    {
      "cell_type": "code",
      "metadata": {
        "autoscroll": false,
        "id": "h8_3bfaZSIyz",
        "colab_type": "code",
        "colab": {}
      },
      "source": [
        "bike %>%\n",
        "  count(start_wk) %>%\n",
        "  ggplot(aes(x = start_wk, y = n)) +\n",
        "  geom_smooth()"
      ],
      "execution_count": null,
      "outputs": []
    },
    {
      "cell_type": "markdown",
      "metadata": {
        "id": "0PKqTFm4SIy1",
        "colab_type": "text"
      },
      "source": [
        "\n",
        "\n",
        "## Summarizing multiple variablea jointly\n",
        "\n",
        "Ok, that was pretty easy. However, the insights gained so far are pretty little. To tease out interesting pattern in our data, it might not be enough to only look at one variable at a time. To display relationships between multiple variables, we mainly can:\n",
        "\n",
        "* Use aestetics such as `color`, `fill`, `size`, `shape` (alter the aestetics within one plot)\n",
        "* Use `facet_wrap()`(produce  multiple plots)\n",
        "\n",
        "Lets look at some examples:\n",
        "\n",
        "First, we could take a look at the number of daily rides with  workweek / weekend days colored differently.\n",
        "\n"
      ]
    },
    {
      "cell_type": "code",
      "metadata": {
        "autoscroll": false,
        "id": "eE1r3pxPSIy1",
        "colab_type": "code",
        "colab": {}
      },
      "source": [
        "# Compute daily counts & plot\n",
        "bike %>%\n",
        "  count(start_day, weekday) %>%\n",
        "  ggplot(aes(start_day, n, color = weekday)) +\n",
        "  geom_point()"
      ],
      "execution_count": null,
      "outputs": []
    },
    {
      "cell_type": "markdown",
      "metadata": {
        "id": "ImF1l1ZoSIy3",
        "colab_type": "text"
      },
      "source": [
        "\n",
        "Now let's look at how rides are distributed according to the time of day. Let's make a summary plot of weekly ride counts faceted by start hour of day and broken down by workweek/weekend. Here, we will use the `facet_grid`\n",
        "\n",
        "\n"
      ]
    },
    {
      "cell_type": "code",
      "metadata": {
        "Rmd_chunk_options": "fig.height=5 , fig.width=15",
        "autoscroll": false,
        "id": "o8CC_VmnSIy4",
        "colab_type": "code",
        "colab": {}
      },
      "source": [
        "# Compute week_hod & plot\n",
        "bike %>%\n",
        "  count(start_wk, start_hod, weekday) %>%\n",
        "  ggplot(aes(start_wk, n, color = weekday)) +\n",
        "  geom_point() +\n",
        "  facet_grid(~ start_hod) +\n",
        "  scale_y_sqrt()"
      ],
      "execution_count": null,
      "outputs": []
    },
    {
      "cell_type": "markdown",
      "metadata": {
        "id": "6m4GuwvKSIy5",
        "colab_type": "text"
      },
      "source": [
        "\n",
        "Expanding on the previous plot, let's add one more variable into our summary, adding a facet dimension for whether or not the rider is a member of BIXI.\n",
        "\n"
      ]
    },
    {
      "cell_type": "code",
      "metadata": {
        "Rmd_chunk_options": "fig.height=7.5, fig.width=15",
        "autoscroll": false,
        "id": "HFJ2QDZESIy6",
        "colab_type": "code",
        "colab": {}
      },
      "source": [
        "# Compute wk_memb_hod & plot\n",
        "bike %>%\n",
        "  count(start_wk, start_hod, weekday, membership) %>%\n",
        "  ggplot(aes(start_wk, n, color = weekday)) +\n",
        "  geom_point() +\n",
        "  facet_grid(membership ~ start_hod) +\n",
        "  scale_y_sqrt()"
      ],
      "execution_count": null,
      "outputs": []
    },
    {
      "cell_type": "markdown",
      "metadata": {
        "id": "wnIW3_84SIy7",
        "colab_type": "text"
      },
      "source": [
        "\n",
        "Let's now look at the number of rides vs. hour for each day. To start, we'll create a summary dataset for the first full month in the dataset (May) and look at it.\n",
        "\n"
      ]
    },
    {
      "cell_type": "code",
      "metadata": {
        "Rmd_chunk_options": "fig.height=7.5, fig.width=15",
        "autoscroll": false,
        "id": "EoHTq60PSIy7",
        "colab_type": "code",
        "colab": {}
      },
      "source": [
        "# Compute daily_may &\n",
        "bike %>%\n",
        "  filter(start_mon == 5) %>%\n",
        "  count(start_day, start_hod, membership) %>%\n",
        "  ggplot(aes(start_hod, n, color = membership)) +\n",
        "  geom_point() +\n",
        "  facet_wrap(~ start_day, ncol = 7)"
      ],
      "execution_count": null,
      "outputs": []
    },
    {
      "cell_type": "markdown",
      "metadata": {
        "id": "uUu7fiXXSIy9",
        "colab_type": "text"
      },
      "source": [
        "\n",
        "# Endnotes\n",
        "\n",
        "### References\n",
        "\n",
        "### Suggestions for further study\n",
        "\n",
        "#### Own exploration\n",
        "There is so much more to explore. However, since time is limited, I will leave it up to you to explore more.\n",
        "\n",
        "* Take a moment to review the different geoms offered by `ggplot` [here](https://ggplot2.tidyverse.org/reference/index.html).\n",
        "* For inspiration what can be done, check [here](http://r-statistics.co/Top50-Ggplot2-Visualizations-MasterList-R-Code.html).\n",
        "* Check `ggplot2` addons  [here](https://www.ggplot2-exts.org/gallery/). Some of my favorite are:\n",
        "   * `ggforce`: For a collection of adittional features\n",
        "   * `patchwork`: For easy inegration of multiple plots jointly\n",
        "   * `GGally`: Collection fo many cool plotting features, including many standard stats plot for correlation, distribution etc.\n",
        "   * `ggmap`: For geoplotting\n",
        "   * `ggraph`: For network plots (will be handled later)\n",
        "   * `ggridges`: Ridge features, for example to create joy-plots\n",
        "   * `ggalluvial`: For alluvial plots\n",
        "\n",
        "#### Datacamp\n",
        "\n",
        "* [Introduction to Data Visualization with ggplot2](https://learn.datacamp.com/courses/introduction-to-data-visualization-with-ggplot2): Really good and throrrough ggplot2 introduction. Rick has also more advanced ggplot courses for the ones who want to go deeper.\n",
        "* [https://learn.datacamp.com/courses/communicating-with-data-in-the-tidyverse](Communicating with Data in the Tidyverse): Also includes more workflows for using dataviz for reporting & communicating to different audiences, eg. using Rmarkdown.\n",
        "* [Interactive Data Visualization with plotly in R](https://learn.datacamp.com/courses/interactive-data-visualization-with-plotly-in-r): For the ones who want to go deeper into interactive plotting.\n",
        "\n",
        "#### Other online courses\n",
        "\n",
        "* [Data Visualization](https://datavizm20.classes.andrewheiss.com/): Amazing free online material, introducing you to many design concepts and reflections on dataviz, combined with hands-on examples.\n",
        "* [DataCarpentry: Data Visualization with ggplot2](https://datacarpentry.org/R-ecology-lesson/04-visualization-ggplot2.html#Plotting_with_ggplot2): Generally good course. You might here enjoy the attention paid to statistical plots.\n",
        "\n",
        "#### Papers, Ebooks & chapters\n",
        "* R for Data Science (Grolemund & Wickham)\n",
        "   * [Chapter 3](https://r4ds.had.co.nz/data-visualisation.html): Basics of DataViz\n",
        "   * [Chapter 7](https://r4ds.had.co.nz/exploratory-data-analysis.html): DataViz for EDA\n",
        "   * [Chapter 28](https://r4ds.had.co.nz/graphics-for-communication.html): Finetuning DataViz\n",
        "* [Wickham, Hadley. \"A layered grammar of graphics.\" Journal of Computational and Graphical Statistics 19.1 (2010): 3-28.](http://vita.had.co.nz/papers/layered-grammar.pdf): General concept of the grammar of graphics\n",
        "* Healy, Kieran. Data visualization: a practical introduction. Princeton University Press, 2018. [online available here](https://socviz.co/index.html#preface): Good inrto with many best-practice advices.\n",
        "\n",
        "\n",
        "### Session Info\n"
      ]
    },
    {
      "cell_type": "code",
      "metadata": {
        "autoscroll": false,
        "id": "Njub38OKSIy-",
        "colab_type": "code",
        "colab": {}
      },
      "source": [
        "sessionInfo()"
      ],
      "execution_count": null,
      "outputs": []
    }
  ]
}