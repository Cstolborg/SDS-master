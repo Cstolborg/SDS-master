{
 "cells": [
  {
   "cell_type": "code",
   "execution_count": null,
   "metadata": {
    "Rmd_chunk_options": "setup, include=FALSE",
    "autoscroll": false,
    "collapsed": true
   },
   "outputs": [],
   "source": [
    "### Generic preamble\n",
    "Sys.setenv(LANG = \"en\") # For english language\n",
    "options(scipen = 5) # To deactivate annoying scientific number notation\n",
    "\n",
    "### Knitr options\n",
    "knitr::opts_chunk$set(warning=FALSE,\n",
    "                     message=FALSE,\n",
    "                     fig.align=\"center\"\n",
    "                     )"
   ]
  },
  {
   "cell_type": "markdown",
   "metadata": {},
   "source": [
    "\n",
    "# Introduction\n",
    "In this session, you will learn the basic R syntax, including:\n",
    "\n",
    "1. General syntax\n",
    "2. basic operations\n",
    "3. Object & data types\n",
    "4. Flow controls\n",
    "5. Introduction to the `tidyverse` and piping.\n",
    "\n",
    "# Brief Introduction: Base-R\n",
    "\n",
    "The general base-R syntax is, in contrast to other more general-purpose programming language, already very geared towards working with data. MAny slicing/dicing ect. functionalities which for instance in Python require additional libraries (eg. Pandas in Python) are in R (as a dedicated statistical pogramming language) come with R out-of-the-box. However, the traditional R syntax has during the last years been mainly replaced by the tidy-principles pushed by R.Studio and implemented in their ´tidyverse´ ecosystem.\n",
    "\n",
    "We will not use too much base-R syntax in our time together. However, it is still important to know the basics, since there are always here and there situation where you just cannot avoid it\n",
    "\n",
    "## Basics\n",
    "\n",
    "### Assignments\n",
    "\n",
    "You can assign a value to an object using `assign()`,  `<-`, or `=`.\n"
   ]
  },
  {
   "cell_type": "code",
   "execution_count": null,
   "metadata": {
    "autoscroll": false,
    "collapsed": true
   },
   "outputs": [],
   "source": [
    "x <- 3         # Assignment\n",
    "x              # Evaluate the expression and print result\n",
    "\n",
    "y <- 4         # Assignment\n",
    "y + 5          # Evaluation, y remains 4\n",
    "\n",
    "z <- x + 17*y  # Assignment\n",
    "z              # Evaluation\n",
    "\n",
    "rm(z)          # Remove z: deletes the object.\n",
    "# z             # Error!"
   ]
  },
  {
   "cell_type": "markdown",
   "metadata": {},
   "source": [
    "\n",
    "\n",
    "### Value comparisons\n",
    "\n",
    "Comparisons return boolean values: TRUE or FALSE (often abbreviated to `T` and `F`)\n"
   ]
  },
  {
   "cell_type": "code",
   "execution_count": null,
   "metadata": {
    "autoscroll": false,
    "collapsed": true
   },
   "outputs": [],
   "source": [
    "2==2  # Equality\n",
    "2!=2  # Inequality\n",
    "x <= y # less than or equal: \"<\", \">\", and \">=\" also work"
   ]
  },
  {
   "cell_type": "markdown",
   "metadata": {},
   "source": [
    "\n",
    "\n",
    "### Special constants: `NA`, `NULL`, `Inf`, `-Inf`, `NaN`\n",
    "\n",
    "`NA` indicates missing or undefined data\n"
   ]
  },
  {
   "cell_type": "code",
   "execution_count": null,
   "metadata": {
    "autoscroll": false,
    "collapsed": true
   },
   "outputs": [],
   "source": [
    "5 + NA      # When used in an expression, the result is generally NA\n",
    "is.na(5+NA) # Check if missing\n",
    "\n",
    "mean(c(1, 2, NA, 4, 5)) # many functions requiring numeric vectors output  when one is included\n",
    "mean(c(1, 2, NA, 4, 5), na.rm = TRUE) # Not if we provide the right argument to ignore them"
   ]
  },
  {
   "cell_type": "markdown",
   "metadata": {},
   "source": [
    "\n",
    "`NULL` indicates an empty object, e.g. a null/empty list\n"
   ]
  },
  {
   "cell_type": "code",
   "execution_count": null,
   "metadata": {
    "autoscroll": false,
    "collapsed": true
   },
   "outputs": [],
   "source": [
    "10 + NULL     # use returns an empty object (length zero)\n",
    "is.null(NULL) # check if NULL"
   ]
  },
  {
   "cell_type": "markdown",
   "metadata": {},
   "source": [
    "\n",
    "`Inf` and `-Inf` represent positive and negative infinity. They can be returned by  mathematical operations like division of a number by zero.\n"
   ]
  },
  {
   "cell_type": "code",
   "execution_count": null,
   "metadata": {
    "autoscroll": false,
    "collapsed": true
   },
   "outputs": [],
   "source": [
    "5/0\n",
    "is.finite(5/0) # Check if a number is finite\n",
    "is.infinite(5/0) # Check if a number is infinite"
   ]
  },
  {
   "cell_type": "markdown",
   "metadata": {},
   "source": [
    "\n",
    "`NaN` (Not a Number) - the result of an operation that cannot be reasonably defined\n"
   ]
  },
  {
   "cell_type": "code",
   "execution_count": null,
   "metadata": {
    "autoscroll": false,
    "collapsed": true
   },
   "outputs": [],
   "source": [
    "0/0\n",
    "is.nan(0/0)"
   ]
  },
  {
   "cell_type": "markdown",
   "metadata": {},
   "source": [
    "\n",
    "## Object classes\n",
    "\n",
    "### Vectors\n",
    "\n"
   ]
  },
  {
   "cell_type": "code",
   "execution_count": null,
   "metadata": {
    "autoscroll": false,
    "collapsed": true
   },
   "outputs": [],
   "source": [
    "v1 <- c(1, 5, 11, 33)       # Numeric vector, length 4\n",
    "v1\n",
    "\n",
    "v2 <- c(\"hello\",\"world\")    # Character vector, length 2 (a vector of strings)\n",
    "v2\n",
    "\n",
    "v3 <- c(TRUE, TRUE, FALSE)  # Logical vector, same as c(T, T, F)\n",
    "v3"
   ]
  },
  {
   "cell_type": "markdown",
   "metadata": {},
   "source": [
    "\n",
    "Combining different types of elements in one vector will coerce the elements  to the least restrictive type:\n"
   ]
  },
  {
   "cell_type": "code",
   "execution_count": null,
   "metadata": {
    "autoscroll": false,
    "collapsed": true
   },
   "outputs": [],
   "source": [
    "v4 <- c(v1,v2,v3,\"boo\") \t# All elements turn into strings\n",
    "v4"
   ]
  },
  {
   "cell_type": "markdown",
   "metadata": {},
   "source": [
    "\n",
    "Element-wise operations:\n"
   ]
  },
  {
   "cell_type": "code",
   "execution_count": null,
   "metadata": {
    "autoscroll": false,
    "collapsed": true
   },
   "outputs": [],
   "source": [
    "v1 + v3      # Element-wise addition (reminder: TRUE counts as 1, FALSE as 0)\n",
    "v1 + 1       # Add 1 to each element\n",
    "v1 * 2       # Multiply EACH element by 2 (not like real vector multiplication)\n",
    "v1 + c(1,7)  # (1,7) is a vector of different length... what happens here?"
   ]
  },
  {
   "cell_type": "markdown",
   "metadata": {},
   "source": [
    "\n",
    "Mathematical operations:\n"
   ]
  },
  {
   "cell_type": "code",
   "execution_count": null,
   "metadata": {
    "autoscroll": false,
    "collapsed": true
   },
   "outputs": [],
   "source": [
    "sum(v1)      # The sum of all elements\n",
    "mean(v1)     # The average of all elements\n",
    "sd(v1)       # The standard deviation\n",
    "cor(v1,v1*5) # Correlation between v1 and v1*5"
   ]
  },
  {
   "cell_type": "markdown",
   "metadata": {},
   "source": [
    "\n",
    "Logical operations:\n"
   ]
  },
  {
   "cell_type": "code",
   "execution_count": null,
   "metadata": {
    "autoscroll": false,
    "collapsed": true
   },
   "outputs": [],
   "source": [
    "v1 > 2       # Each element is compared to 2, returns logical vector\n",
    "v1==v2       # Are corresponding elements equivalent, returns logical vector.\n",
    "v1!=v2       # Are corresponding elements *not* equivalent? Same as !(v1==v2)\n",
    "(v1>2) | (v2>0)   # | is the boolean OR, returns a vector.\n",
    "(v1>2) & (v2>0)   # & is the boolean AND, returns a vector.\n",
    "(v1>2) || (v2>0)  # || is the boolean OR, returns a single value (if it is true at least once)\n",
    "(v1>2) && (v2>0)  # && is the boolean AND, returns a single value (if it is true at least once)"
   ]
  },
  {
   "cell_type": "markdown",
   "metadata": {},
   "source": [
    "\n",
    "Adressing vector elements:\n"
   ]
  },
  {
   "cell_type": "code",
   "execution_count": null,
   "metadata": {
    "autoscroll": false,
    "collapsed": true
   },
   "outputs": [],
   "source": [
    "v1[3]             # third element of v1\n",
    "v1[2:4]           # elements 2, to 4 of v1\n",
    "v1[c(1,3)]        # elements 1 and 3 - note that your indexes are a vector\n",
    "v1[c(T,T,F,F,F)]  # elements 1 and 2 - only the ones that are TRUE\n",
    "v1[v1>3]          # v1>3 is a logical vector TRUE for elements >3"
   ]
  },
  {
   "cell_type": "markdown",
   "metadata": {},
   "source": [
    "\n",
    "**NOTE:** If you are used to languages indexing from 0 (eg. Python), `R` will surprise you by indexing from 1.\n",
    "\n",
    "To add more elements to a vector, simply assign them values.\n"
   ]
  },
  {
   "cell_type": "code",
   "execution_count": null,
   "metadata": {
    "autoscroll": false,
    "collapsed": true
   },
   "outputs": [],
   "source": [
    "v1[6:10] <- 6:10\n",
    "v1"
   ]
  },
  {
   "cell_type": "markdown",
   "metadata": {},
   "source": [
    "\n",
    "We can also directly assign the vector a length:\n"
   ]
  },
  {
   "cell_type": "code",
   "execution_count": null,
   "metadata": {
    "autoscroll": false,
    "collapsed": true
   },
   "outputs": [],
   "source": [
    "length(v1) <- 15 # the last 5 elements are added as missing data: NA\n",
    "v1"
   ]
  },
  {
   "cell_type": "markdown",
   "metadata": {},
   "source": [
    "\n",
    "### Factors\n",
    "\n",
    "Factors are used to store categorical data.\n"
   ]
  },
  {
   "cell_type": "code",
   "execution_count": null,
   "metadata": {
    "autoscroll": false,
    "collapsed": true
   },
   "outputs": [],
   "source": [
    "eye.col.v <- c(\"brown\", \"green\", \"brown\", \"blue\", \"blue\", \"blue\")         #vector\n",
    "eye.col.f <- factor(c(\"brown\", \"green\", \"brown\", \"blue\", \"blue\", \"blue\")) #factor\n",
    "eye.col.v\n",
    "eye.col.f"
   ]
  },
  {
   "cell_type": "markdown",
   "metadata": {},
   "source": [
    "\n",
    "`R` will identify the different levels of the factor - e.g. all distinct values. The data is stored internally as integers - each number corresponding to a factor level.\n",
    "\n"
   ]
  },
  {
   "cell_type": "code",
   "execution_count": null,
   "metadata": {
    "autoscroll": false,
    "collapsed": true
   },
   "outputs": [],
   "source": [
    "levels(eye.col.f)  # The levels (distinct values) of the factor (categorical variable)\n",
    "\n",
    "as.numeric(eye.col.f)  # The factor as numeric values: 1 is  blue, 2 is brown, 3 is green\n",
    "as.numeric(eye.col.v)  # The character vector, however, can not be coerced to numeric\n",
    "\n",
    "as.character(eye.col.f)\n",
    "as.character(eye.col.v)"
   ]
  },
  {
   "cell_type": "markdown",
   "metadata": {},
   "source": [
    "\n",
    "\n",
    "### Matrces & Arrays\n",
    "\n",
    "A matrix is a vector with dimensions:\n"
   ]
  },
  {
   "cell_type": "code",
   "execution_count": null,
   "metadata": {
    "autoscroll": false,
    "collapsed": true
   },
   "outputs": [],
   "source": [
    "m <- rep(1, 20)   # A vector of 20 elements, all 1\n",
    "dim(m) <- c(5,4)  # Dimensions set to 5 & 4, so m is now a 5x4 matrix\n",
    "m"
   ]
  },
  {
   "cell_type": "markdown",
   "metadata": {},
   "source": [
    "\n",
    "Create a matrix using `matrix()`:\n"
   ]
  },
  {
   "cell_type": "code",
   "execution_count": null,
   "metadata": {
    "autoscroll": false,
    "collapsed": true
   },
   "outputs": [],
   "source": [
    "m <- matrix(data=1, nrow=5, ncol=4)  # same matrix as above, 5x4, full of 1s\n",
    "m <- matrix(1,5,4) \t\t\t             # same matrix as above (lazy style)\n",
    "dim(m)                                # What are the dimensions of m?\n",
    "m"
   ]
  },
  {
   "cell_type": "markdown",
   "metadata": {},
   "source": [
    "\n",
    "Create a matrix by combining vectors:\n"
   ]
  },
  {
   "cell_type": "code",
   "execution_count": null,
   "metadata": {
    "autoscroll": false,
    "collapsed": true
   },
   "outputs": [],
   "source": [
    "m <- cbind(1:5, 5:1, 5:9)  # Bind 3 vectors as columns, 5x3 matrix\n",
    "m <- rbind(1:5, 5:1, 5:9)  # Bind 3 vectors as rows, 3x5 matrix\n",
    "m <- matrix(1:10,10,10)\n",
    "m"
   ]
  },
  {
   "cell_type": "markdown",
   "metadata": {},
   "source": [
    "\n",
    "Select matrix elements:\n"
   ]
  },
  {
   "cell_type": "code",
   "execution_count": null,
   "metadata": {
    "autoscroll": false,
    "collapsed": true
   },
   "outputs": [],
   "source": [
    "m[2,3]  # Matrix m, row 2, column 3 - a single cell\n",
    "m[2,]   # The whole second row of m as a vector\n",
    "m[,2]   # The whole second column of m as a vector\n",
    "m[1:2,4:6] # submatrix: rows 1 and 2, columns 4, 5 and 6\n",
    "m[-1,]     # all rows *except* the first one"
   ]
  },
  {
   "cell_type": "markdown",
   "metadata": {},
   "source": [
    "\n",
    "Conditional operations\n"
   ]
  },
  {
   "cell_type": "code",
   "execution_count": null,
   "metadata": {
    "autoscroll": false,
    "collapsed": true
   },
   "outputs": [],
   "source": [
    "m[1,] == m[,1]  # Are elements in row 1 equivalent to corresponding elements from column 1?\n",
    "m > 3           # A logical matrix: TRUE for m elements >3, FALSE otherwise\n",
    "m[m > 3]        # Selects only TRUE elements - that is ones greater than 3"
   ]
  },
  {
   "cell_type": "markdown",
   "metadata": {},
   "source": [
    "\n",
    "Other matrix manipulation\n"
   ]
  },
  {
   "cell_type": "code",
   "execution_count": null,
   "metadata": {
    "autoscroll": false,
    "collapsed": true
   },
   "outputs": [],
   "source": [
    "t(m)          # Transpose m\n",
    "m %*% t(m)    # %*% does matrix multiplication\n",
    "m * m         # * does element-wise multiplication"
   ]
  },
  {
   "cell_type": "markdown",
   "metadata": {},
   "source": [
    "\n",
    "\n",
    "### Arrays: more than 2 dimensions\n",
    "\n",
    "Created with the `array()` function:\n"
   ]
  },
  {
   "cell_type": "code",
   "execution_count": null,
   "metadata": {
    "autoscroll": false,
    "collapsed": true
   },
   "outputs": [],
   "source": [
    "a <- array(data=1:18,dim=c(3,3,2)) # 3d with dimensions 3x3x2\n",
    "a <- array(1:18,c(3,3,2))          # the same array\n",
    "a"
   ]
  },
  {
   "cell_type": "markdown",
   "metadata": {},
   "source": [
    "\n",
    "Since arrays have 3 dimensions, also a 3rd element can be used for slicing&dicinhg.\n"
   ]
  },
  {
   "cell_type": "code",
   "execution_count": null,
   "metadata": {
    "autoscroll": false,
    "collapsed": true
   },
   "outputs": [],
   "source": [
    "a[1,3,2]"
   ]
  },
  {
   "cell_type": "markdown",
   "metadata": {},
   "source": [
    "\n",
    "\n",
    "### Lists\n",
    "\n",
    "Lists are collections of objects (e.g. of strings, vectors, matrices, other lists, etc.)\n"
   ]
  },
  {
   "cell_type": "code",
   "execution_count": null,
   "metadata": {
    "autoscroll": false,
    "collapsed": true
   },
   "outputs": [],
   "source": [
    "l1 <- list(boo=v1,foo=v2,moo=v3,zoo=\"Animals!\")  # A list with four components\n",
    "l2 <- list(v1,v2,v3,\"Animals!\")\n",
    "\n",
    "l3 <- list()\n",
    "l4 <- NULL\n",
    ""
   ]
  },
  {
   "cell_type": "code",
   "execution_count": null,
   "metadata": {
    "autoscroll": false,
    "collapsed": true
   },
   "outputs": [],
   "source": [
    "l1[\"boo\"]      # Access boo: this returns a list.\n",
    "l1[[\"boo\"]]    # Access boo: this returns the numeric vector\n",
    "l1[[1]]        # Returns the first component of the list, equivalent to above.\n",
    "l1[[1]][2]     # Acess the second element in the first list\n",
    "l1$boo         # Named elements can be accessed using the $ operator - equivalent to [[]]"
   ]
  },
  {
   "cell_type": "markdown",
   "metadata": {},
   "source": [
    "\n",
    "Add more elements to a list:\n"
   ]
  },
  {
   "cell_type": "code",
   "execution_count": null,
   "metadata": {
    "autoscroll": false,
    "collapsed": true
   },
   "outputs": [],
   "source": [
    "l3[[1]] <- 11 # add an element to the empty list l3\n",
    "l4[[3]] <- c(22, 23) # add a vector as element 3 in the empty list l4.\n",
    "                     # Since we added element 3, elements 1 & 2 will be generated and empty (NULL)\n",
    "l1[[5]] <- \"More elements!\" # The list l1 had 4 elements, we're adding a 5th here.\n",
    "l1[[8]] <- 1:11 # We added an 8th element, but not 6th or 7th. Those will be created empty (NULL)\n",
    "l1$Something <- \"A thing\"  # Adds a ninth element - \"A thing\", named \"Something\""
   ]
  },
  {
   "cell_type": "markdown",
   "metadata": {},
   "source": [
    "\n",
    "\n",
    "### Data Frames\n",
    "The data frame is a special kind of list used for storing dataset tables. Think of rows as cases, columns as variables. Each column is a vector or factor.\n",
    "\n",
    "Note: While base `R` uses the `data.frame`, we later when working with `tidyverse` use the `tibble` instead, which is the same but modifies some annoying behaviors of the original data type (eg. no default interpretations of strings as factors, no `rownames`. More on that later).\n",
    "\n",
    "Creating a dataframe:\n"
   ]
  },
  {
   "cell_type": "code",
   "execution_count": null,
   "metadata": {
    "autoscroll": false,
    "collapsed": true
   },
   "outputs": [],
   "source": [
    "dfr1 <- data.frame( ID=1:4,\n",
    "                    FirstName=c(\"Jesper\",\"Jonas\",\"Pernille\",\"Helle\"),\n",
    "                    Female=c(F,F,T,T),\n",
    "                    Age=c(22,33,44,55) )\n",
    "\n",
    "dfr1$FirstName   # Access the second column of dfr1."
   ]
  },
  {
   "cell_type": "markdown",
   "metadata": {},
   "source": [
    "\n",
    "**Notice** that `R` thinks this is a categorical variable  and so it's treating it like a factor, not a character vector. You can tell `R` you don't like factors from the start using `stringsAsFactors=FALSE`. I find that annoying. The `tibble` (introduced later) does not do that.\n",
    "\n"
   ]
  },
  {
   "cell_type": "code",
   "execution_count": null,
   "metadata": {
    "autoscroll": false,
    "collapsed": true
   },
   "outputs": [],
   "source": [
    "dfr2 <- data.frame(FirstName=c(\"John\",\"Jim\",\"Jane\",\"Jill\"), stringsAsFactors=FALSE)\n",
    "dfr2$FirstName   # Success: not a factor."
   ]
  },
  {
   "cell_type": "markdown",
   "metadata": {},
   "source": [
    "\n",
    "Access elements of the data frame. Notation is `dfr[row, column]` Rows can be acessed by number or condition, columns by number or name. Alternatively, columns can be acessed by `dfr$column`\n"
   ]
  },
  {
   "cell_type": "code",
   "execution_count": null,
   "metadata": {
    "autoscroll": false,
    "collapsed": true
   },
   "outputs": [],
   "source": [
    "dfr1[1,]   # First row, all columns\n",
    "dfr1[,1]   # First column, all rows\n",
    "dfr1$Age   # Age column, all rows\n",
    "dfr1[1:2,3:4] # Rows 1 and 2, columns 3 and 4 - the gender and age of John & Jim\n",
    "dfr1[c(1,3),] # Rows 1 and 3, all columns"
   ]
  },
  {
   "cell_type": "markdown",
   "metadata": {},
   "source": [
    "\n",
    "Find the names of everyone over the age of 30 in the data\n"
   ]
  },
  {
   "cell_type": "code",
   "execution_count": null,
   "metadata": {
    "autoscroll": false,
    "collapsed": true
   },
   "outputs": [],
   "source": [
    "dfr1[dfr1$Age>30,2]"
   ]
  },
  {
   "cell_type": "markdown",
   "metadata": {},
   "source": [
    "\n",
    "Find the average age of all females in the data:\n"
   ]
  },
  {
   "cell_type": "code",
   "execution_count": null,
   "metadata": {
    "autoscroll": false,
    "collapsed": true
   },
   "outputs": [],
   "source": [
    "mean (dfr1[dfr1$Female==TRUE,4])"
   ]
  },
  {
   "cell_type": "markdown",
   "metadata": {},
   "source": [
    "\n",
    "\n",
    "## Flow Control (loops & friends)\n",
    "Loops are powerful little helpers to do the same operation iterating over a number of items.\n",
    "\n",
    "If statements: `if (condition) expr1 else expr2`\n"
   ]
  },
  {
   "cell_type": "code",
   "execution_count": null,
   "metadata": {
    "autoscroll": false,
    "collapsed": true
   },
   "outputs": [],
   "source": [
    "x <- 5; y <- 10\n",
    "if (x==0) y <- 0 else y <- y/x\n",
    "y"
   ]
  },
  {
   "cell_type": "markdown",
   "metadata": {},
   "source": [
    "\n",
    "for loops: `for (variable in sequence) expr`\n"
   ]
  },
  {
   "cell_type": "code",
   "execution_count": null,
   "metadata": {
    "autoscroll": false,
    "collapsed": true
   },
   "outputs": [],
   "source": [
    "for (i in 1:x)  { print(paste(\"OMG, i just counted to\", i)) }"
   ]
  },
  {
   "cell_type": "markdown",
   "metadata": {},
   "source": [
    "\n",
    "While loop: `while (condintion) expr`\n"
   ]
  },
  {
   "cell_type": "code",
   "execution_count": null,
   "metadata": {
    "autoscroll": false,
    "collapsed": true
   },
   "outputs": [],
   "source": [
    "while (x > 0) {print(x); x <- x-1;}"
   ]
  },
  {
   "cell_type": "markdown",
   "metadata": {},
   "source": [
    "\n",
    "Repeat loop: `repeat expr, use break to exit the loop`\n"
   ]
  },
  {
   "cell_type": "code",
   "execution_count": null,
   "metadata": {
    "autoscroll": false,
    "collapsed": true
   },
   "outputs": [],
   "source": [
    "repeat { print(x); x <- x+1; if (x>7) break}"
   ]
  },
  {
   "cell_type": "markdown",
   "metadata": {},
   "source": [
    "\n",
    "## R troubleshooting\n",
    "\n",
    "While I generate many (and often very creative) errors in R, there are three simple things that will most often go wrong for me. Those include:\n",
    "\n",
    "* Capitalization. R is case sensitive - a graph vertex named \"Jack\" is not the same as one named \"jack\". The function `rowSums` won't work as \"rowsums\" or \"RowSums\".\n",
    "* Object class. While many functions are willing to take anything you throw at them, some will still surprisingly require character vector or a factor instead of a numeric vector, or a matrix instead of a data frame. Functions will also occasionally return results in an unexpected format.\n",
    "* Package namespaces. Occasionally problems will arise when different packages contain functions with the same name. R may warn you about this by saying something like \"The following object(s) are masked from 'package:igraph'\" as you load a package. One way to deal with this is to call functions from a package explicitly using '::'. For instance, if function 'blah' is present in packages A and B, you can call A::blah\n",
    "\n"
   ]
  },
  {
   "cell_type": "code",
   "execution_count": null,
   "metadata": {
    "autoscroll": false,
    "collapsed": true
   },
   "outputs": [],
   "source": [
    "# install.packages('dplyr')\n",
    "# library(dplyr)          # load a package\n",
    "# detach(package:dplyr)   # detach a package"
   ]
  },
  {
   "cell_type": "code",
   "execution_count": null,
   "metadata": {
    "autoscroll": false,
    "collapsed": true
   },
   "outputs": [],
   "source": [
    "dplyr::select(dfr1, FirstName) # packagename::functionname   lets you access the namespace from packages not loaded (but installed)"
   ]
  },
  {
   "cell_type": "markdown",
   "metadata": {},
   "source": [
    "\n",
    "For more advanced troubleshooting, check out `try()`, `tryCatch()`, and `debug()`.\n"
   ]
  },
  {
   "cell_type": "code",
   "execution_count": null,
   "metadata": {
    "autoscroll": false,
    "collapsed": true
   },
   "outputs": [],
   "source": [
    "?tryCatch"
   ]
  },
  {
   "cell_type": "markdown",
   "metadata": {},
   "source": [
    "\n",
    "Generally, just using `?functionyouwonderabout` often solves problems. There you can review the functions arguments, inputs, outputs, syntax etc.\n",
    "\n",
    "# R 2.0: The Tidyverse\n",
    "\n",
    "## What is it all about?\n",
    "Base `R` comes with quite some functionality for slicing and dicing data, there also exists a myriad specialized packages for more tricky data manipulation. To read others' code and example as well as to perform some special operations, you all should be able to use standard `R` syntax.\n",
    "\n",
    "However, the factors, the `[row, column]` syntax anhd so forth are not very comfortable and intuitive. Further, for more tricky operation such as certain aggregations etc., one has to rely on a variety of packages, which often come with an own syntax.\n",
    "\n",
    "The good news is: The efforts of a small set of key-developers (foremost [Hadley Wickham](http://hadley.nz/)) has let to the development of the  [`tidyverse`](https://www.tidyverse.org/), an ecosystem of `R` packages particularly designed for data science applications. All packages share an underlying design philosophy, common API, grammar, and data structures.\n",
    "\n",
    "Among the most amazing contributions here is [`dplyr`](https://dplyr.tidyverse.org/), a grammar of data manipulation, providing a consistent set of verbs that help you solve the most common data manipulation challenges. I use `dplyr` for 90% of my data-manipulation tasks for the following reasons:\n",
    "\n",
    "* All the underlying code is runs optimized in `C++`, making it faster than most base `R`\n",
    "* It consistently unifies the grammar of data manipulation to a small set of operations, which can be flexibly combined to master almost every task\n",
    "* It is designed to work neathly with the `%>%` pipe-operator of [magrittr](hhttps://magrittr.tidyverse.org/) (more on that later)\n",
    "* its syntax is very similar to the logic of `SQL` and other data-management languages\n",
    "* It expanded far beoyond its original 5 verbs, and now replaces most base R commands with optimized, clever, and high-performance alternatives\n",
    "* It works neathly with many databases, such as `SQL` (with addon packages `DBI` and `dbplyr`)\n",
    "\n",
    "I will not touch on all packages there, but the complete `tidyverse` covers almost all issues of data manipulation. They all operate under the same logic, are fast, and usually your best choice for almost any given problem. Particularly `dplyr` is enourmeously powerfull, and has a lot more functions than the basics I cover here. So, for every given problem, your first question (to yourself or [stackoverflow](https://stackoverflow.com/)) should be:\n",
    "\n",
    "1: Is there a way to solve my problem in `dplyr`?\n",
    "2: If not, is there another `tidyverse` package dedicated to this problem?\n",
    "\n",
    "For the sake of illustration, I will load every package of the `tidyverse` one-by-one when we need it. However, normally I just load `library(tidyverse)` all at once, since I need a lot of these packages often anyhow\n",
    "\n"
   ]
  },
  {
   "cell_type": "code",
   "execution_count": null,
   "metadata": {
    "autoscroll": false,
    "collapsed": true
   },
   "outputs": [],
   "source": [
    "library(tidyverse) # Collection of all the good stuff like dplyr, ggplot2 ect.\n",
    "library(magrittr) # For extra-piping operators (eg. %<>%)"
   ]
  },
  {
   "cell_type": "markdown",
   "metadata": {},
   "source": [
    "\n",
    "## Tibbles\n",
    "\n",
    "Tibbles are the `tidyverse` version of the traditional dataframe. They work in exactly the same way, only with some small differences, which are usually from a data science perspctive seen as an improvement:\n",
    "\n",
    "1. Strings ae by default not recoded as factors\n",
    "2. Rownames are dropped\n",
    "3. Default print delivers  more convenient overview.\n",
    "\n",
    "They can be created in 3 different ways.\n",
    "\n",
    "1. Creating them from scratch with `ibble()`\n",
    "3. Using explicitly the `as_tibble()` function on a table\n",
    "3. When applying and `dplyr` function on a dataframe, it will automatically be converted to a tibble.\n",
    "\n"
   ]
  },
  {
   "cell_type": "code",
   "execution_count": null,
   "metadata": {
    "autoscroll": false,
    "collapsed": true
   },
   "outputs": [],
   "source": [
    "head(iris) # a dataframe"
   ]
  },
  {
   "cell_type": "code",
   "execution_count": null,
   "metadata": {
    "autoscroll": false,
    "collapsed": true
   },
   "outputs": [],
   "source": [
    "head(as_tibble(iris))"
   ]
  },
  {
   "cell_type": "markdown",
   "metadata": {},
   "source": [
    "\n",
    "It is usually the prefered format for data science projects in R.\n",
    "\n",
    "## Piping\n",
    "\n",
    "in traditional `R` syntax, data-manipulations are carried out one by one. For example, one would first assign a new variable `x$numbers <- 1:5`, then maybe manipulate it `x$numbers <- x$numbers * 2`, and subset it `x <- x[x$numbers > 4]`. `dplyr` makes use of `margrittr`'s pipes, written like `%>%`.\n",
    "\n",
    "A pipe means take the output of it's left-hand side and insert it as first input in the function on the right-hand side. Accordingly, all `dplyr` functions follow the syntax that their first input is always the data to be manipulated. Therefore, they can all be \"piped\".\n",
    "\n"
   ]
  },
  {
   "cell_type": "code",
   "execution_count": null,
   "metadata": {
    "autoscroll": false,
    "collapsed": true
   },
   "outputs": [],
   "source": [
    "x <- tibble(numbers = 1:5)"
   ]
  },
  {
   "cell_type": "markdown",
   "metadata": {},
   "source": [
    "\n",
    "Lets say we want to multiply all number with 2, and THEN subset the data for observations with a number larger than 4. We could do the following\n",
    "\n"
   ]
  },
  {
   "cell_type": "code",
   "execution_count": null,
   "metadata": {
    "autoscroll": false,
    "collapsed": true
   },
   "outputs": [],
   "source": [
    "y <- x\n",
    "y[,'numbers'] <- y[,'numbers'] * 2\n",
    "y <- y[y['numbers'] > 4, ]\n",
    "y"
   ]
  },
  {
   "cell_type": "markdown",
   "metadata": {},
   "source": [
    "\n",
    "For example, we could pipe as follows (don't worry about the other syntax yet):\n",
    "\n"
   ]
  },
  {
   "cell_type": "code",
   "execution_count": null,
   "metadata": {
    "autoscroll": false,
    "collapsed": true
   },
   "outputs": [],
   "source": [
    "x %>%\n",
    "  mutate(numbers = numbers * 2) %>%\n",
    "  filter(numbers > 4)"
   ]
  },
  {
   "cell_type": "markdown",
   "metadata": {},
   "source": [
    "\n",
    "It basically reads like:\n",
    "\n",
    "* Create a dataframe (to be precise, a `tibble`) with the variable \"numbers\" and assign the values 1:5.\n",
    "* THEN multiply them with 2.\n",
    ": THEN subset the dataframe to only rows with a nuimber value higher than 4.\n",
    "\n",
    "It first looks not so intuitive, but it will become your second nature. Using pipes facilitates fast, reproducible and easily readable coding practices, and all of you are encouraged to go on with that.\n",
    "\n",
    "**Note:** `%>%` pipes do not autometically assign their output to the left-hand side object, meaning the original dataset will not per se be overwritten. To do that, there are two ways:\n",
    "\n",
    "1: Initially, assign the output to the original data with `<-`\n",
    "2: Initially, use `margrittr`'s `%<>%` command, meaning: Assign and pipe.\n",
    "\n"
   ]
  },
  {
   "cell_type": "code",
   "execution_count": null,
   "metadata": {
    "autoscroll": false,
    "collapsed": true
   },
   "outputs": [],
   "source": [
    "# This will create an output, but not change x\n",
    "x %>%\n",
    "  filter(numbers > 5)\n",
    "\n",
    "# This will re-assign x\n",
    "x <- x %>%\n",
    "  filter(numbers > 5)\n",
    "# is equivalent to\n",
    "x %<>%\n",
    "  filter(numbers > 5)"
   ]
  },
  {
   "cell_type": "markdown",
   "metadata": {},
   "source": [
    "\n",
    "In conclusion: The pipe basically passes on dataframe between functions in the following way:\n"
   ]
  },
  {
   "cell_type": "code",
   "execution_count": null,
   "metadata": {
    "Rmd_chunk_options": "eval = FALSE, warning = FALSE",
    "autoscroll": false,
    "collapsed": true
   },
   "outputs": [],
   "source": [
    "# Only pseudo code here, does not run\n",
    "x %>% fun()\n",
    "# Is equivalent to\n",
    "fun(x)\n",
    "\n",
    "# While\n",
    "x %<>% fun()\n",
    "# Is equivalent to\n",
    "x <- fun(x)"
   ]
  },
  {
   "cell_type": "markdown",
   "metadata": {},
   "source": [
    "\n",
    "Piping also provides better overview over the flow of actions as compared to nested functions\n",
    "\n"
   ]
  },
  {
   "cell_type": "code",
   "execution_count": null,
   "metadata": {
    "Rmd_chunk_options": "eval = FALSE",
    "autoscroll": false,
    "collapsed": true
   },
   "outputs": [],
   "source": [
    "# Nested functions\n",
    "went_to_bed(had_dinner(programmed_some_r(had_lunch(programmed_some_r(had_brekfast(got_up(day)))))))\n",
    "\n",
    "# vs pipes\n",
    "day %>%\n",
    "  got_up() %>%\n",
    "  had_breakfast() %>%\n",
    "  programmed_some_r() %>%\n",
    "  had_lunch() %>%\n",
    "  programmed_some_r() %>%\n",
    "  had_dinner() %>%\n",
    "  went_to_bed()"
   ]
  },
  {
   "cell_type": "markdown",
   "metadata": {},
   "source": [
    "\n",
    "\n",
    "## Handling special data formats\n",
    "\n",
    "It is not part of this introductory lecture, but you soon might encounter that you have to deal with 2 common formats in some way, which are date-times (time-codes) and strings (text). When that point comes, just check the following to get started (and if necessary branch out to further sources suggested):\n",
    "\n",
    "* **Strings:** R for Data Science (Grolemund & Wickham) [Chapter 14](https://r4ds.had.co.nz/strings.html)\n",
    "* **DateTimes:** R for Data Science (Grolemund & Wickham) [Chapter 16](https://r4ds.had.co.nz/dates-and-times.html)\n",
    "\n",
    "\n",
    "# Adittional Infos\n",
    "\n",
    "## R, notebooks & markdown\n",
    "\n",
    "While many people prefer to work with `R` scripts, computtional notebooks are especially in the data science community more popular for `R` users. This is mainly don in the `Rmarkdown` format, which combines markdown markup an notation with executable code and result outputs. All the petty html notebooks i create fo you are also done in that way. For further information and to get started, check:\n",
    "\n",
    "* Basics: R for Data Science (Grolemund & Wickham) [Chapter 27](https://r4ds.had.co.nz/r-markdown.html)\n",
    "* Details: [R Markdown: The Definitive Guide (Xie, Allaire & Grolemund)](https://bookdown.org/yihui/rmarkdown/)\n",
    "\n",
    "\n",
    "## R, google colab & co.\n",
    "\n",
    "Google colab does not officially support `R` kernels. However, there is a little trick how to make `R` run with colab.\n",
    "\n",
    "If you want to start from scratch, do the following:\n",
    "\n",
    "* You can simply run the `demo.ipynb` from [IRkernel Github](https://colab.research.google.com/github/IRkernel/IRkernel/blob/master/example-notebooks/Demo.ipynb)\n",
    "* Make changes and then save a copy to your Google Drive.\n",
    "* You can also see all 3 example notebooks [here](https://github.com/IRkernel/IRkernel/tree/master/example-notebooks).\n",
    "\n",
    "If you already have an R-Markdown notebook:\n",
    "\n",
    "* use the [IRkernel](https://github.com/IRkernel/IRkernel) to create a `.ipynb` out of your `.rmd`\n",
    "* If you dont want to do it locally, use [this colab notebook](https://colab.research.google.com/github/SDS-AAU/SDS-master/blob/master/00_notebooks/converter_rmd_to_jupyter.ipynb) instead. Just upload the `.rmd`, run the code (alter the filename), and download the resulting `.ipynb`. This now can be uploaded to colab.\n",
    "\n",
    "# Endnotes\n",
    "\n",
    "### References\n",
    "\n",
    "### Further infos\n",
    "\n",
    "### Session Info\n"
   ]
  },
  {
   "cell_type": "code",
   "execution_count": null,
   "metadata": {
    "autoscroll": false,
    "collapsed": true
   },
   "outputs": [],
   "source": [
    "sessionInfo()"
   ]
  }
 ],
 "metadata": {
  "Rmd_header": {
   "author": "Daniel S. Hain (dsh@business.aau.dk)",
   "date": "Updated `r format(Sys.time(), '%B %d, %Y')`",
   "output": {
    "html_notebook": {
     "code_folding": "show",
     "df_print": "paged",
     "theme": "flatly",
     "toc": true,
     "toc_depth": 2,
     "toc_float": {
      "collapsed": false
     }
    }
   },
   "title": "Data Science BAsics: R basics"
  },
  "kernelspec": {
   "display_name": "R",
   "language": "R",
   "name": "ir"
  },
  "language_info": {
   "codemirror_mode": "r",
   "file_extension": ".r",
   "mimetype": "text/x-r-source",
   "name": "R",
   "pygments_lexer": "r"
  }
 },
 "nbformat": 4,
 "nbformat_minor": 0
}
