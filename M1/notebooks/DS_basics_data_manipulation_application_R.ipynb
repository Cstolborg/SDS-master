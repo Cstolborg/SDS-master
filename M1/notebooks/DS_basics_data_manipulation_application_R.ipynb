{
 "cells": [
  {
   "cell_type": "code",
   "execution_count": null,
   "metadata": {
    "Rmd_chunk_options": "setup, include=FALSE",
    "autoscroll": false,
    "collapsed": true
   },
   "outputs": [],
   "source": [
    "# Knitr options\n",
    "### Generic preamble\n",
    "Sys.setenv(LANG = \"en\") # For english language\n",
    "options(scipen = 5) # To deactivate annoying scientific number notation\n",
    "\n",
    "# rm(list=ls()); graphics.off() # get rid of everything in the workspace\n",
    "if (!require(\"knitr\")) install.packages(\"knitr\"); library(knitr) # For display of the markdown\n",
    "\n",
    "### Knitr options\n",
    "knitr::opts_chunk$set(warning=FALSE,\n",
    "                     message=FALSE,\n",
    "                     fig.align=\"center\"\n",
    "                     )"
   ]
  },
  {
   "cell_type": "code",
   "execution_count": null,
   "metadata": {
    "autoscroll": false,
    "collapsed": true
   },
   "outputs": [],
   "source": [
    "### Load packages\n",
    "library(tidyverse) # Collection of all the good stuff like dplyr, ggplot2 ect.\n",
    "library(magrittr) # For extra-piping operators (eg. %<>%)"
   ]
  },
  {
   "cell_type": "markdown",
   "metadata": {},
   "source": [
    "\n",
    "\n",
    "# Introduction\n",
    "\n",
    "In this session, you will learn the basic grammar of data manipulation, some best-practice advices. Since data manipulation always follows a purpose and requires some understanding of the data at hand, we will also have a first glance data exploration and visualization. However, we will her only cover the very basics and skip most of the details. Again, you will have a dedicated sessions lateron.\n",
    "\n",
    "In this session, you will learn:\n",
    "\n",
    "* How to do basic variable filtering, selection, and manipulation\n",
    "* How to create various types of data summarization\n",
    "* How to also apply these actions on grouped data\n",
    "* How to join data from different sources\n",
    "* How to reshape (pivot) your data\n",
    "\n",
    "From my experience, this covers ca. 80% of common data manipulation tasks. Sound like fun? Lets get started!\n",
    "\n",
    "# The 5 core verbs of data-manipulation\n",
    "\n",
    "So, let's zoom in the `dplyr` functionality and syntax for a moment, before we illustrate it at the following data-manipulation tasks.\n",
    "\n",
    "At ity's core are 5 central verbs of data/manipulation, which are\n",
    "\n",
    "1. `filter()` picks cases based on their values.\n",
    "2. `select()` picks variables based on their names.\n",
    "3. `arrange()` changes the ordering of the rows.\n",
    "4. `mutate()` adds new variables that are functions of existing variables\n",
    "5. `summarise()` reduces multiple values down to a single summary.\n",
    "\n",
    "These all combine naturally with `group_by()` which allows you to perform any operation \"by group\". You can learn more about them in `vignette(\"dplyr\")`. As well as these single-table verbs, dplyr also provides a variety of two-table verbs (joins and mutations), which you can learn about in `vignette(\"two-table\")`.\n",
    "\n",
    "\n",
    "## The dataset\n",
    "We will explore now a bit with the starwars dataset, which comes together with `dplyr`. First, let's get an intuition what's in it. `head()` shows us the first 10 rows.\n",
    "\n"
   ]
  },
  {
   "cell_type": "code",
   "execution_count": null,
   "metadata": {
    "autoscroll": false,
    "collapsed": true
   },
   "outputs": [],
   "source": [
    "starwars %>% head() # The \"startwars\" dataset is an integrated dplyr goddie :)"
   ]
  },
  {
   "cell_type": "markdown",
   "metadata": {},
   "source": [
    "\n",
    "`glimpse()` gives us an overview over all variable types.\n",
    "\n"
   ]
  },
  {
   "cell_type": "code",
   "execution_count": null,
   "metadata": {
    "autoscroll": false,
    "collapsed": true
   },
   "outputs": [],
   "source": [
    "starwars %>% glimpse()"
   ]
  },
  {
   "cell_type": "markdown",
   "metadata": {},
   "source": [
    "\n",
    "## 1: `filter()`\n",
    "The verb `filter()` lets you subset a dataframe by rows (observations), meaning the output will filter for only rows which fulfill a certain condition.\n",
    "\n"
   ]
  },
  {
   "cell_type": "code",
   "execution_count": null,
   "metadata": {
    "autoscroll": false,
    "collapsed": true
   },
   "outputs": [],
   "source": [
    "starwars %>%\n",
    "  filter(species == \"Droid\")"
   ]
  },
  {
   "cell_type": "markdown",
   "metadata": {},
   "source": [
    "\n",
    "Conditions can be combined with boolean operators (`&, |`)\n",
    "\n"
   ]
  },
  {
   "cell_type": "code",
   "execution_count": null,
   "metadata": {
    "autoscroll": false,
    "collapsed": true
   },
   "outputs": [],
   "source": [
    "starwars %>%\n",
    "  filter(homeworld == \"Tatooine\" & species == \"Droid\")"
   ]
  },
  {
   "cell_type": "markdown",
   "metadata": {},
   "source": [
    "\n",
    "## 2: `select()`\n",
    "The verb `select()` lets you subset a dataframe by column (variable), meaning the output will only contain certain columns in the stated order\n",
    "\n"
   ]
  },
  {
   "cell_type": "code",
   "execution_count": null,
   "metadata": {
    "autoscroll": false,
    "collapsed": true
   },
   "outputs": [],
   "source": [
    "starwars %>%\n",
    "  select(name, homeworld) %>%\n",
    "  head(10)"
   ]
  },
  {
   "cell_type": "markdown",
   "metadata": {},
   "source": [
    "\n",
    "It can also be used to deselect columns with a leading `-`\n",
    "\n"
   ]
  },
  {
   "cell_type": "code",
   "execution_count": null,
   "metadata": {
    "autoscroll": false,
    "collapsed": true
   },
   "outputs": [],
   "source": [
    "starwars %>%\n",
    "  select(-birth_year, -skin_color) %>%\n",
    "  head(10)"
   ]
  },
  {
   "cell_type": "markdown",
   "metadata": {},
   "source": [
    "\n",
    "Lastly, many of `dplyr`'s other conditions and helper functions can be applied to select or deselect columns. More on that later.\n"
   ]
  },
  {
   "cell_type": "code",
   "execution_count": null,
   "metadata": {
    "autoscroll": false,
    "collapsed": true
   },
   "outputs": [],
   "source": [
    "starwars %>%\n",
    "  select(name, ends_with(\"color\")) %>%\n",
    "  head(10)"
   ]
  },
  {
   "cell_type": "markdown",
   "metadata": {},
   "source": [
    "\n",
    "## 3: `arrange()`\n",
    "The verb `arrange()` defines the way the rows of your dataframe are ordered\n",
    "\n"
   ]
  },
  {
   "cell_type": "code",
   "execution_count": null,
   "metadata": {
    "autoscroll": false,
    "collapsed": true
   },
   "outputs": [],
   "source": [
    "starwars %>%\n",
    "  arrange(homeworld, desc(mass)) %>% # Note: desc() witll order it descending, so the heaviest one first.\n",
    "  head(10)"
   ]
  },
  {
   "cell_type": "markdown",
   "metadata": {},
   "source": [
    "\n",
    "## 4: `mutate()`\n",
    "The verb `mutate()` lets you manipulate existing variables or create new ones.\n",
    "\n"
   ]
  },
  {
   "cell_type": "code",
   "execution_count": null,
   "metadata": {
    "autoscroll": false,
    "collapsed": true
   },
   "outputs": [],
   "source": [
    "starwars %>%\n",
    "  mutate(bmi = mass / ((height / 100)  ^ 2), # If you didnt know how to calculate the BMI, now you do...\n",
    "         mass.rel = mass / max(mass, na.rm = TRUE)) %>%\n",
    "  select(name:mass, mass.rel, bmi) %>%\n",
    "  arrange(desc(bmi)) %>%\n",
    "  head(10)"
   ]
  },
  {
   "cell_type": "markdown",
   "metadata": {},
   "source": [
    "\n",
    "## 5: `summarize()`\n",
    "The verb `summarize()` reduces your dataset to one observation, which is summarized according to a defined function.\n",
    "\n"
   ]
  },
  {
   "cell_type": "code",
   "execution_count": null,
   "metadata": {
    "autoscroll": false,
    "collapsed": true
   },
   "outputs": [],
   "source": [
    "starwars %>%\n",
    "  summarize(min.height = min(height, na.rm = TRUE),\n",
    "            mean.height = mean(height, na.rm = TRUE),\n",
    "            max.height = max(height, na.rm = TRUE),\n",
    "            sd.height = sd(height, na.rm = TRUE) )"
   ]
  },
  {
   "cell_type": "markdown",
   "metadata": {},
   "source": [
    "\n",
    "\n",
    "\n",
    "## (+1) Pivoting\n",
    "By now, we worked with the traditional data structure, where every column corresponds to one variable. We also call that a **wide*\"** data format. This is in most cases the most efficient and prefered way to keep your data. However, there are some cases, where another dataformat would be more convenient.\n",
    "\n",
    "For example, for range of graphical as well as numerical summaries, it would be nice to have every observation and every variable to be mapped in a single row. This format is also calles **long** (or in R slang, **tidy**) data. Adittionally, some real life datasets (including a lot of WorldBank, Eurostats, OECD, ect.) data is usually available in a long format. Therefore, weare in need of easily switching between long and wide formats, to **reshape** your data (in Excel slang, people call that **pivoting**).\n",
    "\n"
   ]
  },
  {
   "cell_type": "code",
   "execution_count": null,
   "metadata": {
    "autoscroll": false,
    "collapsed": true
   },
   "outputs": [],
   "source": [
    "fish_encounters %>% head(10)"
   ]
  },
  {
   "cell_type": "markdown",
   "metadata": {},
   "source": [
    "\n",
    "Lets take a look at a `pivot_wider` example\n"
   ]
  },
  {
   "cell_type": "code",
   "execution_count": null,
   "metadata": {
    "autoscroll": false,
    "collapsed": true
   },
   "outputs": [],
   "source": [
    "# See vignette(\"pivot\") for examples and explanation\n",
    "fish_encounters %>%\n",
    "  pivot_wider(names_from = station, values_from = seen) %>%\n",
    "  head(10)"
   ]
  },
  {
   "cell_type": "markdown",
   "metadata": {},
   "source": [
    "And now `pivot_longer`\n"
   ]
  },
  {
   "cell_type": "code",
   "execution_count": null,
   "metadata": {
    "autoscroll": false,
    "collapsed": true
   },
   "outputs": [],
   "source": [
    "# See vignette(\"pivot\") for examples and explanation\n",
    "# Simplest case where column names are character data\n",
    "relig_income %>%\n",
    "  head(10)"
   ]
  },
  {
   "cell_type": "code",
   "execution_count": null,
   "metadata": {
    "autoscroll": false,
    "collapsed": true
   },
   "outputs": [],
   "source": [
    "relig_income %>%\n",
    "  pivot_longer(!religion, names_to = \"income\", values_to = \"count\") %>%\n",
    "  head(10)"
   ]
  },
  {
   "cell_type": "markdown",
   "metadata": {},
   "source": [
    "\n",
    "\n",
    "\n",
    "\n",
    "\n",
    "## (+2) Doing manipulation by group: `group_by`\n",
    "Finally, `by_group()` is offers the perfect complement to the 5 basic verbs, since it allows to perform aqll the above mentioned tasks sepperate according to used-defined groupings in one or multiple categories. Lets look at some examples:\n",
    "\n",
    "First of all, it works amazingly well with the `summarize()` verb, producing within group summaries\n",
    "\n"
   ]
  },
  {
   "cell_type": "code",
   "execution_count": null,
   "metadata": {
    "autoscroll": false,
    "collapsed": true
   },
   "outputs": [],
   "source": [
    "starwars %>%\n",
    "  group_by(homeworld) %>%\n",
    "  summarize(mean.height = mean(height, na.rm = TRUE)) %>%\n",
    "  ungroup() %>%\n",
    "  arrange(desc(mean.height))"
   ]
  },
  {
   "cell_type": "markdown",
   "metadata": {},
   "source": [
    "\n",
    "Note that it is adviced to finish always such operations with `ungroup()`. Otherwise, the still active grouping might at a later point lead to all kind of unforseen results.\n",
    "\n",
    "## Your turn\n",
    "\n",
    "Some little exercises in between: Please solve **Exercise 1** in the corresponding section on `github`\n",
    "\n",
    "\n",
    "\n",
    "\n",
    "# Two-table verbs\n",
    "It's rare that a data analysis involves only a single table of data. In practice, you'll normally have many tables that contribute to an analysis, and you need flexible tools to combine them. In `dplyr`, there are three families of verbs that work with two tables at a time:\n",
    "\n",
    "1. Mutating joins, which add new variables to one table from matching rows in another.\n",
    "2. Filtering joins, which filter observations from one table based on whether or not they match an observation in the other table.\n",
    "3. Set operations, which combine the observations in the data sets as if they were set elements.\n",
    "\n",
    "Among those, mutating joins are the by far most used ones, so we will briefly discuss them here, and cover other types later in the applied part. For questions right away, consult `vignette(two-\"two-table\")`. Mutating joins allow you to combine variables from multiple tables (merging data). We here assume our data is \"tidy\" (meaning: rows = observations, columns = variables).\n",
    "\n",
    "Lets briefly create some example data:\n"
   ]
  },
  {
   "cell_type": "code",
   "execution_count": null,
   "metadata": {
    "autoscroll": false,
    "collapsed": true
   },
   "outputs": [],
   "source": [
    "df1 <- data_frame(x = c(1, 2), y = 2:1)\n",
    "df2 <- data_frame(x = c(1, 3), a = 10, b = \"a\")\n",
    "df1\n",
    "df2"
   ]
  },
  {
   "cell_type": "markdown",
   "metadata": {},
   "source": [
    "\n",
    "There are 4 types of mutating join to combine variables from dataframe `x` and `y, which differ in their behaviour when a match is not found. We'll illustrate each with a simple example:\n",
    "\n",
    "1. `left_join(x, y)` includes all observations in `x`, regardless of whether they match or not. This is the most commonly used join because it ensures that you don't lose observations from your primary table.\n"
   ]
  },
  {
   "cell_type": "code",
   "execution_count": null,
   "metadata": {
    "autoscroll": false,
    "collapsed": true
   },
   "outputs": [],
   "source": [
    "df1 %>% left_join(df2)"
   ]
  },
  {
   "cell_type": "markdown",
   "metadata": {},
   "source": [
    "\n",
    "\n",
    "2. `right_join(x, y)` includes all observations in `y`. It's equivalent to `left_join(y, x)`, but the columns will be ordered differently.\n"
   ]
  },
  {
   "cell_type": "code",
   "execution_count": null,
   "metadata": {
    "autoscroll": false,
    "collapsed": true
   },
   "outputs": [],
   "source": [
    "df1 %>% right_join(df2)"
   ]
  },
  {
   "cell_type": "code",
   "execution_count": null,
   "metadata": {
    "autoscroll": false,
    "collapsed": true
   },
   "outputs": [],
   "source": [
    "df2 %>% left_join(df1)"
   ]
  },
  {
   "cell_type": "markdown",
   "metadata": {},
   "source": [
    "\n",
    "3. `inner_join(x, y)` only includes observations that match in both `x` and `y`.\n"
   ]
  },
  {
   "cell_type": "code",
   "execution_count": null,
   "metadata": {
    "autoscroll": false,
    "collapsed": true
   },
   "outputs": [],
   "source": [
    "df1 %>% inner_join(df2)"
   ]
  },
  {
   "cell_type": "markdown",
   "metadata": {},
   "source": [
    "\n",
    "4. `full_join()` includes all observations from `x` and `y`.\n"
   ]
  },
  {
   "cell_type": "code",
   "execution_count": null,
   "metadata": {
    "autoscroll": false,
    "collapsed": true
   },
   "outputs": [],
   "source": [
    "df1 %>% full_join(df2)"
   ]
  },
  {
   "cell_type": "markdown",
   "metadata": {},
   "source": [
    "\n",
    "The left, right and full joins are collectively know as **outer joins**. When a row doesn't match in an outer join, the new variables are filled in with missing values.\n",
    "\n",
    "While mutating joins are primarily used to add new variables, they can also generate new observations. If a match is not unique, a join will add all possible combinations (the Cartesian product) of the matching observations:\n",
    "\n"
   ]
  },
  {
   "cell_type": "code",
   "execution_count": null,
   "metadata": {
    "autoscroll": false,
    "collapsed": true
   },
   "outputs": [],
   "source": [
    "df1 <- data_frame(x = c(1, 1, 2), y = 1:3)\n",
    "df2 <- data_frame(x = c(1, 1, 2), z = c(\"a\", \"b\", \"a\"))\n",
    "\n",
    "df1 %>% left_join(df2)"
   ]
  },
  {
   "cell_type": "markdown",
   "metadata": {},
   "source": [
    "\n",
    "Note: In case of multiple matches in `y`, adittional rows will be added. Therefore, if that is not the behavior you want, use the `distinct()` function afterwards.\n",
    "\n",
    "By default, joins are performed on the bases of **all** variables appearing in `x` and `y`. You can also specify one or multiple variables that should be matched by using the `by` argument. This can also be used to match on variables with different names in `x` and `y`.\n",
    "\n"
   ]
  },
  {
   "cell_type": "code",
   "execution_count": null,
   "metadata": {
    "autoscroll": false,
    "collapsed": true
   },
   "outputs": [],
   "source": [
    "df1 <- data_frame(x = c(3, 2, 1), y = 1:3, z = c(1,3,4))\n",
    "df2 <- data_frame(x = c(1, 2, 3), y = 2:4, q = c(\"a\", \"b\", \"a\"))\n",
    "\n",
    "df1 %>% left_join(df2, by = \"x\")\n",
    "df1 %>% left_join(df2, by = c(\"x\", \"y\"))\n",
    "df1 %>% left_join(df2, by = c(\"x\" = \"y\"))"
   ]
  },
  {
   "cell_type": "markdown",
   "metadata": {},
   "source": [
    "\n",
    "\n",
    "# Your turn\n",
    "\n",
    "Some little exercises in between: Please solve **Exercise 2** in the corresponding section on `github`\n",
    "\n",
    "\n",
    "# Endnotes\n",
    "\n",
    "### References\n",
    "\n",
    "### Suggestions for further study\n",
    "\n",
    "* R for Data Science (Grolemund & Wickham)\n",
    "  * [Chapter 5](https://r4ds.had.co.nz/transform.html)\n",
    "  * [Chapter 12](https://r4ds.had.co.nz/tidy-data.html)\n",
    "  * [Chapter 13](https://r4ds.had.co.nz/relational-data.html)\n",
    "* DataCamp\n",
    "  * [Working with Data in the Tidyverse](https://learn.datacamp.com/courses/working-with-data-in-the-tidyverse)\n",
    "  * [Data Manipulation with dplyr](https://learn.datacamp.com/courses/data-manipulation-with-dplyr)\n",
    "  * [Joining Data with dplyr](https://learn.datacamp.com/courses/joining-data-with-dplyr)\n",
    "\n",
    "\n",
    "### Session info\n"
   ]
  },
  {
   "cell_type": "code",
   "execution_count": null,
   "metadata": {
    "autoscroll": false,
    "collapsed": true
   },
   "outputs": [],
   "source": [
    "sessionInfo()"
   ]
  }
 ],
 "metadata": {
  "Rmd_header": {
   "author": "Daniel S. Hain (dsh@business.aau.dk)",
   "date": "Updated `r format(Sys.time(), '%B %d, %Y')`",
   "output": {
    "html_notebook": {
     "code_folding": "show",
     "df_print": "paged",
     "theme": "flatly",
     "toc": true,
     "toc_depth": 2,
     "toc_float": {
      "collapsed": false
     }
    }
   },
   "title": "HowTo: Data manipulation in R"
  },
  "kernelspec": {
   "display_name": "R",
   "language": "R",
   "name": "ir"
  },
  "language_info": {
   "codemirror_mode": "r",
   "file_extension": ".r",
   "mimetype": "text/x-r-source",
   "name": "R",
   "pygments_lexer": "r"
  }
 },
 "nbformat": 4,
 "nbformat_minor": 0
}
