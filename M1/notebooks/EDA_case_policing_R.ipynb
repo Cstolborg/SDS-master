{
  "nbformat": 4,
  "nbformat_minor": 0,
  "metadata": {
    "kernelspec": {
      "display_name": "R",
      "language": "R",
      "name": "ir"
    },
    "language_info": {
      "mimetype": "text/x-r-source",
      "name": "R",
      "pygments_lexer": "r",
      "version": "3.4.2",
      "file_extension": ".r",
      "codemirror_mode": "r"
    },
    "colab": {
      "name": "SDS_M1_datamunging_python_R.ipynb",
      "provenance": [],
      "collapsed_sections": [],
      "include_colab_link": true
    }
  },
  "cells": [
    {
      "cell_type": "markdown",
      "metadata": {
        "id": "view-in-github",
        "colab_type": "text"
      },
      "source": [
        "<a href=\"https://colab.research.google.com/github/SDS-AAU/SDS-master/blob/master/M1/notebooks/EDA_case_policing_R.ipynb\" target=\"_parent\"><img src=\"https://colab.research.google.com/assets/colab-badge.svg\" alt=\"Open In Colab\"/></a>"
      ]
    },
    {
      "cell_type": "code",
      "metadata": {
        "_uuid": "e91a8c71ecbabe307ebf19867d6249f8d75ed045",
        "_execution_state": "idle",
        "trusted": true,
        "id": "d31J-xWgYt4e",
        "colab_type": "code",
        "colab": {}
      },
      "source": [
        "## Importing packages\n",
        "library(tidyverse) # metapackage with lots of helpful functions\n",
        "library(magrittr)"
      ],
      "execution_count": 2,
      "outputs": []
    },
    {
      "cell_type": "markdown",
      "metadata": {
        "_uuid": "e9b2f353c305538df9dd9f19fa794887a3bf6967",
        "id": "e7wbZQ7qYt4k",
        "colab_type": "text"
      },
      "source": [
        "# Exploring the police dataset\n",
        "\n",
        "Alright, lets get started. First, load the data (csv) from the SDS server"
      ]
    },
    {
      "cell_type": "code",
      "metadata": {
        "id": "7kD_WTBDIw0q",
        "colab_type": "code",
        "colab": {
          "base_uri": "https://localhost:8080/",
          "height": 340
        },
        "outputId": "cf10f124-8362-4583-c837-9a0bd495fbdc"
      },
      "source": [
        "data <- read_csv(\"https://sds-aau.github.io/SDS-master/M1/data/RI-clean.csv.gz\")"
      ],
      "execution_count": 3,
      "outputs": [
        {
          "output_type": "stream",
          "text": [
            "Parsed with column specification:\n",
            "cols(\n",
            "  .default = col_character(),\n",
            "  stop_date = \u001b[34mcol_date(format = \"\")\u001b[39m,\n",
            "  stop_time = \u001b[34mcol_time(format = \"\")\u001b[39m,\n",
            "  county_name = \u001b[33mcol_logical()\u001b[39m,\n",
            "  county_fips = \u001b[33mcol_logical()\u001b[39m,\n",
            "  fine_grained_location = \u001b[33mcol_logical()\u001b[39m,\n",
            "  driver_age_raw = \u001b[32mcol_double()\u001b[39m,\n",
            "  driver_age = \u001b[32mcol_double()\u001b[39m,\n",
            "  search_conducted = \u001b[33mcol_logical()\u001b[39m,\n",
            "  contraband_found = \u001b[33mcol_logical()\u001b[39m,\n",
            "  is_arrested = \u001b[33mcol_logical()\u001b[39m,\n",
            "  out_of_state = \u001b[33mcol_logical()\u001b[39m,\n",
            "  drugs_related_stop = \u001b[33mcol_logical()\u001b[39m\n",
            ")\n",
            "\n",
            "See spec(...) for full column specifications.\n",
            "\n"
          ],
          "name": "stderr"
        }
      ]
    },
    {
      "cell_type": "markdown",
      "metadata": {
        "id": "8dK0qkt2JgCq",
        "colab_type": "text"
      },
      "source": [
        "Lets do a first inspection of the dataset."
      ]
    },
    {
      "cell_type": "code",
      "metadata": {
        "id": "lPq8za4sJawr",
        "colab_type": "code",
        "colab": {
          "base_uri": "https://localhost:8080/",
          "height": 428
        },
        "outputId": "4a90a149-7e3b-472b-e240-ee0c29deadb1"
      },
      "source": [
        "data %>% head()"
      ],
      "execution_count": 4,
      "outputs": [
        {
          "output_type": "display_data",
          "data": {
            "text/plain": [
              "  id            state stop_date  stop_time location_raw county_name county_fips\n",
              "1 RI-2005-00001 RI    2005-01-02 01:55:00  Zone K1      NA          NA         \n",
              "2 RI-2005-00002 RI    2005-01-02 20:30:00  Zone X4      NA          NA         \n",
              "3 RI-2005-00003 RI    2005-01-04 11:30:00  Zone X1      NA          NA         \n",
              "4 RI-2005-00004 RI    2005-01-04 12:55:00  Zone X4      NA          NA         \n",
              "5 RI-2005-00005 RI    2005-01-06 01:30:00  Zone X4      NA          NA         \n",
              "6 RI-2005-00006 RI    2005-01-12 08:05:00  Zone X1      NA          NA         \n",
              "  fine_grained_location police_department driver_gender ⋯ search_conducted\n",
              "1 NA                    600               M             ⋯ FALSE           \n",
              "2 NA                    500               M             ⋯ FALSE           \n",
              "3 NA                    000               NA            ⋯ FALSE           \n",
              "4 NA                    500               M             ⋯ FALSE           \n",
              "5 NA                    500               M             ⋯ FALSE           \n",
              "6 NA                    000               M             ⋯ FALSE           \n",
              "  search_type_raw search_type contraband_found stop_outcome is_arrested\n",
              "1 NA              NA          FALSE            Citation     FALSE      \n",
              "2 NA              NA          FALSE            Citation     FALSE      \n",
              "3 NA              NA          FALSE            NA              NA      \n",
              "4 NA              NA          FALSE            Citation     FALSE      \n",
              "5 NA              NA          FALSE            Citation     FALSE      \n",
              "6 NA              NA          FALSE            Citation     FALSE      \n",
              "  stop_duration out_of_state drugs_related_stop district\n",
              "1 0-15 Min      FALSE        FALSE              Zone K1 \n",
              "2 16-30 Min     FALSE        FALSE              Zone X4 \n",
              "3 NA               NA        FALSE              Zone X1 \n",
              "4 0-15 Min      FALSE        FALSE              Zone X4 \n",
              "5 0-15 Min      FALSE        FALSE              Zone X4 \n",
              "6 30+ Min        TRUE        FALSE              Zone X1 "
            ],
            "text/latex": "A tibble: 6 × 26\n\\begin{tabular}{lllllllllllllllllllll}\n id & state & stop\\_date & stop\\_time & location\\_raw & county\\_name & county\\_fips & fine\\_grained\\_location & police\\_department & driver\\_gender & ⋯ & search\\_conducted & search\\_type\\_raw & search\\_type & contraband\\_found & stop\\_outcome & is\\_arrested & stop\\_duration & out\\_of\\_state & drugs\\_related\\_stop & district\\\\\n <chr> & <chr> & <date> & <time> & <chr> & <lgl> & <lgl> & <lgl> & <chr> & <chr> & ⋯ & <lgl> & <chr> & <chr> & <lgl> & <chr> & <lgl> & <chr> & <lgl> & <lgl> & <chr>\\\\\n\\hline\n\t RI-2005-00001 & RI & 2005-01-02 & 01:55:00 & Zone K1 & NA & NA & NA & 600 & M  & ⋯ & FALSE & NA & NA & FALSE & Citation & FALSE & 0-15 Min  & FALSE & FALSE & Zone K1\\\\\n\t RI-2005-00002 & RI & 2005-01-02 & 20:30:00 & Zone X4 & NA & NA & NA & 500 & M  & ⋯ & FALSE & NA & NA & FALSE & Citation & FALSE & 16-30 Min & FALSE & FALSE & Zone X4\\\\\n\t RI-2005-00003 & RI & 2005-01-04 & 11:30:00 & Zone X1 & NA & NA & NA & 000 & NA & ⋯ & FALSE & NA & NA & FALSE & NA       &    NA & NA        &    NA & FALSE & Zone X1\\\\\n\t RI-2005-00004 & RI & 2005-01-04 & 12:55:00 & Zone X4 & NA & NA & NA & 500 & M  & ⋯ & FALSE & NA & NA & FALSE & Citation & FALSE & 0-15 Min  & FALSE & FALSE & Zone X4\\\\\n\t RI-2005-00005 & RI & 2005-01-06 & 01:30:00 & Zone X4 & NA & NA & NA & 500 & M  & ⋯ & FALSE & NA & NA & FALSE & Citation & FALSE & 0-15 Min  & FALSE & FALSE & Zone X4\\\\\n\t RI-2005-00006 & RI & 2005-01-12 & 08:05:00 & Zone X1 & NA & NA & NA & 000 & M  & ⋯ & FALSE & NA & NA & FALSE & Citation & FALSE & 30+ Min   &  TRUE & FALSE & Zone X1\\\\\n\\end{tabular}\n",
            "text/markdown": "\nA tibble: 6 × 26\n\n| id &lt;chr&gt; | state &lt;chr&gt; | stop_date &lt;date&gt; | stop_time &lt;time&gt; | location_raw &lt;chr&gt; | county_name &lt;lgl&gt; | county_fips &lt;lgl&gt; | fine_grained_location &lt;lgl&gt; | police_department &lt;chr&gt; | driver_gender &lt;chr&gt; | ⋯ ⋯ | search_conducted &lt;lgl&gt; | search_type_raw &lt;chr&gt; | search_type &lt;chr&gt; | contraband_found &lt;lgl&gt; | stop_outcome &lt;chr&gt; | is_arrested &lt;lgl&gt; | stop_duration &lt;chr&gt; | out_of_state &lt;lgl&gt; | drugs_related_stop &lt;lgl&gt; | district &lt;chr&gt; |\n|---|---|---|---|---|---|---|---|---|---|---|---|---|---|---|---|---|---|---|---|---|\n| RI-2005-00001 | RI | 2005-01-02 | 01:55:00 | Zone K1 | NA | NA | NA | 600 | M  | ⋯ | FALSE | NA | NA | FALSE | Citation | FALSE | 0-15 Min  | FALSE | FALSE | Zone K1 |\n| RI-2005-00002 | RI | 2005-01-02 | 20:30:00 | Zone X4 | NA | NA | NA | 500 | M  | ⋯ | FALSE | NA | NA | FALSE | Citation | FALSE | 16-30 Min | FALSE | FALSE | Zone X4 |\n| RI-2005-00003 | RI | 2005-01-04 | 11:30:00 | Zone X1 | NA | NA | NA | 000 | NA | ⋯ | FALSE | NA | NA | FALSE | NA       |    NA | NA        |    NA | FALSE | Zone X1 |\n| RI-2005-00004 | RI | 2005-01-04 | 12:55:00 | Zone X4 | NA | NA | NA | 500 | M  | ⋯ | FALSE | NA | NA | FALSE | Citation | FALSE | 0-15 Min  | FALSE | FALSE | Zone X4 |\n| RI-2005-00005 | RI | 2005-01-06 | 01:30:00 | Zone X4 | NA | NA | NA | 500 | M  | ⋯ | FALSE | NA | NA | FALSE | Citation | FALSE | 0-15 Min  | FALSE | FALSE | Zone X4 |\n| RI-2005-00006 | RI | 2005-01-12 | 08:05:00 | Zone X1 | NA | NA | NA | 000 | M  | ⋯ | FALSE | NA | NA | FALSE | Citation | FALSE | 30+ Min   |  TRUE | FALSE | Zone X1 |\n\n",
            "text/html": [
              "<table>\n",
              "<caption>A tibble: 6 × 26</caption>\n",
              "<thead>\n",
              "\t<tr><th scope=col>id</th><th scope=col>state</th><th scope=col>stop_date</th><th scope=col>stop_time</th><th scope=col>location_raw</th><th scope=col>county_name</th><th scope=col>county_fips</th><th scope=col>fine_grained_location</th><th scope=col>police_department</th><th scope=col>driver_gender</th><th scope=col>⋯</th><th scope=col>search_conducted</th><th scope=col>search_type_raw</th><th scope=col>search_type</th><th scope=col>contraband_found</th><th scope=col>stop_outcome</th><th scope=col>is_arrested</th><th scope=col>stop_duration</th><th scope=col>out_of_state</th><th scope=col>drugs_related_stop</th><th scope=col>district</th></tr>\n",
              "\t<tr><th scope=col>&lt;chr&gt;</th><th scope=col>&lt;chr&gt;</th><th scope=col>&lt;date&gt;</th><th scope=col>&lt;time&gt;</th><th scope=col>&lt;chr&gt;</th><th scope=col>&lt;lgl&gt;</th><th scope=col>&lt;lgl&gt;</th><th scope=col>&lt;lgl&gt;</th><th scope=col>&lt;chr&gt;</th><th scope=col>&lt;chr&gt;</th><th scope=col>⋯</th><th scope=col>&lt;lgl&gt;</th><th scope=col>&lt;chr&gt;</th><th scope=col>&lt;chr&gt;</th><th scope=col>&lt;lgl&gt;</th><th scope=col>&lt;chr&gt;</th><th scope=col>&lt;lgl&gt;</th><th scope=col>&lt;chr&gt;</th><th scope=col>&lt;lgl&gt;</th><th scope=col>&lt;lgl&gt;</th><th scope=col>&lt;chr&gt;</th></tr>\n",
              "</thead>\n",
              "<tbody>\n",
              "\t<tr><td>RI-2005-00001</td><td>RI</td><td>2005-01-02</td><td>01:55:00</td><td>Zone K1</td><td>NA</td><td>NA</td><td>NA</td><td>600</td><td>M </td><td>⋯</td><td>FALSE</td><td>NA</td><td>NA</td><td>FALSE</td><td>Citation</td><td>FALSE</td><td>0-15 Min </td><td>FALSE</td><td>FALSE</td><td>Zone K1</td></tr>\n",
              "\t<tr><td>RI-2005-00002</td><td>RI</td><td>2005-01-02</td><td>20:30:00</td><td>Zone X4</td><td>NA</td><td>NA</td><td>NA</td><td>500</td><td>M </td><td>⋯</td><td>FALSE</td><td>NA</td><td>NA</td><td>FALSE</td><td>Citation</td><td>FALSE</td><td>16-30 Min</td><td>FALSE</td><td>FALSE</td><td>Zone X4</td></tr>\n",
              "\t<tr><td>RI-2005-00003</td><td>RI</td><td>2005-01-04</td><td>11:30:00</td><td>Zone X1</td><td>NA</td><td>NA</td><td>NA</td><td>000</td><td>NA</td><td>⋯</td><td>FALSE</td><td>NA</td><td>NA</td><td>FALSE</td><td>NA      </td><td>   NA</td><td>NA       </td><td>   NA</td><td>FALSE</td><td>Zone X1</td></tr>\n",
              "\t<tr><td>RI-2005-00004</td><td>RI</td><td>2005-01-04</td><td>12:55:00</td><td>Zone X4</td><td>NA</td><td>NA</td><td>NA</td><td>500</td><td>M </td><td>⋯</td><td>FALSE</td><td>NA</td><td>NA</td><td>FALSE</td><td>Citation</td><td>FALSE</td><td>0-15 Min </td><td>FALSE</td><td>FALSE</td><td>Zone X4</td></tr>\n",
              "\t<tr><td>RI-2005-00005</td><td>RI</td><td>2005-01-06</td><td>01:30:00</td><td>Zone X4</td><td>NA</td><td>NA</td><td>NA</td><td>500</td><td>M </td><td>⋯</td><td>FALSE</td><td>NA</td><td>NA</td><td>FALSE</td><td>Citation</td><td>FALSE</td><td>0-15 Min </td><td>FALSE</td><td>FALSE</td><td>Zone X4</td></tr>\n",
              "\t<tr><td>RI-2005-00006</td><td>RI</td><td>2005-01-12</td><td>08:05:00</td><td>Zone X1</td><td>NA</td><td>NA</td><td>NA</td><td>000</td><td>M </td><td>⋯</td><td>FALSE</td><td>NA</td><td>NA</td><td>FALSE</td><td>Citation</td><td>FALSE</td><td>30+ Min  </td><td> TRUE</td><td>FALSE</td><td>Zone X1</td></tr>\n",
              "</tbody>\n",
              "</table>\n"
            ]
          },
          "metadata": {
            "tags": []
          }
        }
      ]
    },
    {
      "cell_type": "code",
      "metadata": {
        "id": "bDfZOLG0JP3Q",
        "colab_type": "code",
        "colab": {
          "base_uri": "https://localhost:8080/",
          "height": 493
        },
        "outputId": "362a36fb-2261-43a8-b8b5-5b78e7539cc0"
      },
      "source": [
        "data %>% glimpse()"
      ],
      "execution_count": 5,
      "outputs": [
        {
          "output_type": "stream",
          "text": [
            "Rows: 509,681\n",
            "Columns: 26\n",
            "$ id                    \u001b[3m\u001b[90m<chr>\u001b[39m\u001b[23m \"RI-2005-00001\", \"RI-2005-00002\", \"RI-2005-0000…\n",
            "$ state                 \u001b[3m\u001b[90m<chr>\u001b[39m\u001b[23m \"RI\", \"RI\", \"RI\", \"RI\", \"RI\", \"RI\", \"RI\", \"RI\",…\n",
            "$ stop_date             \u001b[3m\u001b[90m<date>\u001b[39m\u001b[23m 2005-01-02, 2005-01-02, 2005-01-04, 2005-01-04…\n",
            "$ stop_time             \u001b[3m\u001b[90m<time>\u001b[39m\u001b[23m 01:55:00, 20:30:00, 11:30:00, 12:55:00, 01:30:…\n",
            "$ location_raw          \u001b[3m\u001b[90m<chr>\u001b[39m\u001b[23m \"Zone K1\", \"Zone X4\", \"Zone X1\", \"Zone X4\", \"Zo…\n",
            "$ county_name           \u001b[3m\u001b[90m<lgl>\u001b[39m\u001b[23m NA, NA, NA, NA, NA, NA, NA, NA, NA, NA, NA, NA,…\n",
            "$ county_fips           \u001b[3m\u001b[90m<lgl>\u001b[39m\u001b[23m NA, NA, NA, NA, NA, NA, NA, NA, NA, NA, NA, NA,…\n",
            "$ fine_grained_location \u001b[3m\u001b[90m<lgl>\u001b[39m\u001b[23m NA, NA, NA, NA, NA, NA, NA, NA, NA, NA, NA, NA,…\n",
            "$ police_department     \u001b[3m\u001b[90m<chr>\u001b[39m\u001b[23m \"600\", \"500\", \"000\", \"500\", \"500\", \"000\", \"300\"…\n",
            "$ driver_gender         \u001b[3m\u001b[90m<chr>\u001b[39m\u001b[23m \"M\", \"M\", NA, \"M\", \"M\", \"M\", \"M\", \"M\", \"M\", \"M\"…\n",
            "$ driver_age_raw        \u001b[3m\u001b[90m<dbl>\u001b[39m\u001b[23m 1985, 1987, NA, 1986, 1978, 1973, 1965, 1967, 1…\n",
            "$ driver_age            \u001b[3m\u001b[90m<dbl>\u001b[39m\u001b[23m 20, 18, NA, 19, 27, 32, 40, 38, 33, 18, 29, 27,…\n",
            "$ driver_race_raw       \u001b[3m\u001b[90m<chr>\u001b[39m\u001b[23m \"W\", \"W\", NA, \"W\", \"B\", \"B\", \"W\", \"H\", \"W\", \"W\"…\n",
            "$ driver_race           \u001b[3m\u001b[90m<chr>\u001b[39m\u001b[23m \"White\", \"White\", NA, \"White\", \"Black\", \"Black\"…\n",
            "$ violation_raw         \u001b[3m\u001b[90m<chr>\u001b[39m\u001b[23m \"Speeding\", \"Speeding\", NA, \"Equipment/Inspecti…\n",
            "$ violation             \u001b[3m\u001b[90m<chr>\u001b[39m\u001b[23m \"Speeding\", \"Speeding\", NA, \"Equipment\", \"Equip…\n",
            "$ search_conducted      \u001b[3m\u001b[90m<lgl>\u001b[39m\u001b[23m FALSE, FALSE, FALSE, FALSE, FALSE, FALSE, FALSE…\n",
            "$ search_type_raw       \u001b[3m\u001b[90m<chr>\u001b[39m\u001b[23m NA, NA, NA, NA, NA, NA, NA, NA, NA, \"Probable C…\n",
            "$ search_type           \u001b[3m\u001b[90m<chr>\u001b[39m\u001b[23m NA, NA, NA, NA, NA, NA, NA, NA, NA, \"Probable C…\n",
            "$ contraband_found      \u001b[3m\u001b[90m<lgl>\u001b[39m\u001b[23m FALSE, FALSE, FALSE, FALSE, FALSE, FALSE, FALSE…\n",
            "$ stop_outcome          \u001b[3m\u001b[90m<chr>\u001b[39m\u001b[23m \"Citation\", \"Citation\", NA, \"Citation\", \"Citati…\n",
            "$ is_arrested           \u001b[3m\u001b[90m<lgl>\u001b[39m\u001b[23m FALSE, FALSE, NA, FALSE, FALSE, FALSE, FALSE, F…\n",
            "$ stop_duration         \u001b[3m\u001b[90m<chr>\u001b[39m\u001b[23m \"0-15 Min\", \"16-30 Min\", NA, \"0-15 Min\", \"0-15 …\n",
            "$ out_of_state          \u001b[3m\u001b[90m<lgl>\u001b[39m\u001b[23m FALSE, FALSE, NA, FALSE, FALSE, TRUE, TRUE, TRU…\n",
            "$ drugs_related_stop    \u001b[3m\u001b[90m<lgl>\u001b[39m\u001b[23m FALSE, FALSE, FALSE, FALSE, FALSE, FALSE, FALSE…\n",
            "$ district              \u001b[3m\u001b[90m<chr>\u001b[39m\u001b[23m \"Zone K1\", \"Zone X4\", \"Zone X1\", \"Zone X4\", \"Zo…\n"
          ],
          "name": "stdout"
        }
      ]
    },
    {
      "cell_type": "markdown",
      "metadata": {
        "id": "sN6HNL_qJnto",
        "colab_type": "text"
      },
      "source": [
        "- Each row is one traffic stop\n",
        "- NA are missing values"
      ]
    },
    {
      "cell_type": "code",
      "metadata": {
        "id": "LoSL2NqMJ2iq",
        "colab_type": "code",
        "colab": {
          "base_uri": "https://localhost:8080/",
          "height": 428
        },
        "outputId": "411ea1b2-2c50-4f05-aefb-a1d54e9529dc"
      },
      "source": [
        "data %>%\n",
        "  filter(driver_gender %>% is.na()) %>% \n",
        "  head()"
      ],
      "execution_count": 10,
      "outputs": [
        {
          "output_type": "display_data",
          "data": {
            "text/plain": [
              "  id            state stop_date  stop_time location_raw county_name county_fips\n",
              "1 RI-2005-00003 RI    2005-01-04 11:30:00  Zone X1      NA          NA         \n",
              "2 RI-2005-00018 RI    2005-03-05 00:20:00  Zone X4      NA          NA         \n",
              "3 RI-2005-00036 RI    2005-06-08 08:40:00  Zone X4      NA          NA         \n",
              "4 RI-2005-00075 RI    2005-08-17 13:20:00  Zone X1      NA          NA         \n",
              "5 RI-2005-00076 RI    2005-08-17 15:59:00  Zone X1      NA          NA         \n",
              "6 RI-2005-00081 RI    2005-08-24 18:00:00  Zone X1      NA          NA         \n",
              "  fine_grained_location police_department driver_gender ⋯ search_conducted\n",
              "1 NA                    000               NA            ⋯ FALSE           \n",
              "2 NA                    500               NA            ⋯ FALSE           \n",
              "3 NA                    500               NA            ⋯ FALSE           \n",
              "4 NA                    000               NA            ⋯ FALSE           \n",
              "5 NA                    000               NA            ⋯ FALSE           \n",
              "6 NA                    000               NA            ⋯ FALSE           \n",
              "  search_type_raw search_type contraband_found stop_outcome is_arrested\n",
              "1 NA              NA          FALSE            NA           NA         \n",
              "2 NA              NA          FALSE            NA           NA         \n",
              "3 NA              NA          FALSE            NA           NA         \n",
              "4 NA              NA          FALSE            NA           NA         \n",
              "5 NA              NA          FALSE            NA           NA         \n",
              "6 NA              NA          FALSE            NA           NA         \n",
              "  stop_duration out_of_state drugs_related_stop district\n",
              "1 NA            NA           FALSE              Zone X1 \n",
              "2 NA            NA           FALSE              Zone X4 \n",
              "3 NA            NA           FALSE              Zone X4 \n",
              "4 NA            NA           FALSE              Zone X1 \n",
              "5 NA            NA           FALSE              Zone X1 \n",
              "6 NA            NA           FALSE              Zone X1 "
            ],
            "text/latex": "A tibble: 6 × 26\n\\begin{tabular}{lllllllllllllllllllll}\n id & state & stop\\_date & stop\\_time & location\\_raw & county\\_name & county\\_fips & fine\\_grained\\_location & police\\_department & driver\\_gender & ⋯ & search\\_conducted & search\\_type\\_raw & search\\_type & contraband\\_found & stop\\_outcome & is\\_arrested & stop\\_duration & out\\_of\\_state & drugs\\_related\\_stop & district\\\\\n <chr> & <chr> & <date> & <time> & <chr> & <lgl> & <lgl> & <lgl> & <chr> & <chr> & ⋯ & <lgl> & <chr> & <chr> & <lgl> & <chr> & <lgl> & <chr> & <lgl> & <lgl> & <chr>\\\\\n\\hline\n\t RI-2005-00003 & RI & 2005-01-04 & 11:30:00 & Zone X1 & NA & NA & NA & 000 & NA & ⋯ & FALSE & NA & NA & FALSE & NA & NA & NA & NA & FALSE & Zone X1\\\\\n\t RI-2005-00018 & RI & 2005-03-05 & 00:20:00 & Zone X4 & NA & NA & NA & 500 & NA & ⋯ & FALSE & NA & NA & FALSE & NA & NA & NA & NA & FALSE & Zone X4\\\\\n\t RI-2005-00036 & RI & 2005-06-08 & 08:40:00 & Zone X4 & NA & NA & NA & 500 & NA & ⋯ & FALSE & NA & NA & FALSE & NA & NA & NA & NA & FALSE & Zone X4\\\\\n\t RI-2005-00075 & RI & 2005-08-17 & 13:20:00 & Zone X1 & NA & NA & NA & 000 & NA & ⋯ & FALSE & NA & NA & FALSE & NA & NA & NA & NA & FALSE & Zone X1\\\\\n\t RI-2005-00076 & RI & 2005-08-17 & 15:59:00 & Zone X1 & NA & NA & NA & 000 & NA & ⋯ & FALSE & NA & NA & FALSE & NA & NA & NA & NA & FALSE & Zone X1\\\\\n\t RI-2005-00081 & RI & 2005-08-24 & 18:00:00 & Zone X1 & NA & NA & NA & 000 & NA & ⋯ & FALSE & NA & NA & FALSE & NA & NA & NA & NA & FALSE & Zone X1\\\\\n\\end{tabular}\n",
            "text/markdown": "\nA tibble: 6 × 26\n\n| id &lt;chr&gt; | state &lt;chr&gt; | stop_date &lt;date&gt; | stop_time &lt;time&gt; | location_raw &lt;chr&gt; | county_name &lt;lgl&gt; | county_fips &lt;lgl&gt; | fine_grained_location &lt;lgl&gt; | police_department &lt;chr&gt; | driver_gender &lt;chr&gt; | ⋯ ⋯ | search_conducted &lt;lgl&gt; | search_type_raw &lt;chr&gt; | search_type &lt;chr&gt; | contraband_found &lt;lgl&gt; | stop_outcome &lt;chr&gt; | is_arrested &lt;lgl&gt; | stop_duration &lt;chr&gt; | out_of_state &lt;lgl&gt; | drugs_related_stop &lt;lgl&gt; | district &lt;chr&gt; |\n|---|---|---|---|---|---|---|---|---|---|---|---|---|---|---|---|---|---|---|---|---|\n| RI-2005-00003 | RI | 2005-01-04 | 11:30:00 | Zone X1 | NA | NA | NA | 000 | NA | ⋯ | FALSE | NA | NA | FALSE | NA | NA | NA | NA | FALSE | Zone X1 |\n| RI-2005-00018 | RI | 2005-03-05 | 00:20:00 | Zone X4 | NA | NA | NA | 500 | NA | ⋯ | FALSE | NA | NA | FALSE | NA | NA | NA | NA | FALSE | Zone X4 |\n| RI-2005-00036 | RI | 2005-06-08 | 08:40:00 | Zone X4 | NA | NA | NA | 500 | NA | ⋯ | FALSE | NA | NA | FALSE | NA | NA | NA | NA | FALSE | Zone X4 |\n| RI-2005-00075 | RI | 2005-08-17 | 13:20:00 | Zone X1 | NA | NA | NA | 000 | NA | ⋯ | FALSE | NA | NA | FALSE | NA | NA | NA | NA | FALSE | Zone X1 |\n| RI-2005-00076 | RI | 2005-08-17 | 15:59:00 | Zone X1 | NA | NA | NA | 000 | NA | ⋯ | FALSE | NA | NA | FALSE | NA | NA | NA | NA | FALSE | Zone X1 |\n| RI-2005-00081 | RI | 2005-08-24 | 18:00:00 | Zone X1 | NA | NA | NA | 000 | NA | ⋯ | FALSE | NA | NA | FALSE | NA | NA | NA | NA | FALSE | Zone X1 |\n\n",
            "text/html": [
              "<table>\n",
              "<caption>A tibble: 6 × 26</caption>\n",
              "<thead>\n",
              "\t<tr><th scope=col>id</th><th scope=col>state</th><th scope=col>stop_date</th><th scope=col>stop_time</th><th scope=col>location_raw</th><th scope=col>county_name</th><th scope=col>county_fips</th><th scope=col>fine_grained_location</th><th scope=col>police_department</th><th scope=col>driver_gender</th><th scope=col>⋯</th><th scope=col>search_conducted</th><th scope=col>search_type_raw</th><th scope=col>search_type</th><th scope=col>contraband_found</th><th scope=col>stop_outcome</th><th scope=col>is_arrested</th><th scope=col>stop_duration</th><th scope=col>out_of_state</th><th scope=col>drugs_related_stop</th><th scope=col>district</th></tr>\n",
              "\t<tr><th scope=col>&lt;chr&gt;</th><th scope=col>&lt;chr&gt;</th><th scope=col>&lt;date&gt;</th><th scope=col>&lt;time&gt;</th><th scope=col>&lt;chr&gt;</th><th scope=col>&lt;lgl&gt;</th><th scope=col>&lt;lgl&gt;</th><th scope=col>&lt;lgl&gt;</th><th scope=col>&lt;chr&gt;</th><th scope=col>&lt;chr&gt;</th><th scope=col>⋯</th><th scope=col>&lt;lgl&gt;</th><th scope=col>&lt;chr&gt;</th><th scope=col>&lt;chr&gt;</th><th scope=col>&lt;lgl&gt;</th><th scope=col>&lt;chr&gt;</th><th scope=col>&lt;lgl&gt;</th><th scope=col>&lt;chr&gt;</th><th scope=col>&lt;lgl&gt;</th><th scope=col>&lt;lgl&gt;</th><th scope=col>&lt;chr&gt;</th></tr>\n",
              "</thead>\n",
              "<tbody>\n",
              "\t<tr><td>RI-2005-00003</td><td>RI</td><td>2005-01-04</td><td>11:30:00</td><td>Zone X1</td><td>NA</td><td>NA</td><td>NA</td><td>000</td><td>NA</td><td>⋯</td><td>FALSE</td><td>NA</td><td>NA</td><td>FALSE</td><td>NA</td><td>NA</td><td>NA</td><td>NA</td><td>FALSE</td><td>Zone X1</td></tr>\n",
              "\t<tr><td>RI-2005-00018</td><td>RI</td><td>2005-03-05</td><td>00:20:00</td><td>Zone X4</td><td>NA</td><td>NA</td><td>NA</td><td>500</td><td>NA</td><td>⋯</td><td>FALSE</td><td>NA</td><td>NA</td><td>FALSE</td><td>NA</td><td>NA</td><td>NA</td><td>NA</td><td>FALSE</td><td>Zone X4</td></tr>\n",
              "\t<tr><td>RI-2005-00036</td><td>RI</td><td>2005-06-08</td><td>08:40:00</td><td>Zone X4</td><td>NA</td><td>NA</td><td>NA</td><td>500</td><td>NA</td><td>⋯</td><td>FALSE</td><td>NA</td><td>NA</td><td>FALSE</td><td>NA</td><td>NA</td><td>NA</td><td>NA</td><td>FALSE</td><td>Zone X4</td></tr>\n",
              "\t<tr><td>RI-2005-00075</td><td>RI</td><td>2005-08-17</td><td>13:20:00</td><td>Zone X1</td><td>NA</td><td>NA</td><td>NA</td><td>000</td><td>NA</td><td>⋯</td><td>FALSE</td><td>NA</td><td>NA</td><td>FALSE</td><td>NA</td><td>NA</td><td>NA</td><td>NA</td><td>FALSE</td><td>Zone X1</td></tr>\n",
              "\t<tr><td>RI-2005-00076</td><td>RI</td><td>2005-08-17</td><td>15:59:00</td><td>Zone X1</td><td>NA</td><td>NA</td><td>NA</td><td>000</td><td>NA</td><td>⋯</td><td>FALSE</td><td>NA</td><td>NA</td><td>FALSE</td><td>NA</td><td>NA</td><td>NA</td><td>NA</td><td>FALSE</td><td>Zone X1</td></tr>\n",
              "\t<tr><td>RI-2005-00081</td><td>RI</td><td>2005-08-24</td><td>18:00:00</td><td>Zone X1</td><td>NA</td><td>NA</td><td>NA</td><td>000</td><td>NA</td><td>⋯</td><td>FALSE</td><td>NA</td><td>NA</td><td>FALSE</td><td>NA</td><td>NA</td><td>NA</td><td>NA</td><td>FALSE</td><td>Zone X1</td></tr>\n",
              "</tbody>\n",
              "</table>\n"
            ]
          },
          "metadata": {
            "tags": []
          }
        }
      ]
    },
    {
      "cell_type": "markdown",
      "metadata": {
        "id": "fnGRkKhociQA",
        "colab_type": "text"
      },
      "source": [
        "Lets use `summarize_all()` and `gather()` to get an overview on missing values across the dataset."
      ]
    },
    {
      "cell_type": "code",
      "metadata": {
        "id": "zf0VATSWMyT-",
        "colab_type": "code",
        "colab": {
          "base_uri": "https://localhost:8080/",
          "height": 603
        },
        "outputId": "88118b31-ce06-49b7-8394-7875af894f72"
      },
      "source": [
        "data %>%\n",
        "  select(-id) %>%\n",
        "  summarise_all(function(x) sum(is.na(x))) %>%\n",
        "  pivot_longer(everything())"
      ],
      "execution_count": 15,
      "outputs": [
        {
          "output_type": "display_data",
          "data": {
            "text/plain": [
              "   name                  value \n",
              "1  state                      0\n",
              "2  stop_date                 10\n",
              "3  stop_time                 10\n",
              "4  location_raw               0\n",
              "5  county_name           509681\n",
              "6  county_fips           509681\n",
              "7  fine_grained_location 509681\n",
              "8  police_department         10\n",
              "9  driver_gender          29097\n",
              "10 driver_age_raw         29049\n",
              "11 driver_age             30695\n",
              "12 driver_race_raw        29073\n",
              "13 driver_race            29073\n",
              "14 violation_raw          29073\n",
              "15 violation              29073\n",
              "16 search_conducted          10\n",
              "17 search_type_raw       491919\n",
              "18 search_type           491919\n",
              "19 contraband_found           0\n",
              "20 stop_outcome           29073\n",
              "21 is_arrested            29073\n",
              "22 stop_duration          29073\n",
              "23 out_of_state           29881\n",
              "24 drugs_related_stop         0\n",
              "25 district                   0"
            ],
            "text/latex": "A tibble: 25 × 2\n\\begin{tabular}{ll}\n name & value\\\\\n <chr> & <int>\\\\\n\\hline\n\t state                 &      0\\\\\n\t stop\\_date             &     10\\\\\n\t stop\\_time             &     10\\\\\n\t location\\_raw          &      0\\\\\n\t county\\_name           & 509681\\\\\n\t county\\_fips           & 509681\\\\\n\t fine\\_grained\\_location & 509681\\\\\n\t police\\_department     &     10\\\\\n\t driver\\_gender         &  29097\\\\\n\t driver\\_age\\_raw        &  29049\\\\\n\t driver\\_age            &  30695\\\\\n\t driver\\_race\\_raw       &  29073\\\\\n\t driver\\_race           &  29073\\\\\n\t violation\\_raw         &  29073\\\\\n\t violation             &  29073\\\\\n\t search\\_conducted      &     10\\\\\n\t search\\_type\\_raw       & 491919\\\\\n\t search\\_type           & 491919\\\\\n\t contraband\\_found      &      0\\\\\n\t stop\\_outcome          &  29073\\\\\n\t is\\_arrested           &  29073\\\\\n\t stop\\_duration         &  29073\\\\\n\t out\\_of\\_state          &  29881\\\\\n\t drugs\\_related\\_stop    &      0\\\\\n\t district              &      0\\\\\n\\end{tabular}\n",
            "text/markdown": "\nA tibble: 25 × 2\n\n| name &lt;chr&gt; | value &lt;int&gt; |\n|---|---|\n| state                 |      0 |\n| stop_date             |     10 |\n| stop_time             |     10 |\n| location_raw          |      0 |\n| county_name           | 509681 |\n| county_fips           | 509681 |\n| fine_grained_location | 509681 |\n| police_department     |     10 |\n| driver_gender         |  29097 |\n| driver_age_raw        |  29049 |\n| driver_age            |  30695 |\n| driver_race_raw       |  29073 |\n| driver_race           |  29073 |\n| violation_raw         |  29073 |\n| violation             |  29073 |\n| search_conducted      |     10 |\n| search_type_raw       | 491919 |\n| search_type           | 491919 |\n| contraband_found      |      0 |\n| stop_outcome          |  29073 |\n| is_arrested           |  29073 |\n| stop_duration         |  29073 |\n| out_of_state          |  29881 |\n| drugs_related_stop    |      0 |\n| district              |      0 |\n\n",
            "text/html": [
              "<table>\n",
              "<caption>A tibble: 25 × 2</caption>\n",
              "<thead>\n",
              "\t<tr><th scope=col>name</th><th scope=col>value</th></tr>\n",
              "\t<tr><th scope=col>&lt;chr&gt;</th><th scope=col>&lt;int&gt;</th></tr>\n",
              "</thead>\n",
              "<tbody>\n",
              "\t<tr><td>state                </td><td>     0</td></tr>\n",
              "\t<tr><td>stop_date            </td><td>    10</td></tr>\n",
              "\t<tr><td>stop_time            </td><td>    10</td></tr>\n",
              "\t<tr><td>location_raw         </td><td>     0</td></tr>\n",
              "\t<tr><td>county_name          </td><td>509681</td></tr>\n",
              "\t<tr><td>county_fips          </td><td>509681</td></tr>\n",
              "\t<tr><td>fine_grained_location</td><td>509681</td></tr>\n",
              "\t<tr><td>police_department    </td><td>    10</td></tr>\n",
              "\t<tr><td>driver_gender        </td><td> 29097</td></tr>\n",
              "\t<tr><td>driver_age_raw       </td><td> 29049</td></tr>\n",
              "\t<tr><td>driver_age           </td><td> 30695</td></tr>\n",
              "\t<tr><td>driver_race_raw      </td><td> 29073</td></tr>\n",
              "\t<tr><td>driver_race          </td><td> 29073</td></tr>\n",
              "\t<tr><td>violation_raw        </td><td> 29073</td></tr>\n",
              "\t<tr><td>violation            </td><td> 29073</td></tr>\n",
              "\t<tr><td>search_conducted     </td><td>    10</td></tr>\n",
              "\t<tr><td>search_type_raw      </td><td>491919</td></tr>\n",
              "\t<tr><td>search_type          </td><td>491919</td></tr>\n",
              "\t<tr><td>contraband_found     </td><td>     0</td></tr>\n",
              "\t<tr><td>stop_outcome         </td><td> 29073</td></tr>\n",
              "\t<tr><td>is_arrested          </td><td> 29073</td></tr>\n",
              "\t<tr><td>stop_duration        </td><td> 29073</td></tr>\n",
              "\t<tr><td>out_of_state         </td><td> 29881</td></tr>\n",
              "\t<tr><td>drugs_related_stop   </td><td>     0</td></tr>\n",
              "\t<tr><td>district             </td><td>     0</td></tr>\n",
              "</tbody>\n",
              "</table>\n"
            ]
          },
          "metadata": {
            "tags": []
          }
        }
      ]
    },
    {
      "cell_type": "markdown",
      "metadata": {
        "id": "dDtHDLv-c2RO",
        "colab_type": "text"
      },
      "source": [
        "Clean the data a bit"
      ]
    },
    {
      "cell_type": "code",
      "metadata": {
        "id": "wE-Qu5HxQIyQ",
        "colab_type": "code",
        "colab": {}
      },
      "source": [
        "# We drop the county_name columns.\n",
        "data %<>%\n",
        "  select(-county_name)"
      ],
      "execution_count": 16,
      "outputs": []
    },
    {
      "cell_type": "code",
      "metadata": {
        "id": "ssu6M-eWQmjz",
        "colab_type": "code",
        "colab": {}
      },
      "source": [
        "# Drop all rows where stop_data, time, and driver_gender are missing\n",
        "data %<>%\n",
        "  drop_na(stop_date, stop_time, driver_gender)"
      ],
      "execution_count": 17,
      "outputs": []
    },
    {
      "cell_type": "markdown",
      "metadata": {
        "id": "sVp8FfN0ZgEo",
        "colab_type": "text"
      },
      "source": [
        "# Adjusting dates, times and index"
      ]
    },
    {
      "cell_type": "code",
      "metadata": {
        "id": "VEPzqWdEQ6jG",
        "colab_type": "code",
        "colab": {}
      },
      "source": [
        "# We start by concatenating the two string columns into one that we call combined, using paste()\n",
        "data %<>%\n",
        "  mutate(datetime_stop = paste(stop_date, stop_time, sep = \" \"))"
      ],
      "execution_count": 20,
      "outputs": []
    },
    {
      "cell_type": "code",
      "metadata": {
        "id": "axoxFScD5r5q",
        "colab_type": "code",
        "colab": {
          "base_uri": "https://localhost:8080/",
          "height": 204
        },
        "outputId": "3ffed74f-b7a2-4058-a8f2-dd9d2d4173eb"
      },
      "source": [
        "data %>% \n",
        "  select(datetime_stop) %>%\n",
        "  head()"
      ],
      "execution_count": 21,
      "outputs": [
        {
          "output_type": "display_data",
          "data": {
            "text/plain": [
              "  datetime_stop      \n",
              "1 2005-01-02 01:55:00\n",
              "2 2005-01-02 20:30:00\n",
              "3 2005-01-04 12:55:00\n",
              "4 2005-01-06 01:30:00\n",
              "5 2005-01-12 08:05:00\n",
              "6 2005-01-18 08:15:00"
            ],
            "text/latex": "A tibble: 6 × 1\n\\begin{tabular}{l}\n datetime\\_stop\\\\\n <chr>\\\\\n\\hline\n\t 2005-01-02 01:55:00\\\\\n\t 2005-01-02 20:30:00\\\\\n\t 2005-01-04 12:55:00\\\\\n\t 2005-01-06 01:30:00\\\\\n\t 2005-01-12 08:05:00\\\\\n\t 2005-01-18 08:15:00\\\\\n\\end{tabular}\n",
            "text/markdown": "\nA tibble: 6 × 1\n\n| datetime_stop &lt;chr&gt; |\n|---|\n| 2005-01-02 01:55:00 |\n| 2005-01-02 20:30:00 |\n| 2005-01-04 12:55:00 |\n| 2005-01-06 01:30:00 |\n| 2005-01-12 08:05:00 |\n| 2005-01-18 08:15:00 |\n\n",
            "text/html": [
              "<table>\n",
              "<caption>A tibble: 6 × 1</caption>\n",
              "<thead>\n",
              "\t<tr><th scope=col>datetime_stop</th></tr>\n",
              "\t<tr><th scope=col>&lt;chr&gt;</th></tr>\n",
              "</thead>\n",
              "<tbody>\n",
              "\t<tr><td>2005-01-02 01:55:00</td></tr>\n",
              "\t<tr><td>2005-01-02 20:30:00</td></tr>\n",
              "\t<tr><td>2005-01-04 12:55:00</td></tr>\n",
              "\t<tr><td>2005-01-06 01:30:00</td></tr>\n",
              "\t<tr><td>2005-01-12 08:05:00</td></tr>\n",
              "\t<tr><td>2005-01-18 08:15:00</td></tr>\n",
              "</tbody>\n",
              "</table>\n"
            ]
          },
          "metadata": {
            "tags": []
          }
        }
      ]
    },
    {
      "cell_type": "code",
      "metadata": {
        "id": "A2CCyDIteS-B",
        "colab_type": "code",
        "colab": {}
      },
      "source": [
        "# The lubridate library helps us to transform strings into dates ore datetimes (timestamps)\n",
        "library(lubridate)"
      ],
      "execution_count": 22,
      "outputs": []
    },
    {
      "cell_type": "code",
      "metadata": {
        "id": "-uM36Y1P53z9",
        "colab_type": "code",
        "colab": {}
      },
      "source": [
        "data %<>%\n",
        "  mutate(datetime_stop = datetime_stop %>% as_datetime()) "
      ],
      "execution_count": 24,
      "outputs": []
    },
    {
      "cell_type": "markdown",
      "metadata": {
        "id": "nn8o8JDh7DZw",
        "colab_type": "text"
      },
      "source": [
        "For more on datetimes check:\n",
        "\n",
        "* R for Data Science (Grolemund & Wickham) [Chapter 16](https://r4ds.had.co.nz/dates-and-times.html)\n",
        "* The [`lubridate` documentation](https://lubridate.tidyverse.org/)"
      ]
    },
    {
      "cell_type": "code",
      "metadata": {
        "id": "4QEfjDRm59dz",
        "colab_type": "code",
        "colab": {
          "base_uri": "https://localhost:8080/",
          "height": 204
        },
        "outputId": "521f8368-4076-4697-b706-bd7bf4d0b5e5"
      },
      "source": [
        "data %>% \n",
        "  select(datetime_stop) %>%\n",
        "  head()"
      ],
      "execution_count": 25,
      "outputs": [
        {
          "output_type": "display_data",
          "data": {
            "text/plain": [
              "  datetime_stop      \n",
              "1 2005-01-02 01:55:00\n",
              "2 2005-01-02 20:30:00\n",
              "3 2005-01-04 12:55:00\n",
              "4 2005-01-06 01:30:00\n",
              "5 2005-01-12 08:05:00\n",
              "6 2005-01-18 08:15:00"
            ],
            "text/latex": "A tibble: 6 × 1\n\\begin{tabular}{l}\n datetime\\_stop\\\\\n <dttm>\\\\\n\\hline\n\t 2005-01-02 01:55:00\\\\\n\t 2005-01-02 20:30:00\\\\\n\t 2005-01-04 12:55:00\\\\\n\t 2005-01-06 01:30:00\\\\\n\t 2005-01-12 08:05:00\\\\\n\t 2005-01-18 08:15:00\\\\\n\\end{tabular}\n",
            "text/markdown": "\nA tibble: 6 × 1\n\n| datetime_stop &lt;dttm&gt; |\n|---|\n| 2005-01-02 01:55:00 |\n| 2005-01-02 20:30:00 |\n| 2005-01-04 12:55:00 |\n| 2005-01-06 01:30:00 |\n| 2005-01-12 08:05:00 |\n| 2005-01-18 08:15:00 |\n\n",
            "text/html": [
              "<table>\n",
              "<caption>A tibble: 6 × 1</caption>\n",
              "<thead>\n",
              "\t<tr><th scope=col>datetime_stop</th></tr>\n",
              "\t<tr><th scope=col>&lt;dttm&gt;</th></tr>\n",
              "</thead>\n",
              "<tbody>\n",
              "\t<tr><td>2005-01-02 01:55:00</td></tr>\n",
              "\t<tr><td>2005-01-02 20:30:00</td></tr>\n",
              "\t<tr><td>2005-01-04 12:55:00</td></tr>\n",
              "\t<tr><td>2005-01-06 01:30:00</td></tr>\n",
              "\t<tr><td>2005-01-12 08:05:00</td></tr>\n",
              "\t<tr><td>2005-01-18 08:15:00</td></tr>\n",
              "</tbody>\n",
              "</table>\n"
            ]
          },
          "metadata": {
            "tags": []
          }
        }
      ]
    },
    {
      "cell_type": "markdown",
      "metadata": {
        "id": "kJjNX4UEaO-t",
        "colab_type": "text"
      },
      "source": [
        "# Explore the data step-by-step"
      ]
    },
    {
      "cell_type": "code",
      "metadata": {
        "id": "eJeM5YM4bCQX",
        "colab_type": "code",
        "colab": {
          "base_uri": "https://localhost:8080/",
          "height": 238
        },
        "outputId": "383afd98-6e72-455d-dc15-161f05ecbd85"
      },
      "source": [
        "# Count number of stop outcomes\n",
        "data %>%\n",
        "  group_by(stop_outcome) %>%\n",
        "  summarize(n = n())"
      ],
      "execution_count": 27,
      "outputs": [
        {
          "output_type": "stream",
          "text": [
            "`summarise()` ungrouping output (override with `.groups` argument)\n",
            "\n"
          ],
          "name": "stderr"
        },
        {
          "output_type": "display_data",
          "data": {
            "text/plain": [
              "  stop_outcome     n     \n",
              "1 Arrest Driver     14630\n",
              "2 Arrest Passenger   1973\n",
              "3 Citation         428378\n",
              "4 N/D                3431\n",
              "5 No Action          3332\n",
              "6 Warning           28840"
            ],
            "text/latex": "A tibble: 6 × 2\n\\begin{tabular}{ll}\n stop\\_outcome & n\\\\\n <chr> & <int>\\\\\n\\hline\n\t Arrest Driver    &  14630\\\\\n\t Arrest Passenger &   1973\\\\\n\t Citation         & 428378\\\\\n\t N/D              &   3431\\\\\n\t No Action        &   3332\\\\\n\t Warning          &  28840\\\\\n\\end{tabular}\n",
            "text/markdown": "\nA tibble: 6 × 2\n\n| stop_outcome &lt;chr&gt; | n &lt;int&gt; |\n|---|---|\n| Arrest Driver    |  14630 |\n| Arrest Passenger |   1973 |\n| Citation         | 428378 |\n| N/D              |   3431 |\n| No Action        |   3332 |\n| Warning          |  28840 |\n\n",
            "text/html": [
              "<table>\n",
              "<caption>A tibble: 6 × 2</caption>\n",
              "<thead>\n",
              "\t<tr><th scope=col>stop_outcome</th><th scope=col>n</th></tr>\n",
              "\t<tr><th scope=col>&lt;chr&gt;</th><th scope=col>&lt;int&gt;</th></tr>\n",
              "</thead>\n",
              "<tbody>\n",
              "\t<tr><td>Arrest Driver   </td><td> 14630</td></tr>\n",
              "\t<tr><td>Arrest Passenger</td><td>  1973</td></tr>\n",
              "\t<tr><td>Citation        </td><td>428378</td></tr>\n",
              "\t<tr><td>N/D             </td><td>  3431</td></tr>\n",
              "\t<tr><td>No Action       </td><td>  3332</td></tr>\n",
              "\t<tr><td>Warning         </td><td> 28840</td></tr>\n",
              "</tbody>\n",
              "</table>\n"
            ]
          },
          "metadata": {
            "tags": []
          }
        }
      ]
    },
    {
      "cell_type": "code",
      "metadata": {
        "id": "IKsmPP00aOdD",
        "colab_type": "code",
        "colab": {
          "base_uri": "https://localhost:8080/",
          "height": 204
        },
        "outputId": "28c68734-b8fb-4724-ed67-2ec8de35a97b"
      },
      "source": [
        "# there are many ways to do the same thing. Meet count(), the short form of group_by(x) %>% summarize(n = n())\n",
        "data %>%\n",
        "  count(stop_outcome, sort = TRUE)"
      ],
      "execution_count": 28,
      "outputs": [
        {
          "output_type": "display_data",
          "data": {
            "text/plain": [
              "  stop_outcome     n     \n",
              "1 Citation         428378\n",
              "2 Warning           28840\n",
              "3 Arrest Driver     14630\n",
              "4 N/D                3431\n",
              "5 No Action          3332\n",
              "6 Arrest Passenger   1973"
            ],
            "text/latex": "A tibble: 6 × 2\n\\begin{tabular}{ll}\n stop\\_outcome & n\\\\\n <chr> & <int>\\\\\n\\hline\n\t Citation         & 428378\\\\\n\t Warning          &  28840\\\\\n\t Arrest Driver    &  14630\\\\\n\t N/D              &   3431\\\\\n\t No Action        &   3332\\\\\n\t Arrest Passenger &   1973\\\\\n\\end{tabular}\n",
            "text/markdown": "\nA tibble: 6 × 2\n\n| stop_outcome &lt;chr&gt; | n &lt;int&gt; |\n|---|---|\n| Citation         | 428378 |\n| Warning          |  28840 |\n| Arrest Driver    |  14630 |\n| N/D              |   3431 |\n| No Action        |   3332 |\n| Arrest Passenger |   1973 |\n\n",
            "text/html": [
              "<table>\n",
              "<caption>A tibble: 6 × 2</caption>\n",
              "<thead>\n",
              "\t<tr><th scope=col>stop_outcome</th><th scope=col>n</th></tr>\n",
              "\t<tr><th scope=col>&lt;chr&gt;</th><th scope=col>&lt;int&gt;</th></tr>\n",
              "</thead>\n",
              "<tbody>\n",
              "\t<tr><td>Citation        </td><td>428378</td></tr>\n",
              "\t<tr><td>Warning         </td><td> 28840</td></tr>\n",
              "\t<tr><td>Arrest Driver   </td><td> 14630</td></tr>\n",
              "\t<tr><td>N/D             </td><td>  3431</td></tr>\n",
              "\t<tr><td>No Action       </td><td>  3332</td></tr>\n",
              "\t<tr><td>Arrest Passenger</td><td>  1973</td></tr>\n",
              "</tbody>\n",
              "</table>\n"
            ]
          },
          "metadata": {
            "tags": []
          }
        }
      ]
    },
    {
      "cell_type": "code",
      "metadata": {
        "id": "AnHCxNEEcKEC",
        "colab_type": "code",
        "colab": {
          "base_uri": "https://localhost:8080/",
          "height": 183
        },
        "outputId": "b230afb5-6b7c-4698-ee98-2a45ba045666"
      },
      "source": [
        "# Relative proportions\n",
        "data %>%\n",
        "  count(driver_race, sort = TRUE) %>%\n",
        "  mutate(pct = (n / sum(n)) %>% round(2) )"
      ],
      "execution_count": 29,
      "outputs": [
        {
          "output_type": "display_data",
          "data": {
            "text/plain": [
              "  driver_race n      pct \n",
              "1 White       344716 0.72\n",
              "2 Black        68577 0.14\n",
              "3 Hispanic     53123 0.11\n",
              "4 Asian        12824 0.03\n",
              "5 Other         1344 0.00"
            ],
            "text/latex": "A tibble: 5 × 3\n\\begin{tabular}{lll}\n driver\\_race & n & pct\\\\\n <chr> & <int> & <dbl>\\\\\n\\hline\n\t White    & 344716 & 0.72\\\\\n\t Black    &  68577 & 0.14\\\\\n\t Hispanic &  53123 & 0.11\\\\\n\t Asian    &  12824 & 0.03\\\\\n\t Other    &   1344 & 0.00\\\\\n\\end{tabular}\n",
            "text/markdown": "\nA tibble: 5 × 3\n\n| driver_race &lt;chr&gt; | n &lt;int&gt; | pct &lt;dbl&gt; |\n|---|---|---|\n| White    | 344716 | 0.72 |\n| Black    |  68577 | 0.14 |\n| Hispanic |  53123 | 0.11 |\n| Asian    |  12824 | 0.03 |\n| Other    |   1344 | 0.00 |\n\n",
            "text/html": [
              "<table>\n",
              "<caption>A tibble: 5 × 3</caption>\n",
              "<thead>\n",
              "\t<tr><th scope=col>driver_race</th><th scope=col>n</th><th scope=col>pct</th></tr>\n",
              "\t<tr><th scope=col>&lt;chr&gt;</th><th scope=col>&lt;int&gt;</th><th scope=col>&lt;dbl&gt;</th></tr>\n",
              "</thead>\n",
              "<tbody>\n",
              "\t<tr><td>White   </td><td>344716</td><td>0.72</td></tr>\n",
              "\t<tr><td>Black   </td><td> 68577</td><td>0.14</td></tr>\n",
              "\t<tr><td>Hispanic</td><td> 53123</td><td>0.11</td></tr>\n",
              "\t<tr><td>Asian   </td><td> 12824</td><td>0.03</td></tr>\n",
              "\t<tr><td>Other   </td><td>  1344</td><td>0.00</td></tr>\n",
              "</tbody>\n",
              "</table>\n"
            ]
          },
          "metadata": {
            "tags": []
          }
        }
      ]
    },
    {
      "cell_type": "markdown",
      "metadata": {
        "id": "-NAdom8keZjg",
        "colab_type": "text"
      },
      "source": [
        "### Let's try out some hypotheses\n",
        "\n",
        "One hypothesis could be that the stop_outcome is different for different races. Discrimination?"
      ]
    },
    {
      "cell_type": "code",
      "metadata": {
        "id": "17PlvAQWeBVW",
        "colab_type": "code",
        "colab": {
          "base_uri": "https://localhost:8080/",
          "height": 708
        },
        "outputId": "356bef32-4bcb-4ca1-85a2-0e72923873a6"
      },
      "source": [
        "data %>%\n",
        "count(driver_race, stop_outcome) %>%\n",
        "group_by(driver_race) %>%\n",
        "mutate(pct = (n / sum(n)) %>% round(2) ) \n"
      ],
      "execution_count": 31,
      "outputs": [
        {
          "output_type": "display_data",
          "data": {
            "text/plain": [
              "   driver_race stop_outcome     n      pct \n",
              "1  Asian       Arrest Driver       231 0.02\n",
              "2  Asian       Arrest Passenger     27 0.00\n",
              "3  Asian       Citation          11898 0.93\n",
              "4  Asian       N/D                  60 0.00\n",
              "5  Asian       No Action            75 0.01\n",
              "6  Asian       Warning             533 0.04\n",
              "7  Black       Arrest Driver      3379 0.05\n",
              "8  Black       Arrest Passenger    559 0.01\n",
              "9  Black       Citation          58873 0.86\n",
              "10 Black       N/D                 623 0.01\n",
              "11 Black       No Action           483 0.01\n",
              "12 Black       Warning            4660 0.07\n",
              "13 Hispanic    Arrest Driver      2800 0.05\n",
              "14 Hispanic    Arrest Passenger    356 0.01\n",
              "15 Hispanic    Citation          45272 0.85\n",
              "16 Hispanic    N/D                 478 0.01\n",
              "17 Hispanic    No Action           445 0.01\n",
              "18 Hispanic    Warning            3772 0.07\n",
              "19 Other       Arrest Driver        11 0.01\n",
              "20 Other       Arrest Passenger      3 0.00\n",
              "21 Other       Citation           1234 0.92\n",
              "22 Other       N/D                   6 0.00\n",
              "23 Other       No Action            11 0.01\n",
              "24 Other       Warning              79 0.06\n",
              "25 White       Arrest Driver      8209 0.02\n",
              "26 White       Arrest Passenger   1028 0.00\n",
              "27 White       Citation         311101 0.90\n",
              "28 White       N/D                2264 0.01\n",
              "29 White       No Action          2318 0.01\n",
              "30 White       Warning           19796 0.06"
            ],
            "text/latex": "A grouped\\_df: 30 × 4\n\\begin{tabular}{llll}\n driver\\_race & stop\\_outcome & n & pct\\\\\n <chr> & <chr> & <int> & <dbl>\\\\\n\\hline\n\t Asian    & Arrest Driver    &    231 & 0.02\\\\\n\t Asian    & Arrest Passenger &     27 & 0.00\\\\\n\t Asian    & Citation         &  11898 & 0.93\\\\\n\t Asian    & N/D              &     60 & 0.00\\\\\n\t Asian    & No Action        &     75 & 0.01\\\\\n\t Asian    & Warning          &    533 & 0.04\\\\\n\t Black    & Arrest Driver    &   3379 & 0.05\\\\\n\t Black    & Arrest Passenger &    559 & 0.01\\\\\n\t Black    & Citation         &  58873 & 0.86\\\\\n\t Black    & N/D              &    623 & 0.01\\\\\n\t Black    & No Action        &    483 & 0.01\\\\\n\t Black    & Warning          &   4660 & 0.07\\\\\n\t Hispanic & Arrest Driver    &   2800 & 0.05\\\\\n\t Hispanic & Arrest Passenger &    356 & 0.01\\\\\n\t Hispanic & Citation         &  45272 & 0.85\\\\\n\t Hispanic & N/D              &    478 & 0.01\\\\\n\t Hispanic & No Action        &    445 & 0.01\\\\\n\t Hispanic & Warning          &   3772 & 0.07\\\\\n\t Other    & Arrest Driver    &     11 & 0.01\\\\\n\t Other    & Arrest Passenger &      3 & 0.00\\\\\n\t Other    & Citation         &   1234 & 0.92\\\\\n\t Other    & N/D              &      6 & 0.00\\\\\n\t Other    & No Action        &     11 & 0.01\\\\\n\t Other    & Warning          &     79 & 0.06\\\\\n\t White    & Arrest Driver    &   8209 & 0.02\\\\\n\t White    & Arrest Passenger &   1028 & 0.00\\\\\n\t White    & Citation         & 311101 & 0.90\\\\\n\t White    & N/D              &   2264 & 0.01\\\\\n\t White    & No Action        &   2318 & 0.01\\\\\n\t White    & Warning          &  19796 & 0.06\\\\\n\\end{tabular}\n",
            "text/markdown": "\nA grouped_df: 30 × 4\n\n| driver_race &lt;chr&gt; | stop_outcome &lt;chr&gt; | n &lt;int&gt; | pct &lt;dbl&gt; |\n|---|---|---|---|\n| Asian    | Arrest Driver    |    231 | 0.02 |\n| Asian    | Arrest Passenger |     27 | 0.00 |\n| Asian    | Citation         |  11898 | 0.93 |\n| Asian    | N/D              |     60 | 0.00 |\n| Asian    | No Action        |     75 | 0.01 |\n| Asian    | Warning          |    533 | 0.04 |\n| Black    | Arrest Driver    |   3379 | 0.05 |\n| Black    | Arrest Passenger |    559 | 0.01 |\n| Black    | Citation         |  58873 | 0.86 |\n| Black    | N/D              |    623 | 0.01 |\n| Black    | No Action        |    483 | 0.01 |\n| Black    | Warning          |   4660 | 0.07 |\n| Hispanic | Arrest Driver    |   2800 | 0.05 |\n| Hispanic | Arrest Passenger |    356 | 0.01 |\n| Hispanic | Citation         |  45272 | 0.85 |\n| Hispanic | N/D              |    478 | 0.01 |\n| Hispanic | No Action        |    445 | 0.01 |\n| Hispanic | Warning          |   3772 | 0.07 |\n| Other    | Arrest Driver    |     11 | 0.01 |\n| Other    | Arrest Passenger |      3 | 0.00 |\n| Other    | Citation         |   1234 | 0.92 |\n| Other    | N/D              |      6 | 0.00 |\n| Other    | No Action        |     11 | 0.01 |\n| Other    | Warning          |     79 | 0.06 |\n| White    | Arrest Driver    |   8209 | 0.02 |\n| White    | Arrest Passenger |   1028 | 0.00 |\n| White    | Citation         | 311101 | 0.90 |\n| White    | N/D              |   2264 | 0.01 |\n| White    | No Action        |   2318 | 0.01 |\n| White    | Warning          |  19796 | 0.06 |\n\n",
            "text/html": [
              "<table>\n",
              "<caption>A grouped_df: 30 × 4</caption>\n",
              "<thead>\n",
              "\t<tr><th scope=col>driver_race</th><th scope=col>stop_outcome</th><th scope=col>n</th><th scope=col>pct</th></tr>\n",
              "\t<tr><th scope=col>&lt;chr&gt;</th><th scope=col>&lt;chr&gt;</th><th scope=col>&lt;int&gt;</th><th scope=col>&lt;dbl&gt;</th></tr>\n",
              "</thead>\n",
              "<tbody>\n",
              "\t<tr><td>Asian   </td><td>Arrest Driver   </td><td>   231</td><td>0.02</td></tr>\n",
              "\t<tr><td>Asian   </td><td>Arrest Passenger</td><td>    27</td><td>0.00</td></tr>\n",
              "\t<tr><td>Asian   </td><td>Citation        </td><td> 11898</td><td>0.93</td></tr>\n",
              "\t<tr><td>Asian   </td><td>N/D             </td><td>    60</td><td>0.00</td></tr>\n",
              "\t<tr><td>Asian   </td><td>No Action       </td><td>    75</td><td>0.01</td></tr>\n",
              "\t<tr><td>Asian   </td><td>Warning         </td><td>   533</td><td>0.04</td></tr>\n",
              "\t<tr><td>Black   </td><td>Arrest Driver   </td><td>  3379</td><td>0.05</td></tr>\n",
              "\t<tr><td>Black   </td><td>Arrest Passenger</td><td>   559</td><td>0.01</td></tr>\n",
              "\t<tr><td>Black   </td><td>Citation        </td><td> 58873</td><td>0.86</td></tr>\n",
              "\t<tr><td>Black   </td><td>N/D             </td><td>   623</td><td>0.01</td></tr>\n",
              "\t<tr><td>Black   </td><td>No Action       </td><td>   483</td><td>0.01</td></tr>\n",
              "\t<tr><td>Black   </td><td>Warning         </td><td>  4660</td><td>0.07</td></tr>\n",
              "\t<tr><td>Hispanic</td><td>Arrest Driver   </td><td>  2800</td><td>0.05</td></tr>\n",
              "\t<tr><td>Hispanic</td><td>Arrest Passenger</td><td>   356</td><td>0.01</td></tr>\n",
              "\t<tr><td>Hispanic</td><td>Citation        </td><td> 45272</td><td>0.85</td></tr>\n",
              "\t<tr><td>Hispanic</td><td>N/D             </td><td>   478</td><td>0.01</td></tr>\n",
              "\t<tr><td>Hispanic</td><td>No Action       </td><td>   445</td><td>0.01</td></tr>\n",
              "\t<tr><td>Hispanic</td><td>Warning         </td><td>  3772</td><td>0.07</td></tr>\n",
              "\t<tr><td>Other   </td><td>Arrest Driver   </td><td>    11</td><td>0.01</td></tr>\n",
              "\t<tr><td>Other   </td><td>Arrest Passenger</td><td>     3</td><td>0.00</td></tr>\n",
              "\t<tr><td>Other   </td><td>Citation        </td><td>  1234</td><td>0.92</td></tr>\n",
              "\t<tr><td>Other   </td><td>N/D             </td><td>     6</td><td>0.00</td></tr>\n",
              "\t<tr><td>Other   </td><td>No Action       </td><td>    11</td><td>0.01</td></tr>\n",
              "\t<tr><td>Other   </td><td>Warning         </td><td>    79</td><td>0.06</td></tr>\n",
              "\t<tr><td>White   </td><td>Arrest Driver   </td><td>  8209</td><td>0.02</td></tr>\n",
              "\t<tr><td>White   </td><td>Arrest Passenger</td><td>  1028</td><td>0.00</td></tr>\n",
              "\t<tr><td>White   </td><td>Citation        </td><td>311101</td><td>0.90</td></tr>\n",
              "\t<tr><td>White   </td><td>N/D             </td><td>  2264</td><td>0.01</td></tr>\n",
              "\t<tr><td>White   </td><td>No Action       </td><td>  2318</td><td>0.01</td></tr>\n",
              "\t<tr><td>White   </td><td>Warning         </td><td> 19796</td><td>0.06</td></tr>\n",
              "</tbody>\n",
              "</table>\n"
            ]
          },
          "metadata": {
            "tags": []
          }
        }
      ]
    },
    {
      "cell_type": "markdown",
      "metadata": {
        "id": "Ga_ofnEi8Rxu",
        "colab_type": "text"
      },
      "source": [
        "Nice, can we have that also in a easy to investigate matrix? Sure, lets use `pivot_longer()`. Notice there are many more functions to do that, such as `prob.table`, but I here stay in the `dplyr` framework"
      ]
    },
    {
      "cell_type": "code",
      "metadata": {
        "id": "GNED6BLr9P3Q",
        "colab_type": "code",
        "colab": {
          "base_uri": "https://localhost:8080/",
          "height": 183
        },
        "outputId": "3e1ad52f-a6ac-41e5-d703-630f00ff246f"
      },
      "source": [
        "data %>%\n",
        "  count(driver_race, stop_outcome) %>%\n",
        "  group_by(driver_race) %>%\n",
        "  mutate(pct = (n / sum(n, na.rm = TRUE)) %>% round(2) ) %>%\n",
        "  select(-n) %>%\n",
        "  pivot_wider(names_from = stop_outcome, values_from = pct)"
      ],
      "execution_count": 35,
      "outputs": [
        {
          "output_type": "display_data",
          "data": {
            "text/plain": [
              "  driver_race Arrest Driver Arrest Passenger Citation N/D  No Action Warning\n",
              "1 Asian       0.02          0.00             0.93     0.00 0.01      0.04   \n",
              "2 Black       0.05          0.01             0.86     0.01 0.01      0.07   \n",
              "3 Hispanic    0.05          0.01             0.85     0.01 0.01      0.07   \n",
              "4 Other       0.01          0.00             0.92     0.00 0.01      0.06   \n",
              "5 White       0.02          0.00             0.90     0.01 0.01      0.06   "
            ],
            "text/latex": "A grouped\\_df: 5 × 7\n\\begin{tabular}{lllllll}\n driver\\_race & Arrest Driver & Arrest Passenger & Citation & N/D & No Action & Warning\\\\\n <chr> & <dbl> & <dbl> & <dbl> & <dbl> & <dbl> & <dbl>\\\\\n\\hline\n\t Asian    & 0.02 & 0.00 & 0.93 & 0.00 & 0.01 & 0.04\\\\\n\t Black    & 0.05 & 0.01 & 0.86 & 0.01 & 0.01 & 0.07\\\\\n\t Hispanic & 0.05 & 0.01 & 0.85 & 0.01 & 0.01 & 0.07\\\\\n\t Other    & 0.01 & 0.00 & 0.92 & 0.00 & 0.01 & 0.06\\\\\n\t White    & 0.02 & 0.00 & 0.90 & 0.01 & 0.01 & 0.06\\\\\n\\end{tabular}\n",
            "text/markdown": "\nA grouped_df: 5 × 7\n\n| driver_race &lt;chr&gt; | Arrest Driver &lt;dbl&gt; | Arrest Passenger &lt;dbl&gt; | Citation &lt;dbl&gt; | N/D &lt;dbl&gt; | No Action &lt;dbl&gt; | Warning &lt;dbl&gt; |\n|---|---|---|---|---|---|---|\n| Asian    | 0.02 | 0.00 | 0.93 | 0.00 | 0.01 | 0.04 |\n| Black    | 0.05 | 0.01 | 0.86 | 0.01 | 0.01 | 0.07 |\n| Hispanic | 0.05 | 0.01 | 0.85 | 0.01 | 0.01 | 0.07 |\n| Other    | 0.01 | 0.00 | 0.92 | 0.00 | 0.01 | 0.06 |\n| White    | 0.02 | 0.00 | 0.90 | 0.01 | 0.01 | 0.06 |\n\n",
            "text/html": [
              "<table>\n",
              "<caption>A grouped_df: 5 × 7</caption>\n",
              "<thead>\n",
              "\t<tr><th scope=col>driver_race</th><th scope=col>Arrest Driver</th><th scope=col>Arrest Passenger</th><th scope=col>Citation</th><th scope=col>N/D</th><th scope=col>No Action</th><th scope=col>Warning</th></tr>\n",
              "\t<tr><th scope=col>&lt;chr&gt;</th><th scope=col>&lt;dbl&gt;</th><th scope=col>&lt;dbl&gt;</th><th scope=col>&lt;dbl&gt;</th><th scope=col>&lt;dbl&gt;</th><th scope=col>&lt;dbl&gt;</th><th scope=col>&lt;dbl&gt;</th></tr>\n",
              "</thead>\n",
              "<tbody>\n",
              "\t<tr><td>Asian   </td><td>0.02</td><td>0.00</td><td>0.93</td><td>0.00</td><td>0.01</td><td>0.04</td></tr>\n",
              "\t<tr><td>Black   </td><td>0.05</td><td>0.01</td><td>0.86</td><td>0.01</td><td>0.01</td><td>0.07</td></tr>\n",
              "\t<tr><td>Hispanic</td><td>0.05</td><td>0.01</td><td>0.85</td><td>0.01</td><td>0.01</td><td>0.07</td></tr>\n",
              "\t<tr><td>Other   </td><td>0.01</td><td>0.00</td><td>0.92</td><td>0.00</td><td>0.01</td><td>0.06</td></tr>\n",
              "\t<tr><td>White   </td><td>0.02</td><td>0.00</td><td>0.90</td><td>0.01</td><td>0.01</td><td>0.06</td></tr>\n",
              "</tbody>\n",
              "</table>\n"
            ]
          },
          "metadata": {
            "tags": []
          }
        }
      ]
    },
    {
      "cell_type": "markdown",
      "metadata": {
        "id": "h_qbv-Uy_SW6",
        "colab_type": "text"
      },
      "source": [
        "We might also have a look at nice datasummary. The `summarytools` package has some nice functions to do so."
      ]
    },
    {
      "cell_type": "code",
      "metadata": {
        "id": "uhcXGhZy_glP",
        "colab_type": "code",
        "colab": {}
      },
      "source": [
        "# install.packages(\"summarytools\")\n",
        "# library(summarytools)"
      ],
      "execution_count": null,
      "outputs": []
    },
    {
      "cell_type": "code",
      "metadata": {
        "id": "m5NyNWSS_g1g",
        "colab_type": "code",
        "colab": {}
      },
      "source": [
        "# data %>% dfSummary()"
      ],
      "execution_count": null,
      "outputs": []
    },
    {
      "cell_type": "markdown",
      "metadata": {
        "id": "u6lEpg_WB-o8",
        "colab_type": "text"
      },
      "source": [
        "### Filtering by multiple conditions\n",
        "\n",
        "Again, we can use `dplyr` `filter()` with multiple conditions, or `group_by()` + `summarize()` for summaries in nested groups."
      ]
    },
    {
      "cell_type": "code",
      "metadata": {
        "id": "w5aIu0rwCrky",
        "colab_type": "code",
        "colab": {
          "base_uri": "https://localhost:8080/",
          "height": 428
        },
        "outputId": "011b2470-f3cb-4a7f-f972-98bf9c5f1642"
      },
      "source": [
        "# Filter for being histanic and arrested\n",
        "data %>%\n",
        "  filter(driver_race == \"Hispanic\" & is_arrested == TRUE) %>%\n",
        "  head()"
      ],
      "execution_count": 37,
      "outputs": [
        {
          "output_type": "display_data",
          "data": {
            "text/plain": [
              "  id            state stop_date  stop_time location_raw county_fips\n",
              "1 RI-2005-00175 RI    2005-10-01 00:50:00  Zone X4      NA         \n",
              "2 RI-2005-00180 RI    2005-10-01 01:30:00  Zone X4      NA         \n",
              "3 RI-2005-00784 RI    2005-10-05 07:50:00  Zone X4      NA         \n",
              "4 RI-2005-00785 RI    2005-10-05 07:50:00  Zone X4      NA         \n",
              "5 RI-2005-00914 RI    2005-10-06 02:00:00  Zone X4      NA         \n",
              "6 RI-2005-01057 RI    2005-10-07 00:50:00  Zone X4      NA         \n",
              "  fine_grained_location police_department driver_gender driver_age_raw ⋯\n",
              "1 NA                    500               M             1977           ⋯\n",
              "2 NA                    500               M             1978           ⋯\n",
              "3 NA                    500               M             1957           ⋯\n",
              "4 NA                    500               M             1957           ⋯\n",
              "5 NA                    500               M             1979           ⋯\n",
              "6 NA                    500               M             1973           ⋯\n",
              "  search_type_raw search_type contraband_found stop_outcome  is_arrested\n",
              "1 NA              NA          FALSE            Arrest Driver TRUE       \n",
              "2 NA              NA          FALSE            Arrest Driver TRUE       \n",
              "3 NA              NA          FALSE            Arrest Driver TRUE       \n",
              "4 NA              NA          FALSE            Arrest Driver TRUE       \n",
              "5 NA              NA          FALSE            Arrest Driver TRUE       \n",
              "6 NA              NA          FALSE            Arrest Driver TRUE       \n",
              "  stop_duration out_of_state drugs_related_stop district datetime_stop      \n",
              "1 30+ Min       FALSE        FALSE              Zone X4  2005-10-01 00:50:00\n",
              "2 30+ Min       FALSE        FALSE              Zone X4  2005-10-01 01:30:00\n",
              "3 16-30 Min     FALSE        FALSE              Zone X4  2005-10-05 07:50:00\n",
              "4 16-30 Min     FALSE        FALSE              Zone X4  2005-10-05 07:50:00\n",
              "5 30+ Min       FALSE        FALSE              Zone X4  2005-10-06 02:00:00\n",
              "6 16-30 Min     FALSE        FALSE              Zone X4  2005-10-07 00:50:00"
            ],
            "text/latex": "A tibble: 6 × 26\n\\begin{tabular}{lllllllllllllllllllll}\n id & state & stop\\_date & stop\\_time & location\\_raw & county\\_fips & fine\\_grained\\_location & police\\_department & driver\\_gender & driver\\_age\\_raw & ⋯ & search\\_type\\_raw & search\\_type & contraband\\_found & stop\\_outcome & is\\_arrested & stop\\_duration & out\\_of\\_state & drugs\\_related\\_stop & district & datetime\\_stop\\\\\n <chr> & <chr> & <date> & <time> & <chr> & <lgl> & <lgl> & <chr> & <chr> & <dbl> & ⋯ & <chr> & <chr> & <lgl> & <chr> & <lgl> & <chr> & <lgl> & <lgl> & <chr> & <dttm>\\\\\n\\hline\n\t RI-2005-00175 & RI & 2005-10-01 & 00:50:00 & Zone X4 & NA & NA & 500 & M & 1977 & ⋯ & NA & NA & FALSE & Arrest Driver & TRUE & 30+ Min   & FALSE & FALSE & Zone X4 & 2005-10-01 00:50:00\\\\\n\t RI-2005-00180 & RI & 2005-10-01 & 01:30:00 & Zone X4 & NA & NA & 500 & M & 1978 & ⋯ & NA & NA & FALSE & Arrest Driver & TRUE & 30+ Min   & FALSE & FALSE & Zone X4 & 2005-10-01 01:30:00\\\\\n\t RI-2005-00784 & RI & 2005-10-05 & 07:50:00 & Zone X4 & NA & NA & 500 & M & 1957 & ⋯ & NA & NA & FALSE & Arrest Driver & TRUE & 16-30 Min & FALSE & FALSE & Zone X4 & 2005-10-05 07:50:00\\\\\n\t RI-2005-00785 & RI & 2005-10-05 & 07:50:00 & Zone X4 & NA & NA & 500 & M & 1957 & ⋯ & NA & NA & FALSE & Arrest Driver & TRUE & 16-30 Min & FALSE & FALSE & Zone X4 & 2005-10-05 07:50:00\\\\\n\t RI-2005-00914 & RI & 2005-10-06 & 02:00:00 & Zone X4 & NA & NA & 500 & M & 1979 & ⋯ & NA & NA & FALSE & Arrest Driver & TRUE & 30+ Min   & FALSE & FALSE & Zone X4 & 2005-10-06 02:00:00\\\\\n\t RI-2005-01057 & RI & 2005-10-07 & 00:50:00 & Zone X4 & NA & NA & 500 & M & 1973 & ⋯ & NA & NA & FALSE & Arrest Driver & TRUE & 16-30 Min & FALSE & FALSE & Zone X4 & 2005-10-07 00:50:00\\\\\n\\end{tabular}\n",
            "text/markdown": "\nA tibble: 6 × 26\n\n| id &lt;chr&gt; | state &lt;chr&gt; | stop_date &lt;date&gt; | stop_time &lt;time&gt; | location_raw &lt;chr&gt; | county_fips &lt;lgl&gt; | fine_grained_location &lt;lgl&gt; | police_department &lt;chr&gt; | driver_gender &lt;chr&gt; | driver_age_raw &lt;dbl&gt; | ⋯ ⋯ | search_type_raw &lt;chr&gt; | search_type &lt;chr&gt; | contraband_found &lt;lgl&gt; | stop_outcome &lt;chr&gt; | is_arrested &lt;lgl&gt; | stop_duration &lt;chr&gt; | out_of_state &lt;lgl&gt; | drugs_related_stop &lt;lgl&gt; | district &lt;chr&gt; | datetime_stop &lt;dttm&gt; |\n|---|---|---|---|---|---|---|---|---|---|---|---|---|---|---|---|---|---|---|---|---|\n| RI-2005-00175 | RI | 2005-10-01 | 00:50:00 | Zone X4 | NA | NA | 500 | M | 1977 | ⋯ | NA | NA | FALSE | Arrest Driver | TRUE | 30+ Min   | FALSE | FALSE | Zone X4 | 2005-10-01 00:50:00 |\n| RI-2005-00180 | RI | 2005-10-01 | 01:30:00 | Zone X4 | NA | NA | 500 | M | 1978 | ⋯ | NA | NA | FALSE | Arrest Driver | TRUE | 30+ Min   | FALSE | FALSE | Zone X4 | 2005-10-01 01:30:00 |\n| RI-2005-00784 | RI | 2005-10-05 | 07:50:00 | Zone X4 | NA | NA | 500 | M | 1957 | ⋯ | NA | NA | FALSE | Arrest Driver | TRUE | 16-30 Min | FALSE | FALSE | Zone X4 | 2005-10-05 07:50:00 |\n| RI-2005-00785 | RI | 2005-10-05 | 07:50:00 | Zone X4 | NA | NA | 500 | M | 1957 | ⋯ | NA | NA | FALSE | Arrest Driver | TRUE | 16-30 Min | FALSE | FALSE | Zone X4 | 2005-10-05 07:50:00 |\n| RI-2005-00914 | RI | 2005-10-06 | 02:00:00 | Zone X4 | NA | NA | 500 | M | 1979 | ⋯ | NA | NA | FALSE | Arrest Driver | TRUE | 30+ Min   | FALSE | FALSE | Zone X4 | 2005-10-06 02:00:00 |\n| RI-2005-01057 | RI | 2005-10-07 | 00:50:00 | Zone X4 | NA | NA | 500 | M | 1973 | ⋯ | NA | NA | FALSE | Arrest Driver | TRUE | 16-30 Min | FALSE | FALSE | Zone X4 | 2005-10-07 00:50:00 |\n\n",
            "text/html": [
              "<table>\n",
              "<caption>A tibble: 6 × 26</caption>\n",
              "<thead>\n",
              "\t<tr><th scope=col>id</th><th scope=col>state</th><th scope=col>stop_date</th><th scope=col>stop_time</th><th scope=col>location_raw</th><th scope=col>county_fips</th><th scope=col>fine_grained_location</th><th scope=col>police_department</th><th scope=col>driver_gender</th><th scope=col>driver_age_raw</th><th scope=col>⋯</th><th scope=col>search_type_raw</th><th scope=col>search_type</th><th scope=col>contraband_found</th><th scope=col>stop_outcome</th><th scope=col>is_arrested</th><th scope=col>stop_duration</th><th scope=col>out_of_state</th><th scope=col>drugs_related_stop</th><th scope=col>district</th><th scope=col>datetime_stop</th></tr>\n",
              "\t<tr><th scope=col>&lt;chr&gt;</th><th scope=col>&lt;chr&gt;</th><th scope=col>&lt;date&gt;</th><th scope=col>&lt;time&gt;</th><th scope=col>&lt;chr&gt;</th><th scope=col>&lt;lgl&gt;</th><th scope=col>&lt;lgl&gt;</th><th scope=col>&lt;chr&gt;</th><th scope=col>&lt;chr&gt;</th><th scope=col>&lt;dbl&gt;</th><th scope=col>⋯</th><th scope=col>&lt;chr&gt;</th><th scope=col>&lt;chr&gt;</th><th scope=col>&lt;lgl&gt;</th><th scope=col>&lt;chr&gt;</th><th scope=col>&lt;lgl&gt;</th><th scope=col>&lt;chr&gt;</th><th scope=col>&lt;lgl&gt;</th><th scope=col>&lt;lgl&gt;</th><th scope=col>&lt;chr&gt;</th><th scope=col>&lt;dttm&gt;</th></tr>\n",
              "</thead>\n",
              "<tbody>\n",
              "\t<tr><td>RI-2005-00175</td><td>RI</td><td>2005-10-01</td><td>00:50:00</td><td>Zone X4</td><td>NA</td><td>NA</td><td>500</td><td>M</td><td>1977</td><td>⋯</td><td>NA</td><td>NA</td><td>FALSE</td><td>Arrest Driver</td><td>TRUE</td><td>30+ Min  </td><td>FALSE</td><td>FALSE</td><td>Zone X4</td><td>2005-10-01 00:50:00</td></tr>\n",
              "\t<tr><td>RI-2005-00180</td><td>RI</td><td>2005-10-01</td><td>01:30:00</td><td>Zone X4</td><td>NA</td><td>NA</td><td>500</td><td>M</td><td>1978</td><td>⋯</td><td>NA</td><td>NA</td><td>FALSE</td><td>Arrest Driver</td><td>TRUE</td><td>30+ Min  </td><td>FALSE</td><td>FALSE</td><td>Zone X4</td><td>2005-10-01 01:30:00</td></tr>\n",
              "\t<tr><td>RI-2005-00784</td><td>RI</td><td>2005-10-05</td><td>07:50:00</td><td>Zone X4</td><td>NA</td><td>NA</td><td>500</td><td>M</td><td>1957</td><td>⋯</td><td>NA</td><td>NA</td><td>FALSE</td><td>Arrest Driver</td><td>TRUE</td><td>16-30 Min</td><td>FALSE</td><td>FALSE</td><td>Zone X4</td><td>2005-10-05 07:50:00</td></tr>\n",
              "\t<tr><td>RI-2005-00785</td><td>RI</td><td>2005-10-05</td><td>07:50:00</td><td>Zone X4</td><td>NA</td><td>NA</td><td>500</td><td>M</td><td>1957</td><td>⋯</td><td>NA</td><td>NA</td><td>FALSE</td><td>Arrest Driver</td><td>TRUE</td><td>16-30 Min</td><td>FALSE</td><td>FALSE</td><td>Zone X4</td><td>2005-10-05 07:50:00</td></tr>\n",
              "\t<tr><td>RI-2005-00914</td><td>RI</td><td>2005-10-06</td><td>02:00:00</td><td>Zone X4</td><td>NA</td><td>NA</td><td>500</td><td>M</td><td>1979</td><td>⋯</td><td>NA</td><td>NA</td><td>FALSE</td><td>Arrest Driver</td><td>TRUE</td><td>30+ Min  </td><td>FALSE</td><td>FALSE</td><td>Zone X4</td><td>2005-10-06 02:00:00</td></tr>\n",
              "\t<tr><td>RI-2005-01057</td><td>RI</td><td>2005-10-07</td><td>00:50:00</td><td>Zone X4</td><td>NA</td><td>NA</td><td>500</td><td>M</td><td>1973</td><td>⋯</td><td>NA</td><td>NA</td><td>FALSE</td><td>Arrest Driver</td><td>TRUE</td><td>16-30 Min</td><td>FALSE</td><td>FALSE</td><td>Zone X4</td><td>2005-10-07 00:50:00</td></tr>\n",
              "</tbody>\n",
              "</table>\n"
            ]
          },
          "metadata": {
            "tags": []
          }
        }
      ]
    },
    {
      "cell_type": "markdown",
      "metadata": {
        "id": "PvPqMYi1EjIO",
        "colab_type": "text"
      },
      "source": [
        "##### Rules for filtering\n",
        "\n",
        "- & AND\n",
        "- | OR\n",
        "- Each condition must be surrounded by () and many are possible\n",
        "- == Equality\n",
        "- != Inequality\n",
        "\n",
        "##### Remember, that we are not making any statement about causation. This is purely a correlation exercise (so far!)\n",
        "\n",
        "#### A bit on boolean series\n",
        "\n",
        "True = 1 and False = 0\n",
        "Which means that you can perform calculations on them:"
      ]
    },
    {
      "cell_type": "code",
      "metadata": {
        "id": "bSS8y102DgW3",
        "colab_type": "code",
        "colab": {
          "base_uri": "https://localhost:8080/",
          "height": 330
        },
        "outputId": "81cd740a-159e-4876-ea54-bcd37ad1ed61"
      },
      "source": [
        "# Create a DataFrame of male and female drivers stopped for speeding\n",
        "# We can take a shortcut using `group_by`\n",
        "data %>%\n",
        "  filter(violation == \"Speeding\") %>%\n",
        "  count(driver_gender, stop_outcome) %>%\n",
        "  group_by(driver_gender) %>%\n",
        "    mutate(pct = (n / sum(n, na.rm = TRUE)) %>% round(2) ) %>%\n",
        "  ungroup()\n"
      ],
      "execution_count": 38,
      "outputs": [
        {
          "output_type": "display_data",
          "data": {
            "text/plain": [
              "   driver_gender stop_outcome     n      pct \n",
              "1  F             Arrest Driver       456 0.01\n",
              "2  F             Arrest Passenger     89 0.00\n",
              "3  F             Citation          82168 0.95\n",
              "4  F             N/D                  78 0.00\n",
              "5  F             No Action            45 0.00\n",
              "6  F             Warning            3362 0.04\n",
              "7  M             Arrest Driver      2878 0.02\n",
              "8  M             Arrest Passenger    231 0.00\n",
              "9  M             Citation         172432 0.94\n",
              "10 M             N/D                 216 0.00\n",
              "11 M             No Action           194 0.00\n",
              "12 M             Warning            6587 0.04"
            ],
            "text/latex": "A tibble: 12 × 4\n\\begin{tabular}{llll}\n driver\\_gender & stop\\_outcome & n & pct\\\\\n <chr> & <chr> & <int> & <dbl>\\\\\n\\hline\n\t F & Arrest Driver    &    456 & 0.01\\\\\n\t F & Arrest Passenger &     89 & 0.00\\\\\n\t F & Citation         &  82168 & 0.95\\\\\n\t F & N/D              &     78 & 0.00\\\\\n\t F & No Action        &     45 & 0.00\\\\\n\t F & Warning          &   3362 & 0.04\\\\\n\t M & Arrest Driver    &   2878 & 0.02\\\\\n\t M & Arrest Passenger &    231 & 0.00\\\\\n\t M & Citation         & 172432 & 0.94\\\\\n\t M & N/D              &    216 & 0.00\\\\\n\t M & No Action        &    194 & 0.00\\\\\n\t M & Warning          &   6587 & 0.04\\\\\n\\end{tabular}\n",
            "text/markdown": "\nA tibble: 12 × 4\n\n| driver_gender &lt;chr&gt; | stop_outcome &lt;chr&gt; | n &lt;int&gt; | pct &lt;dbl&gt; |\n|---|---|---|---|\n| F | Arrest Driver    |    456 | 0.01 |\n| F | Arrest Passenger |     89 | 0.00 |\n| F | Citation         |  82168 | 0.95 |\n| F | N/D              |     78 | 0.00 |\n| F | No Action        |     45 | 0.00 |\n| F | Warning          |   3362 | 0.04 |\n| M | Arrest Driver    |   2878 | 0.02 |\n| M | Arrest Passenger |    231 | 0.00 |\n| M | Citation         | 172432 | 0.94 |\n| M | N/D              |    216 | 0.00 |\n| M | No Action        |    194 | 0.00 |\n| M | Warning          |   6587 | 0.04 |\n\n",
            "text/html": [
              "<table>\n",
              "<caption>A tibble: 12 × 4</caption>\n",
              "<thead>\n",
              "\t<tr><th scope=col>driver_gender</th><th scope=col>stop_outcome</th><th scope=col>n</th><th scope=col>pct</th></tr>\n",
              "\t<tr><th scope=col>&lt;chr&gt;</th><th scope=col>&lt;chr&gt;</th><th scope=col>&lt;int&gt;</th><th scope=col>&lt;dbl&gt;</th></tr>\n",
              "</thead>\n",
              "<tbody>\n",
              "\t<tr><td>F</td><td>Arrest Driver   </td><td>   456</td><td>0.01</td></tr>\n",
              "\t<tr><td>F</td><td>Arrest Passenger</td><td>    89</td><td>0.00</td></tr>\n",
              "\t<tr><td>F</td><td>Citation        </td><td> 82168</td><td>0.95</td></tr>\n",
              "\t<tr><td>F</td><td>N/D             </td><td>    78</td><td>0.00</td></tr>\n",
              "\t<tr><td>F</td><td>No Action       </td><td>    45</td><td>0.00</td></tr>\n",
              "\t<tr><td>F</td><td>Warning         </td><td>  3362</td><td>0.04</td></tr>\n",
              "\t<tr><td>M</td><td>Arrest Driver   </td><td>  2878</td><td>0.02</td></tr>\n",
              "\t<tr><td>M</td><td>Arrest Passenger</td><td>   231</td><td>0.00</td></tr>\n",
              "\t<tr><td>M</td><td>Citation        </td><td>172432</td><td>0.94</td></tr>\n",
              "\t<tr><td>M</td><td>N/D             </td><td>   216</td><td>0.00</td></tr>\n",
              "\t<tr><td>M</td><td>No Action       </td><td>   194</td><td>0.00</td></tr>\n",
              "\t<tr><td>M</td><td>Warning         </td><td>  6587</td><td>0.04</td></tr>\n",
              "</tbody>\n",
              "</table>\n"
            ]
          },
          "metadata": {
            "tags": []
          }
        }
      ]
    },
    {
      "cell_type": "markdown",
      "metadata": {
        "id": "Ak5B7o9mGUxt",
        "colab_type": "text"
      },
      "source": [
        "### \"protective frisk\"\n",
        "Sometimes during stops if a search is conducted, the officer also checks the driver if they have a weapon. This is called a \"protective frisk\".\n",
        "Let's try to figure out if men are frisked more than women."
      ]
    },
    {
      "cell_type": "code",
      "metadata": {
        "id": "Wolkp1PwGViY",
        "colab_type": "code",
        "colab": {
          "base_uri": "https://localhost:8080/",
          "height": 624
        },
        "outputId": "96591898-d8af-469d-898a-825e52d361b1"
      },
      "source": [
        "# Look at the different search types performed\n",
        "data %>%\n",
        "  count(search_type, sort = TRUE)\n"
      ],
      "execution_count": 39,
      "outputs": [
        {
          "output_type": "display_data",
          "data": {
            "text/plain": [
              "   search_type                                              n     \n",
              "1  NA                                                       462822\n",
              "2  Incident to Arrest                                         6998\n",
              "3  Probable Cause                                             4989\n",
              "4  Reasonable Suspicion                                       1141\n",
              "5  Inventory                                                  1101\n",
              "6  Protective Frisk                                            879\n",
              "7  Incident to Arrest,Inventory                                649\n",
              "8  Incident to Arrest,Probable Cause                           552\n",
              "9  Probable Cause,Reasonable Suspicion                         334\n",
              "10 Probable Cause,Protective Frisk                             221\n",
              "11 Incident to Arrest,Protective Frisk                         158\n",
              "12 Incident to Arrest,Inventory,Probable Cause                 151\n",
              "13 Inventory,Probable Cause                                    132\n",
              "14 Protective Frisk,Reasonable Suspicion                        83\n",
              "15 Incident to Arrest,Inventory,Protective Frisk                77\n",
              "16 Incident to Arrest,Probable Cause,Protective Frisk           74\n",
              "17 Inventory,Protective Frisk                                   52\n",
              "18 Incident to Arrest,Reasonable Suspicion                      49\n",
              "19 Incident to Arrest,Probable Cause,Reasonable Suspicion       31\n",
              "20 Probable Cause,Protective Frisk,Reasonable Suspicion         31\n",
              "21 Inventory,Reasonable Suspicion                               17\n",
              "22 Inventory,Probable Cause,Protective Frisk                    14\n",
              "23 Incident to Arrest,Inventory,Reasonable Suspicion            12\n",
              "24 Incident to Arrest,Protective Frisk,Reasonable Suspicion      8\n",
              "25 Inventory,Probable Cause,Reasonable Suspicion                 8\n",
              "26 Inventory,Protective Frisk,Reasonable Suspicion               1"
            ],
            "text/latex": "A tibble: 26 × 2\n\\begin{tabular}{ll}\n search\\_type & n\\\\\n <chr> & <int>\\\\\n\\hline\n\t NA                                                       & 462822\\\\\n\t Incident to Arrest                                       &   6998\\\\\n\t Probable Cause                                           &   4989\\\\\n\t Reasonable Suspicion                                     &   1141\\\\\n\t Inventory                                                &   1101\\\\\n\t Protective Frisk                                         &    879\\\\\n\t Incident to Arrest,Inventory                             &    649\\\\\n\t Incident to Arrest,Probable Cause                        &    552\\\\\n\t Probable Cause,Reasonable Suspicion                      &    334\\\\\n\t Probable Cause,Protective Frisk                          &    221\\\\\n\t Incident to Arrest,Protective Frisk                      &    158\\\\\n\t Incident to Arrest,Inventory,Probable Cause              &    151\\\\\n\t Inventory,Probable Cause                                 &    132\\\\\n\t Protective Frisk,Reasonable Suspicion                    &     83\\\\\n\t Incident to Arrest,Inventory,Protective Frisk            &     77\\\\\n\t Incident to Arrest,Probable Cause,Protective Frisk       &     74\\\\\n\t Inventory,Protective Frisk                               &     52\\\\\n\t Incident to Arrest,Reasonable Suspicion                  &     49\\\\\n\t Incident to Arrest,Probable Cause,Reasonable Suspicion   &     31\\\\\n\t Probable Cause,Protective Frisk,Reasonable Suspicion     &     31\\\\\n\t Inventory,Reasonable Suspicion                           &     17\\\\\n\t Inventory,Probable Cause,Protective Frisk                &     14\\\\\n\t Incident to Arrest,Inventory,Reasonable Suspicion        &     12\\\\\n\t Incident to Arrest,Protective Frisk,Reasonable Suspicion &      8\\\\\n\t Inventory,Probable Cause,Reasonable Suspicion            &      8\\\\\n\t Inventory,Protective Frisk,Reasonable Suspicion          &      1\\\\\n\\end{tabular}\n",
            "text/markdown": "\nA tibble: 26 × 2\n\n| search_type &lt;chr&gt; | n &lt;int&gt; |\n|---|---|\n| NA                                                       | 462822 |\n| Incident to Arrest                                       |   6998 |\n| Probable Cause                                           |   4989 |\n| Reasonable Suspicion                                     |   1141 |\n| Inventory                                                |   1101 |\n| Protective Frisk                                         |    879 |\n| Incident to Arrest,Inventory                             |    649 |\n| Incident to Arrest,Probable Cause                        |    552 |\n| Probable Cause,Reasonable Suspicion                      |    334 |\n| Probable Cause,Protective Frisk                          |    221 |\n| Incident to Arrest,Protective Frisk                      |    158 |\n| Incident to Arrest,Inventory,Probable Cause              |    151 |\n| Inventory,Probable Cause                                 |    132 |\n| Protective Frisk,Reasonable Suspicion                    |     83 |\n| Incident to Arrest,Inventory,Protective Frisk            |     77 |\n| Incident to Arrest,Probable Cause,Protective Frisk       |     74 |\n| Inventory,Protective Frisk                               |     52 |\n| Incident to Arrest,Reasonable Suspicion                  |     49 |\n| Incident to Arrest,Probable Cause,Reasonable Suspicion   |     31 |\n| Probable Cause,Protective Frisk,Reasonable Suspicion     |     31 |\n| Inventory,Reasonable Suspicion                           |     17 |\n| Inventory,Probable Cause,Protective Frisk                |     14 |\n| Incident to Arrest,Inventory,Reasonable Suspicion        |     12 |\n| Incident to Arrest,Protective Frisk,Reasonable Suspicion |      8 |\n| Inventory,Probable Cause,Reasonable Suspicion            |      8 |\n| Inventory,Protective Frisk,Reasonable Suspicion          |      1 |\n\n",
            "text/html": [
              "<table>\n",
              "<caption>A tibble: 26 × 2</caption>\n",
              "<thead>\n",
              "\t<tr><th scope=col>search_type</th><th scope=col>n</th></tr>\n",
              "\t<tr><th scope=col>&lt;chr&gt;</th><th scope=col>&lt;int&gt;</th></tr>\n",
              "</thead>\n",
              "<tbody>\n",
              "\t<tr><td>NA                                                      </td><td>462822</td></tr>\n",
              "\t<tr><td>Incident to Arrest                                      </td><td>  6998</td></tr>\n",
              "\t<tr><td>Probable Cause                                          </td><td>  4989</td></tr>\n",
              "\t<tr><td>Reasonable Suspicion                                    </td><td>  1141</td></tr>\n",
              "\t<tr><td>Inventory                                               </td><td>  1101</td></tr>\n",
              "\t<tr><td>Protective Frisk                                        </td><td>   879</td></tr>\n",
              "\t<tr><td>Incident to Arrest,Inventory                            </td><td>   649</td></tr>\n",
              "\t<tr><td>Incident to Arrest,Probable Cause                       </td><td>   552</td></tr>\n",
              "\t<tr><td>Probable Cause,Reasonable Suspicion                     </td><td>   334</td></tr>\n",
              "\t<tr><td>Probable Cause,Protective Frisk                         </td><td>   221</td></tr>\n",
              "\t<tr><td>Incident to Arrest,Protective Frisk                     </td><td>   158</td></tr>\n",
              "\t<tr><td>Incident to Arrest,Inventory,Probable Cause             </td><td>   151</td></tr>\n",
              "\t<tr><td>Inventory,Probable Cause                                </td><td>   132</td></tr>\n",
              "\t<tr><td>Protective Frisk,Reasonable Suspicion                   </td><td>    83</td></tr>\n",
              "\t<tr><td>Incident to Arrest,Inventory,Protective Frisk           </td><td>    77</td></tr>\n",
              "\t<tr><td>Incident to Arrest,Probable Cause,Protective Frisk      </td><td>    74</td></tr>\n",
              "\t<tr><td>Inventory,Protective Frisk                              </td><td>    52</td></tr>\n",
              "\t<tr><td>Incident to Arrest,Reasonable Suspicion                 </td><td>    49</td></tr>\n",
              "\t<tr><td>Incident to Arrest,Probable Cause,Reasonable Suspicion  </td><td>    31</td></tr>\n",
              "\t<tr><td>Probable Cause,Protective Frisk,Reasonable Suspicion    </td><td>    31</td></tr>\n",
              "\t<tr><td>Inventory,Reasonable Suspicion                          </td><td>    17</td></tr>\n",
              "\t<tr><td>Inventory,Probable Cause,Protective Frisk               </td><td>    14</td></tr>\n",
              "\t<tr><td>Incident to Arrest,Inventory,Reasonable Suspicion       </td><td>    12</td></tr>\n",
              "\t<tr><td>Incident to Arrest,Protective Frisk,Reasonable Suspicion</td><td>     8</td></tr>\n",
              "\t<tr><td>Inventory,Probable Cause,Reasonable Suspicion           </td><td>     8</td></tr>\n",
              "\t<tr><td>Inventory,Protective Frisk,Reasonable Suspicion         </td><td>     1</td></tr>\n",
              "</tbody>\n",
              "</table>\n"
            ]
          },
          "metadata": {
            "tags": []
          }
        }
      ]
    },
    {
      "cell_type": "markdown",
      "metadata": {
        "id": "4TxPrg_zGt_b",
        "colab_type": "text"
      },
      "source": [
        "#### Extracting a string\n",
        "As you can see, search type is a multiple choice object/string column. *Incident to Arrest* and *Pribable Cause* are the most commont but combinations are possible. Generally, to work with text strings, the `tioyverse` package `stringr` has many useful functions. We can use the `str_detect` method to filter to filter out cases of interest. This will return a boolean series, which we can assign to a new varioable 'frisk' in our dataframe.\n",
        "\n",
        "**NOTE:** For missing search type values, `str_detect()` would traditionaly output an `NA`, therefore we beforehand replace them with an empty string with `replace_na(\"\")`"
      ]
    },
    {
      "cell_type": "code",
      "metadata": {
        "id": "IiUZ2YSWHEhI",
        "colab_type": "code",
        "colab": {}
      },
      "source": [
        "data %<>%\n",
        "  mutate(frisk = search_type %>% replace_na(\"\") %>% str_detect(\"Protective Frisk\") )"
      ],
      "execution_count": 40,
      "outputs": []
    },
    {
      "cell_type": "code",
      "metadata": {
        "id": "aUir2m_eM4tZ",
        "colab_type": "code",
        "colab": {
          "base_uri": "https://localhost:8080/",
          "height": 34
        },
        "outputId": "0e4abb71-0ca5-43d6-a61e-fa9df70e55d3"
      },
      "source": [
        "# How many frisks have been performed? (1598)\n",
        "# Notice that pull() extracts a vector from a dataframe\n",
        "data %>% pull(frisk) %>% sum()"
      ],
      "execution_count": 41,
      "outputs": [
        {
          "output_type": "display_data",
          "data": {
            "text/plain": [
              "[1] 1598"
            ],
            "text/latex": "1598",
            "text/markdown": "1598",
            "text/html": [
              "1598"
            ]
          },
          "metadata": {
            "tags": []
          }
        }
      ]
    },
    {
      "cell_type": "markdown",
      "metadata": {
        "id": "xR2L9jog9Dph",
        "colab_type": "text"
      },
      "source": [
        "**NOTE:** For more on string manipulation check:\n",
        "\n",
        "* R for Data Science (Grolemund & Wickham) [Chapter 14](https://r4ds.had.co.nz/strings.html)\n",
        "* The [`stringR` documentation](https://stringr.tidyverse.org/)"
      ]
    },
    {
      "cell_type": "markdown",
      "metadata": {
        "id": "kzB0pEKmOwfv",
        "colab_type": "text"
      },
      "source": [
        "## Using the datetime index to select data\n",
        "\n",
        "What if you assume that things got better or worse over the years? Remember the `lubridate` package for handling date-times?"
      ]
    },
    {
      "cell_type": "code",
      "metadata": {
        "id": "MsHIl6f6P5HR",
        "colab_type": "code",
        "colab": {}
      },
      "source": [
        "# Are things getting better or worse over the years?\n",
        "library(lubridate)"
      ],
      "execution_count": 42,
      "outputs": []
    },
    {
      "cell_type": "code",
      "metadata": {
        "id": "WS0Dsb87k0zZ",
        "colab_type": "code",
        "colab": {}
      },
      "source": [
        "data %<>%\n",
        "  mutate(year = year(stop_date), month = month(stop_date), day = day (stop_date)) %>%\n",
        "  drop_na(year)"
      ],
      "execution_count": 43,
      "outputs": []
    },
    {
      "cell_type": "code",
      "metadata": {
        "id": "LHtn6FX2RRIs",
        "colab_type": "code",
        "colab": {
          "base_uri": "https://localhost:8080/",
          "height": 343
        },
        "outputId": "cbc58067-feb9-44b0-df31-1a4d131d9eef"
      },
      "source": [
        "data %>%\n",
        "  group_by(year) %>%\n",
        "  summarize(frisk_mean = frisk %>% mean(na.rm = TRUE) %>% round(4))"
      ],
      "execution_count": 46,
      "outputs": [
        {
          "output_type": "stream",
          "text": [
            "`summarise()` ungrouping output (override with `.groups` argument)\n",
            "\n"
          ],
          "name": "stderr"
        },
        {
          "output_type": "display_data",
          "data": {
            "text/plain": [
              "   year frisk_mean\n",
              "1  2005 0.0092    \n",
              "2  2006 0.0076    \n",
              "3  2007 0.0057    \n",
              "4  2008 0.0038    \n",
              "5  2009 0.0037    \n",
              "6  2010 0.0022    \n",
              "7  2011 0.0015    \n",
              "8  2012 0.0007    \n",
              "9  2013 0.0009    \n",
              "10 2014 0.0021    \n",
              "11 2015 0.0025    "
            ],
            "text/latex": "A tibble: 11 × 2\n\\begin{tabular}{ll}\n year & frisk\\_mean\\\\\n <dbl> & <dbl>\\\\\n\\hline\n\t 2005 & 0.0092\\\\\n\t 2006 & 0.0076\\\\\n\t 2007 & 0.0057\\\\\n\t 2008 & 0.0038\\\\\n\t 2009 & 0.0037\\\\\n\t 2010 & 0.0022\\\\\n\t 2011 & 0.0015\\\\\n\t 2012 & 0.0007\\\\\n\t 2013 & 0.0009\\\\\n\t 2014 & 0.0021\\\\\n\t 2015 & 0.0025\\\\\n\\end{tabular}\n",
            "text/markdown": "\nA tibble: 11 × 2\n\n| year &lt;dbl&gt; | frisk_mean &lt;dbl&gt; |\n|---|---|\n| 2005 | 0.0092 |\n| 2006 | 0.0076 |\n| 2007 | 0.0057 |\n| 2008 | 0.0038 |\n| 2009 | 0.0037 |\n| 2010 | 0.0022 |\n| 2011 | 0.0015 |\n| 2012 | 0.0007 |\n| 2013 | 0.0009 |\n| 2014 | 0.0021 |\n| 2015 | 0.0025 |\n\n",
            "text/html": [
              "<table>\n",
              "<caption>A tibble: 11 × 2</caption>\n",
              "<thead>\n",
              "\t<tr><th scope=col>year</th><th scope=col>frisk_mean</th></tr>\n",
              "\t<tr><th scope=col>&lt;dbl&gt;</th><th scope=col>&lt;dbl&gt;</th></tr>\n",
              "</thead>\n",
              "<tbody>\n",
              "\t<tr><td>2005</td><td>0.0092</td></tr>\n",
              "\t<tr><td>2006</td><td>0.0076</td></tr>\n",
              "\t<tr><td>2007</td><td>0.0057</td></tr>\n",
              "\t<tr><td>2008</td><td>0.0038</td></tr>\n",
              "\t<tr><td>2009</td><td>0.0037</td></tr>\n",
              "\t<tr><td>2010</td><td>0.0022</td></tr>\n",
              "\t<tr><td>2011</td><td>0.0015</td></tr>\n",
              "\t<tr><td>2012</td><td>0.0007</td></tr>\n",
              "\t<tr><td>2013</td><td>0.0009</td></tr>\n",
              "\t<tr><td>2014</td><td>0.0021</td></tr>\n",
              "\t<tr><td>2015</td><td>0.0025</td></tr>\n",
              "</tbody>\n",
              "</table>\n"
            ]
          },
          "metadata": {
            "tags": []
          }
        }
      ]
    },
    {
      "cell_type": "markdown",
      "metadata": {
        "id": "ARlqX6N1UNvL",
        "colab_type": "text"
      },
      "source": [
        "We can obviously also plot that with `ggplot`.\n",
        "\n",
        "Note: We use `gather()` to create tidy data where multiple variables can be jointly plotted."
      ]
    },
    {
      "cell_type": "code",
      "metadata": {
        "id": "9P5AaAGAjT_H",
        "colab_type": "code",
        "colab": {
          "base_uri": "https://localhost:8080/",
          "height": 471
        },
        "outputId": "9bc50dd9-7d0e-4258-bc04-5b2dcbe3d63b"
      },
      "source": [
        "data %>%\n",
        "  group_by(year) %>%\n",
        "  summarize(frisk = frisk %>% mean(na.rm = TRUE), \n",
        "            is_arrested = is_arrested %>% mean(na.rm = TRUE))  %>%\n",
        "  pivot_longer(-year, names_to = 'type', values_to = 'pct') %>%\n",
        "  ggplot(aes(x = year, y = pct, color = type)) +\n",
        "    geom_line()"
      ],
      "execution_count": 58,
      "outputs": [
        {
          "output_type": "stream",
          "text": [
            "`summarise()` ungrouping output (override with `.groups` argument)\n",
            "\n"
          ],
          "name": "stderr"
        },
        {
          "output_type": "display_data",
          "data": {
            "image/png": "[encoded data removed]",
            "text/plain": [
              "plot without title"
            ]
          },
          "metadata": {
            "tags": [],
            "image/png": {
              "width": 420,
              "height": 420
            }
          }
        }
      ]
    },
    {
      "cell_type": "markdown",
      "metadata": {
        "id": "Fcyh6ICPnPSv",
        "colab_type": "text"
      },
      "source": [
        "We can do grouping on different levels. For instance, lets see in which months we have most arrests"
      ]
    },
    {
      "cell_type": "code",
      "metadata": {
        "id": "uSiaqQoLnOJg",
        "colab_type": "code",
        "colab": {
          "base_uri": "https://localhost:8080/",
          "height": 437
        },
        "outputId": "d35a4f61-81c0-41bd-b73c-878a800f0817"
      },
      "source": [
        "data %>% \n",
        "  filter(is_arrested == TRUE) %>%\n",
        "  ggplot(aes(x = month)) + \n",
        "    geom_bar()"
      ],
      "execution_count": 59,
      "outputs": [
        {
          "output_type": "display_data",
          "data": {
            "image/png": "[encoded data removed]",
            "text/plain": [
              "plot without title"
            ]
          },
          "metadata": {
            "tags": [],
            "image/png": {
              "width": 420,
              "height": 420
            }
          }
        }
      ]
    },
    {
      "cell_type": "markdown",
      "metadata": {
        "id": "XXbN5bbupaIs",
        "colab_type": "text"
      },
      "source": [
        "We see arrest rates are higher in the winter than in the summer. "
      ]
    },
    {
      "cell_type": "markdown",
      "metadata": {
        "id": "s-UhBprsqy0b",
        "colab_type": "text"
      },
      "source": [
        "### Transforming categorical in to nummerical data\n",
        "\n",
        "You may have noted the `stop_duration` column in our dataset and that it is an `string` variable. That means, we can use it as a dimension but not to perform any calculations. What we can do, is map the categories to a reasonable nummerical value using a mapping dictionary the  `recode` command."
      ]
    },
    {
      "cell_type": "code",
      "metadata": {
        "id": "MHzCtWgjrLHL",
        "colab_type": "code",
        "colab": {
          "base_uri": "https://localhost:8080/",
          "height": 183
        },
        "outputId": "3c32a6c5-5090-44e1-8e4d-7e83514e0d9a"
      },
      "source": [
        "data %>%\n",
        "  count(stop_duration)"
      ],
      "execution_count": 60,
      "outputs": [
        {
          "output_type": "display_data",
          "data": {
            "text/plain": [
              "  stop_duration n     \n",
              "1 0-15 Min      386646\n",
              "2 1                  5\n",
              "3 16-30 Min      76320\n",
              "4 2                  1\n",
              "5 30+ Min        17612"
            ],
            "text/latex": "A tibble: 5 × 2\n\\begin{tabular}{ll}\n stop\\_duration & n\\\\\n <chr> & <int>\\\\\n\\hline\n\t 0-15 Min  & 386646\\\\\n\t 1         &      5\\\\\n\t 16-30 Min &  76320\\\\\n\t 2         &      1\\\\\n\t 30+ Min   &  17612\\\\\n\\end{tabular}\n",
            "text/markdown": "\nA tibble: 5 × 2\n\n| stop_duration &lt;chr&gt; | n &lt;int&gt; |\n|---|---|\n| 0-15 Min  | 386646 |\n| 1         |      5 |\n| 16-30 Min |  76320 |\n| 2         |      1 |\n| 30+ Min   |  17612 |\n\n",
            "text/html": [
              "<table>\n",
              "<caption>A tibble: 5 × 2</caption>\n",
              "<thead>\n",
              "\t<tr><th scope=col>stop_duration</th><th scope=col>n</th></tr>\n",
              "\t<tr><th scope=col>&lt;chr&gt;</th><th scope=col>&lt;int&gt;</th></tr>\n",
              "</thead>\n",
              "<tbody>\n",
              "\t<tr><td>0-15 Min </td><td>386646</td></tr>\n",
              "\t<tr><td>1        </td><td>     5</td></tr>\n",
              "\t<tr><td>16-30 Min</td><td> 76320</td></tr>\n",
              "\t<tr><td>2        </td><td>     1</td></tr>\n",
              "\t<tr><td>30+ Min  </td><td> 17612</td></tr>\n",
              "</tbody>\n",
              "</table>\n"
            ]
          },
          "metadata": {
            "tags": []
          }
        }
      ]
    },
    {
      "cell_type": "code",
      "metadata": {
        "id": "op6fIxUAtUlN",
        "colab_type": "code",
        "colab": {
          "base_uri": "https://localhost:8080/",
          "height": 119
        },
        "outputId": "730b00ec-eb49-448b-f977-db95a0388b96"
      },
      "source": [
        "data %<>%\n",
        "  mutate(stop_duration_num =  recode(stop_duration, \"0-15 Min\" = 7.5 , \"16-30 Min\" = 23, \"30+ Min\" = 45, ) )"
      ],
      "execution_count": 63,
      "outputs": [
        {
          "output_type": "stream",
          "text": [
            "Warning message:\n",
            "“Problem with `mutate()` input `stop_duration_num`.\n",
            "\u001b[34mℹ\u001b[39m Unreplaced values treated as NA as .x is not compatible. Please specify replacements exhaustively or supply .default\n",
            "\u001b[34mℹ\u001b[39m Input `stop_duration_num` is `recode(...)`.”\n",
            "Warning message:\n",
            "“Unreplaced values treated as NA as .x is not compatible. Please specify replacements exhaustively or supply .default”\n"
          ],
          "name": "stderr"
        }
      ]
    },
    {
      "cell_type": "code",
      "metadata": {
        "id": "utjLymoKyZIP",
        "colab_type": "code",
        "colab": {
          "base_uri": "https://localhost:8080/",
          "height": 162
        },
        "outputId": "7a1996d6-daaa-4cd4-e27b-be57ef1490af"
      },
      "source": [
        "data %>%\n",
        "  count(stop_duration_num)"
      ],
      "execution_count": 64,
      "outputs": [
        {
          "output_type": "display_data",
          "data": {
            "text/plain": [
              "  stop_duration_num n     \n",
              "1  7.5              386646\n",
              "2 23.0               76320\n",
              "3 45.0               17612\n",
              "4   NA                   6"
            ],
            "text/latex": "A tibble: 4 × 2\n\\begin{tabular}{ll}\n stop\\_duration\\_num & n\\\\\n <dbl> & <int>\\\\\n\\hline\n\t  7.5 & 386646\\\\\n\t 23.0 &  76320\\\\\n\t 45.0 &  17612\\\\\n\t   NA &      6\\\\\n\\end{tabular}\n",
            "text/markdown": "\nA tibble: 4 × 2\n\n| stop_duration_num &lt;dbl&gt; | n &lt;int&gt; |\n|---|---|\n|  7.5 | 386646 |\n| 23.0 |  76320 |\n| 45.0 |  17612 |\n|   NA |      6 |\n\n",
            "text/html": [
              "<table>\n",
              "<caption>A tibble: 4 × 2</caption>\n",
              "<thead>\n",
              "\t<tr><th scope=col>stop_duration_num</th><th scope=col>n</th></tr>\n",
              "\t<tr><th scope=col>&lt;dbl&gt;</th><th scope=col>&lt;int&gt;</th></tr>\n",
              "</thead>\n",
              "<tbody>\n",
              "\t<tr><td> 7.5</td><td>386646</td></tr>\n",
              "\t<tr><td>23.0</td><td> 76320</td></tr>\n",
              "\t<tr><td>45.0</td><td> 17612</td></tr>\n",
              "\t<tr><td>  NA</td><td>     6</td></tr>\n",
              "</tbody>\n",
              "</table>\n"
            ]
          },
          "metadata": {
            "tags": []
          }
        }
      ]
    },
    {
      "cell_type": "markdown",
      "metadata": {
        "id": "fWnfRf82y2m-",
        "colab_type": "text"
      },
      "source": [
        "#### A quick intro to loops\n",
        "\n",
        "Is quite covered in my R intro."
      ]
    },
    {
      "cell_type": "code",
      "metadata": {
        "id": "1xKqNU_sy4FS",
        "colab_type": "code",
        "colab": {
          "base_uri": "https://localhost:8080/",
          "height": 471
        },
        "outputId": "3184197d-b105-4dda-ffd1-aae4740c6c71"
      },
      "source": [
        "# Let's do everything in one line\n",
        "data %>%\n",
        "  group_by(violation_raw) %>%\n",
        "  summarize(stop_duration_num = mean(stop_duration_num, na.rm = TRUE))  %>%\n",
        "  ggplot(aes(x = violation_raw, y = stop_duration_num)) +\n",
        "  geom_col() +\n",
        "    coord_flip() # To have horizontal bars"
      ],
      "execution_count": 65,
      "outputs": [
        {
          "output_type": "stream",
          "text": [
            "`summarise()` ungrouping output (override with `.groups` argument)\n",
            "\n"
          ],
          "name": "stderr"
        },
        {
          "output_type": "display_data",
          "data": {
            "image/png": "[encoded data removed]",
            "text/plain": [
              "plot without title"
            ]
          },
          "metadata": {
            "tags": [],
            "image/png": {
              "width": 420,
              "height": 420
            }
          }
        }
      ]
    },
    {
      "cell_type": "markdown",
      "metadata": {
        "id": "d0rMoLao2yUH",
        "colab_type": "text"
      },
      "source": [
        "#### Cutting intervals\n",
        "\n",
        "`driver_age` contains the (duh) the age of the driver. It's a continuous nummerical value and thus good for more advanced analysis but perhaps a bit to detailed for exploration.\n",
        "\n",
        "More instrumental in that context would be to slice that variable up into ordered categries corresponding to age-populations of interest, say \"teen\", \"20s\", \"30s\" etc."
      ]
    },
    {
      "cell_type": "code",
      "metadata": {
        "id": "yCyRLjil3RJ6",
        "colab_type": "code",
        "colab": {
          "base_uri": "https://localhost:8080/",
          "height": 153
        },
        "outputId": "08efe562-d3bd-4f42-f71a-5cddb4140927"
      },
      "source": [
        "data %>% \n",
        "  select(driver_age) %>% \n",
        "  summary()"
      ],
      "execution_count": 66,
      "outputs": [
        {
          "output_type": "display_data",
          "data": {
            "text/plain": [
              "   driver_age   \n",
              " Min.   :15.00  \n",
              " 1st Qu.:23.00  \n",
              " Median :31.00  \n",
              " Mean   :33.98  \n",
              " 3rd Qu.:43.00  \n",
              " Max.   :99.00  \n",
              " NA's   :1638   "
            ]
          },
          "metadata": {
            "tags": []
          }
        }
      ]
    },
    {
      "cell_type": "code",
      "metadata": {
        "id": "7CVc2PjW3j67",
        "colab_type": "code",
        "colab": {
          "base_uri": "https://localhost:8080/",
          "height": 204
        },
        "outputId": "0da815b4-366c-4df7-cc2c-6bcee5d0cce2"
      },
      "source": [
        "# Create categories with cut()\n",
        "data %>% \n",
        "  mutate(driver_age_cat = driver_age %>% cut(5)) %>%\n",
        "  head()"
      ],
      "execution_count": 67,
      "outputs": [
        {
          "output_type": "display_data",
          "data": {
            "text/plain": [
              "  id            state stop_date  stop_time location_raw county_fips\n",
              "1 RI-2005-00001 RI    2005-01-02 01:55:00  Zone K1      NA         \n",
              "2 RI-2005-00002 RI    2005-01-02 20:30:00  Zone X4      NA         \n",
              "3 RI-2005-00004 RI    2005-01-04 12:55:00  Zone X4      NA         \n",
              "4 RI-2005-00005 RI    2005-01-06 01:30:00  Zone X4      NA         \n",
              "5 RI-2005-00006 RI    2005-01-12 08:05:00  Zone X1      NA         \n",
              "6 RI-2005-00007 RI    2005-01-18 08:15:00  Zone K3      NA         \n",
              "  fine_grained_location police_department driver_gender driver_age_raw ⋯\n",
              "1 NA                    600               M             1985           ⋯\n",
              "2 NA                    500               M             1987           ⋯\n",
              "3 NA                    500               M             1986           ⋯\n",
              "4 NA                    500               M             1978           ⋯\n",
              "5 NA                    000               M             1973           ⋯\n",
              "6 NA                    300               M             1965           ⋯\n",
              "  out_of_state drugs_related_stop district datetime_stop       frisk year month\n",
              "1 FALSE        FALSE              Zone K1  2005-01-02 01:55:00 FALSE 2005 1    \n",
              "2 FALSE        FALSE              Zone X4  2005-01-02 20:30:00 FALSE 2005 1    \n",
              "3 FALSE        FALSE              Zone X4  2005-01-04 12:55:00 FALSE 2005 1    \n",
              "4 FALSE        FALSE              Zone X4  2005-01-06 01:30:00 FALSE 2005 1    \n",
              "5  TRUE        FALSE              Zone X1  2005-01-12 08:05:00 FALSE 2005 1    \n",
              "6  TRUE        FALSE              Zone K3  2005-01-18 08:15:00 FALSE 2005 1    \n",
              "  day stop_duration_num driver_age_cat\n",
              "1  2   7.5              (14.9,31.8]   \n",
              "2  2  23.0              (14.9,31.8]   \n",
              "3  4   7.5              (14.9,31.8]   \n",
              "4  6   7.5              (14.9,31.8]   \n",
              "5 12  45.0              (31.8,48.6]   \n",
              "6 18   7.5              (31.8,48.6]   "
            ],
            "text/latex": "A tibble: 6 × 32\n\\begin{tabular}{lllllllllllllllllllll}\n id & state & stop\\_date & stop\\_time & location\\_raw & county\\_fips & fine\\_grained\\_location & police\\_department & driver\\_gender & driver\\_age\\_raw & ⋯ & out\\_of\\_state & drugs\\_related\\_stop & district & datetime\\_stop & frisk & year & month & day & stop\\_duration\\_num & driver\\_age\\_cat\\\\\n <chr> & <chr> & <date> & <time> & <chr> & <lgl> & <lgl> & <chr> & <chr> & <dbl> & ⋯ & <lgl> & <lgl> & <chr> & <dttm> & <lgl> & <dbl> & <dbl> & <int> & <dbl> & <fct>\\\\\n\\hline\n\t RI-2005-00001 & RI & 2005-01-02 & 01:55:00 & Zone K1 & NA & NA & 600 & M & 1985 & ⋯ & FALSE & FALSE & Zone K1 & 2005-01-02 01:55:00 & FALSE & 2005 & 1 &  2 &  7.5 & (14.9,31.8{]}\\\\\n\t RI-2005-00002 & RI & 2005-01-02 & 20:30:00 & Zone X4 & NA & NA & 500 & M & 1987 & ⋯ & FALSE & FALSE & Zone X4 & 2005-01-02 20:30:00 & FALSE & 2005 & 1 &  2 & 23.0 & (14.9,31.8{]}\\\\\n\t RI-2005-00004 & RI & 2005-01-04 & 12:55:00 & Zone X4 & NA & NA & 500 & M & 1986 & ⋯ & FALSE & FALSE & Zone X4 & 2005-01-04 12:55:00 & FALSE & 2005 & 1 &  4 &  7.5 & (14.9,31.8{]}\\\\\n\t RI-2005-00005 & RI & 2005-01-06 & 01:30:00 & Zone X4 & NA & NA & 500 & M & 1978 & ⋯ & FALSE & FALSE & Zone X4 & 2005-01-06 01:30:00 & FALSE & 2005 & 1 &  6 &  7.5 & (14.9,31.8{]}\\\\\n\t RI-2005-00006 & RI & 2005-01-12 & 08:05:00 & Zone X1 & NA & NA & 000 & M & 1973 & ⋯ &  TRUE & FALSE & Zone X1 & 2005-01-12 08:05:00 & FALSE & 2005 & 1 & 12 & 45.0 & (31.8,48.6{]}\\\\\n\t RI-2005-00007 & RI & 2005-01-18 & 08:15:00 & Zone K3 & NA & NA & 300 & M & 1965 & ⋯ &  TRUE & FALSE & Zone K3 & 2005-01-18 08:15:00 & FALSE & 2005 & 1 & 18 &  7.5 & (31.8,48.6{]}\\\\\n\\end{tabular}\n",
            "text/markdown": "\nA tibble: 6 × 32\n\n| id &lt;chr&gt; | state &lt;chr&gt; | stop_date &lt;date&gt; | stop_time &lt;time&gt; | location_raw &lt;chr&gt; | county_fips &lt;lgl&gt; | fine_grained_location &lt;lgl&gt; | police_department &lt;chr&gt; | driver_gender &lt;chr&gt; | driver_age_raw &lt;dbl&gt; | ⋯ ⋯ | out_of_state &lt;lgl&gt; | drugs_related_stop &lt;lgl&gt; | district &lt;chr&gt; | datetime_stop &lt;dttm&gt; | frisk &lt;lgl&gt; | year &lt;dbl&gt; | month &lt;dbl&gt; | day &lt;int&gt; | stop_duration_num &lt;dbl&gt; | driver_age_cat &lt;fct&gt; |\n|---|---|---|---|---|---|---|---|---|---|---|---|---|---|---|---|---|---|---|---|---|\n| RI-2005-00001 | RI | 2005-01-02 | 01:55:00 | Zone K1 | NA | NA | 600 | M | 1985 | ⋯ | FALSE | FALSE | Zone K1 | 2005-01-02 01:55:00 | FALSE | 2005 | 1 |  2 |  7.5 | (14.9,31.8] |\n| RI-2005-00002 | RI | 2005-01-02 | 20:30:00 | Zone X4 | NA | NA | 500 | M | 1987 | ⋯ | FALSE | FALSE | Zone X4 | 2005-01-02 20:30:00 | FALSE | 2005 | 1 |  2 | 23.0 | (14.9,31.8] |\n| RI-2005-00004 | RI | 2005-01-04 | 12:55:00 | Zone X4 | NA | NA | 500 | M | 1986 | ⋯ | FALSE | FALSE | Zone X4 | 2005-01-04 12:55:00 | FALSE | 2005 | 1 |  4 |  7.5 | (14.9,31.8] |\n| RI-2005-00005 | RI | 2005-01-06 | 01:30:00 | Zone X4 | NA | NA | 500 | M | 1978 | ⋯ | FALSE | FALSE | Zone X4 | 2005-01-06 01:30:00 | FALSE | 2005 | 1 |  6 |  7.5 | (14.9,31.8] |\n| RI-2005-00006 | RI | 2005-01-12 | 08:05:00 | Zone X1 | NA | NA | 000 | M | 1973 | ⋯ |  TRUE | FALSE | Zone X1 | 2005-01-12 08:05:00 | FALSE | 2005 | 1 | 12 | 45.0 | (31.8,48.6] |\n| RI-2005-00007 | RI | 2005-01-18 | 08:15:00 | Zone K3 | NA | NA | 300 | M | 1965 | ⋯ |  TRUE | FALSE | Zone K3 | 2005-01-18 08:15:00 | FALSE | 2005 | 1 | 18 |  7.5 | (31.8,48.6] |\n\n",
            "text/html": [
              "<table>\n",
              "<caption>A tibble: 6 × 32</caption>\n",
              "<thead>\n",
              "\t<tr><th scope=col>id</th><th scope=col>state</th><th scope=col>stop_date</th><th scope=col>stop_time</th><th scope=col>location_raw</th><th scope=col>county_fips</th><th scope=col>fine_grained_location</th><th scope=col>police_department</th><th scope=col>driver_gender</th><th scope=col>driver_age_raw</th><th scope=col>⋯</th><th scope=col>out_of_state</th><th scope=col>drugs_related_stop</th><th scope=col>district</th><th scope=col>datetime_stop</th><th scope=col>frisk</th><th scope=col>year</th><th scope=col>month</th><th scope=col>day</th><th scope=col>stop_duration_num</th><th scope=col>driver_age_cat</th></tr>\n",
              "\t<tr><th scope=col>&lt;chr&gt;</th><th scope=col>&lt;chr&gt;</th><th scope=col>&lt;date&gt;</th><th scope=col>&lt;time&gt;</th><th scope=col>&lt;chr&gt;</th><th scope=col>&lt;lgl&gt;</th><th scope=col>&lt;lgl&gt;</th><th scope=col>&lt;chr&gt;</th><th scope=col>&lt;chr&gt;</th><th scope=col>&lt;dbl&gt;</th><th scope=col>⋯</th><th scope=col>&lt;lgl&gt;</th><th scope=col>&lt;lgl&gt;</th><th scope=col>&lt;chr&gt;</th><th scope=col>&lt;dttm&gt;</th><th scope=col>&lt;lgl&gt;</th><th scope=col>&lt;dbl&gt;</th><th scope=col>&lt;dbl&gt;</th><th scope=col>&lt;int&gt;</th><th scope=col>&lt;dbl&gt;</th><th scope=col>&lt;fct&gt;</th></tr>\n",
              "</thead>\n",
              "<tbody>\n",
              "\t<tr><td>RI-2005-00001</td><td>RI</td><td>2005-01-02</td><td>01:55:00</td><td>Zone K1</td><td>NA</td><td>NA</td><td>600</td><td>M</td><td>1985</td><td>⋯</td><td>FALSE</td><td>FALSE</td><td>Zone K1</td><td>2005-01-02 01:55:00</td><td>FALSE</td><td>2005</td><td>1</td><td> 2</td><td> 7.5</td><td>(14.9,31.8]</td></tr>\n",
              "\t<tr><td>RI-2005-00002</td><td>RI</td><td>2005-01-02</td><td>20:30:00</td><td>Zone X4</td><td>NA</td><td>NA</td><td>500</td><td>M</td><td>1987</td><td>⋯</td><td>FALSE</td><td>FALSE</td><td>Zone X4</td><td>2005-01-02 20:30:00</td><td>FALSE</td><td>2005</td><td>1</td><td> 2</td><td>23.0</td><td>(14.9,31.8]</td></tr>\n",
              "\t<tr><td>RI-2005-00004</td><td>RI</td><td>2005-01-04</td><td>12:55:00</td><td>Zone X4</td><td>NA</td><td>NA</td><td>500</td><td>M</td><td>1986</td><td>⋯</td><td>FALSE</td><td>FALSE</td><td>Zone X4</td><td>2005-01-04 12:55:00</td><td>FALSE</td><td>2005</td><td>1</td><td> 4</td><td> 7.5</td><td>(14.9,31.8]</td></tr>\n",
              "\t<tr><td>RI-2005-00005</td><td>RI</td><td>2005-01-06</td><td>01:30:00</td><td>Zone X4</td><td>NA</td><td>NA</td><td>500</td><td>M</td><td>1978</td><td>⋯</td><td>FALSE</td><td>FALSE</td><td>Zone X4</td><td>2005-01-06 01:30:00</td><td>FALSE</td><td>2005</td><td>1</td><td> 6</td><td> 7.5</td><td>(14.9,31.8]</td></tr>\n",
              "\t<tr><td>RI-2005-00006</td><td>RI</td><td>2005-01-12</td><td>08:05:00</td><td>Zone X1</td><td>NA</td><td>NA</td><td>000</td><td>M</td><td>1973</td><td>⋯</td><td> TRUE</td><td>FALSE</td><td>Zone X1</td><td>2005-01-12 08:05:00</td><td>FALSE</td><td>2005</td><td>1</td><td>12</td><td>45.0</td><td>(31.8,48.6]</td></tr>\n",
              "\t<tr><td>RI-2005-00007</td><td>RI</td><td>2005-01-18</td><td>08:15:00</td><td>Zone K3</td><td>NA</td><td>NA</td><td>300</td><td>M</td><td>1965</td><td>⋯</td><td> TRUE</td><td>FALSE</td><td>Zone K3</td><td>2005-01-18 08:15:00</td><td>FALSE</td><td>2005</td><td>1</td><td>18</td><td> 7.5</td><td>(31.8,48.6]</td></tr>\n",
              "</tbody>\n",
              "</table>\n"
            ]
          },
          "metadata": {
            "tags": []
          }
        }
      ]
    },
    {
      "cell_type": "code",
      "metadata": {
        "id": "Ddg4mJKy32Ag",
        "colab_type": "code",
        "colab": {
          "base_uri": "https://localhost:8080/",
          "height": 204
        },
        "outputId": "fbabe964-d79b-4164-e8ad-ada6fcd2892a"
      },
      "source": [
        "# We can also provide labels\n",
        "labs <- c(\"teen\", \"20s\", \"30s\", \"40s\", \"50+\")\n",
        "\n",
        "# Create categories with cut()\n",
        "data %>% \n",
        "  mutate(driver_age_cat =  driver_age %>% cut(breaks = c(20,30,40,50))) %>% \n",
        "  head()"
      ],
      "execution_count": 69,
      "outputs": [
        {
          "output_type": "display_data",
          "data": {
            "text/plain": [
              "  id            state stop_date  stop_time location_raw county_fips\n",
              "1 RI-2005-00001 RI    2005-01-02 01:55:00  Zone K1      NA         \n",
              "2 RI-2005-00002 RI    2005-01-02 20:30:00  Zone X4      NA         \n",
              "3 RI-2005-00004 RI    2005-01-04 12:55:00  Zone X4      NA         \n",
              "4 RI-2005-00005 RI    2005-01-06 01:30:00  Zone X4      NA         \n",
              "5 RI-2005-00006 RI    2005-01-12 08:05:00  Zone X1      NA         \n",
              "6 RI-2005-00007 RI    2005-01-18 08:15:00  Zone K3      NA         \n",
              "  fine_grained_location police_department driver_gender driver_age_raw ⋯\n",
              "1 NA                    600               M             1985           ⋯\n",
              "2 NA                    500               M             1987           ⋯\n",
              "3 NA                    500               M             1986           ⋯\n",
              "4 NA                    500               M             1978           ⋯\n",
              "5 NA                    000               M             1973           ⋯\n",
              "6 NA                    300               M             1965           ⋯\n",
              "  out_of_state drugs_related_stop district datetime_stop       frisk year month\n",
              "1 FALSE        FALSE              Zone K1  2005-01-02 01:55:00 FALSE 2005 1    \n",
              "2 FALSE        FALSE              Zone X4  2005-01-02 20:30:00 FALSE 2005 1    \n",
              "3 FALSE        FALSE              Zone X4  2005-01-04 12:55:00 FALSE 2005 1    \n",
              "4 FALSE        FALSE              Zone X4  2005-01-06 01:30:00 FALSE 2005 1    \n",
              "5  TRUE        FALSE              Zone X1  2005-01-12 08:05:00 FALSE 2005 1    \n",
              "6  TRUE        FALSE              Zone K3  2005-01-18 08:15:00 FALSE 2005 1    \n",
              "  day stop_duration_num driver_age_cat\n",
              "1  2   7.5              NA            \n",
              "2  2  23.0              NA            \n",
              "3  4   7.5              NA            \n",
              "4  6   7.5              (20,30]       \n",
              "5 12  45.0              (30,40]       \n",
              "6 18   7.5              (30,40]       "
            ],
            "text/latex": "A tibble: 6 × 32\n\\begin{tabular}{lllllllllllllllllllll}\n id & state & stop\\_date & stop\\_time & location\\_raw & county\\_fips & fine\\_grained\\_location & police\\_department & driver\\_gender & driver\\_age\\_raw & ⋯ & out\\_of\\_state & drugs\\_related\\_stop & district & datetime\\_stop & frisk & year & month & day & stop\\_duration\\_num & driver\\_age\\_cat\\\\\n <chr> & <chr> & <date> & <time> & <chr> & <lgl> & <lgl> & <chr> & <chr> & <dbl> & ⋯ & <lgl> & <lgl> & <chr> & <dttm> & <lgl> & <dbl> & <dbl> & <int> & <dbl> & <fct>\\\\\n\\hline\n\t RI-2005-00001 & RI & 2005-01-02 & 01:55:00 & Zone K1 & NA & NA & 600 & M & 1985 & ⋯ & FALSE & FALSE & Zone K1 & 2005-01-02 01:55:00 & FALSE & 2005 & 1 &  2 &  7.5 & NA     \\\\\n\t RI-2005-00002 & RI & 2005-01-02 & 20:30:00 & Zone X4 & NA & NA & 500 & M & 1987 & ⋯ & FALSE & FALSE & Zone X4 & 2005-01-02 20:30:00 & FALSE & 2005 & 1 &  2 & 23.0 & NA     \\\\\n\t RI-2005-00004 & RI & 2005-01-04 & 12:55:00 & Zone X4 & NA & NA & 500 & M & 1986 & ⋯ & FALSE & FALSE & Zone X4 & 2005-01-04 12:55:00 & FALSE & 2005 & 1 &  4 &  7.5 & NA     \\\\\n\t RI-2005-00005 & RI & 2005-01-06 & 01:30:00 & Zone X4 & NA & NA & 500 & M & 1978 & ⋯ & FALSE & FALSE & Zone X4 & 2005-01-06 01:30:00 & FALSE & 2005 & 1 &  6 &  7.5 & (20,30{]}\\\\\n\t RI-2005-00006 & RI & 2005-01-12 & 08:05:00 & Zone X1 & NA & NA & 000 & M & 1973 & ⋯ &  TRUE & FALSE & Zone X1 & 2005-01-12 08:05:00 & FALSE & 2005 & 1 & 12 & 45.0 & (30,40{]}\\\\\n\t RI-2005-00007 & RI & 2005-01-18 & 08:15:00 & Zone K3 & NA & NA & 300 & M & 1965 & ⋯ &  TRUE & FALSE & Zone K3 & 2005-01-18 08:15:00 & FALSE & 2005 & 1 & 18 &  7.5 & (30,40{]}\\\\\n\\end{tabular}\n",
            "text/markdown": "\nA tibble: 6 × 32\n\n| id &lt;chr&gt; | state &lt;chr&gt; | stop_date &lt;date&gt; | stop_time &lt;time&gt; | location_raw &lt;chr&gt; | county_fips &lt;lgl&gt; | fine_grained_location &lt;lgl&gt; | police_department &lt;chr&gt; | driver_gender &lt;chr&gt; | driver_age_raw &lt;dbl&gt; | ⋯ ⋯ | out_of_state &lt;lgl&gt; | drugs_related_stop &lt;lgl&gt; | district &lt;chr&gt; | datetime_stop &lt;dttm&gt; | frisk &lt;lgl&gt; | year &lt;dbl&gt; | month &lt;dbl&gt; | day &lt;int&gt; | stop_duration_num &lt;dbl&gt; | driver_age_cat &lt;fct&gt; |\n|---|---|---|---|---|---|---|---|---|---|---|---|---|---|---|---|---|---|---|---|---|\n| RI-2005-00001 | RI | 2005-01-02 | 01:55:00 | Zone K1 | NA | NA | 600 | M | 1985 | ⋯ | FALSE | FALSE | Zone K1 | 2005-01-02 01:55:00 | FALSE | 2005 | 1 |  2 |  7.5 | NA      |\n| RI-2005-00002 | RI | 2005-01-02 | 20:30:00 | Zone X4 | NA | NA | 500 | M | 1987 | ⋯ | FALSE | FALSE | Zone X4 | 2005-01-02 20:30:00 | FALSE | 2005 | 1 |  2 | 23.0 | NA      |\n| RI-2005-00004 | RI | 2005-01-04 | 12:55:00 | Zone X4 | NA | NA | 500 | M | 1986 | ⋯ | FALSE | FALSE | Zone X4 | 2005-01-04 12:55:00 | FALSE | 2005 | 1 |  4 |  7.5 | NA      |\n| RI-2005-00005 | RI | 2005-01-06 | 01:30:00 | Zone X4 | NA | NA | 500 | M | 1978 | ⋯ | FALSE | FALSE | Zone X4 | 2005-01-06 01:30:00 | FALSE | 2005 | 1 |  6 |  7.5 | (20,30] |\n| RI-2005-00006 | RI | 2005-01-12 | 08:05:00 | Zone X1 | NA | NA | 000 | M | 1973 | ⋯ |  TRUE | FALSE | Zone X1 | 2005-01-12 08:05:00 | FALSE | 2005 | 1 | 12 | 45.0 | (30,40] |\n| RI-2005-00007 | RI | 2005-01-18 | 08:15:00 | Zone K3 | NA | NA | 300 | M | 1965 | ⋯ |  TRUE | FALSE | Zone K3 | 2005-01-18 08:15:00 | FALSE | 2005 | 1 | 18 |  7.5 | (30,40] |\n\n",
            "text/html": [
              "<table>\n",
              "<caption>A tibble: 6 × 32</caption>\n",
              "<thead>\n",
              "\t<tr><th scope=col>id</th><th scope=col>state</th><th scope=col>stop_date</th><th scope=col>stop_time</th><th scope=col>location_raw</th><th scope=col>county_fips</th><th scope=col>fine_grained_location</th><th scope=col>police_department</th><th scope=col>driver_gender</th><th scope=col>driver_age_raw</th><th scope=col>⋯</th><th scope=col>out_of_state</th><th scope=col>drugs_related_stop</th><th scope=col>district</th><th scope=col>datetime_stop</th><th scope=col>frisk</th><th scope=col>year</th><th scope=col>month</th><th scope=col>day</th><th scope=col>stop_duration_num</th><th scope=col>driver_age_cat</th></tr>\n",
              "\t<tr><th scope=col>&lt;chr&gt;</th><th scope=col>&lt;chr&gt;</th><th scope=col>&lt;date&gt;</th><th scope=col>&lt;time&gt;</th><th scope=col>&lt;chr&gt;</th><th scope=col>&lt;lgl&gt;</th><th scope=col>&lt;lgl&gt;</th><th scope=col>&lt;chr&gt;</th><th scope=col>&lt;chr&gt;</th><th scope=col>&lt;dbl&gt;</th><th scope=col>⋯</th><th scope=col>&lt;lgl&gt;</th><th scope=col>&lt;lgl&gt;</th><th scope=col>&lt;chr&gt;</th><th scope=col>&lt;dttm&gt;</th><th scope=col>&lt;lgl&gt;</th><th scope=col>&lt;dbl&gt;</th><th scope=col>&lt;dbl&gt;</th><th scope=col>&lt;int&gt;</th><th scope=col>&lt;dbl&gt;</th><th scope=col>&lt;fct&gt;</th></tr>\n",
              "</thead>\n",
              "<tbody>\n",
              "\t<tr><td>RI-2005-00001</td><td>RI</td><td>2005-01-02</td><td>01:55:00</td><td>Zone K1</td><td>NA</td><td>NA</td><td>600</td><td>M</td><td>1985</td><td>⋯</td><td>FALSE</td><td>FALSE</td><td>Zone K1</td><td>2005-01-02 01:55:00</td><td>FALSE</td><td>2005</td><td>1</td><td> 2</td><td> 7.5</td><td>NA     </td></tr>\n",
              "\t<tr><td>RI-2005-00002</td><td>RI</td><td>2005-01-02</td><td>20:30:00</td><td>Zone X4</td><td>NA</td><td>NA</td><td>500</td><td>M</td><td>1987</td><td>⋯</td><td>FALSE</td><td>FALSE</td><td>Zone X4</td><td>2005-01-02 20:30:00</td><td>FALSE</td><td>2005</td><td>1</td><td> 2</td><td>23.0</td><td>NA     </td></tr>\n",
              "\t<tr><td>RI-2005-00004</td><td>RI</td><td>2005-01-04</td><td>12:55:00</td><td>Zone X4</td><td>NA</td><td>NA</td><td>500</td><td>M</td><td>1986</td><td>⋯</td><td>FALSE</td><td>FALSE</td><td>Zone X4</td><td>2005-01-04 12:55:00</td><td>FALSE</td><td>2005</td><td>1</td><td> 4</td><td> 7.5</td><td>NA     </td></tr>\n",
              "\t<tr><td>RI-2005-00005</td><td>RI</td><td>2005-01-06</td><td>01:30:00</td><td>Zone X4</td><td>NA</td><td>NA</td><td>500</td><td>M</td><td>1978</td><td>⋯</td><td>FALSE</td><td>FALSE</td><td>Zone X4</td><td>2005-01-06 01:30:00</td><td>FALSE</td><td>2005</td><td>1</td><td> 6</td><td> 7.5</td><td>(20,30]</td></tr>\n",
              "\t<tr><td>RI-2005-00006</td><td>RI</td><td>2005-01-12</td><td>08:05:00</td><td>Zone X1</td><td>NA</td><td>NA</td><td>000</td><td>M</td><td>1973</td><td>⋯</td><td> TRUE</td><td>FALSE</td><td>Zone X1</td><td>2005-01-12 08:05:00</td><td>FALSE</td><td>2005</td><td>1</td><td>12</td><td>45.0</td><td>(30,40]</td></tr>\n",
              "\t<tr><td>RI-2005-00007</td><td>RI</td><td>2005-01-18</td><td>08:15:00</td><td>Zone K3</td><td>NA</td><td>NA</td><td>300</td><td>M</td><td>1965</td><td>⋯</td><td> TRUE</td><td>FALSE</td><td>Zone K3</td><td>2005-01-18 08:15:00</td><td>FALSE</td><td>2005</td><td>1</td><td>18</td><td> 7.5</td><td>(30,40]</td></tr>\n",
              "</tbody>\n",
              "</table>\n"
            ]
          },
          "metadata": {
            "tags": []
          }
        }
      ]
    }
  ]
}