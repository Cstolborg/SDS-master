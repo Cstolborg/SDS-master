{
  "nbformat": 4,
  "nbformat_minor": 0,
  "metadata": {
    "Rmd_header": {
      "author": "Daniel S. Hain (dsh@business.aau.dk)",
      "date": "Updated `r format(Sys.time(), '%B %d, %Y')`",
      "output": {
        "html_notebook": {
          "code_folding": "show",
          "df_print": "paged",
          "theme": "flatly",
          "toc": true,
          "toc_depth": 2,
          "toc_float": {
            "collapsed": false
          }
        }
      },
      "title": "Application: Unsupervised machine Learning (UML) in R"
    },
    "kernelspec": {
      "display_name": "R",
      "language": "R",
      "name": "ir"
    },
    "language_info": {
      "codemirror_mode": "r",
      "file_extension": ".r",
      "mimetype": "text/x-r-source",
      "name": "R",
      "pygments_lexer": "r"
    },
    "colab": {
      "name": "UML_application_R.ipynb",
      "provenance": [],
      "include_colab_link": true
    }
  },
  "cells": [
    {
      "cell_type": "markdown",
      "metadata": {
        "id": "view-in-github",
        "colab_type": "text"
      },
      "source": [
        "<a href=\"https://colab.research.google.com/github/SDS-AAU/SDS-master/blob/master/M1/Notebooks/UML_application_R.ipynb\" target=\"_parent\"><img src=\"https://colab.research.google.com/assets/colab-badge.svg\" alt=\"Open In Colab\"/></a>"
      ]
    },
    {
      "cell_type": "code",
      "metadata": {
        "autoscroll": false,
        "id": "52NlgyZ_sU_V",
        "colab_type": "code",
        "colab": {}
      },
      "source": [
        "### Load packages\n",
        "library(tidyverse) # Collection of all the good stuff like dplyr, ggplot2 ect.\n",
        "library(magrittr) # For extra-piping operators (eg. %<>%)"
      ],
      "execution_count": null,
      "outputs": []
    },
    {
      "cell_type": "markdown",
      "metadata": {
        "id": "JXSRFIfIsU_Y",
        "colab_type": "text"
      },
      "source": [
        "\n",
        "# Introduction to the dataset\n",
        "The palmer penguin dataset is excellent for EDA and UML. It contains different measures for 3 species of closely related penguins from several islands in Antarctica.\n",
        "\n",
        "Let's have a look:\n",
        "\n",
        "Penguin datast: https://github.com/allisonhorst/palmerpenguins\n",
        "![](https://github.com/allisonhorst/palmerpenguins/raw/master/man/figures/lter_penguins.png)\n",
        "\n",
        "## Obtaining the Data\n",
        "\n"
      ]
    },
    {
      "cell_type": "code",
      "metadata": {
        "autoscroll": false,
        "id": "vxytW-ussU_Y",
        "colab_type": "code",
        "colab": {}
      },
      "source": [
        "# load the dataset from GitHub - original source\n",
        "penguins <- read_csv(\"https://github.com/allisonhorst/palmerpenguins/raw/5b5891f01b52ae26ad8cb9755ec93672f49328a8/data/penguins_size.csv\")"
      ],
      "execution_count": null,
      "outputs": []
    },
    {
      "cell_type": "code",
      "metadata": {
        "autoscroll": false,
        "id": "wS5iS0pDsU_b",
        "colab_type": "code",
        "colab": {}
      },
      "source": [
        "penguins %>% head()"
      ],
      "execution_count": null,
      "outputs": []
    },
    {
      "cell_type": "code",
      "metadata": {
        "autoscroll": false,
        "id": "xaSls8G5sU_d",
        "colab_type": "code",
        "colab": {}
      },
      "source": [
        "penguins %>% glimpse()"
      ],
      "execution_count": null,
      "outputs": []
    },
    {
      "cell_type": "code",
      "metadata": {
        "autoscroll": false,
        "id": "qnL3GvbJsU_f",
        "colab_type": "code",
        "colab": {}
      },
      "source": [
        "# drop all missing observations\n",
        "penguins %<>% drop_na()"
      ],
      "execution_count": null,
      "outputs": []
    },
    {
      "cell_type": "markdown",
      "metadata": {
        "id": "dqvxS4tQsU_i",
        "colab_type": "text"
      },
      "source": [
        "\n",
        "## Brief EDA\n",
        "\n"
      ]
    },
    {
      "cell_type": "code",
      "metadata": {
        "autoscroll": false,
        "id": "feF-BuYpsU_i",
        "colab_type": "code",
        "colab": {}
      },
      "source": [
        "penguins %>% count(species_short)"
      ],
      "execution_count": null,
      "outputs": []
    },
    {
      "cell_type": "code",
      "metadata": {
        "autoscroll": false,
        "id": "dQbthj2osU_m",
        "colab_type": "code",
        "colab": {}
      },
      "source": [
        "penguins %>% count(species_short, island) %>%\n",
        "  pivot_wider(names_from = island, values_from = n, values_fill = 0)"
      ],
      "execution_count": null,
      "outputs": []
    },
    {
      "cell_type": "markdown",
      "metadata": {
        "id": "tNpMhedesU_o",
        "colab_type": "text"
      },
      "source": [
        "![](https://github.com/allisonhorst/palmerpenguins/raw/master/man/figures/culmen_depth.png)\n",
        "\n"
      ]
    },
    {
      "cell_type": "code",
      "metadata": {
        "Rmd_chunk_options": "fig.height=12, fig.width=12",
        "autoscroll": false,
        "id": "ya78vtT4sU_p",
        "colab_type": "code",
        "colab": {}
      },
      "source": [
        "library(GGally)\n",
        "penguins %>% ggpairs(legend = 1,\n",
        "                     columns = c(3:6),\n",
        "                     mapping = ggplot2::aes(colour=species_short, alpha = 0.5),\n",
        "                     lower = list(continuous = wrap(\"smooth\", alpha = 0.3, size=0.1))) +\n",
        "  theme(legend.position = \"bottom\")"
      ],
      "execution_count": null,
      "outputs": []
    },
    {
      "cell_type": "markdown",
      "metadata": {
        "id": "bdCwp6mnsU_r",
        "colab_type": "text"
      },
      "source": [
        "\n",
        "Overall we can see some general tendencies in the data:\n",
        "\n",
        "*   Being \"bio\" data, it is rather normally distributed\n",
        "*   Gentoos are on average heavier\n",
        "*   Glipper length is correlated with body mass for all species\n",
        "*   Culmen length and depth is correlated with body mass for gentoos but not so much for the other species (visual analysis...no proper calculation)\n",
        "*   Overall there is obviousely some correlation between the variables that can be 'exploited' for dimensionality reduction.\n",
        "\n",
        "Before we can do any machine learning, it is a good idea to scale the data. Most algorithms are not agnostic to magnitudes and bringing all variables on the same scale is therefore crucial.\n",
        "\n",
        "# Unsupervised Machine Learning (With Penguins)\n",
        "\n",
        "## Dimensionality reduction\n",
        "\n",
        "### PRincipal Component Analysis\n",
        "\n",
        "* We start with the most popular classical dimensionality reduction technique, Principal_component-Analysis (PCA).\n",
        "* To execute the PCA, we'll here use the [`FactoMineR`](http://factominer.free.fr/) package to compute PCA, and  [`factoextra`](https://github.com/kassambara/factoextra) for extracting and visualizing the results.\n",
        "* `FactoMineR` is a great and my favorite package for computing principal component methods in R. It's very easy to use and very well documented.\n",
        "* There are other alternatives around, but I since quite some time find it to be the most powerful and convenient one. `factoextra` is just a convenient `ggplot` wrapper that easily produces nice and informative diagnistic plots for a variety of DR and clustering techniques.\n",
        "\n"
      ]
    },
    {
      "cell_type": "code",
      "metadata": {
        "Rmd_chunk_options": "warning=FALSE,echo=FALSE",
        "autoscroll": false,
        "id": "6L3wAKomsU_r",
        "colab_type": "code",
        "colab": {}
      },
      "source": [
        "# # Install packages if necessary\n",
        "# install.packages('FactoMineR')\n",
        "# install.packages('factoextra')\n",
        "\n",
        "# Load packages\n",
        "library(FactoMineR)\n",
        "library(factoextra)"
      ],
      "execution_count": null,
      "outputs": []
    },
    {
      "cell_type": "markdown",
      "metadata": {
        "id": "F5m7MI5ksU_u",
        "colab_type": "text"
      },
      "source": [
        "\n",
        "Lets do that. Notice the `scale.unit = TRUE` argument, which you should ALWAYS use. Afterwards, we take a look at the resulting list object.\n",
        "\n"
      ]
    },
    {
      "cell_type": "code",
      "metadata": {
        "autoscroll": false,
        "id": "c9SRQfPXsU_u",
        "colab_type": "code",
        "colab": {}
      },
      "source": [
        "res_pca <- penguins %>%\n",
        "  select_if(is_numeric) %>%\n",
        "  PCA(scale.unit = TRUE, graph = FALSE)"
      ],
      "execution_count": null,
      "outputs": []
    },
    {
      "cell_type": "markdown",
      "metadata": {
        "id": "5UaVPGS3sU_w",
        "colab_type": "text"
      },
      "source": [
        "\n",
        "\n",
        "Ok, lets see look at the \"screeplot\", a diagnostic visualization that displays the variance explained by every component. We here use the `factoextra` package, like for all following visualizations with the `fviz_` prefix. Notice that the output in every case is an `ggplot2` object, which could be complemented with further layers.\n",
        "\n"
      ]
    },
    {
      "cell_type": "code",
      "metadata": {
        "Rmd_chunk_options": "fig.align='center'",
        "autoscroll": false,
        "id": "RKiqmX1_sU_x",
        "colab_type": "code",
        "colab": {}
      },
      "source": [
        "res_pca %>%\n",
        "  fviz_screeplot(addlabels = TRUE,\n",
        "                 ncp = 10,\n",
        "                 ggtheme = theme_gray())"
      ],
      "execution_count": null,
      "outputs": []
    },
    {
      "cell_type": "markdown",
      "metadata": {
        "id": "0Dk-2xfAsU_z",
        "colab_type": "text"
      },
      "source": [
        "\n",
        "As expected, we see that the first component already captures a main share of the variance. Let's look at the corresponding eigenvalues.\n",
        "\n"
      ]
    },
    {
      "cell_type": "code",
      "metadata": {
        "autoscroll": false,
        "id": "t0PbLCRnsU_z",
        "colab_type": "code",
        "colab": {}
      },
      "source": [
        "res_pca$eig %>% as_tibble()"
      ],
      "execution_count": null,
      "outputs": []
    },
    {
      "cell_type": "markdown",
      "metadata": {
        "id": "dXdYFMMxsU_1",
        "colab_type": "text"
      },
      "source": [
        "\n",
        "For feature selection, our rule-of-thumb is to only include components with an eigenvalue > 1, meaning that we in this case would have reduced our data to 4 dimensions. Lets project them onto 2-dimensional space and take a look at the vector of our features. In this case, you could easily condens all information in one dimension. We will include the second as well for 2-d plotting, but otherwise we have to have no hard feelings to discard the rest.\n",
        "\n",
        "\n"
      ]
    },
    {
      "cell_type": "code",
      "metadata": {
        "Rmd_chunk_options": "fig.width=10,fig.height=10,fig.align='center'",
        "autoscroll": false,
        "id": "q_Gm8BNLsU_1",
        "colab_type": "code",
        "colab": {}
      },
      "source": [
        "res_pca %>%\n",
        "  fviz_pca_var(alpha.var = \"cos2\",\n",
        "               col.var = \"contrib\",\n",
        "               gradient.cols = c(\"#00AFBB\", \"#E7B800\", \"#FC4E07\"),\n",
        "               repel = TRUE,\n",
        "               ggtheme = theme_gray())"
      ],
      "execution_count": null,
      "outputs": []
    },
    {
      "cell_type": "markdown",
      "metadata": {
        "id": "a2D0184BsU_3",
        "colab_type": "text"
      },
      "source": [
        "\n",
        "Lets look at the numeric values.\n",
        "\n"
      ]
    },
    {
      "cell_type": "code",
      "metadata": {
        "autoscroll": false,
        "id": "hbXRJzoKsU_3",
        "colab_type": "code",
        "colab": {}
      },
      "source": [
        "res_pca %>% get_pca_var()"
      ],
      "execution_count": null,
      "outputs": []
    },
    {
      "cell_type": "code",
      "metadata": {
        "autoscroll": false,
        "id": "eq015a07sU_6",
        "colab_type": "code",
        "colab": {}
      },
      "source": [
        "res_pca$var$coord %>%\n",
        "  as_tibble() %>%\n",
        "  head()"
      ],
      "execution_count": null,
      "outputs": []
    },
    {
      "cell_type": "markdown",
      "metadata": {
        "id": "t8yxynfcsU_8",
        "colab_type": "text"
      },
      "source": [
        "\n",
        "The results-object also contains the observations loading on the components.\n",
        "\n"
      ]
    },
    {
      "cell_type": "code",
      "metadata": {
        "autoscroll": false,
        "id": "g2gWzsHNsU_8",
        "colab_type": "code",
        "colab": {}
      },
      "source": [
        "res_pca %>% get_pca_var()"
      ],
      "execution_count": null,
      "outputs": []
    },
    {
      "cell_type": "code",
      "metadata": {
        "autoscroll": false,
        "id": "_H8Ebu9vsU_-",
        "colab_type": "code",
        "colab": {}
      },
      "source": [
        "res_pca$ind$coord %>%\n",
        "  as_tibble() %>%\n",
        "  head()"
      ],
      "execution_count": null,
      "outputs": []
    },
    {
      "cell_type": "markdown",
      "metadata": {
        "id": "G_vMtRjksU__",
        "colab_type": "text"
      },
      "source": [
        "\n",
        "Let's visualize our observations and the variable-loading together in the space of the first 2 components.\n",
        "\n"
      ]
    },
    {
      "cell_type": "code",
      "metadata": {
        "Rmd_chunk_options": "fig.width=15,fig.height=10,fig.align='center'",
        "autoscroll": false,
        "id": "L7VSeLO-sVAA",
        "colab_type": "code",
        "colab": {}
      },
      "source": [
        "res_pca %>%\n",
        "  fviz_pca_biplot(alpha.ind = \"cos2\",\n",
        "                  col.ind = \"contrib\",\n",
        "                  gradient.cols = c(\"#00AFBB\", \"#E7B800\", \"#FC4E07\"),\n",
        "                  geom = \"point\",\n",
        "                  ggtheme = theme_gray())"
      ],
      "execution_count": null,
      "outputs": []
    },
    {
      "cell_type": "markdown",
      "metadata": {
        "id": "MX3e_U1_sVAC",
        "colab_type": "text"
      },
      "source": [
        "\n",
        "\n",
        "We cal also briefly check if our dimensionality reductions is helpful to differentiate between `species`.\n",
        "\n"
      ]
    },
    {
      "cell_type": "code",
      "metadata": {
        "Rmd_chunk_options": "fig.width=10,fig.height=10,fig.align='center'",
        "autoscroll": false,
        "id": "EMTLObl-sVAC",
        "colab_type": "code",
        "colab": {}
      },
      "source": [
        "res_pca %>%\n",
        "  fviz_pca_biplot(alpha.ind = \"cos2\",\n",
        "                  geom = \"point\",\n",
        "                  habillage = penguins %>% pull(species_short) %>% factor(),\n",
        "                  addEllipses = TRUE,\n",
        "                  ggtheme = theme_gray())"
      ],
      "execution_count": null,
      "outputs": []
    },
    {
      "cell_type": "markdown",
      "metadata": {
        "id": "TvEhrIHxsVAE",
        "colab_type": "text"
      },
      "source": [
        "\n",
        "### Umap\n",
        "\n",
        "Now let's try out UMAP, a new dimensionality reduction algorightm that comes with many interesting features: https://umap-learn.readthedocs.io/en/latest/\n",
        "\n",
        "You want to learn more from the guy behind the algorithm?\n",
        "https://youtu.be/nq6iPZVUxZU check out that excellent talk by Leland McInnes or https://arxiv.org/abs/1802.03426.\n",
        "\n"
      ]
    },
    {
      "cell_type": "code",
      "metadata": {
        "autoscroll": false,
        "collapsed": true,
        "id": "Osf7NBLdsVAE",
        "colab_type": "code",
        "colab": {}
      },
      "source": [
        "# install.packages('uwot') # If necessary install\n",
        "library(uwot)"
      ],
      "execution_count": null,
      "outputs": []
    },
    {
      "cell_type": "code",
      "metadata": {
        "autoscroll": false,
        "collapsed": true,
        "id": "iXlXAm2csVAH",
        "colab_type": "code",
        "colab": {}
      },
      "source": [
        "res_umap <- penguins %>%\n",
        "  select_if(is_numeric) %>%\n",
        "  umap(n_neighbors = 15,\n",
        "       metric = \"cosine\",\n",
        "       min_dist = 0.01,\n",
        "       scale = TRUE)"
      ],
      "execution_count": null,
      "outputs": []
    },
    {
      "cell_type": "code",
      "metadata": {
        "autoscroll": false,
        "collapsed": true,
        "id": "cK2HLy8wsVAJ",
        "colab_type": "code",
        "colab": {}
      },
      "source": [
        "res_umap %>% as_tibble() %>%\n",
        "  glimpse()"
      ],
      "execution_count": null,
      "outputs": []
    },
    {
      "cell_type": "code",
      "metadata": {
        "autoscroll": false,
        "collapsed": true,
        "id": "yYK-SLEzsVAK",
        "colab_type": "code",
        "colab": {}
      },
      "source": [
        "res_umap %>%\n",
        "  as_tibble() %>%\n",
        "  bind_cols(penguins %>% select(island, species_short)) %>%\n",
        "  ggplot(aes(x = V1, y = V2, col = species_short)) +\n",
        "  geom_point(shape = 21, alpha = 0.5)"
      ],
      "execution_count": null,
      "outputs": []
    },
    {
      "cell_type": "markdown",
      "metadata": {
        "id": "hdTvm9mfsVAM",
        "colab_type": "text"
      },
      "source": [
        "Umap seems to do a better job at reducing the dimensionality in a way that the resulting embedding fits well with the species destinction.\n",
        "\n",
        "## Clustering\n",
        "\n",
        "* Now that we had a look at dimensionality reduction, let's see what clustering can do at the present case.\n",
        "* We will try out **K-means** and **hierarchical clustering**\n",
        "\n",
        "### K-Means Clustering\n",
        "\n",
        "* We now perform a K-means clustering, a classical robust and well performing fast clustering algorithm.\n",
        "* We have to upfront choose our `k`.\n",
        "* there exists some guidance, for example the highest gain in \"total within sum of sqares\" (fast to calculate), the \"siluette\", as well as the \"gap statistics\" (hard to calculate, takes time).\n",
        "* **Note:** Data with different scales needs to be scaled before clustering, since most cluster algorithms do not have an inbuild `scale` argument.\n",
        "\n"
      ]
    },
    {
      "cell_type": "code",
      "metadata": {
        "Rmd_chunk_options": "fig.align='center'",
        "autoscroll": false,
        "id": "tmZnDGo4sVAO",
        "colab_type": "code",
        "colab": {}
      },
      "source": [
        "# We use the viz_nbclust() function of the factorextra package\n",
        "penguins %>%\n",
        "  select_if(is_numeric) %>%\n",
        "  scale() %>%\n",
        "  fviz_nbclust(kmeans, method = \"wss\")"
      ],
      "execution_count": null,
      "outputs": []
    },
    {
      "cell_type": "markdown",
      "metadata": {
        "id": "XLIlfVtSsVAQ",
        "colab_type": "text"
      },
      "source": [
        "\n",
        "* Ok,we here settle for 3 (executive decision, since we want to identify 3 distinct species).\n",
        "\n"
      ]
    },
    {
      "cell_type": "code",
      "metadata": {
        "autoscroll": false,
        "id": "YPfJOVYMsVAQ",
        "colab_type": "code",
        "colab": {}
      },
      "source": [
        "#Before we start, something weird upfront. The function takes the observation names from the rownames (which nobody uses anymore, and are depreciated by `dplyr`). So, remeber to define them just straight before you cluster, otherwise the next `dplyr` function will delete them again.\n",
        "penguins_clust <- penguins %>% column_to_rownames('species_short') %>%\n",
        "  select_if(is_numeric) %>%\n",
        "  scale()\n",
        "\n",
        "rownames(data) <- data %>% pull(place)"
      ],
      "execution_count": null,
      "outputs": []
    },
    {
      "cell_type": "code",
      "metadata": {
        "autoscroll": false,
        "id": "ZZiec7yQsVAS",
        "colab_type": "code",
        "colab": {}
      },
      "source": [
        "res_km <- penguins %>%\n",
        "  select_if(is_numeric) %>%\n",
        "  scale() %>%\n",
        "  kmeans(centers = 3, nstart = 20)"
      ],
      "execution_count": null,
      "outputs": []
    },
    {
      "cell_type": "code",
      "metadata": {
        "autoscroll": false,
        "id": "HLWUDDz8sVAU",
        "colab_type": "code",
        "colab": {}
      },
      "source": [
        "res_km"
      ],
      "execution_count": null,
      "outputs": []
    },
    {
      "cell_type": "markdown",
      "metadata": {
        "id": "fci24bBXsVAW",
        "colab_type": "text"
      },
      "source": [
        "\n",
        "\n",
        "Again, lets visualize it. To have a meaningful way for 2d visualization, we again project the observations on the space of the first 2 components.\n",
        "\n"
      ]
    },
    {
      "cell_type": "code",
      "metadata": {
        "Rmd_chunk_options": "fig.width=15,fig.height=10,fig.align='center'",
        "autoscroll": false,
        "id": "_j8bRKiasVAW",
        "colab_type": "code",
        "colab": {}
      },
      "source": [
        "res_km %>%\n",
        "  fviz_cluster(data = penguins %>% select_if(is_numeric) ,\n",
        "               ggtheme = theme_gray())"
      ],
      "execution_count": null,
      "outputs": []
    },
    {
      "cell_type": "markdown",
      "metadata": {
        "id": "cZd0ZG2vsVAY",
        "colab_type": "text"
      },
      "source": [
        "\n",
        "Ok, we got 3 clusters. Let's look what's in them.\n",
        "\n"
      ]
    },
    {
      "cell_type": "code",
      "metadata": {
        "autoscroll": false,
        "id": "RZLnFY6AsVAZ",
        "colab_type": "code",
        "colab": {}
      },
      "source": [
        "penguins %>%\n",
        "  bind_cols(cluster = res_km$cluster) %>%\n",
        "  select_if(is_numeric) %>%\n",
        "  group_by(cluster) %>%\n",
        "  mutate(n = n()) %>%\n",
        "  summarise_all(funs(mean))"
      ],
      "execution_count": null,
      "outputs": []
    },
    {
      "cell_type": "markdown",
      "metadata": {
        "id": "lEu6_5_fsVAb",
        "colab_type": "text"
      },
      "source": [
        "\n",
        "Lets see if they found the species correctly\n",
        "\n"
      ]
    },
    {
      "cell_type": "code",
      "metadata": {
        "autoscroll": false,
        "id": "ZZiLRMD0sVAb",
        "colab_type": "code",
        "colab": {}
      },
      "source": [
        "table(penguins$species_short, res_km$cluster)"
      ],
      "execution_count": null,
      "outputs": []
    },
    {
      "cell_type": "markdown",
      "metadata": {
        "id": "m8vCDMmWsVAd",
        "colab_type": "text"
      },
      "source": [
        "\n",
        "### Hirarchical Clustering\n",
        "\n",
        "* Let's get it started and perform a cluster. We here use the `hcut` function,\n",
        "* Notice that `hcut` has a `stand = TRUE` argument, meaning we do not need to scale the data beforehand.\n",
        "\n"
      ]
    },
    {
      "cell_type": "code",
      "metadata": {
        "autoscroll": false,
        "collapsed": true,
        "id": "VidwfycHsVAd",
        "colab_type": "code",
        "colab": {}
      },
      "source": [
        "res_hc <- penguins %>%\n",
        "  select_if(is_numeric) %>%\n",
        "  hcut(hc_func = \"hclust\",\n",
        "       k = 3,\n",
        "       stand = TRUE)"
      ],
      "execution_count": null,
      "outputs": []
    },
    {
      "cell_type": "markdown",
      "metadata": {
        "id": "MLVqHx2fsVAf",
        "colab_type": "text"
      },
      "source": [
        "\n",
        "* In hierarchical clustering, you categorize the objects into a hierarchy similar to a tree-like diagram which is called a dendrogram.\n",
        "* The distance of split or merge (called height) is shown on the y-axis of the dendrogram below.\n",
        "\n"
      ]
    },
    {
      "cell_type": "code",
      "metadata": {
        "Rmd_chunk_options": "fig.width=15,fig.height=10,fig.align='center'",
        "autoscroll": false,
        "collapsed": true,
        "id": "snrR9x8qsVAf",
        "colab_type": "code",
        "colab": {}
      },
      "source": [
        "res_hc %>%\n",
        "  fviz_dend(rect = TRUE, cex = 0.5)"
      ],
      "execution_count": null,
      "outputs": []
    },
    {
      "cell_type": "markdown",
      "metadata": {
        "id": "Ue3y3Z6VsVAh",
        "colab_type": "text"
      },
      "source": [
        "\n",
        "**Notice** how the dendrogram is built and every data point finally merges into a single cluster with the height(distance) shown on the y-axis.\n",
        "\n",
        "Let's inspect what's in the clusters.\n",
        "\n"
      ]
    },
    {
      "cell_type": "code",
      "metadata": {
        "autoscroll": false,
        "collapsed": true,
        "id": "yPfqnC1KsVAh",
        "colab_type": "code",
        "colab": {}
      },
      "source": [
        "penguins %>%\n",
        "  bind_cols(cluster = res_hc$cluster) %>%\n",
        "  select_if(is_numeric) %>%\n",
        "  group_by(cluster) %>%\n",
        "  mutate(n = n()) %>%\n",
        "  summarise_all(mean)"
      ],
      "execution_count": null,
      "outputs": []
    },
    {
      "cell_type": "markdown",
      "metadata": {
        "id": "wYliMcwXsVAj",
        "colab_type": "text"
      },
      "source": [
        "\n",
        "And again visualize them:\n",
        "\n"
      ]
    },
    {
      "cell_type": "code",
      "metadata": {
        "Rmd_chunk_options": "fig.width=15,fig.height=10,fig.align='center'",
        "autoscroll": false,
        "collapsed": true,
        "id": "FfXGONeOsVAk",
        "colab_type": "code",
        "colab": {}
      },
      "source": [
        "res_hc %>%\n",
        "  fviz_cluster(data = penguins %>% select_if(is_numeric),\n",
        "               ggtheme = theme_gray())"
      ],
      "execution_count": null,
      "outputs": []
    },
    {
      "cell_type": "markdown",
      "metadata": {
        "id": "l3hWYz58sVAm",
        "colab_type": "text"
      },
      "source": [
        "\n",
        "Lets see again how well we did with seperating species:\n",
        "\n"
      ]
    },
    {
      "cell_type": "code",
      "metadata": {
        "autoscroll": false,
        "collapsed": true,
        "id": "R5Ui3b2ksVAm",
        "colab_type": "code",
        "colab": {}
      },
      "source": [
        "table(penguins$species_short, res_hc$cluster)"
      ],
      "execution_count": null,
      "outputs": []
    },
    {
      "cell_type": "markdown",
      "metadata": {
        "id": "A4-BGyd_sVAo",
        "colab_type": "text"
      },
      "source": [
        "\n",
        "\n",
        "### Bonus: Hirarchical Clustering based in PCA\n",
        "\n",
        "* You might already have wondered: \"Could one combine a PCA with clustering techniques\"? The answer is: \"Yes!\".\n",
        "* In practice, that actually works very fine, and often delivers more robust clusters.\n",
        "* We could do it by hand, but the `HCPC` function already does that for us, and offers also a nice diagnostic viz.\n",
        "\n",
        "\n"
      ]
    },
    {
      "cell_type": "code",
      "metadata": {
        "autoscroll": false,
        "collapsed": true,
        "id": "idrjNUQCsVAp",
        "colab_type": "code",
        "colab": {}
      },
      "source": [
        "res_hcpc <- res_pca %>%\n",
        "  HCPC(nb.clust = -1, #  self determined: higher relative loss of inertia\n",
        "       graph = FALSE)"
      ],
      "execution_count": null,
      "outputs": []
    },
    {
      "cell_type": "code",
      "metadata": {
        "Rmd_chunk_options": "fig.width=15,fig.height=10,fig.align='center'",
        "autoscroll": false,
        "collapsed": true,
        "id": "eFU12nWKsVAr",
        "colab_type": "code",
        "colab": {}
      },
      "source": [
        "res_hcpc %>%\n",
        "  plot(choice = \"3D.map\")"
      ],
      "execution_count": null,
      "outputs": []
    },
    {
      "cell_type": "markdown",
      "metadata": {
        "id": "ukrR741JsVAt",
        "colab_type": "text"
      },
      "source": [
        "\n",
        "# Endnotes\n",
        "\n",
        "\n",
        "### Packages & Ecosystem\n",
        "\n",
        "* [factominer](http://factominer.free.fr/): Very well documented package & ecosystem webpage with many examples, tutorials, and further reseources\n",
        "\n",
        "### Suggestions for further study\n",
        "\n",
        "* DataCamp\n",
        "  * [Unsupervised Machine Learning with R](https://learn.datacamp.com/skill-tracks/unsupervised-machine-learning-with-r)\n",
        "* Other online sources\n",
        "   * [Exploratory Multivariate Data Analysis (MOOC)](http://factominer.free.fr/course/MOOC.html)\n",
        "   * Furthermore, graphical inspection often helps comparing the results of different algorithms and parameters. [Here](https://cran.r-project.org/web/packages/dendextend/vignettes/Cluster_Analysis.html) you find some advanced diagnostic visualizations for hirarchical clustering.\n",
        "\n",
        "### Session Info\n"
      ]
    },
    {
      "cell_type": "code",
      "metadata": {
        "autoscroll": false,
        "id": "sW1hsUSSsVAt",
        "colab_type": "code",
        "colab": {}
      },
      "source": [
        "sessionInfo()"
      ],
      "execution_count": null,
      "outputs": []
    }
  ]
}