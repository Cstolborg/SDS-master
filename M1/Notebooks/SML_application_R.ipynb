{
 "cells": [
  {
   "cell_type": "code",
   "execution_count": null,
   "metadata": {
    "Rmd_chunk_options": "setup, include=FALSE",
    "autoscroll": false,
    "collapsed": true
   },
   "outputs": [],
   "source": [
    "### Generic preamble\n",
    "rm(list=ls())\n",
    "Sys.setenv(LANG = \"en\") # For english language\n",
    "options(scipen = 5) # To deactivate annoying scientific number notation\n",
    "\n",
    "### Knitr options\n",
    "library(knitr) # For display of the markdown\n",
    "knitr::opts_chunk$set(warning=FALSE,\n",
    "                     message=FALSE,\n",
    "                     comment=FALSE,\n",
    "                     fig.align=\"center\"\n",
    "                     )"
   ]
  },
  {
   "cell_type": "code",
   "execution_count": null,
   "metadata": {
    "autoscroll": false,
    "collapsed": true
   },
   "outputs": [],
   "source": [
    "### Load standardpackages\n",
    "library(tidyverse) # Collection of all the good stuff like dplyr, ggplot2 ect.\n",
    "library(magrittr) # For extra-piping operators (eg. %<>%)"
   ]
  },
  {
   "cell_type": "code",
   "execution_count": null,
   "metadata": {
    "autoscroll": false,
    "collapsed": true
   },
   "outputs": [],
   "source": [
    "# Load specific packages\n",
    "# install.packages(\"tidymodels\") \" Install if necessary\n",
    "library(tidymodels)"
   ]
  },
  {
   "cell_type": "markdown",
   "metadata": {},
   "source": [
    "\n",
    "\n",
    "Welcome all to this introduction to machine learning (ML). In this session we cover the following topics\n",
    "1. Generalizating and valididating from ML models.\n",
    "2. The Bias-Variance Trade-Off\n",
    "3. Out-of-sample testing and cross-validation workflows\n",
    "4. Implementing Ml workflows with the `tidymodels` ecosystem.\n",
    "\n",
    "# Introduction to ML workflows in R\n",
    "\n",
    "![](https://sds-aau.github.io/SDS-master/00_media/ml_tidymodels_workflow_large.png)\n",
    "\n",
    "Remeber, the steps in the ML workflow are:\n",
    "\n",
    "1. Obtaining data\n",
    "2. Cleaning and inspecting\n",
    "3. Visualizing and exploring data\n",
    "\n",
    "4. Preprocessing data\n",
    "5. Fiting and tuning models\n",
    "6. Validating models\n",
    "\n",
    "7. Communicating insights\n",
    "\n",
    "While step 1-3 is mainly covered by the general `tidyverse` packages such as `dplyr` and `ggplot2`, step 7 can be done using for instance `rmarkdown` (like me here) or developing an interactive `shiny` application. We will touch upon that, but the main focus here lies in the steps 5-6, the core of ML work.\n",
    "\n",
    "These steps are mainly covered by the packages to be found in the [`tidymodels`](https://www.tidymodels.org/) ecosystem, which take care of sampling, fitting, tuning, and evaluating models and data.\n",
    "\n",
    "![](https://sds-aau.github.io/SDS-master/00_media/ml_tidymodels_flow.png)\n",
    "\n",
    "`tidymodels` is an ecosystem of packages to implement efficient and consisting SML modelling workflows consistent with the tidy principles and neathly fitting into tidy workflows. It contains the following packages\n",
    "\n",
    "* `rsample` provides infrastructure for efficient data splitting and resampling.\n",
    "* `parsnip` is a tidy, unified interface to models independent of the particular package syntax.\n",
    "* `recipes` is a tidy interface to data pre-processing tools for feature engineering.\n",
    "* `workflows` bundle your pre-processing, modeling, and post-processing together.\n",
    "* `tune` optimizes the hyperparameters.\n",
    "* `yardstick` provides model  performance metrics.\n",
    "* `broom` converts the information in common statistical R objects into user-friendly tidy formats.\n",
    "* `dials` creates and manages tuning parameters and parameter grids.\n",
    "\n",
    "I will tap into most of them during this and later sessions, therefore it makes sense to upfront load th complete `tidymodels` ecosystem.\n",
    "\n",
    "Lets get started.\n",
    "\n",
    "# The very basics:\n",
    "\n",
    "## Regression problems\n",
    "\n",
    "Let' do a brief example for a simple linear model. We generate some data, where $y$ is a linear function of $x$ plus some random error.\n",
    "\n"
   ]
  },
  {
   "cell_type": "code",
   "execution_count": null,
   "metadata": {
    "autoscroll": false,
    "collapsed": true
   },
   "outputs": [],
   "source": [
    "set.seed(1337)\n",
    "beta0 = 15\n",
    "beta1 = 0.3\n",
    "data_reg <- tibble(x = runif(500, min = 0, max = 100),\n",
    "               y = beta0+ (beta1*x) + rnorm(500, sd = 5))"
   ]
  },
  {
   "cell_type": "code",
   "execution_count": null,
   "metadata": {
    "autoscroll": false,
    "collapsed": true
   },
   "outputs": [],
   "source": [
    "data_reg %>% ggplot(aes(x = x, y = y)) +\n",
    "  geom_point() +\n",
    "  geom_rug(size = 0.1, alpha = 0.75)"
   ]
  },
  {
   "cell_type": "markdown",
   "metadata": {},
   "source": [
    "We can now fit a linear regression model that aims at discovering the underlying relationship.\n",
    "\n"
   ]
  },
  {
   "cell_type": "code",
   "execution_count": null,
   "metadata": {
    "autoscroll": false,
    "collapsed": true
   },
   "outputs": [],
   "source": [
    "fit_lm <- data_reg %>% lm(formula = y ~ x)\n",
    "fit_lm %>% summary()"
   ]
  },
  {
   "cell_type": "markdown",
   "metadata": {},
   "source": [
    "\n",
    "We see it got the underlying relationship somewhat correct. Keep in mind, its ability to discover it is also limited by the small sample, where small random errors dan bias the result.\n",
    "\n",
    "Note: This is exactly what `geom_smooth()` in `ggplot` does when giving it the `method=\"lm\"` parameter. Lets take a look at it visually.\n",
    "\n"
   ]
  },
  {
   "cell_type": "code",
   "execution_count": null,
   "metadata": {
    "autoscroll": false,
    "collapsed": true
   },
   "outputs": [],
   "source": [
    "data_reg %>% ggplot(aes(x = x, y = y)) +\n",
    "  geom_point() +\n",
    "  geom_smooth(method = \"lm\", formula = y ~ x, se = TRUE)"
   ]
  },
  {
   "cell_type": "markdown",
   "metadata": {},
   "source": [
    "We can now use `predict()` to predict y values due to the fitted model.\n",
    "\n"
   ]
  },
  {
   "cell_type": "code",
   "execution_count": null,
   "metadata": {
    "autoscroll": false,
    "collapsed": true
   },
   "outputs": [],
   "source": [
    "data_reg %<>%\n",
    "  mutate(predicted = fit_lm %>% predict())"
   ]
  },
  {
   "cell_type": "code",
   "execution_count": null,
   "metadata": {
    "autoscroll": false,
    "collapsed": true
   },
   "outputs": [],
   "source": [
    "data_reg %>% ggplot(aes(x = x, y = y)) +\n",
    "  geom_segment(aes(xend = x, yend = predicted), alpha = .2) +\n",
    "  geom_point(alpha = 0.5) +\n",
    "  geom_point(aes(y = predicted), col = 'red', shape = 21)"
   ]
  },
  {
   "cell_type": "markdown",
   "metadata": {},
   "source": [
    "It obviously predicts along th straight function line. Due to the random noise introduced, it is most of the time off a bit. Lets calculate the error term\n",
    "\n"
   ]
  },
  {
   "cell_type": "code",
   "execution_count": null,
   "metadata": {
    "autoscroll": false,
    "collapsed": true
   },
   "outputs": [],
   "source": [
    "error_reg <-  pull(data_reg, y) -  pull(data_reg, predicted)"
   ]
  },
  {
   "cell_type": "code",
   "execution_count": null,
   "metadata": {
    "autoscroll": false,
    "collapsed": true
   },
   "outputs": [],
   "source": [
    "error_reg %>% mean()"
   ]
  },
  {
   "cell_type": "markdown",
   "metadata": {},
   "source": [
    "\n",
    "On average the error is very low. However, keep in mind positive and negative errors cancel each others out. Lets look at the RSME better.\n",
    "\n"
   ]
  },
  {
   "cell_type": "code",
   "execution_count": null,
   "metadata": {
    "autoscroll": false,
    "collapsed": true
   },
   "outputs": [],
   "source": [
    "sqrt(mean(error_reg ^ 2)) # Calculate RMSE"
   ]
  },
  {
   "cell_type": "markdown",
   "metadata": {},
   "source": [
    "\n",
    "Btw: Could also be piped...\n",
    "\n"
   ]
  },
  {
   "cell_type": "code",
   "execution_count": null,
   "metadata": {
    "autoscroll": false,
    "collapsed": true
   },
   "outputs": [],
   "source": [
    "error_reg^2 %>% mean() %>% sqrt()"
   ]
  },
  {
   "cell_type": "markdown",
   "metadata": {},
   "source": [
    "\n",
    "However, we predicted on the data the model was fitted on. How would it fair on new data?\n",
    "\n"
   ]
  },
  {
   "cell_type": "code",
   "execution_count": null,
   "metadata": {
    "autoscroll": false,
    "collapsed": true
   },
   "outputs": [],
   "source": [
    "set.seed(1338)\n",
    "data_reg_new <- tibble(x = runif(500, min = 0, max = 100),\n",
    "               y = beta0+ (beta1*x) + rnorm(500, sd = 5))"
   ]
  },
  {
   "cell_type": "code",
   "execution_count": null,
   "metadata": {
    "autoscroll": false,
    "collapsed": true
   },
   "outputs": [],
   "source": [
    "pred_reg_new <- fit_lm %>% predict(new_data = data_reg_new)"
   ]
  },
  {
   "cell_type": "code",
   "execution_count": null,
   "metadata": {
    "autoscroll": false,
    "collapsed": true
   },
   "outputs": [],
   "source": [
    "error_reg_new <- error <-  pull(data_reg_new, y) -  pred_reg_new"
   ]
  },
  {
   "cell_type": "code",
   "execution_count": null,
   "metadata": {
    "autoscroll": false,
    "collapsed": true
   },
   "outputs": [],
   "source": [
    "error_reg_new^2 %>% mean() %>% sqrt()"
   ]
  },
  {
   "cell_type": "markdown",
   "metadata": {},
   "source": [
    "\n",
    "## Classification problems\n",
    "\n",
    "Ok, lets try the same with a binary class prediction. Lets create a random x and an associated binary y.\n",
    "\n"
   ]
  },
  {
   "cell_type": "code",
   "execution_count": null,
   "metadata": {
    "autoscroll": false,
    "collapsed": true
   },
   "outputs": [],
   "source": [
    "set.seed(1337)\n",
    "beta1 <- 5\n",
    "\n",
    "data_clas <- tibble(\n",
    "  x = rnorm(500),\n",
    "  y = rbinom(500, size = 1, prob = 1/(1+exp(-(beta1*x))) ) %>% as.logical() %>% factor()\n",
    "  )"
   ]
  },
  {
   "cell_type": "code",
   "execution_count": null,
   "metadata": {
    "autoscroll": false,
    "collapsed": true
   },
   "outputs": [],
   "source": [
    "data_clas %>% head()"
   ]
  },
  {
   "cell_type": "code",
   "execution_count": null,
   "metadata": {
    "autoscroll": false,
    "collapsed": true
   },
   "outputs": [],
   "source": [
    "data_clas %>%\n",
    "  ggplot(aes(x = x, y = y)) +\n",
    "  geom_point(alpha = 0.5)"
   ]
  },
  {
   "cell_type": "markdown",
   "metadata": {},
   "source": [
    "\n",
    "lets fit a logistic regression on that\n",
    "\n"
   ]
  },
  {
   "cell_type": "code",
   "execution_count": null,
   "metadata": {
    "autoscroll": false,
    "collapsed": true
   },
   "outputs": [],
   "source": [
    "fit_log <- data_clas %>%\n",
    "  glm(formula = y ~ x, family = 'binomial')"
   ]
  },
  {
   "cell_type": "code",
   "execution_count": null,
   "metadata": {
    "autoscroll": false,
    "collapsed": true
   },
   "outputs": [],
   "source": [
    "fit_log %>% summary()"
   ]
  },
  {
   "cell_type": "markdown",
   "metadata": {},
   "source": [
    "\n",
    "\n",
    "We can again visualize it:\n",
    "\n"
   ]
  },
  {
   "cell_type": "code",
   "execution_count": null,
   "metadata": {
    "autoscroll": false,
    "collapsed": true
   },
   "outputs": [],
   "source": [
    "data_clas %>%\n",
    "  mutate(y = y %>% as.logical() %>% as.numeric()) %>%\n",
    "  ggplot(aes(x = x, y = y)) +\n",
    "  geom_point(alpha = 0.5) +\n",
    "  geom_smooth(method = \"glm\", method.args = list(family = \"binomial\"), se = FALSE)"
   ]
  },
  {
   "cell_type": "markdown",
   "metadata": {},
   "source": [
    "\n",
    "We again can use this fitted model to predict the datapoints y-class. Here, we have the choice to either report the **predicted class** or the **predicted probability**. We here do both.\n",
    "\n"
   ]
  },
  {
   "cell_type": "code",
   "execution_count": null,
   "metadata": {
    "autoscroll": false,
    "collapsed": true
   },
   "outputs": [],
   "source": [
    "data_clas %<>%\n",
    "  mutate(predicted = fit_log %>% predict(type = 'response'),\n",
    "         predicted_class = predicted %>% round(0) %>% as.logical() %>% factor())"
   ]
  },
  {
   "cell_type": "code",
   "execution_count": null,
   "metadata": {
    "autoscroll": false,
    "collapsed": true
   },
   "outputs": [],
   "source": [
    "data_clas %>% head()"
   ]
  },
  {
   "cell_type": "code",
   "execution_count": null,
   "metadata": {
    "autoscroll": false,
    "collapsed": true
   },
   "outputs": [],
   "source": [
    "cm_log <- data_clas %>% conf_mat(y, predicted_class)"
   ]
  },
  {
   "cell_type": "code",
   "execution_count": null,
   "metadata": {
    "autoscroll": false,
    "collapsed": true
   },
   "outputs": [],
   "source": [
    "cm_log %>% autoplot(type = \"heatmap\")"
   ]
  },
  {
   "cell_type": "code",
   "execution_count": null,
   "metadata": {
    "autoscroll": false,
    "collapsed": true
   },
   "outputs": [],
   "source": [
    "cm_log %>% summary() %>% mutate(.estimate = .estimate %>% round(3)) %>% select(-.estimator)"
   ]
  },
  {
   "cell_type": "code",
   "execution_count": null,
   "metadata": {
    "autoscroll": false,
    "collapsed": true
   },
   "outputs": [],
   "source": [
    "roc_log <- data_clas %>%\n",
    "  roc_curve(y, predicted, event_level = 'second')\n",
    "\n",
    "roc_log %>% head()"
   ]
  },
  {
   "cell_type": "code",
   "execution_count": null,
   "metadata": {
    "autoscroll": false,
    "collapsed": true
   },
   "outputs": [],
   "source": [
    "data_clas %>% roc_auc(y, predicted, event_level = 'second')"
   ]
  },
  {
   "cell_type": "code",
   "execution_count": null,
   "metadata": {
    "autoscroll": false,
    "collapsed": true
   },
   "outputs": [],
   "source": [
    "roc_log %>% autoplot()"
   ]
  },
  {
   "cell_type": "markdown",
   "metadata": {},
   "source": [
    "Again, lets create some new data to test\n",
    "\n"
   ]
  },
  {
   "cell_type": "code",
   "execution_count": null,
   "metadata": {
    "autoscroll": false,
    "collapsed": true
   },
   "outputs": [],
   "source": [
    "set.seed(1338)\n",
    "beta1 <- 5\n",
    "\n",
    "data_clas_new <- tibble(\n",
    "  x = rnorm(500),\n",
    "  y = rbinom(500, size = 1, prob = 1/(1+exp(-(beta1*x))) ) %>% as.logical() %>% factor()\n",
    "  )"
   ]
  },
  {
   "cell_type": "code",
   "execution_count": null,
   "metadata": {
    "autoscroll": false,
    "collapsed": true
   },
   "outputs": [],
   "source": [
    "data_clas_new %<>%\n",
    "  mutate(predicted = fit_log %>% predict(type = 'response', newdata = data_clas_new),\n",
    "         predicted_class = predicted %>% round(0) %>% as.logical() %>% factor())"
   ]
  },
  {
   "cell_type": "code",
   "execution_count": null,
   "metadata": {
    "autoscroll": false,
    "collapsed": true
   },
   "outputs": [],
   "source": [
    "cm_log_new <- data_clas_new %>% conf_mat(y, predicted_class)\n",
    "cm_log_new %>% summary() %>% mutate(.estimate = .estimate %>% round(3)) %>% select(-.estimator)\n",
    "data_clas %>% roc_auc(y, predicted, event_level = 'second')"
   ]
  },
  {
   "cell_type": "markdown",
   "metadata": {},
   "source": [
    "\n",
    "\n",
    "\n",
    "# SML workflows\n",
    "\n",
    "Ok, that all now looked a bit cumbersome. Lets do it a bit more advanced and flexible introducing the `tidymodel` ML workflow. Here, we would apply the following standard workflow:\n",
    "\n",
    "1. Split dataset in training & test sample\n",
    "   * This is done with the `rsample` function `initial_split()`\n",
    "2. Apply preprocessing steps if necessary\n",
    "   * Can be don manually, but for convenience and reproducability better by defining a `recipe`\n",
    "3. Define the models to fit\n",
    "   * Done by setting up a model structure with `parsnip`\n",
    "4. Define a resampling strategy.\n",
    "   * We choose among diferent resampling options with the `rsample` package\n",
    "5. (Optimal): Tune Hyperparameters.\n",
    "   * Here we use the `tune` package to tune hyperparameters and the `dials` package to manage the hyperparameter search\n",
    "6. Select the best performing hyperparameter setup.\n",
    "7. Fit the final model.\n",
    "8. Evaluate it on the test data.\n",
    "\n",
    "\n",
    "# ML case 1 (Regression, tabular data): Boston Housing Prices\n",
    "\n",
    "## Data Description\n",
    "\n",
    "We will load a standard dataset from `mlbench`, the BostonHousing dataset. It comes as a dataframe with 506 observations on 14 features, the last one `medv` being the outcome:\n",
    "\n",
    "* `crim`\tper capita crime rate by town\n",
    "* `zn`\tproportion of residential land zoned for lots over 25,000 sq.ft\n",
    "* `indus`\tproportion of non-retail business acres per town\n",
    "* `chas`\tCharles River dummy variable (= 1 if tract bounds river; 0 otherwise) (deselected in this case)\n",
    "* `nox`\tnitric oxides concentration (parts per 110 million)\n",
    "* `rm`\taverage number of rooms per dwelling\n",
    "* `age`\tproportion of owner-occupied units built prior to 1940\n",
    "* `dis`\tweighted distances to five Boston employment centres\n",
    "* `rad`\tindex of accessibility to radial highways\n",
    "* `tax`\tfull-value property-tax rate per USD 10,000\n",
    "* `ptratio`\tpupil-teacher ratio by town\n",
    "* `b`\t1000(B - 0.63)^2 where B is the proportion of blacks by town\n",
    "* `lstat`\tlower status of the population\n",
    "* `medv`\tmedian value of owner-occupied homes in USD 1000's (our outcome to predict)\n",
    "\n",
    "Source: Harrison, D. and Rubinfeld, D.L. \"Hedonic prices and the demand for clean air\", J. Environ. Economics & Management, vol.5, 81-102, 1978.\n",
    "\n",
    "These data have been taken from the [UCI Repository Of Machine Learning Databases](ftp://ftp.ics.uci.edu/pub/machine-learning-databases)\n",
    "\n"
   ]
  },
  {
   "cell_type": "code",
   "execution_count": null,
   "metadata": {
    "autoscroll": false,
    "collapsed": true
   },
   "outputs": [],
   "source": [
    "# install.packages('mlbench')# Install if necessary\n",
    "library(mlbench) # Library including many ML benchmark datasets\n",
    "data(BostonHousing)\n",
    "data <- BostonHousing %>% as_tibble() %>% select(-chas)\n",
    "rm(BostonHousing)"
   ]
  },
  {
   "cell_type": "code",
   "execution_count": null,
   "metadata": {
    "autoscroll": false,
    "collapsed": true
   },
   "outputs": [],
   "source": [
    "data %>% head()"
   ]
  },
  {
   "cell_type": "code",
   "execution_count": null,
   "metadata": {
    "autoscroll": false,
    "collapsed": true
   },
   "outputs": [],
   "source": [
    "data %>% glimpse()"
   ]
  },
  {
   "cell_type": "markdown",
   "metadata": {},
   "source": [
    "\n",
    "In this exercise, we will predict `medv` (median value of owner-occupied homes in USD). Such a model would in the real world be used to predict developments in housing prices, eg. to inform policy makers  or potential investors. In case I have only one target outcome, I prefer to name it as `y`. This simple naming convention helps to re-use code across datasets.\n",
    "\n"
   ]
  },
  {
   "cell_type": "code",
   "execution_count": null,
   "metadata": {
    "autoscroll": false,
    "collapsed": true
   },
   "outputs": [],
   "source": [
    "data %<>%\n",
    "  rename(y = medv) %>%\n",
    "  relocate(y)"
   ]
  },
  {
   "cell_type": "markdown",
   "metadata": {},
   "source": [
    "\n",
    "## Data Inspecition and Visualization\n",
    "\n",
    "Lets take a look at some descriptives.\n",
    "\n"
   ]
  },
  {
   "cell_type": "code",
   "execution_count": null,
   "metadata": {
    "autoscroll": false,
    "collapsed": true
   },
   "outputs": [],
   "source": [
    "data %>%\n",
    "  summarise(across(everything(), list(min = min, mean = mean,max = max, sd = sd), .names = \"{.col}_{.fn}\")) %>%\n",
    "  mutate(across(everything(), round, 2)) %>%\n",
    "  pivot_longer(everything(),\n",
    "               names_sep = \"_\",\n",
    "               names_to  = c(\"variable\", \".value\"))"
   ]
  },
  {
   "cell_type": "markdown",
   "metadata": {},
   "source": [
    "\n",
    "Ok, time for some visual exploration. Here I will introduce the `GGally` package, a wrapper for `ggplot2` which has some functions for very nice visual summaries in matrix form.\n",
    "\n",
    "First, lets look at a classical correlation matrix.\n",
    "\n"
   ]
  },
  {
   "cell_type": "code",
   "execution_count": null,
   "metadata": {
    "Rmd_chunk_options": "fig.width=7.5,fig.height=7.5,fig.align='center'",
    "autoscroll": false,
    "collapsed": true
   },
   "outputs": [],
   "source": [
    "# install.packages('GGally') # Install if necessary\n",
    "data %>%\n",
    "  GGally::ggcorr(label = TRUE,\n",
    "                 label_size = 3,\n",
    "                 label_round = 2,\n",
    "                 label_alpha = TRUE)"
   ]
  },
  {
   "cell_type": "markdown",
   "metadata": {},
   "source": [
    "\n",
    "Even cooler, the `ggpairs` function creates you a scatterplot matrix plus all variable distributions and correlations.\n",
    "\n"
   ]
  },
  {
   "cell_type": "code",
   "execution_count": null,
   "metadata": {
    "Rmd_chunk_options": "fig.width=10,fig.height=10,fig.align='center'",
    "autoscroll": false,
    "collapsed": true
   },
   "outputs": [],
   "source": [
    "data %>%\n",
    "  GGally::ggpairs(aes(alpha = 0.3),\n",
    "          ggtheme = theme_gray())"
   ]
  },
  {
   "cell_type": "markdown",
   "metadata": {},
   "source": [
    "\n",
    "\n",
    "## Data Preprocessing\n",
    "\n",
    "### Training & Test split\n",
    "\n",
    "First, we split our data in training and test sample. We use the `initial_split` function of the `rsample` pckage.\n",
    "\n"
   ]
  },
  {
   "cell_type": "code",
   "execution_count": null,
   "metadata": {
    "autoscroll": false,
    "collapsed": true
   },
   "outputs": [],
   "source": [
    "data_split <- initial_split(data, prop = 0.75, strata = y)\n",
    "\n",
    "data_train <- data_split  %>%  training()\n",
    "data_test <- data_split %>% testing()"
   ]
  },
  {
   "cell_type": "markdown",
   "metadata": {},
   "source": [
    "\n",
    "### Preprocessing recipe\n",
    "\n",
    "We use the `recipe` package to automatize and standardize all necessary pre-processing workflows.\n",
    "\n",
    "Here, we do only some simple transformations.\n",
    "* We normalize all numeric data by centering (subtracting the mean) and scaling (divide by standard deviation).\n",
    "* We remove features with near-zero-variance, which would not help the model a lot.\n",
    "* We here also add a simple way to already in the preprocessing deal with missing data. `recipes` has inbuild missing value inputation algorithms, such as 'k-nearest-neighbors'.\n",
    "\n"
   ]
  },
  {
   "cell_type": "code",
   "execution_count": null,
   "metadata": {
    "autoscroll": false,
    "collapsed": true
   },
   "outputs": [],
   "source": [
    "data_recipe <- data_train %>%\n",
    "  recipe(y ~.) %>%\n",
    "  step_center(all_numeric(), -all_outcomes()) %>% # Centers all numeric variables to mean = 0\n",
    "  step_scale(all_numeric(), -all_outcomes()) %>% # scales all numeric variables to sd = 1\n",
    "  step_nzv(all_predictors())  %>% # Removed predictors with zero variance\n",
    "  step_knnimpute(all_predictors()) %>% #  knn inputation of missing values\n",
    "  prep()"
   ]
  },
  {
   "cell_type": "code",
   "execution_count": null,
   "metadata": {
    "autoscroll": false,
    "collapsed": true
   },
   "outputs": [],
   "source": [
    "data_recipe"
   ]
  },
  {
   "cell_type": "markdown",
   "metadata": {},
   "source": [
    "\n",
    "### Defining the models\n",
    "\n",
    "First of all, we will define the models we will run here. In detail, we will run a:\n",
    "\n",
    "1. OLS model (Baseline)\n",
    "2. Elastic net (still parametric, but maybe advantage in feature selection)\n",
    "3. Random forest (tree-based ensemble model)\n",
    "\n",
    "There is no particular reason other than to demonstrate different models with increasing complexity and hyperparameter tuning options.\n",
    "\n",
    "To set up a model with `parsnip`, the following syntax applies:\n",
    "\n"
   ]
  },
  {
   "cell_type": "code",
   "execution_count": null,
   "metadata": {
    "Rmd_chunk_options": "eval=FALSE",
    "autoscroll": false,
    "collapsed": true
   },
   "outputs": [],
   "source": [
    "model_XX <- model_family(mode = 'regression/classification',\n",
    "                         parameter_1 = 123,\n",
    "                         parameter_2 = tune()) %>%\n",
    "  set_engine('packagename')"
   ]
  },
  {
   "cell_type": "markdown",
   "metadata": {},
   "source": [
    "\n",
    "\n",
    "#### Linear Model (OLS)\n",
    "\n"
   ]
  },
  {
   "cell_type": "code",
   "execution_count": null,
   "metadata": {
    "autoscroll": false,
    "collapsed": true
   },
   "outputs": [],
   "source": [
    "model_lm <- linear_reg(mode = 'regression') %>%\n",
    "  set_engine('lm')"
   ]
  },
  {
   "cell_type": "markdown",
   "metadata": {},
   "source": [
    "\n",
    "#### Elastic Net (Penalized Regression)\n",
    "\n"
   ]
  },
  {
   "cell_type": "code",
   "execution_count": null,
   "metadata": {
    "autoscroll": false,
    "collapsed": true
   },
   "outputs": [],
   "source": [
    "model_el <-linear_reg(mode = 'regression',\n",
    "                      penalty = tune(),\n",
    "                      mixture = tune()) %>%\n",
    "  set_engine(\"glmnet\")"
   ]
  },
  {
   "cell_type": "markdown",
   "metadata": {},
   "source": [
    "\n",
    "#### Random Forest\n",
    "\n"
   ]
  },
  {
   "cell_type": "code",
   "execution_count": null,
   "metadata": {
    "autoscroll": false,
    "collapsed": true
   },
   "outputs": [],
   "source": [
    "model_rf <- rand_forest(mode = 'regression',\n",
    "                        trees = 25,\n",
    "                        mtry = tune(),\n",
    "                        min_n = tune()\n",
    "                        ) %>%\n",
    "  set_engine('ranger', importance = 'impurity')"
   ]
  },
  {
   "cell_type": "markdown",
   "metadata": {},
   "source": [
    "\n",
    "#### Define workflow\n",
    "\n",
    "We now define `workflows` by putting the preprocessing recipe together with the corresponding models. Not a necessary step, but I find it neath.\n",
    "\n"
   ]
  },
  {
   "cell_type": "code",
   "execution_count": null,
   "metadata": {
    "autoscroll": false,
    "collapsed": true
   },
   "outputs": [],
   "source": [
    "workflow_general <- workflow() %>%\n",
    "  add_recipe(data_recipe)\n",
    "\n",
    "workflow_lm <- workflow_general %>%\n",
    "  add_model(model_lm)\n",
    "\n",
    "workflow_el <- workflow_general %>%\n",
    "  add_model(model_el)\n",
    "\n",
    "workflow_rf <- workflow_general %>%\n",
    "  add_model(model_rf)"
   ]
  },
  {
   "cell_type": "markdown",
   "metadata": {},
   "source": [
    "\n",
    "### Hyperparameter Tuning\n",
    "\n",
    "#### Validation Sampling (Bootstrapping)\n",
    "\n",
    "* Now it is time to define a sampling strategy. Instead of the **k-fold crossvalidation** strategy I already introduced earlier, we will here use a bootstrap sampling strategy.\n",
    "* We will draw a number of n randomly selected observations from the sample, and repeat this process 5 times.\n",
    "* That means that our bootstrapped samples have the same size as the original one. This is a good resampling strategy in case the initial number of observations is low.\n",
    "\n"
   ]
  },
  {
   "cell_type": "code",
   "execution_count": null,
   "metadata": {
    "autoscroll": false,
    "collapsed": true
   },
   "outputs": [],
   "source": [
    "data_resample <- bootstraps(data_train,\n",
    "                            strata = y,\n",
    "                            times = 5)"
   ]
  },
  {
   "cell_type": "code",
   "execution_count": null,
   "metadata": {
    "autoscroll": false,
    "collapsed": true
   },
   "outputs": [],
   "source": [
    "data_resample %>% glimpse()"
   ]
  },
  {
   "cell_type": "markdown",
   "metadata": {},
   "source": [
    "\n",
    "#### Hyperparameter Tuning: Elastic Net\n",
    "\n"
   ]
  },
  {
   "cell_type": "code",
   "execution_count": null,
   "metadata": {
    "autoscroll": false,
    "collapsed": true
   },
   "outputs": [],
   "source": [
    "tune_el <-\n",
    "  tune_grid(\n",
    "    workflow_el,\n",
    "    resamples = data_resample,\n",
    "    grid = 10\n",
    "  )"
   ]
  },
  {
   "cell_type": "code",
   "execution_count": null,
   "metadata": {
    "autoscroll": false,
    "collapsed": true
   },
   "outputs": [],
   "source": [
    "tune_el %>% autoplot()"
   ]
  },
  {
   "cell_type": "code",
   "execution_count": null,
   "metadata": {
    "autoscroll": false,
    "collapsed": true
   },
   "outputs": [],
   "source": [
    "best_param_el <- tune_el %>% select_best(metric = 'rmse')\n",
    "best_param_el"
   ]
  },
  {
   "cell_type": "code",
   "execution_count": null,
   "metadata": {
    "autoscroll": false,
    "collapsed": true
   },
   "outputs": [],
   "source": [
    "tune_el %>% show_best(metric = 'rmse', n = 1)"
   ]
  },
  {
   "cell_type": "markdown",
   "metadata": {},
   "source": [
    "\n",
    "#### Hyperparameter Tuning: Random Forest\n",
    "\n"
   ]
  },
  {
   "cell_type": "code",
   "execution_count": null,
   "metadata": {
    "autoscroll": false,
    "collapsed": true
   },
   "outputs": [],
   "source": [
    "tune_rf <-\n",
    "  tune_grid(\n",
    "    workflow_rf,\n",
    "    resamples = data_resample,\n",
    "    grid = 10\n",
    "  )"
   ]
  },
  {
   "cell_type": "code",
   "execution_count": null,
   "metadata": {
    "autoscroll": false,
    "collapsed": true
   },
   "outputs": [],
   "source": [
    "tune_rf %>% autoplot()"
   ]
  },
  {
   "cell_type": "code",
   "execution_count": null,
   "metadata": {
    "autoscroll": false,
    "collapsed": true
   },
   "outputs": [],
   "source": [
    "best_param_rf <- tune_rf %>% select_best(metric = 'rmse')\n",
    "best_param_rf"
   ]
  },
  {
   "cell_type": "code",
   "execution_count": null,
   "metadata": {
    "autoscroll": false,
    "collapsed": true
   },
   "outputs": [],
   "source": [
    "tune_rf %>% show_best(metric = 'rmse', n = 1)"
   ]
  },
  {
   "cell_type": "markdown",
   "metadata": {},
   "source": [
    "\n",
    "\n",
    "\n",
    "#### Fit models with tuned hyperparameters\n",
    "\n",
    "Alright, now we can fit the final models. Therefore, we have to first upate the formerly created workflows, where we fill the `tune()` placeholders with the by now determined best performing hyperparameter setup.\n",
    "\n"
   ]
  },
  {
   "cell_type": "code",
   "execution_count": null,
   "metadata": {
    "autoscroll": false,
    "collapsed": true
   },
   "outputs": [],
   "source": [
    "workflow_final_el <- workflow_el %>%\n",
    "  finalize_workflow(parameters = best_param_el)\n",
    "\n",
    "workflow_final_rf <- workflow_rf %>%\n",
    "  finalize_workflow(parameters = best_param_rf)"
   ]
  },
  {
   "cell_type": "code",
   "execution_count": null,
   "metadata": {
    "autoscroll": false,
    "collapsed": true
   },
   "outputs": [],
   "source": [
    "fit_lm <- workflow_lm %>%\n",
    "  fit(data_train)\n",
    "\n",
    "fit_el <- workflow_final_el %>%\n",
    "  fit(data_train)\n",
    "\n",
    "fit_rf <- workflow_final_rf %>%\n",
    "  fit(data_train)"
   ]
  },
  {
   "cell_type": "markdown",
   "metadata": {},
   "source": [
    "\n",
    "#### Compare performance\n",
    "\n"
   ]
  },
  {
   "cell_type": "code",
   "execution_count": null,
   "metadata": {
    "autoscroll": false,
    "collapsed": true
   },
   "outputs": [],
   "source": [
    "pred_collected <- tibble(\n",
    "  truth = data_train %>% pull(y),\n",
    "  base = mean(truth),\n",
    "  lm = fit_lm %>% predict(new_data = data_train) %>% pull(.pred),\n",
    "  el = fit_el %>% predict(new_data = data_train) %>% pull(.pred),\n",
    "  rf = fit_rf %>% predict(new_data = data_train) %>% pull(.pred),\n",
    "  ) %>%\n",
    "  pivot_longer(cols = -truth,\n",
    "               names_to = 'model',\n",
    "               values_to = '.pred')"
   ]
  },
  {
   "cell_type": "code",
   "execution_count": null,
   "metadata": {
    "autoscroll": false,
    "collapsed": true
   },
   "outputs": [],
   "source": [
    "pred_collected %>% head()"
   ]
  },
  {
   "cell_type": "code",
   "execution_count": null,
   "metadata": {
    "autoscroll": false,
    "collapsed": true
   },
   "outputs": [],
   "source": [
    "pred_collected %>%\n",
    "  group_by(model) %>%\n",
    "  rmse(truth = truth, estimate = .pred) %>%\n",
    "  select(model, .estimate) %>%\n",
    "  arrange(.estimate)"
   ]
  },
  {
   "cell_type": "code",
   "execution_count": null,
   "metadata": {
    "autoscroll": false,
    "collapsed": true
   },
   "outputs": [],
   "source": [
    "pred_collected %>%\n",
    "  ggplot(aes(x = truth, y = .pred, color = model)) +\n",
    "  geom_abline(lty = 2, color = \"gray80\", size = 1.5) +\n",
    "  geom_point(alpha = 0.5) +\n",
    "  labs(\n",
    "    x = \"Truth\",\n",
    "    y = \"Predicted price\",\n",
    "    color = \"Type of model\"\n",
    "  )"
   ]
  },
  {
   "cell_type": "markdown",
   "metadata": {},
   "source": [
    "\n",
    "#### Final prediction\n",
    "\n",
    "So, now we are almost there. Since we know we will use the random forest, we only have to predict on our test sample and see how we fair...\n",
    "\n"
   ]
  },
  {
   "cell_type": "code",
   "execution_count": null,
   "metadata": {
    "autoscroll": false,
    "collapsed": true
   },
   "outputs": [],
   "source": [
    "fit_last_rf <- workflow_final_rf %>% last_fit(split = data_split)"
   ]
  },
  {
   "cell_type": "code",
   "execution_count": null,
   "metadata": {
    "autoscroll": false,
    "collapsed": true
   },
   "outputs": [],
   "source": [
    "fit_last_rf %>% collect_metrics()"
   ]
  },
  {
   "cell_type": "markdown",
   "metadata": {},
   "source": [
    "\n",
    "#### Variable importance\n",
    "\n"
   ]
  },
  {
   "cell_type": "code",
   "execution_count": null,
   "metadata": {
    "autoscroll": false,
    "collapsed": true
   },
   "outputs": [],
   "source": [
    "fit_last_rf %>%\n",
    "  pluck(\".workflow\", 1) %>%\n",
    "  pull_workflow_fit() %>%\n",
    "  vip::vip(num_features = 10)"
   ]
  },
  {
   "cell_type": "code",
   "execution_count": null,
   "metadata": {
    "autoscroll": false,
    "collapsed": true
   },
   "outputs": [],
   "source": [
    "fit_el %>%\n",
    "  pull_workflow_fit() %>%\n",
    "  vip::vip(num_features = 10)"
   ]
  },
  {
   "cell_type": "markdown",
   "metadata": {},
   "source": [
    "\n",
    "\n",
    "# ML case 2 (Classification, tabular data): Telco Customer Churn\n",
    "\n"
   ]
  },
  {
   "cell_type": "code",
   "execution_count": null,
   "metadata": {
    "Rmd_chunk_options": "include=FALSE",
    "autoscroll": false,
    "collapsed": true
   },
   "outputs": [],
   "source": [
    "rm(list=ls()); graphics.off() # get rid of everything in the workspace"
   ]
  },
  {
   "cell_type": "markdown",
   "metadata": {},
   "source": [
    "\n",
    "## Data Description\n",
    "\n",
    "Customer churn refers to the situation when a customer ends their relationship with a company, and it's a costly problem. Customers are the fuel that powers a business. Loss of customers impacts sales. Further, it's much more difficult and costly to gain new customers than it is to retain existing customers. As a result, organizations need to focus on reducing customer churn.\n",
    "\n",
    "The good news is that machine learning can help. For many businesses that offer subscription based services, it's critical to both predict customer churn and explain what features relate to customer churn.\n",
    "\n",
    "## Data: IBM Watson Dataset\n",
    "We now dive into the IBM Watson Telco Dataset. According to IBM, the business challenge is.\n",
    "\n",
    "> A telecommunications company [Telco] is concerned about the number of customers leaving their landline business for cable competitors. They need to understand who is leaving. Imagine that you're an analyst at this company and you have to find out who is leaving and why.\n",
    "\n",
    "The dataset includes information about:\n",
    "\n",
    "* Customers who left within the last month: `Churn`\n",
    "* Services that each customer has signed up for: phone, multiple lines, internet, online security, online backup, device protection, tech support, and streaming TV and movies\n",
    "* Customer account information: how long they've been a customer, contract, payment method, paperless billing, monthly charges, and total charges\n",
    "* Demographic info about customers: gender, age range, and if they have partners and dependents\n",
    "\n",
    "\n"
   ]
  },
  {
   "cell_type": "code",
   "execution_count": null,
   "metadata": {
    "autoscroll": false,
    "collapsed": true
   },
   "outputs": [],
   "source": [
    "data <- readRDS(url(\"https://github.com/SDS-AAU/SDS-master/raw/master/00_data/telco_churn.rds\")) # notice that for readRDS i have to wrap the adress in url()"
   ]
  },
  {
   "cell_type": "code",
   "execution_count": null,
   "metadata": {
    "autoscroll": false,
    "collapsed": true
   },
   "outputs": [],
   "source": [
    "data %>% head()"
   ]
  },
  {
   "cell_type": "code",
   "execution_count": null,
   "metadata": {
    "autoscroll": false,
    "collapsed": true
   },
   "outputs": [],
   "source": [
    "data %>% glimpse()"
   ]
  },
  {
   "cell_type": "code",
   "execution_count": null,
   "metadata": {
    "autoscroll": false,
    "collapsed": true
   },
   "outputs": [],
   "source": [
    "data %<>%\n",
    "  rename(y = Churn) %>%\n",
    "  select(y, everything(), -customerID)"
   ]
  },
  {
   "cell_type": "markdown",
   "metadata": {},
   "source": [
    "\n",
    "## Data Inspecition and Visualization\n",
    "\n"
   ]
  },
  {
   "cell_type": "code",
   "execution_count": null,
   "metadata": {
    "autoscroll": false,
    "collapsed": true
   },
   "outputs": [],
   "source": [
    "data %>% summary()"
   ]
  },
  {
   "cell_type": "markdown",
   "metadata": {},
   "source": [
    "\n",
    "Next, lets have a first visual inspections. Many models in our prediction exercise to follow require the conditional distribution of the features to be different for the outcomes states to be predicted. So, lets take a look. Here, `ggplot2` plus the `ggridges` package is my favorite. It is particularly helpfull when dealing with many variables, where you want to see differences in their conditional distribution with respect to an outcome of interest.\n",
    "\n"
   ]
  },
  {
   "cell_type": "code",
   "execution_count": null,
   "metadata": {
    "Rmd_chunk_options": "fig.height=5,fig.width=12.5",
    "autoscroll": false,
    "collapsed": true
   },
   "outputs": [],
   "source": [
    "# install.packages('ggridges') # install if necessary\n",
    "data %>%\n",
    "  gather(variable, value, -y) %>% # Note: At one point do pivot_longer instead\n",
    "  ggplot(aes(y = as.factor(variable),\n",
    "             fill =  as.factor(y),\n",
    "             x = percent_rank(value)) ) +\n",
    "  ggridges::geom_density_ridges(alpha = 0.75)"
   ]
  },
  {
   "cell_type": "markdown",
   "metadata": {},
   "source": [
    "\n",
    "## Data Preprocessing\n",
    "\n",
    "### Training & Test split\n",
    "\n"
   ]
  },
  {
   "cell_type": "code",
   "execution_count": null,
   "metadata": {
    "autoscroll": false,
    "collapsed": true
   },
   "outputs": [],
   "source": [
    "data_split <- initial_split(data, prop = 0.75, strata = y)\n",
    "\n",
    "data_train <- data_split  %>%  training()\n",
    "data_test <- data_split %>% testing()"
   ]
  },
  {
   "cell_type": "markdown",
   "metadata": {},
   "source": [
    "\n",
    "### Preprocessing recipe\n",
    "\n",
    "Here, I do the following preprocessing:\n",
    "\n",
    "* discretize the tenure variable in 3 bins rather than using the contineous value.\n",
    "* apply a logarithmic transformation to `TotalCharges`\n",
    "* center and scale all numerical values\n",
    "* transform categoricl vriables to dummies\n",
    "* KNN inpute missing valus\n",
    "\n"
   ]
  },
  {
   "cell_type": "code",
   "execution_count": null,
   "metadata": {
    "autoscroll": false,
    "collapsed": true
   },
   "outputs": [],
   "source": [
    "data_recipe <- data_train %>%\n",
    "  recipe(y ~.) %>%\n",
    "  step_log(TotalCharges) %>%\n",
    "  step_center(all_numeric(), -all_outcomes()) %>%\n",
    "  step_scale(all_numeric(), -all_outcomes()) %>%\n",
    "  step_dummy(all_nominal(), -all_outcomes()) %>%\n",
    "  step_knnimpute(all_predictors()) %>% #  knn inputation of missing values\n",
    "  prep()"
   ]
  },
  {
   "cell_type": "markdown",
   "metadata": {},
   "source": [
    "\n",
    "\n",
    "### Defining the models\n",
    "\n",
    "#### Logistic Regression\n",
    "\n"
   ]
  },
  {
   "cell_type": "code",
   "execution_count": null,
   "metadata": {
    "autoscroll": false,
    "collapsed": true
   },
   "outputs": [],
   "source": [
    "model_lg <- logistic_reg(mode = 'classification') %>%\n",
    "  set_engine('glm', family = binomial)"
   ]
  },
  {
   "cell_type": "markdown",
   "metadata": {},
   "source": [
    "\n",
    "#### Decision tree\n",
    "\n"
   ]
  },
  {
   "cell_type": "code",
   "execution_count": null,
   "metadata": {
    "autoscroll": false,
    "collapsed": true
   },
   "outputs": [],
   "source": [
    "model_dt <- decision_tree(mode = 'classification',\n",
    "                          cost_complexity = tune(),\n",
    "                          tree_depth = tune(),\n",
    "                          min_n = tune()\n",
    "                          ) %>%\n",
    "  set_engine('rpart')"
   ]
  },
  {
   "cell_type": "markdown",
   "metadata": {},
   "source": [
    "\n",
    "#### Extreme Gradient Boosted Tree (XGBoost)\n",
    "\n"
   ]
  },
  {
   "cell_type": "code",
   "execution_count": null,
   "metadata": {
    "autoscroll": false,
    "collapsed": true
   },
   "outputs": [],
   "source": [
    "model_xg <- boost_tree(mode = 'classification',\n",
    "                       trees = 100,\n",
    "                       mtry = tune(),\n",
    "                       min_n = tune(),\n",
    "                       tree_depth = tune(),\n",
    "                       learn_rate = tune()\n",
    "                       ) %>%\n",
    "  set_engine(\"xgboost\")"
   ]
  },
  {
   "cell_type": "markdown",
   "metadata": {},
   "source": [
    "\n",
    "#### Define workflow\n",
    "\n"
   ]
  },
  {
   "cell_type": "code",
   "execution_count": null,
   "metadata": {
    "autoscroll": false,
    "collapsed": true
   },
   "outputs": [],
   "source": [
    "workflow_general <- workflow() %>%\n",
    "  add_recipe(data_recipe)\n",
    "\n",
    "workflow_lg <- workflow_general %>%\n",
    "  add_model(model_lg)\n",
    "\n",
    "workflow_dt <- workflow_general %>%\n",
    "  add_model(model_dt)\n",
    "\n",
    "workflow_xg <- workflow_general %>%\n",
    "  add_model(model_xg)"
   ]
  },
  {
   "cell_type": "markdown",
   "metadata": {},
   "source": [
    "\n",
    "### Hyperparameter Tuning\n",
    "\n",
    "#### Validation Sampling (N-fold crossvlidation)\n",
    "\n"
   ]
  },
  {
   "cell_type": "code",
   "execution_count": null,
   "metadata": {
    "autoscroll": false,
    "collapsed": true
   },
   "outputs": [],
   "source": [
    "data_resample <- data_train %>%\n",
    "  vfold_cv(strata = y,\n",
    "           v = 3,\n",
    "           repeats = 3)"
   ]
  },
  {
   "cell_type": "markdown",
   "metadata": {},
   "source": [
    "\n",
    "#### Hyperparameter Tuning: Decision Tree\n",
    "\n"
   ]
  },
  {
   "cell_type": "code",
   "execution_count": null,
   "metadata": {
    "autoscroll": false,
    "collapsed": true
   },
   "outputs": [],
   "source": [
    "tune_dt <-\n",
    "  tune_grid(\n",
    "    workflow_dt,\n",
    "    resamples = data_resample,\n",
    "    grid = 10\n",
    "  )"
   ]
  },
  {
   "cell_type": "code",
   "execution_count": null,
   "metadata": {
    "autoscroll": false,
    "collapsed": true
   },
   "outputs": [],
   "source": [
    "tune_dt %>% autoplot()"
   ]
  },
  {
   "cell_type": "code",
   "execution_count": null,
   "metadata": {
    "autoscroll": false,
    "collapsed": true
   },
   "outputs": [],
   "source": [
    "best_param_dt <- tune_dt %>% select_best(metric = 'roc_auc')\n",
    "best_param_dt"
   ]
  },
  {
   "cell_type": "code",
   "execution_count": null,
   "metadata": {
    "autoscroll": false,
    "collapsed": true
   },
   "outputs": [],
   "source": [
    "tune_dt %>% show_best(metric = 'roc_auc', n = 1)"
   ]
  },
  {
   "cell_type": "markdown",
   "metadata": {},
   "source": [
    "\n",
    "#### Hyperparameter Tuning: Random Forest\n",
    "\n"
   ]
  },
  {
   "cell_type": "code",
   "execution_count": null,
   "metadata": {
    "autoscroll": false,
    "collapsed": true
   },
   "outputs": [],
   "source": [
    "tune_xg <-\n",
    "  tune_grid(\n",
    "    workflow_xg,\n",
    "    resamples = data_resample,\n",
    "    grid = 10\n",
    "  )"
   ]
  },
  {
   "cell_type": "code",
   "execution_count": null,
   "metadata": {
    "autoscroll": false,
    "collapsed": true
   },
   "outputs": [],
   "source": [
    "tune_xg %>% autoplot()"
   ]
  },
  {
   "cell_type": "code",
   "execution_count": null,
   "metadata": {
    "autoscroll": false,
    "collapsed": true
   },
   "outputs": [],
   "source": [
    "best_param_xg <- tune_xg %>% select_best(metric = 'roc_auc')\n",
    "best_param_xg"
   ]
  },
  {
   "cell_type": "code",
   "execution_count": null,
   "metadata": {
    "autoscroll": false,
    "collapsed": true
   },
   "outputs": [],
   "source": [
    "tune_xg %>% show_best(metric = 'roc_auc', n = 1)"
   ]
  },
  {
   "cell_type": "markdown",
   "metadata": {},
   "source": [
    "\n",
    "\n",
    "#### Fit models with tuned hyperparameters\n",
    "\n",
    "\n"
   ]
  },
  {
   "cell_type": "code",
   "execution_count": null,
   "metadata": {
    "autoscroll": false,
    "collapsed": true
   },
   "outputs": [],
   "source": [
    "workflow_final_dt <- workflow_dt %>%\n",
    "  finalize_workflow(parameters = best_param_dt)\n",
    "\n",
    "workflow_final_xg <- workflow_xg %>%\n",
    "  finalize_workflow(parameters = best_param_xg)"
   ]
  },
  {
   "cell_type": "code",
   "execution_count": null,
   "metadata": {
    "autoscroll": false,
    "collapsed": true
   },
   "outputs": [],
   "source": [
    "fit_lg <- workflow_lg %>%\n",
    "  fit(data_train)\n",
    "\n",
    "fit_dt <- workflow_final_dt %>%\n",
    "  fit(data_train)\n",
    "\n",
    "fit_xg <- workflow_final_xg %>%\n",
    "  fit(data_train)"
   ]
  },
  {
   "cell_type": "markdown",
   "metadata": {},
   "source": [
    "\n",
    "#### Compare performance\n",
    "\n"
   ]
  },
  {
   "cell_type": "code",
   "execution_count": null,
   "metadata": {
    "autoscroll": false,
    "collapsed": true
   },
   "outputs": [],
   "source": [
    "pred_collected <- tibble(\n",
    "  truth = data_train %>% pull(y) %>% as.factor(),\n",
    "  #base = mean(truth),\n",
    "  lg = fit_lg %>% predict(new_data = data_train) %>% pull(.pred_class),\n",
    "  dt = fit_dt %>% predict(new_data = data_train) %>% pull(.pred_class),\n",
    "  xg = fit_xg %>% predict(new_data = data_train) %>% pull(.pred_class),\n",
    "  ) %>%\n",
    "  pivot_longer(cols = -truth,\n",
    "               names_to = 'model',\n",
    "               values_to = '.pred')"
   ]
  },
  {
   "cell_type": "code",
   "execution_count": null,
   "metadata": {
    "autoscroll": false,
    "collapsed": true
   },
   "outputs": [],
   "source": [
    "pred_collected %>% head()"
   ]
  },
  {
   "cell_type": "code",
   "execution_count": null,
   "metadata": {
    "autoscroll": false,
    "collapsed": true
   },
   "outputs": [],
   "source": [
    "pred_collected %>%\n",
    "  group_by(model) %>%\n",
    "  accuracy(truth = truth, estimate = .pred) %>%\n",
    "  select(model, .estimate) %>%\n",
    "  arrange(desc(.estimate))"
   ]
  },
  {
   "cell_type": "code",
   "execution_count": null,
   "metadata": {
    "autoscroll": false,
    "collapsed": true
   },
   "outputs": [],
   "source": [
    "pred_collected %>%\n",
    "  group_by(model) %>%\n",
    "  bal_accuracy(truth = truth, estimate = .pred) %>%\n",
    "  select(model, .estimate) %>%\n",
    "  arrange(desc(.estimate))"
   ]
  },
  {
   "cell_type": "markdown",
   "metadata": {},
   "source": [
    "\n",
    "Surprisingly, here the less complex model seems to hve the edge!\n",
    "\n",
    "#### Final prediction\n",
    "\n",
    "So, now we are almost there. Since we know we will use the random forest, we only have to predict on our test sample and see how we fair...\n",
    "\n"
   ]
  },
  {
   "cell_type": "code",
   "execution_count": null,
   "metadata": {
    "autoscroll": false,
    "collapsed": true
   },
   "outputs": [],
   "source": [
    "fit_last_dt <- workflow_final_dt %>% last_fit(split = data_split)"
   ]
  },
  {
   "cell_type": "code",
   "execution_count": null,
   "metadata": {
    "autoscroll": false,
    "collapsed": true
   },
   "outputs": [],
   "source": [
    "fit_last_dt %>% collect_metrics()"
   ]
  },
  {
   "cell_type": "markdown",
   "metadata": {},
   "source": [
    "\n",
    "#### Variable importance\n",
    "\n"
   ]
  },
  {
   "cell_type": "code",
   "execution_count": null,
   "metadata": {
    "autoscroll": false,
    "collapsed": true
   },
   "outputs": [],
   "source": [
    "fit_last_dt %>%\n",
    "  pluck(\".workflow\", 1) %>%\n",
    "  pull_workflow_fit() %>%\n",
    "  vip::vip(num_features = 10)"
   ]
  },
  {
   "cell_type": "code",
   "execution_count": null,
   "metadata": {
    "autoscroll": false,
    "collapsed": true
   },
   "outputs": [],
   "source": [
    "fit_xg %>%\n",
    "  pull_workflow_fit() %>%\n",
    "  vip::vip(num_features = 10)"
   ]
  },
  {
   "cell_type": "markdown",
   "metadata": {},
   "source": [
    "\n",
    "# Summing up\n",
    "\n",
    "# Endnotes\n",
    "\n",
    "### References\n",
    "\n",
    "* [Hain, D., & Jurowetzki, R. (2020). Introduction to Rare-Event Predictive Modeling for Inferential Statisticians--A Hands-On Application in the Prediction of Breakthrough Patents. arXiv preprint arXiv:2003.13441.](https://arxiv.org/abs/2003.13441): Some of our introductory papers. An a bit more elaborate version of what we did so far on a more exciting dataset.\n",
    "\n",
    "### Packages and Ecosystem\n",
    "\n",
    "* [`tidymodels`](https://www.tidymodels.org/): Tidy statistical and predictive modeling ecosystem. Full of introductions, examples, and further material\n",
    "\n",
    "### Further Readings\n",
    "\n",
    "* [Julia Silges SML case study online course](https://supervised-ml-course.netlify.app/): GReat course Julia took out of DataCamp to offer it for free instead. Fully updated to the tidymodels workflow. YOU ALL SHOULD DO IT!\n",
    "* Datacamp: !!! Warning: Good to get the concepts, but often using `caret` and other slowly declining ML package ecosystems.\n",
    "   * [Machine Learning in the Tidyverse](https://learn.datacamp.com/courses/machine-learning-in-the-tidyverse): Good course to get started with tidy ML.\n",
    "   * [Supervised Learning in R: Regression](https://learn.datacamp.com/courses/supervised-learning-in-r-regression): Drills deeper in to regression models.\n",
    "   * [Supervised Learning in R: Classification](https://learn.datacamp.com/courses/supervised-learning-in-r-classification): Drills deeper in to regression models.\n",
    "   * [Hyperparameter Tuning in R](https://learn.datacamp.com/courses/hyperparameter-tuning-in-r): Advanced tuning setups.\n",
    "   * [Feature Engineering in R](https://learn.datacamp.com/courses/feature-engineering-in-r): Advanced feature engineering.\n",
    "   * [Career Track: machin Learning Scientist in R](https://learn.datacamp.com/career-tracks/machine-learning-scientist-with-r): For those who want it all!\n",
    "* ebooks etc\n",
    "   * Ismay & Kim (2020), [Statistical Inference via Data Science: A ModernDive into R and the Tidyverse](https://moderndive.com/), CRC Press. For those who want to first update their knowledge in basic and inferential statistics in a modern R setup.\n",
    "   * Kuhn & Johnson (2019), [Feature Engineering and Selection: A Practical Approach for Predictive Models](https://bookdown.org/max/FES/), Taylor & Francis. Less code but much deep insights in modern ML details, by Thomas Kuhn, the maker of much of `tidymodels` and `caret`\n",
    "\n",
    "### Session info\n"
   ]
  },
  {
   "cell_type": "code",
   "execution_count": null,
   "metadata": {
    "autoscroll": false,
    "collapsed": true
   },
   "outputs": [],
   "source": [
    "sessionInfo()"
   ]
  }
 ],
 "metadata": {
  "Rmd_header": {
   "author": "Daniel S. Hain (dsh@business.aau.dk)",
   "date": "Updated `r format(Sys.time(), '%B %d, %Y')`",
   "output": {
    "html_notebook": {
     "code_folding": "show",
     "df_print": "paged",
     "theme": "flatly",
     "toc": true,
     "toc_depth": 2,
     "toc_float": {
      "collapsed": false
     }
    }
   },
   "title": "Machine Learning: Workflow and Applications"
  },
  "kernelspec": {
   "display_name": "R",
   "language": "R",
   "name": "ir"
  },
  "language_info": {
   "codemirror_mode": "r",
   "file_extension": ".r",
   "mimetype": "text/x-r-source",
   "name": "R",
   "pygments_lexer": "r"
  }
 },
 "nbformat": 4,
 "nbformat_minor": 0
}
