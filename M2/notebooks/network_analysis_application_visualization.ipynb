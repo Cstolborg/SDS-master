{
  "nbformat": 4,
  "nbformat_minor": 0,
  "metadata": {
    "Rmd_header": {
      "author": "Daniel S. Hain (dsh@business.aau.dk)",
      "date": "Updated `r format(Sys.time(), '%B %d, %Y')`",
      "output": {
        "html_notebook": {
          "code_folding": "show",
          "df_print": "paged",
          "theme": "flatly",
          "toc": true,
          "toc_depth": 2,
          "toc_float": {
            "collapsed": false
          }
        }
      },
      "title": "Intermediate Network Analysis: Network Vizualization: Application (R)"
    },
    "kernelspec": {
      "display_name": "R",
      "language": "R",
      "name": "ir"
    },
    "language_info": {
      "codemirror_mode": "r",
      "file_extension": ".r",
      "mimetype": "text/x-r-source",
      "name": "R",
      "pygments_lexer": "r"
    },
    "colab": {
      "name": "network_analysis_application_visualization.ipynb",
      "provenance": [],
      "include_colab_link": true
    }
  },
  "cells": [
    {
      "cell_type": "markdown",
      "metadata": {
        "id": "view-in-github",
        "colab_type": "text"
      },
      "source": [
        "<a href=\"https://colab.research.google.com/github/SDS-AAU/SDS-master/blob/master/M2/notebooks/network_analysis_application_visualization.ipynb\" target=\"_parent\"><img src=\"https://colab.research.google.com/assets/colab-badge.svg\" alt=\"Open In Colab\"/></a>"
      ]
    },
    {
      "cell_type": "code",
      "metadata": {
        "Rmd_chunk_options": "setup, include=FALSE",
        "autoscroll": false,
        "id": "GT_X4gordR1x"
      },
      "source": [
        "### Generic preamble\n",
        "rm(list=ls())\n",
        "Sys.setenv(LANG = \"en\") # For english language\n",
        "options(scipen = 5) # To deactivate annoying scientific number notation\n",
        "\n",
        "### Knitr options\n",
        "library(knitr) # For display of the markdown\n",
        "knitr::opts_chunk$set(warning=FALSE,\n",
        "                     message=FALSE,\n",
        "                     comment=FALSE,\n",
        "                     fig.align=\"center\"\n",
        "                     )"
      ],
      "execution_count": null,
      "outputs": []
    },
    {
      "cell_type": "code",
      "metadata": {
        "autoscroll": false,
        "id": "HgoKWipBdR1z"
      },
      "source": [
        "### Load standardpackages\n",
        "library(tidyverse) # Collection of all the good stuff like dplyr, ggplot2 ect.\n",
        "library(magrittr) # For extra-piping operators (eg. %<>%)\n",
        "\n",
        "library(tidygraph)\n",
        "library(igraph)\n",
        "library(ggraph)"
      ],
      "execution_count": null,
      "outputs": []
    },
    {
      "cell_type": "markdown",
      "metadata": {
        "id": "TNrwbDckdR12"
      },
      "source": [
        "\n",
        "### This session\n",
        "\n",
        "Welcome to your second part of the introduction to network analysis. In this session you will learn:\n",
        "\n",
        "1. xxx\n",
        "\n",
        "\n",
        "\n",
        "# Introduction\n",
        "\n",
        "* The main concern in designing a network visualization is the purpose it has to serve.\n",
        "* What are the structural properties that we want to highlight? What are the key concerns we want to address?\n",
        "\n",
        "![](https://sds-aau.github.io/SDS-master/00_media/networks_viz_goal.png){width=500px}\n",
        "\n",
        "* Network maps are far from the only visualization available for graphs - other network representation formats, and even simple charts of key characteristics, may be more appropriate in some cases.\n",
        "\n",
        "![](https://sds-aau.github.io/SDS-master/00_media/networks_viz_type.png){width=500px}\n",
        "\n",
        "* In network maps, as in other visualization formats, we have several key elements that control the outcome. The major ones are color, size, shape, and position.\n",
        "\n",
        "![](https://sds-aau.github.io/SDS-master/00_media/networks_viz_controls.png){width=500px}\n",
        "\n",
        "# Visualization Basics\n",
        "\n"
      ]
    },
    {
      "cell_type": "code",
      "metadata": {
        "autoscroll": false,
        "id": "yIEVwsrodR13"
      },
      "source": [
        "# We load the highschool network nd make up som characteristics\n",
        "set.seed(1337)\n",
        "g <- as_tbl_graph(highschool, directed = TRUE) %E>%\n",
        "  mutate(weight = sample(1:5, n(), replace = TRUE),\n",
        "         year = year %>% as.factor()) %N>%\n",
        "  mutate(class = sample(LETTERS[1:3], n(), replace = TRUE),\n",
        "         gender = rbinom(n = n(), size = 1, prob = 0.5) %>% as.logical(),\n",
        "         label = randomNames::randomNames(gender = gender, name.order = \"first.last\"))"
      ],
      "execution_count": null,
      "outputs": []
    },
    {
      "cell_type": "code",
      "metadata": {
        "Rmd_chunk_options": "warning=FALSE, message=FALSE, error=FALSE, comment=FALSE",
        "autoscroll": false,
        "id": "uutxR0SsdR15"
      },
      "source": [
        "set.seed(1337)\n",
        "g <- g %N>%\n",
        "  mutate(community = group_edge_betweenness(weights = weight, directed = TRUE) %>% as.factor()) %N>%\n",
        "  filter(!node_is_isolated())"
      ],
      "execution_count": null,
      "outputs": []
    },
    {
      "cell_type": "code",
      "metadata": {
        "autoscroll": false,
        "id": "1zmBRe-AdR17"
      },
      "source": [
        "g <- g %N>%\n",
        "  mutate(popular = case_when(\n",
        "    centrality_degree(mode = 'in') < 5 ~ 'unpopular',\n",
        "    centrality_degree(mode = 'in') >= 15 ~ 'popular',\n",
        "    TRUE  ~ 'medium') %>% factor()\n",
        "    )"
      ],
      "execution_count": null,
      "outputs": []
    },
    {
      "cell_type": "code",
      "metadata": {
        "autoscroll": false,
        "id": "n_c8ZepsdR19"
      },
      "source": [
        "g %N>%\n",
        "  as_tibble() %>%\n",
        "  head()"
      ],
      "execution_count": null,
      "outputs": []
    },
    {
      "cell_type": "markdown",
      "metadata": {
        "id": "4TCMxpj8dR1_"
      },
      "source": [
        "\n",
        "## Node Visualization\n",
        "\n",
        "* Nodes in a network are the entities that are connected. Sometimes these are also referred to as vertices.\n",
        "* While the nodes in a graph are the abstract concepts of entities, and the layout is their physical placement, the node geoms are the visual manifestation of the entities.\n",
        "\n",
        "### Node positions\n",
        "\n",
        "* Conceptually one can simply think of it in terms of a scatter plot — the layout provides the x and y coordinates, and these can be used to draw nodes in different ways in the plotting window.\n",
        "* Actually, due to the design of ggraph the standard scatterplot-like geoms from ggplot2 can be used directly for plotting nodes:\n",
        "\n"
      ]
    },
    {
      "cell_type": "code",
      "metadata": {
        "autoscroll": false,
        "id": "rrppmsAedR2A"
      },
      "source": [
        "set.seed(1337)\n",
        "g %>%\n",
        "  ggraph(layout = \"nicely\") +\n",
        "    geom_point(aes(x = x, y = y))"
      ],
      "execution_count": null,
      "outputs": []
    },
    {
      "cell_type": "markdown",
      "metadata": {
        "id": "FR40Ej3sdR2D"
      },
      "source": [
        "\n",
        "* The reason this works is that layouts (about which we talk in a moment) return a `data.frame` of node positions and metadata and this is used as the default plot data:\n",
        "\n"
      ]
    },
    {
      "cell_type": "code",
      "metadata": {
        "autoscroll": false,
        "id": "jWhCyLrtdR2F"
      },
      "source": [
        "set.seed(1337)\n",
        "g_layout <- g %>% create_layout(layout = \"nicely\") %>% select(x,y)"
      ],
      "execution_count": null,
      "outputs": []
    },
    {
      "cell_type": "code",
      "metadata": {
        "autoscroll": false,
        "id": "34pRk8nddR2I"
      },
      "source": [
        "g_layout %>% head()"
      ],
      "execution_count": null,
      "outputs": []
    },
    {
      "cell_type": "markdown",
      "metadata": {
        "id": "ecY-yebIdR2K"
      },
      "source": [
        "* While usage of the default `ggplot2` is theoreticlly fine, `ggraph` practically comes with its own set of node geoms (`geom_node_*()`).\n",
        "* They by default already inherit the layout x and y coordinates, and come with extra features for network visualization.\n",
        "* `ggraph` also comes with an own plotting theme (`theme_graph()`), which optimizes for graph visualization, and we might want to use.\n",
        "\n"
      ]
    },
    {
      "cell_type": "code",
      "metadata": {
        "autoscroll": false,
        "id": "tAp049eNdR2K"
      },
      "source": [
        "g %>% ggraph(layout = g_layout) +\n",
        "  geom_node_point() +\n",
        "  theme_graph()"
      ],
      "execution_count": null,
      "outputs": []
    },
    {
      "cell_type": "markdown",
      "metadata": {
        "id": "smuS0EVHdR2M"
      },
      "source": [
        "\n",
        "* Usually (but not always) when visualizing a network, we are interested in the connectivity structure as expressed by the interplay between nodes and edges.\n",
        "* So, lets also plot the edges (the geometries from the `geom_edge_*` family, about which we talk in a moment)\n",
        "\n"
      ]
    },
    {
      "cell_type": "code",
      "metadata": {
        "autoscroll": false,
        "id": "fzfG5xihdR2N"
      },
      "source": [
        "g %>% ggraph(layout = g_layout) +\n",
        "  geom_node_point() +\n",
        "  geom_edge_link(alpha = 0.25) +\n",
        "  theme_graph()"
      ],
      "execution_count": null,
      "outputs": []
    },
    {
      "cell_type": "markdown",
      "metadata": {
        "id": "1SbihJeNdR2P"
      },
      "source": [
        "\n",
        "### Size\n",
        "\n",
        "* Size is the first obvious choice to highlight important (eg. central) nodes on a contineous scale.\n",
        "\n"
      ]
    },
    {
      "cell_type": "code",
      "metadata": {
        "autoscroll": false,
        "collapsed": true,
        "id": "e4ZApgFLdR2P"
      },
      "source": [
        "g %>% ggraph(layout = g_layout) +\n",
        "  geom_edge_link(alpha = 0.25) +\n",
        "  geom_node_point(aes(size = centrality_degree())) +\n",
        "  theme_graph()"
      ],
      "execution_count": null,
      "outputs": []
    },
    {
      "cell_type": "markdown",
      "metadata": {
        "id": "9BrXNSxydR2R"
      },
      "source": [
        "\n",
        "### Color\n",
        "\n",
        "* Color can also be used to visualize importance in a second continuous dimension, or to highlight categorical features\n",
        "\n"
      ]
    },
    {
      "cell_type": "code",
      "metadata": {
        "autoscroll": false,
        "collapsed": true,
        "id": "s5kcUP9-dR2R"
      },
      "source": [
        "g %>% ggraph(layout = g_layout) +\n",
        "  geom_edge_link(alpha = 0.25) +\n",
        "  geom_node_point(aes(color = community)) +\n",
        "  theme_graph()"
      ],
      "execution_count": null,
      "outputs": []
    },
    {
      "cell_type": "markdown",
      "metadata": {
        "id": "RDfbnTRJdR2T"
      },
      "source": [
        "\n",
        "### Alpha\n",
        "\n"
      ]
    },
    {
      "cell_type": "code",
      "metadata": {
        "autoscroll": false,
        "collapsed": true,
        "id": "BceoD55udR2U"
      },
      "source": [
        "g %>% ggraph(layout = g_layout) +\n",
        "  geom_edge_link(alpha = 0.25) +\n",
        "  geom_node_point(aes(alpha = centrality_degree())) +\n",
        "  theme_graph()"
      ],
      "execution_count": null,
      "outputs": []
    },
    {
      "cell_type": "markdown",
      "metadata": {
        "id": "eO6SjgmkdR2W"
      },
      "source": [
        "\n",
        "### Shapes\n",
        "\n",
        "* In case we want to express even more categorical characteristics, we can also (just like in the visualiation of tabular data) use node shapes.\n",
        "\n"
      ]
    },
    {
      "cell_type": "code",
      "metadata": {
        "autoscroll": false,
        "collapsed": true,
        "id": "GWSJ4DjQdR2W"
      },
      "source": [
        "shapes()"
      ],
      "execution_count": null,
      "outputs": []
    },
    {
      "cell_type": "code",
      "metadata": {
        "autoscroll": false,
        "collapsed": true,
        "id": "v4uCjVPjdR2Y"
      },
      "source": [
        "g %>% ggraph(layout = g_layout) +\n",
        "  geom_edge_link(alpha = 0.25) +\n",
        "  geom_node_point(aes(shape = gender)) +\n",
        "  theme_graph()"
      ],
      "execution_count": null,
      "outputs": []
    },
    {
      "cell_type": "markdown",
      "metadata": {
        "id": "WDjH2EE2dR2a"
      },
      "source": [
        "\n",
        "### Labels\n",
        "\n",
        "* With the `geom_node_text` geometry, we can also ad labels to the node. They are subject to common aestetics.\n",
        "\n"
      ]
    },
    {
      "cell_type": "code",
      "metadata": {
        "autoscroll": false,
        "collapsed": true,
        "id": "OY1rGsAIdR2b"
      },
      "source": [
        "g %>% ggraph(layout = g_layout) +\n",
        "  geom_edge_link(alpha = 0.25) +\n",
        "  geom_node_text(aes(label = label)) +\n",
        "  theme_graph()"
      ],
      "execution_count": null,
      "outputs": []
    },
    {
      "cell_type": "markdown",
      "metadata": {
        "id": "_WGn7CaqdR2c"
      },
      "source": [
        "\n",
        "In large graphs, plotting labels can appear messy, so it might make sense to only focus on important nodes to label\n",
        "\n"
      ]
    },
    {
      "cell_type": "code",
      "metadata": {
        "autoscroll": false,
        "collapsed": true,
        "id": "oMKO6z1hdR2d"
      },
      "source": [
        "g %>% ggraph(layout = g_layout) +\n",
        "  geom_edge_link(alpha = 0.25) +\n",
        "  geom_node_point() +\n",
        "  geom_node_text(aes(label = label), repel = TRUE) +\n",
        "  theme_graph()"
      ],
      "execution_count": null,
      "outputs": []
    },
    {
      "cell_type": "markdown",
      "metadata": {
        "id": "f3wYpM_LdR2e"
      },
      "source": [
        "\n",
        "* Still looks like too much. If we want to highlight only certain important nodes with label, we can also only plot them.\n",
        "* Note that (very practical) all `ggraph` geoms have a `filter` aestetic we can use for that\n",
        "\n",
        "\n"
      ]
    },
    {
      "cell_type": "code",
      "metadata": {
        "autoscroll": false,
        "collapsed": true,
        "id": "gbyc913jdR2f"
      },
      "source": [
        "g %>% ggraph(layout = g_layout) +\n",
        "  geom_edge_link(alpha = 0.25) +\n",
        "  geom_node_point() +\n",
        "  geom_node_text(aes(label = label,\n",
        "                     filter = centrality_degree() >= centrality_degree()  %>% quantile(0.9)),\n",
        "                 repel = TRUE) +\n",
        "  theme_graph()"
      ],
      "execution_count": null,
      "outputs": []
    },
    {
      "cell_type": "markdown",
      "metadata": {
        "id": "q_L3bwssdR2h"
      },
      "source": [
        "\n",
        "### Combined node visualization tools\n",
        "\n"
      ]
    },
    {
      "cell_type": "code",
      "metadata": {
        "autoscroll": false,
        "collapsed": true,
        "id": "2GURiYNpdR2h"
      },
      "source": [
        "g %>% ggraph(layout = g_layout) +\n",
        "  geom_edge_link(alpha = 0.25) +\n",
        "  geom_node_point(aes(size = centrality_eigen(),\n",
        "                      color = community,\n",
        "                      shape = gender)) +\n",
        "  geom_node_text(aes(label = label,\n",
        "                     filter = centrality_eigen() >= centrality_eigen() %>% quantile(0.90)),\n",
        "                 repel = TRUE) +\n",
        "  theme_graph() +\n",
        "  theme(legend.position = 'none')"
      ],
      "execution_count": null,
      "outputs": []
    },
    {
      "cell_type": "markdown",
      "metadata": {
        "id": "BZdhriL2dR2j"
      },
      "source": [
        "\n",
        "\n",
        "## Edge Visualization\n",
        "\n",
        "* So, now that we captured nodes, lets see how we can highlight aspects of edges, which are visualized with the geometries of the `geom_edge_*` family.\n",
        "\n",
        "### Weight\n",
        "\n",
        "* Obviously, the edge weight (=thickness)\n",
        "\n"
      ]
    },
    {
      "cell_type": "code",
      "metadata": {
        "autoscroll": false,
        "id": "w7gz3LgndR2j"
      },
      "source": [
        "g %>% ggraph(layout = g_layout) +\n",
        "  geom_edge_link(aes(width = weight), alpha = 0.25) +\n",
        "  geom_node_point() +\n",
        "  theme_graph()"
      ],
      "execution_count": null,
      "outputs": []
    },
    {
      "cell_type": "markdown",
      "metadata": {
        "id": "CT82xedhdR2n"
      },
      "source": [
        "\n",
        "* Unfortunately, I wind the default to thick. We can also scale it.\n",
        "\n"
      ]
    },
    {
      "cell_type": "code",
      "metadata": {
        "autoscroll": false,
        "id": "BKuTBrXHdR2n"
      },
      "source": [
        "g %>% ggraph(layout = g_layout) +\n",
        "  geom_edge_link(aes(width = weight), alpha = 0.25) +\n",
        "  scale_edge_width(range = c(0.1, 2)) +\n",
        "  geom_node_point() +\n",
        "  theme_graph()"
      ],
      "execution_count": null,
      "outputs": []
    },
    {
      "cell_type": "markdown",
      "metadata": {
        "id": "yHN-oH5RdR2p"
      },
      "source": [
        "\n",
        "### Color\n",
        "\n",
        "* Color can also be used to highlight edge significance (continuous)\n",
        "* However, color is more often used to highlight different edge categories.\n",
        "* Notice, since we want to represent the colors of potentially multiple edges between a node pair, I now use the `geom_edge_fan` geometry.\n",
        "\n"
      ]
    },
    {
      "cell_type": "code",
      "metadata": {
        "autoscroll": false,
        "collapsed": true,
        "id": "d_Bwl0YHdR2q"
      },
      "source": [
        "g %>% ggraph(layout = g_layout) +\n",
        "  geom_edge_fan(aes(size = weight,\n",
        "                     color = year), alpha = 0.25) +\n",
        "  geom_node_point() +\n",
        "  theme_graph()"
      ],
      "execution_count": null,
      "outputs": []
    },
    {
      "cell_type": "markdown",
      "metadata": {
        "id": "zhLy5GnidR2s"
      },
      "source": [
        "\n",
        "### Density\n",
        "\n",
        "* Density plots can also be used to highlight densely connected regions.\n",
        "\n"
      ]
    },
    {
      "cell_type": "code",
      "metadata": {
        "autoscroll": false,
        "collapsed": true,
        "id": "qQzwVr8ydR2t"
      },
      "source": [
        "g %>% ggraph(layout = g_layout) +\n",
        "  geom_edge_link(aes(col = year), alpha = 0.1) +\n",
        "  geom_edge_density(aes(fill = year)) +\n",
        "  geom_node_point() +\n",
        "  theme_graph()"
      ],
      "execution_count": null,
      "outputs": []
    },
    {
      "cell_type": "markdown",
      "metadata": {
        "id": "xEJ9nqzpdR2w"
      },
      "source": [
        "\n",
        "### Directionality\n",
        "\n",
        "* The easiest way to express directionality is by defining the `arrow()`, which comes with own aestetics.\n",
        "\n"
      ]
    },
    {
      "cell_type": "code",
      "metadata": {
        "autoscroll": false,
        "collapsed": true,
        "id": "_r635UKzdR2w"
      },
      "source": [
        "g %>% ggraph(layout = g_layout) +\n",
        "  geom_edge_fan(aes(color = year),\n",
        "                arrow = arrow(),\n",
        "                alpha = 0.5) +\n",
        "  geom_node_point() +\n",
        "  theme_graph()"
      ],
      "execution_count": null,
      "outputs": []
    },
    {
      "cell_type": "markdown",
      "metadata": {
        "id": "7SQzrK3QdR2y"
      },
      "source": [
        "\n",
        "* The default open arrow and other settings are a bit ugly, so we use some adittional aestetics\n",
        "\n"
      ]
    },
    {
      "cell_type": "code",
      "metadata": {
        "autoscroll": false,
        "collapsed": true,
        "id": "R-gAUL3DdR2y"
      },
      "source": [
        "g %>% ggraph(layout = g_layout) +\n",
        "  geom_edge_fan(aes(color = year),\n",
        "                arrow = arrow(type = \"closed\", length = unit(2, \"mm\")),\n",
        "                start_cap = circle(1, \"mm\"),\n",
        "                end_cap = circle(1, \"mm\"),\n",
        "                alpha = 0.5) +\n",
        "  geom_node_point() +\n",
        "  theme_graph()"
      ],
      "execution_count": null,
      "outputs": []
    },
    {
      "cell_type": "markdown",
      "metadata": {
        "id": "gTzjjSt0dR20"
      },
      "source": [
        "\n",
        "* Another nice trick is to work with alphas or colors, which change between start and end node.\n",
        "\n"
      ]
    },
    {
      "cell_type": "code",
      "metadata": {
        "autoscroll": false,
        "collapsed": true,
        "id": "dFBFwlRmdR21"
      },
      "source": [
        "g %>%\n",
        "  ggraph(layout = g_layout) +\n",
        "  geom_edge_fan(aes(color = year,\n",
        "                    alpha = stat(index)) # Notice that\n",
        "                ) +\n",
        "  geom_node_point() +\n",
        "  theme_graph() +\n",
        "  scale_edge_alpha(\"Edge direction\", guide = \"edge_direction\")"
      ],
      "execution_count": null,
      "outputs": []
    },
    {
      "cell_type": "markdown",
      "metadata": {
        "id": "NNU_BpaLdR22"
      },
      "source": [
        "\n",
        "* It can also be really practical to change edge characteristics by the characteristics of their adjacent nodes.\n",
        "* Remember, with `.N()`, we can access them to do so.\n",
        "\n"
      ]
    },
    {
      "cell_type": "code",
      "metadata": {
        "autoscroll": false,
        "collapsed": true,
        "id": "JISHX64AdR23"
      },
      "source": [
        "set.seed(1337)\n",
        "g %>%\n",
        "  ggraph(layout = 'nicely') +\n",
        "  geom_edge_fan(aes(color = .N()$community[to]), # Notice that\n",
        "                alpha = 0.5,\n",
        "                show.legend = FALSE) +\n",
        "  geom_node_point(aes(color = community),\n",
        "                  show.legend = FALSE) +\n",
        "  theme_graph()"
      ],
      "execution_count": null,
      "outputs": []
    },
    {
      "cell_type": "markdown",
      "metadata": {
        "id": "UU8von7_dR25"
      },
      "source": [
        "\n",
        "\n",
        "## Layouts\n",
        "\n",
        "* The graph layout refers to the node position on the reference system.\n",
        "\n",
        "### Ordinary graph style\n",
        "\n",
        "* Graphs can be represented in simple geometries such as squares, circles, lines, or randomly.\n",
        "* Or, specialized algorithms can be used to position nodes according to the properties of their connectivity.\n",
        "* They are usually designed to highlight different aspects of the network.\n",
        "* Lets inspect some standard layouts\n",
        "\n"
      ]
    },
    {
      "cell_type": "code",
      "metadata": {
        "Rmd_chunk_options": "fig.height=30, fig.width= 20",
        "autoscroll": false,
        "id": "KbKXm7kFdR25"
      },
      "source": [
        "set.seed(1337)\n",
        "library(ggpubr)\n",
        "layout_list <- c(\"randomly\", \"linear\", \"circle\",\n",
        "                 \"grid\", \"fr\", \"kk\",\n",
        "                 \"graphopt\", \"stress\", 'mds',\n",
        "                 'dh', 'drl', 'lgl')\n",
        "\n",
        "g_list <- list(NULL)\n",
        "for(i in 1:length(layout_list)){\n",
        "  g_list[[i]] <-g %>%\n",
        "    ggraph(layout = layout_list[i]) +\n",
        "  geom_edge_fan(aes(color = year,\n",
        "                    width = weight,\n",
        "                    alpha = weight),\n",
        "                arrow = arrow(type = \"closed\", length = unit(2, \"mm\")),\n",
        "                start_cap = circle(1, \"mm\"),\n",
        "                end_cap = circle(1, \"mm\"),\n",
        "                show.legend = FALSE) +\n",
        "    scale_edge_width(range = c(0.1, 0.5)) +\n",
        "    geom_node_point(aes(size = centrality_degree(mode = 'in'),\n",
        "                        color = community,\n",
        "                        shape = gender),\n",
        "                    show.legend = FALSE) +\n",
        "    theme_graph() +\n",
        "    labs(title = paste(\"Layout:\", layout_list[i], sep = \" \"))\n",
        "}\n",
        "\n",
        "ggarrange(plotlist = g_list, nrow = 4, ncol = 3)"
      ],
      "execution_count": null,
      "outputs": []
    },
    {
      "cell_type": "markdown",
      "metadata": {
        "id": "iupr_TXmdR27"
      },
      "source": [
        "\n",
        "\n",
        "### Arcs and circles\n",
        "\n"
      ]
    },
    {
      "cell_type": "code",
      "metadata": {
        "autoscroll": false,
        "collapsed": true,
        "id": "t3S0G2qYdR27"
      },
      "source": [
        "# An arc diagram\n",
        "g %>% ggraph(layout = 'linear') +\n",
        "  geom_edge_arc() +\n",
        "  geom_node_point(aes(size = centrality_degree(),\n",
        "                      color = community),\n",
        "                  show.legend = FALSE) +\n",
        "    theme_graph()"
      ],
      "execution_count": null,
      "outputs": []
    },
    {
      "cell_type": "code",
      "metadata": {
        "autoscroll": false,
        "collapsed": true,
        "id": "qCB1h4rGdR28"
      },
      "source": [
        "# An arc diagram\n",
        "g %>% ggraph(layout = 'linear', circular = TRUE) +\n",
        "  geom_edge_arc(aes(color = .N()$community[to])) +\n",
        "  geom_node_point(aes(size = centrality_degree(),\n",
        "                      color = community),\n",
        "                  show.legend = FALSE) +\n",
        "    theme_graph() +\n",
        "  coord_fixed()"
      ],
      "execution_count": null,
      "outputs": []
    },
    {
      "cell_type": "markdown",
      "metadata": {
        "id": "TOF84383dR2-"
      },
      "source": [
        "\n",
        "### Hive plots\n",
        "\n",
        "* A hive plot, while still technically a node-edge diagram, is a bit different from the rest as it uses information pertaining to the nodes, rather than the connection information in the graph.\n",
        "* This means that hive plots, to a certain extent are more interpretable as well as less vulnerable to small changes in the graph structure.\n",
        "* They are less common though, so use will often require some additional explanation.\n",
        "\n"
      ]
    },
    {
      "cell_type": "code",
      "metadata": {
        "autoscroll": false,
        "collapsed": true,
        "id": "7nRlfp1ddR2-"
      },
      "source": [
        "g %>%\n",
        "  ggraph(layout = 'hive', axis = popular, sort.by = centrality_degree(mode = 'in')) +\n",
        "    geom_edge_hive(aes(colour = year, alpha = ..index..), show.legend = FALSE) +\n",
        "    geom_axis_hive(aes(colour = popular), size = 3, label = FALSE) +\n",
        "    coord_fixed() +\n",
        "  theme_graph() +\n",
        "  theme(legend.position = 'bottom')"
      ],
      "execution_count": null,
      "outputs": []
    },
    {
      "cell_type": "markdown",
      "metadata": {
        "id": "mHS8S2lZdR3A"
      },
      "source": [
        "\n",
        "### Social Fabric\n",
        "\n"
      ]
    },
    {
      "cell_type": "code",
      "metadata": {
        "autoscroll": false,
        "collapsed": true,
        "id": "30BkqCxOdR3B"
      },
      "source": [
        "g %>% ggraph(layout = 'fabric', sort.by = community) +\n",
        "  geom_node_range(aes(colour = community), alpha = 0.3) +\n",
        "  geom_edge_span(aes(col = .N()$community[to]), end_shape = 'circle', alpha = 0.5) +\n",
        "  coord_fixed() +\n",
        "  theme_graph() +\n",
        "  theme(legend.position = 'none')"
      ],
      "execution_count": null,
      "outputs": []
    },
    {
      "cell_type": "markdown",
      "metadata": {
        "id": "VMNfxvo7dR3C"
      },
      "source": [
        "\n",
        "\n",
        "## Visualizing Hirarchical networks\n",
        "\n",
        "* If the network is by definition hierarchical, edges can only exist between nodes of higher to lower dept (eg. tree structures).\n",
        "* This offers us possibility for quite some adittional ways of representing it which are geared towards hirarchical (=nested) structures\n",
        "\n",
        "* Here an example of the dependency structures of the `flare` package\n",
        "\n"
      ]
    },
    {
      "cell_type": "code",
      "metadata": {
        "autoscroll": false,
        "id": "HkGjea4wdR3D"
      },
      "source": [
        "edges <- flare$edges\n",
        "vertices <- flare$vertices %>% arrange(name) %>% mutate(name=factor(name, name))\n",
        "connections <- flare$imports"
      ],
      "execution_count": null,
      "outputs": []
    },
    {
      "cell_type": "code",
      "metadata": {
        "autoscroll": false,
        "id": "QKmzLRKZdR3G"
      },
      "source": [
        "vertices %>% head()"
      ],
      "execution_count": null,
      "outputs": []
    },
    {
      "cell_type": "code",
      "metadata": {
        "autoscroll": false,
        "id": "5FQzOnSHdR3I"
      },
      "source": [
        "edges %>% head()"
      ],
      "execution_count": null,
      "outputs": []
    },
    {
      "cell_type": "code",
      "metadata": {
        "autoscroll": false,
        "id": "V0poScnZdR3K"
      },
      "source": [
        "connections %>% head()"
      ],
      "execution_count": null,
      "outputs": []
    },
    {
      "cell_type": "code",
      "metadata": {
        "autoscroll": false,
        "id": "4LZn7tPtdR3L"
      },
      "source": [
        "g_hir <- tbl_graph(vertices, edges)"
      ],
      "execution_count": null,
      "outputs": []
    },
    {
      "cell_type": "code",
      "metadata": {
        "autoscroll": false,
        "id": "L1BMbal9dR3N"
      },
      "source": [
        "g_hir"
      ],
      "execution_count": null,
      "outputs": []
    },
    {
      "cell_type": "markdown",
      "metadata": {
        "id": "BleshDHWdR3P"
      },
      "source": [
        "\n",
        "### Tree structures\n",
        "\n"
      ]
    },
    {
      "cell_type": "code",
      "metadata": {
        "autoscroll": false,
        "collapsed": true,
        "id": "buoPNiA8dR3P"
      },
      "source": [
        "g_hir %>% ggraph('tree') +\n",
        "  geom_edge_diagonal() +\n",
        "  theme_graph()"
      ],
      "execution_count": null,
      "outputs": []
    },
    {
      "cell_type": "code",
      "metadata": {
        "autoscroll": false,
        "collapsed": true,
        "id": "aHeC8kaXdR3R"
      },
      "source": [
        "g_hir %>% ggraph( 'dendrogram') +\n",
        "    geom_edge_elbow() +\n",
        "  theme_graph()"
      ],
      "execution_count": null,
      "outputs": []
    },
    {
      "cell_type": "code",
      "metadata": {
        "autoscroll": false,
        "collapsed": true,
        "id": "O-ZHanFVdR3T"
      },
      "source": [
        "g_hir %>% ggraph('dendrogram', circular = TRUE) +\n",
        "    geom_edge_elbow() +\n",
        "    coord_fixed() +\n",
        "  theme_graph()"
      ],
      "execution_count": null,
      "outputs": []
    },
    {
      "cell_type": "code",
      "metadata": {
        "autoscroll": false,
        "collapsed": true,
        "id": "fLfx0FEKdR3U"
      },
      "source": [
        "# The connection object must refer to the ids of the leaves:\n",
        "from = match(connections$from, vertices$name)\n",
        "to = match(connections$to, vertices$name)"
      ],
      "execution_count": null,
      "outputs": []
    },
    {
      "cell_type": "code",
      "metadata": {
        "autoscroll": false,
        "collapsed": true,
        "id": "Jj_T40KGdR3W"
      },
      "source": [
        "g_hir %>% ggraph(layout = 'dendrogram', circular = TRUE) +\n",
        "  geom_conn_bundle(data = get_con(from = from, to = to), alpha = 0.1) +\n",
        "  geom_edge_diagonal0() +\n",
        "  #geom_node_text(aes(filter = leaf, angle = node_angle(x, y), label = shortName),\n",
        "  # hjust = 'outward', size = 2) +\n",
        "  coord_fixed() +\n",
        "  theme_graph()"
      ],
      "execution_count": null,
      "outputs": []
    },
    {
      "cell_type": "markdown",
      "metadata": {
        "id": "ZNutYvMrdR3Z"
      },
      "source": [
        "\n",
        "### Non-edge-based\n",
        "\n"
      ]
    },
    {
      "cell_type": "code",
      "metadata": {
        "autoscroll": false,
        "collapsed": true,
        "id": "tyr-8b7ndR3Z"
      },
      "source": [
        "# An icicle plot\n",
        "g_hir %>% ggraph('partition') +\n",
        "  geom_node_tile(aes(fill = depth), size = 0.25) +\n",
        "  theme_graph()"
      ],
      "execution_count": null,
      "outputs": []
    },
    {
      "cell_type": "code",
      "metadata": {
        "autoscroll": false,
        "collapsed": true,
        "id": "leyC7UizdR3a"
      },
      "source": [
        "# A sunburst plot\n",
        "g_hir %>% ggraph('partition', circular = TRUE) +\n",
        "  geom_node_arc_bar(aes(fill = depth), size = 0.25) +\n",
        "  coord_fixed() +\n",
        "  theme_graph()"
      ],
      "execution_count": null,
      "outputs": []
    },
    {
      "cell_type": "code",
      "metadata": {
        "autoscroll": false,
        "collapsed": true,
        "id": "8hBloG-OdR3c"
      },
      "source": [
        "g_hir %>% ggraph('circlepack') + # , weight = size\n",
        "  geom_node_circle(aes(fill = depth), size = 0.25, n = 50) +\n",
        "  coord_fixed() +\n",
        "  theme_graph()"
      ],
      "execution_count": null,
      "outputs": []
    },
    {
      "cell_type": "code",
      "metadata": {
        "autoscroll": false,
        "collapsed": true,
        "id": "lflyUEMrdR3e"
      },
      "source": [
        "g_hir %>% ggraph('treemap') +\n",
        "  geom_node_tile(aes(fill = depth), size = 0.25) +\n",
        "  theme_graph()"
      ],
      "execution_count": null,
      "outputs": []
    },
    {
      "cell_type": "markdown",
      "metadata": {
        "id": "dphIzKBrdR3h"
      },
      "source": [
        "\n",
        "## Geospatial networks\n",
        "\n",
        "### Defining a map\n",
        "\n"
      ]
    },
    {
      "cell_type": "code",
      "metadata": {
        "autoscroll": false,
        "id": "yjCXm5aCdR3i"
      },
      "source": [
        "library(maps)"
      ],
      "execution_count": null,
      "outputs": []
    },
    {
      "cell_type": "code",
      "metadata": {
        "autoscroll": false,
        "id": "oL7lIGKndR3k"
      },
      "source": [
        "map_us <- map_data(\"usa\")"
      ],
      "execution_count": null,
      "outputs": []
    },
    {
      "cell_type": "code",
      "metadata": {
        "autoscroll": false,
        "id": "4xapwzOpdR3l"
      },
      "source": [
        "map_us %>%\n",
        "  head()"
      ],
      "execution_count": null,
      "outputs": []
    },
    {
      "cell_type": "markdown",
      "metadata": {
        "id": "zXTthVB0dR3o"
      },
      "source": [
        "\n",
        "### Getting some network data\n",
        "\n"
      ]
    },
    {
      "cell_type": "code",
      "metadata": {
        "autoscroll": false,
        "collapsed": true,
        "id": "fDufmFbldR3o"
      },
      "source": [
        "library(anyflights)"
      ],
      "execution_count": null,
      "outputs": []
    },
    {
      "cell_type": "code",
      "metadata": {
        "autoscroll": false,
        "collapsed": true,
        "id": "aOlF6Wm_dR3q"
      },
      "source": [
        "us_airports <- get_airports() %>%\n",
        "  filter(lat >= 24 & lat <= 49 & lon >= -124 & lon <= -66)  %>%\n",
        "  rename(name_full = name,\n",
        "         name = faa)"
      ],
      "execution_count": null,
      "outputs": []
    },
    {
      "cell_type": "code",
      "metadata": {
        "autoscroll": false,
        "collapsed": true,
        "id": "-Idmv993dR3s"
      },
      "source": [
        "us_airports %>% head()"
      ],
      "execution_count": null,
      "outputs": []
    },
    {
      "cell_type": "code",
      "metadata": {
        "autoscroll": false,
        "collapsed": true,
        "id": "6tkHjgvgdR3u"
      },
      "source": [
        "flights <- get_flights(station = us_airports %>% pull(name), year = 2015, month = 5)"
      ],
      "execution_count": null,
      "outputs": []
    },
    {
      "cell_type": "code",
      "metadata": {
        "autoscroll": false,
        "collapsed": true,
        "id": "ENpnFm8edR3v"
      },
      "source": [
        "flights %>% head()"
      ],
      "execution_count": null,
      "outputs": []
    },
    {
      "cell_type": "code",
      "metadata": {
        "autoscroll": false,
        "collapsed": true,
        "id": "sy6psjUzdR3x"
      },
      "source": [
        "edges <- flights %>% count(origin, dest, sort = TRUE) %>%\n",
        "  rename(from = origin, to = dest, weight = n) %>%\n",
        "  semi_join(us_airports, by = c('from' = 'name')) %>%\n",
        "  semi_join(us_airports, by = c('to' = 'name')) %>%\n",
        "  filter(percent_rank(weight) >= 0.25)"
      ],
      "execution_count": null,
      "outputs": []
    },
    {
      "cell_type": "code",
      "metadata": {
        "autoscroll": false,
        "collapsed": true,
        "id": "Q_XYwLD2dR3y"
      },
      "source": [
        "g_geo <- tbl_graph(nodes = us_airports, edges = edges, directed = TRUE) %N>%\n",
        "  filter(!node_is_isolated())"
      ],
      "execution_count": null,
      "outputs": []
    },
    {
      "cell_type": "markdown",
      "metadata": {
        "id": "jhHLCi1YdR3z"
      },
      "source": [
        "\n",
        "\n",
        "### Constructing a graph\n",
        "\n"
      ]
    },
    {
      "cell_type": "code",
      "metadata": {
        "autoscroll": false,
        "collapsed": true,
        "id": "BwiWM9ZHdR3z"
      },
      "source": [
        "coords <- g_geo %N>%\n",
        "  as_tibble() %>%\n",
        "  select(lat, lon) %>%\n",
        "  rename(x = lon, y = lat)"
      ],
      "execution_count": null,
      "outputs": []
    },
    {
      "cell_type": "code",
      "metadata": {
        "autoscroll": false,
        "collapsed": true,
        "id": "AKP8V9C1dR30"
      },
      "source": [
        "g_geo %>%\n",
        "  ggraph(layout = coords) +\n",
        "  geom_polygon(data = map_us, aes(x=long, y = lat, group = group), fill = \"#CECECE\", color = \"#515151\") +\n",
        "  geom_edge_arc(aes(width = weight,\n",
        "                    alpha = weight,\n",
        "                    filter = percent_rank(weight) >= 0.75,\n",
        "                    circular = FALSE),\n",
        "                strength = 0.33,\n",
        "                color = 'chocolate2') +\n",
        "  geom_node_point(aes(size = centrality_degree(),\n",
        "                      col = centrality_degree())) +\n",
        "  scale_edge_width_continuous(range = c(0.1, 1)) +\n",
        "  coord_fixed(1.3) +\n",
        "  theme_graph() +\n",
        "  theme(legend.position = 'none')"
      ],
      "execution_count": null,
      "outputs": []
    },
    {
      "cell_type": "markdown",
      "metadata": {
        "id": "N1yqc3-GdR32"
      },
      "source": [
        "\n",
        "## Interactive networks\n",
        "\n",
        "* There are numerous ways to to interactive network visualizations in R\n",
        "* For the sake of time, I just show you what I find the easiest and most consistent implementation (plotly unfortunately does by now not support ggraph)\n",
        "\n"
      ]
    },
    {
      "cell_type": "code",
      "metadata": {
        "autoscroll": false,
        "id": "fCDUtreidR32"
      },
      "source": [
        "library(ggiraph)"
      ],
      "execution_count": null,
      "outputs": []
    },
    {
      "cell_type": "code",
      "metadata": {
        "autoscroll": false,
        "id": "Mjqd6OFvdR34"
      },
      "source": [
        "g_plot_int <- g %>%\n",
        "  ggraph(layout = layout_list[i]) +\n",
        "  geom_edge_fan(aes(color = year,\n",
        "                    width = weight,\n",
        "                    alpha = weight),\n",
        "                arrow = arrow(type = \"closed\", length = unit(2, \"mm\")),\n",
        "                start_cap = circle(1, \"mm\"),\n",
        "                end_cap = circle(1, \"mm\"),\n",
        "                show.legend = FALSE) +\n",
        "    scale_edge_width(range = c(0.1, 0.5)) +\n",
        "    geom_node_point(aes(size = centrality_degree(mode = 'in'),\n",
        "                        color = community,\n",
        "                        shape = gender),\n",
        "                    show.legend = FALSE) +\n",
        "  geom_point_interactive(aes(x, y, # Notice this extra layer\n",
        "                             tooltip = label, data_id = name,\n",
        "                             size = centrality_degree(mode = 'in')), alpha = 0.01) +\n",
        "    theme_graph() +\n",
        "  theme(legend.position = 'none')"
      ],
      "execution_count": null,
      "outputs": []
    },
    {
      "cell_type": "code",
      "metadata": {
        "Rmd_chunk_options": "fig.height=10, fig.width=10",
        "autoscroll": false,
        "id": "o-G8AkfddR36"
      },
      "source": [
        "girafe(ggobj = g_plot_int, width_svg = 10, height_svg = 10) %>%\n",
        "    girafe_options(opts_zoom(max = 10), opts_tooltip(opacity = 0.7) )"
      ],
      "execution_count": null,
      "outputs": []
    },
    {
      "cell_type": "markdown",
      "metadata": {
        "id": "kc6nrZf5dR37"
      },
      "source": [
        "\n",
        "\n",
        "# Your turn\n",
        "Please do **Exercise 1** in the corresponding section on `Github`. This time you are about to do your own bibliographic analysis!\n",
        "\n",
        "# Endnotes\n",
        "\n",
        "### More info\n",
        "\n",
        "#### Packages & Ecosystem\n",
        "\n",
        "* `tidygraph` [here](https://tidygraph.data-imaginist.com/)\n",
        "* `ggraph` [here](https://ggraph.data-imaginist.com/)\n",
        "* `ggiraph` [here](https://davidgohel.github.io/ggiraph/)\n",
        "\n",
        "#### Other souces\n",
        "\n",
        "* [Intro: Network Visualizations in R using ggraph and graphlayouts](http://mr.schochastics.net/netVizR.html): Good intros to ggraph functionality & finetuning.\n",
        "* [Katherine Ognyanova's Blog)](https://kateto.net/): Her blog is full of some of the most complete introductions to network visualization. Does use igraph, but there are for sure 1 or tricks you can learn from her, particularly when it's about interactive network viosualization.\n",
        "* [Good slidedeck on static / interactive network viz in R](http://curleylab.psych.columbia.edu/netviz/netviz1.html#/): Worth visiting\n",
        "\n",
        "\n",
        "### Session info\n"
      ]
    },
    {
      "cell_type": "code",
      "metadata": {
        "autoscroll": false,
        "id": "JJwL2tH0dR37"
      },
      "source": [
        "sessionInfo()"
      ],
      "execution_count": null,
      "outputs": []
    },
    {
      "cell_type": "markdown",
      "metadata": {
        "id": "PXkxi1RVdR39"
      },
      "source": [
        "\n"
      ]
    }
  ]
}