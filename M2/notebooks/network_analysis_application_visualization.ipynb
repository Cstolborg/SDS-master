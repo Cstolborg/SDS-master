{
 "cells": [
  {
   "cell_type": "code",
   "execution_count": null,
   "metadata": {
    "Rmd_chunk_options": "setup, include=FALSE",
    "autoscroll": false,
    "collapsed": true
   },
   "outputs": [],
   "source": [
    "### Generic preamble\n",
    "rm(list=ls())\n",
    "Sys.setenv(LANG = \"en\") # For english language\n",
    "options(scipen = 5) # To deactivate annoying scientific number notation\n",
    "\n",
    "### Knitr options\n",
    "library(knitr) # For display of the markdown\n",
    "knitr::opts_chunk$set(warning=FALSE,\n",
    "                     message=FALSE,\n",
    "                     comment=FALSE,\n",
    "                     fig.align=\"center\"\n",
    "                     )"
   ]
  },
  {
   "cell_type": "code",
   "execution_count": null,
   "metadata": {
    "autoscroll": false,
    "collapsed": true
   },
   "outputs": [],
   "source": [
    "### Load standardpackages\n",
    "library(tidyverse) # Collection of all the good stuff like dplyr, ggplot2 ect.\n",
    "library(magrittr) # For extra-piping operators (eg. %<>%)\n",
    "\n",
    "library(tidygraph)\n",
    "library(igraph)\n",
    "library(ggraph)"
   ]
  },
  {
   "cell_type": "markdown",
   "metadata": {},
   "source": [
    "\n",
    "### This session\n",
    "\n",
    "Welcome to your second part of the introduction to network analysis. In this session you will learn:\n",
    "\n",
    "1. xxx\n",
    "\n",
    "\n",
    "\n",
    "# Introduction\n",
    "\n",
    "* The main concern in designing a network visualization is the purpose it has to serve.\n",
    "* What are the structural properties that we want to highlight? What are the key concerns we want to address?\n",
    "\n",
    "![](https://sds-aau.github.io/SDS-master/00_media/networks_viz_goal.png){width=500px}\n",
    "\n",
    "* Network maps are far from the only visualization available for graphs - other network representation formats, and even simple charts of key characteristics, may be more appropriate in some cases.\n",
    "\n",
    "![](https://sds-aau.github.io/SDS-master/00_media/networks_viz_type.png){width=500px}\n",
    "\n",
    "* In network maps, as in other visualization formats, we have several key elements that control the outcome. The major ones are color, size, shape, and position.\n",
    "\n",
    "![](https://sds-aau.github.io/SDS-master/00_media/networks_viz_controls.png){width=500px}\n",
    "\n",
    "# Visualization Basics\n",
    "\n"
   ]
  },
  {
   "cell_type": "code",
   "execution_count": null,
   "metadata": {
    "autoscroll": false,
    "collapsed": true
   },
   "outputs": [],
   "source": [
    "# We load the highschool network nd make up som characteristics\n",
    "set.seed(1337)\n",
    "g <- as_tbl_graph(highschool, directed = TRUE) %E>%\n",
    "  mutate(weight = sample(1:5, n(), replace = TRUE),\n",
    "         year = year %>% as.factor()) %N>%\n",
    "  mutate(class = sample(LETTERS[1:3], n(), replace = TRUE),\n",
    "         gender = rbinom(n = n(), size = 1, prob = 0.5) %>% as.logical(),\n",
    "         label = randomNames::randomNames(gender = gender, name.order = \"first.last\"))"
   ]
  },
  {
   "cell_type": "code",
   "execution_count": null,
   "metadata": {
    "Rmd_chunk_options": "warning=FALSE, message=FALSE, error=FALSE, comment=FALSE",
    "autoscroll": false,
    "collapsed": true
   },
   "outputs": [],
   "source": [
    "set.seed(1337)\n",
    "g <- g %N>%\n",
    "  mutate(community = group_edge_betweenness(weights = weight, directed = TRUE) %>% as.factor()) %N>%\n",
    "  filter(!node_is_isolated())"
   ]
  },
  {
   "cell_type": "code",
   "execution_count": null,
   "metadata": {
    "autoscroll": false,
    "collapsed": true
   },
   "outputs": [],
   "source": [
    "g <- g %N>%\n",
    "  mutate(popular = case_when(\n",
    "    centrality_degree(mode = 'in') < 5 ~ 'unpopular',\n",
    "    centrality_degree(mode = 'in') >= 15 ~ 'popular',\n",
    "    TRUE  ~ 'medium') %>% factor()\n",
    "    )"
   ]
  },
  {
   "cell_type": "code",
   "execution_count": null,
   "metadata": {
    "autoscroll": false,
    "collapsed": true
   },
   "outputs": [],
   "source": [
    "g %N>%\n",
    "  as_tibble() %>%\n",
    "  head()"
   ]
  },
  {
   "cell_type": "markdown",
   "metadata": {},
   "source": [
    "\n",
    "## Node Visualization\n",
    "\n",
    "* Nodes in a network are the entities that are connected. Sometimes these are also referred to as vertices.\n",
    "* While the nodes in a graph are the abstract concepts of entities, and the layout is their physical placement, the node geoms are the visual manifestation of the entities.\n",
    "\n",
    "### Node positions\n",
    "\n",
    "* Conceptually one can simply think of it in terms of a scatter plot — the layout provides the x and y coordinates, and these can be used to draw nodes in different ways in the plotting window.\n",
    "* Actually, due to the design of ggraph the standard scatterplot-like geoms from ggplot2 can be used directly for plotting nodes:\n",
    "\n"
   ]
  },
  {
   "cell_type": "code",
   "execution_count": null,
   "metadata": {
    "autoscroll": false,
    "collapsed": true
   },
   "outputs": [],
   "source": [
    "set.seed(1337)\n",
    "g %>%\n",
    "  ggraph(layout = \"nicely\") +\n",
    "    geom_point(aes(x = x, y = y))"
   ]
  },
  {
   "cell_type": "markdown",
   "metadata": {},
   "source": [
    "\n",
    "* The reason this works is that layouts (about which we talk in a moment) return a `data.frame` of node positions and metadata and this is used as the default plot data:\n",
    "\n"
   ]
  },
  {
   "cell_type": "code",
   "execution_count": null,
   "metadata": {
    "autoscroll": false,
    "collapsed": true
   },
   "outputs": [],
   "source": [
    "set.seed(1337)\n",
    "g_layout <- g %>% create_layout(layout = \"nicely\") %>% select(x,y)"
   ]
  },
  {
   "cell_type": "code",
   "execution_count": null,
   "metadata": {
    "autoscroll": false,
    "collapsed": true
   },
   "outputs": [],
   "source": [
    "g_layout %>% head()"
   ]
  },
  {
   "cell_type": "markdown",
   "metadata": {},
   "source": [
    "* While usage of the default `ggplot2` is theoreticlly fine, `ggraph` practically comes with its own set of node geoms (`geom_node_*()`).\n",
    "* They by default already inherit the layout x and y coordinates, and come with extra features for network visualization.\n",
    "* `ggraph` also comes with an own plotting theme (`theme_graph()`), which optimizes for graph visualization, and we might want to use.\n",
    "\n"
   ]
  },
  {
   "cell_type": "code",
   "execution_count": null,
   "metadata": {
    "autoscroll": false,
    "collapsed": true
   },
   "outputs": [],
   "source": [
    "g %>% ggraph(layout = g_layout) +\n",
    "  geom_node_point() +\n",
    "  theme_graph()"
   ]
  },
  {
   "cell_type": "markdown",
   "metadata": {},
   "source": [
    "\n",
    "* Usually (but not always) when visualizing a network, we are interested in the connectivity structure as expressed by the interplay between nodes and edges.\n",
    "* So, lets also plot the edges (the geometries from the `geom_edge_*` family, about which we talk in a moment)\n",
    "\n"
   ]
  },
  {
   "cell_type": "code",
   "execution_count": null,
   "metadata": {
    "autoscroll": false,
    "collapsed": true
   },
   "outputs": [],
   "source": [
    "g %>% ggraph(layout = g_layout) +\n",
    "  geom_node_point() +\n",
    "  geom_edge_link(alpha = 0.25) +\n",
    "  theme_graph()"
   ]
  },
  {
   "cell_type": "markdown",
   "metadata": {},
   "source": [
    "\n",
    "### Size\n",
    "\n",
    "* Size is the first obvious choice to highlight important (eg. central) nodes on a contineous scale.\n",
    "\n"
   ]
  },
  {
   "cell_type": "code",
   "execution_count": null,
   "metadata": {
    "autoscroll": false,
    "collapsed": true
   },
   "outputs": [],
   "source": [
    "g %>% ggraph(layout = g_layout) +\n",
    "  geom_edge_link(alpha = 0.25) +\n",
    "  geom_node_point(aes(size = centrality_degree())) +\n",
    "  theme_graph()"
   ]
  },
  {
   "cell_type": "markdown",
   "metadata": {},
   "source": [
    "\n",
    "### Color\n",
    "\n",
    "* Color can also be used to visualize importance in a second continuous dimension, or to highlight categorical features\n",
    "\n"
   ]
  },
  {
   "cell_type": "code",
   "execution_count": null,
   "metadata": {
    "autoscroll": false,
    "collapsed": true
   },
   "outputs": [],
   "source": [
    "g %>% ggraph(layout = g_layout) +\n",
    "  geom_edge_link(alpha = 0.25) +\n",
    "  geom_node_point(aes(color = community)) +\n",
    "  theme_graph()"
   ]
  },
  {
   "cell_type": "markdown",
   "metadata": {},
   "source": [
    "\n",
    "### Alpha\n",
    "\n"
   ]
  },
  {
   "cell_type": "code",
   "execution_count": null,
   "metadata": {
    "autoscroll": false,
    "collapsed": true
   },
   "outputs": [],
   "source": [
    "g %>% ggraph(layout = g_layout) +\n",
    "  geom_edge_link(alpha = 0.25) +\n",
    "  geom_node_point(aes(alpha = centrality_degree())) +\n",
    "  theme_graph()"
   ]
  },
  {
   "cell_type": "markdown",
   "metadata": {},
   "source": [
    "\n",
    "### Shapes\n",
    "\n",
    "* In case we want to express even more categorical characteristics, we can also (just like in the visualiation of tabular data) use node shapes.\n",
    "\n"
   ]
  },
  {
   "cell_type": "code",
   "execution_count": null,
   "metadata": {
    "autoscroll": false,
    "collapsed": true
   },
   "outputs": [],
   "source": [
    "shapes()"
   ]
  },
  {
   "cell_type": "code",
   "execution_count": null,
   "metadata": {
    "autoscroll": false,
    "collapsed": true
   },
   "outputs": [],
   "source": [
    "g %>% ggraph(layout = g_layout) +\n",
    "  geom_edge_link(alpha = 0.25) +\n",
    "  geom_node_point(aes(shape = gender)) +\n",
    "  theme_graph()"
   ]
  },
  {
   "cell_type": "markdown",
   "metadata": {},
   "source": [
    "\n",
    "### Labels\n",
    "\n",
    "* With the `geom_node_text` geometry, we can also ad labels to the node. They are subject to common aestetics.\n",
    "\n"
   ]
  },
  {
   "cell_type": "code",
   "execution_count": null,
   "metadata": {
    "autoscroll": false,
    "collapsed": true
   },
   "outputs": [],
   "source": [
    "g %>% ggraph(layout = g_layout) +\n",
    "  geom_edge_link(alpha = 0.25) +\n",
    "  geom_node_text(aes(label = label)) +\n",
    "  theme_graph()"
   ]
  },
  {
   "cell_type": "markdown",
   "metadata": {},
   "source": [
    "\n",
    "In large graphs, plotting labels can appear messy, so it might make sense to only focus on important nodes to label\n",
    "\n"
   ]
  },
  {
   "cell_type": "code",
   "execution_count": null,
   "metadata": {
    "autoscroll": false,
    "collapsed": true
   },
   "outputs": [],
   "source": [
    "g %>% ggraph(layout = g_layout) +\n",
    "  geom_edge_link(alpha = 0.25) +\n",
    "  geom_node_point() +\n",
    "  geom_node_text(aes(label = label), repel = TRUE) +\n",
    "  theme_graph()"
   ]
  },
  {
   "cell_type": "markdown",
   "metadata": {},
   "source": [
    "\n",
    "* Still looks like too much. If we want to highlight only certain important nodes with label, we can also only plot them.\n",
    "* Note that (very practical) all `ggraph` geoms have a `filter` aestetic we can use for that\n",
    "\n",
    "\n"
   ]
  },
  {
   "cell_type": "code",
   "execution_count": null,
   "metadata": {
    "autoscroll": false,
    "collapsed": true
   },
   "outputs": [],
   "source": [
    "g %>% ggraph(layout = g_layout) +\n",
    "  geom_edge_link(alpha = 0.25) +\n",
    "  geom_node_point() +\n",
    "  geom_node_text(aes(label = label,\n",
    "                     filter = centrality_degree() >= centrality_degree()  %>% quantile(0.9)),\n",
    "                 repel = TRUE) +\n",
    "  theme_graph()"
   ]
  },
  {
   "cell_type": "markdown",
   "metadata": {},
   "source": [
    "\n",
    "### Combined node visualization tools\n",
    "\n"
   ]
  },
  {
   "cell_type": "code",
   "execution_count": null,
   "metadata": {
    "autoscroll": false,
    "collapsed": true
   },
   "outputs": [],
   "source": [
    "g %>% ggraph(layout = g_layout) +\n",
    "  geom_edge_link(alpha = 0.25) +\n",
    "  geom_node_point(aes(size = centrality_eigen(),\n",
    "                      color = community,\n",
    "                      shape = gender)) +\n",
    "  geom_node_text(aes(label = label,\n",
    "                     filter = centrality_eigen() >= centrality_eigen() %>% quantile(0.90)),\n",
    "                 repel = TRUE) +\n",
    "  theme_graph() +\n",
    "  theme(legend.position = 'none')"
   ]
  },
  {
   "cell_type": "markdown",
   "metadata": {},
   "source": [
    "\n",
    "\n",
    "## Edge Visualization\n",
    "\n",
    "* So, now that we captured nodes, lets see how we can highlight aspects of edges, which are visualized with the geometries of the `geom_edge_*` family.\n",
    "\n",
    "### Weight\n",
    "\n",
    "* Obviously, the edge weight (=thickness)\n",
    "\n"
   ]
  },
  {
   "cell_type": "code",
   "execution_count": null,
   "metadata": {
    "autoscroll": false,
    "collapsed": true
   },
   "outputs": [],
   "source": [
    "g %>% ggraph(layout = g_layout) +\n",
    "  geom_edge_link(aes(width = weight), alpha = 0.25) +\n",
    "  geom_node_point() +\n",
    "  theme_graph()"
   ]
  },
  {
   "cell_type": "markdown",
   "metadata": {},
   "source": [
    "\n",
    "* Unfortunately, I wind the default to thick. We can also scale it.\n",
    "\n"
   ]
  },
  {
   "cell_type": "code",
   "execution_count": null,
   "metadata": {
    "autoscroll": false,
    "collapsed": true
   },
   "outputs": [],
   "source": [
    "g %>% ggraph(layout = g_layout) +\n",
    "  geom_edge_link(aes(width = weight), alpha = 0.25) +\n",
    "  scale_edge_width(range = c(0.1, 2)) +\n",
    "  geom_node_point() +\n",
    "  theme_graph()"
   ]
  },
  {
   "cell_type": "markdown",
   "metadata": {},
   "source": [
    "\n",
    "### Color\n",
    "\n",
    "* Color can also be used to highlight edge significance (continuous)\n",
    "* However, color is more often used to highlight different edge categories.\n",
    "* Notice, since we want to represent the colors of potentially multiple edges between a node pair, I now use the `geom_edge_fan` geometry.\n",
    "\n"
   ]
  },
  {
   "cell_type": "code",
   "execution_count": null,
   "metadata": {
    "autoscroll": false,
    "collapsed": true
   },
   "outputs": [],
   "source": [
    "g %>% ggraph(layout = g_layout) +\n",
    "  geom_edge_fan(aes(size = weight,\n",
    "                     color = year), alpha = 0.25) +\n",
    "  geom_node_point() +\n",
    "  theme_graph()"
   ]
  },
  {
   "cell_type": "markdown",
   "metadata": {},
   "source": [
    "\n",
    "### Density\n",
    "\n",
    "* Density plots can also be used to highlight densely connected regions.\n",
    "\n"
   ]
  },
  {
   "cell_type": "code",
   "execution_count": null,
   "metadata": {
    "autoscroll": false,
    "collapsed": true
   },
   "outputs": [],
   "source": [
    "g %>% ggraph(layout = g_layout) +\n",
    "  geom_edge_link(aes(col = year), alpha = 0.1) +\n",
    "  geom_edge_density(aes(fill = year)) +\n",
    "  geom_node_point() +\n",
    "  theme_graph()"
   ]
  },
  {
   "cell_type": "markdown",
   "metadata": {},
   "source": [
    "\n",
    "### Directionality\n",
    "\n",
    "* The easiest way to express directionality is by defining the `arrow()`, which comes with own aestetics.\n",
    "\n"
   ]
  },
  {
   "cell_type": "code",
   "execution_count": null,
   "metadata": {
    "autoscroll": false,
    "collapsed": true
   },
   "outputs": [],
   "source": [
    "g %>% ggraph(layout = g_layout) +\n",
    "  geom_edge_fan(aes(color = year),\n",
    "                arrow = arrow(),\n",
    "                alpha = 0.5) +\n",
    "  geom_node_point() +\n",
    "  theme_graph()"
   ]
  },
  {
   "cell_type": "markdown",
   "metadata": {},
   "source": [
    "\n",
    "* The default open arrow and other settings are a bit ugly, so we use some adittional aestetics\n",
    "\n"
   ]
  },
  {
   "cell_type": "code",
   "execution_count": null,
   "metadata": {
    "autoscroll": false,
    "collapsed": true
   },
   "outputs": [],
   "source": [
    "g %>% ggraph(layout = g_layout) +\n",
    "  geom_edge_fan(aes(color = year),\n",
    "                arrow = arrow(type = \"closed\", length = unit(2, \"mm\")),\n",
    "                start_cap = circle(1, \"mm\"),\n",
    "                end_cap = circle(1, \"mm\"),\n",
    "                alpha = 0.5) +\n",
    "  geom_node_point() +\n",
    "  theme_graph()"
   ]
  },
  {
   "cell_type": "markdown",
   "metadata": {},
   "source": [
    "\n",
    "* Another nice trick is to work with alphas or colors, which change between start and end node.\n",
    "\n"
   ]
  },
  {
   "cell_type": "code",
   "execution_count": null,
   "metadata": {
    "autoscroll": false,
    "collapsed": true
   },
   "outputs": [],
   "source": [
    "g %>%\n",
    "  ggraph(layout = g_layout) +\n",
    "  geom_edge_fan(aes(color = year,\n",
    "                    alpha = stat(index)) # Notice that\n",
    "                ) +\n",
    "  geom_node_point() +\n",
    "  theme_graph() +\n",
    "  scale_edge_alpha(\"Edge direction\", guide = \"edge_direction\")"
   ]
  },
  {
   "cell_type": "markdown",
   "metadata": {},
   "source": [
    "\n",
    "* It can also be really practical to change edge characteristics by the characteristics of their adjacent nodes.\n",
    "* Remember, with `.N()`, we can access them to do so.\n",
    "\n"
   ]
  },
  {
   "cell_type": "code",
   "execution_count": null,
   "metadata": {
    "autoscroll": false,
    "collapsed": true
   },
   "outputs": [],
   "source": [
    "set.seed(1337)\n",
    "g %>%\n",
    "  ggraph(layout = 'nicely') +\n",
    "  geom_edge_fan(aes(color = .N()$community[to]), # Notice that\n",
    "                alpha = 0.5,\n",
    "                show.legend = FALSE) +\n",
    "  geom_node_point(aes(color = community),\n",
    "                  show.legend = FALSE) +\n",
    "  theme_graph()"
   ]
  },
  {
   "cell_type": "markdown",
   "metadata": {},
   "source": [
    "\n",
    "\n",
    "## Layouts\n",
    "\n",
    "* The graph layout refers to the node position on the reference system.\n",
    "\n",
    "### Ordinary graph style\n",
    "\n",
    "* Graphs can be represented in simple geometries such as squares, circles, lines, or randomly.\n",
    "* Or, specialized algorithms can be used to position nodes according to the properties of their connectivity.\n",
    "* They are usually designed to highlight different aspects of the network.\n",
    "* Lets inspect some standard layouts\n",
    "\n"
   ]
  },
  {
   "cell_type": "code",
   "execution_count": null,
   "metadata": {
    "Rmd_chunk_options": "fig.height=30, fig.width= 20",
    "autoscroll": false,
    "collapsed": true
   },
   "outputs": [],
   "source": [
    "set.seed(1337)\n",
    "library(ggpubr)\n",
    "layout_list <- c(\"randomly\", \"linear\", \"circle\",\n",
    "                 \"grid\", \"fr\", \"kk\",\n",
    "                 \"graphopt\", \"stress\", 'mds',\n",
    "                 'dh', 'drl', 'lgl')\n",
    "\n",
    "g_list <- list(NULL)\n",
    "for(i in 1:length(layout_list)){\n",
    "  g_list[[i]] <-g %>%\n",
    "    ggraph(layout = layout_list[i]) +\n",
    "  geom_edge_fan(aes(color = year,\n",
    "                    width = weight,\n",
    "                    alpha = weight),\n",
    "                arrow = arrow(type = \"closed\", length = unit(2, \"mm\")),\n",
    "                start_cap = circle(1, \"mm\"),\n",
    "                end_cap = circle(1, \"mm\"),\n",
    "                show.legend = FALSE) +\n",
    "    scale_edge_width(range = c(0.1, 0.5)) +\n",
    "    geom_node_point(aes(size = centrality_degree(mode = 'in'),\n",
    "                        color = community,\n",
    "                        shape = gender),\n",
    "                    show.legend = FALSE) +\n",
    "    theme_graph() +\n",
    "    labs(title = paste(\"Layout:\", layout_list[i], sep = \" \"))\n",
    "}\n",
    "\n",
    "ggarrange(plotlist = g_list, nrow = 4, ncol = 3)"
   ]
  },
  {
   "cell_type": "markdown",
   "metadata": {},
   "source": [
    "\n",
    "\n",
    "### Arcs and circles\n",
    "\n"
   ]
  },
  {
   "cell_type": "code",
   "execution_count": null,
   "metadata": {
    "autoscroll": false,
    "collapsed": true
   },
   "outputs": [],
   "source": [
    "# An arc diagram\n",
    "g %>% ggraph(layout = 'linear') +\n",
    "  geom_edge_arc() +\n",
    "  geom_node_point(aes(size = centrality_degree(),\n",
    "                      color = community),\n",
    "                  show.legend = FALSE) +\n",
    "    theme_graph()"
   ]
  },
  {
   "cell_type": "code",
   "execution_count": null,
   "metadata": {
    "autoscroll": false,
    "collapsed": true
   },
   "outputs": [],
   "source": [
    "# An arc diagram\n",
    "g %>% ggraph(layout = 'linear', circular = TRUE) +\n",
    "  geom_edge_arc(aes(color = .N()$community[to])) +\n",
    "  geom_node_point(aes(size = centrality_degree(),\n",
    "                      color = community),\n",
    "                  show.legend = FALSE) +\n",
    "    theme_graph() +\n",
    "  coord_fixed()"
   ]
  },
  {
   "cell_type": "markdown",
   "metadata": {},
   "source": [
    "\n",
    "### Hive plots\n",
    "\n",
    "* A hive plot, while still technically a node-edge diagram, is a bit different from the rest as it uses information pertaining to the nodes, rather than the connection information in the graph.\n",
    "* This means that hive plots, to a certain extent are more interpretable as well as less vulnerable to small changes in the graph structure.\n",
    "* They are less common though, so use will often require some additional explanation.\n",
    "\n"
   ]
  },
  {
   "cell_type": "code",
   "execution_count": null,
   "metadata": {
    "autoscroll": false,
    "collapsed": true
   },
   "outputs": [],
   "source": [
    "g %>%\n",
    "  ggraph(layout = 'hive', axis = popular, sort.by = centrality_degree(mode = 'in')) +\n",
    "    geom_edge_hive(aes(colour = year, alpha = ..index..), show.legend = FALSE) +\n",
    "    geom_axis_hive(aes(colour = popular), size = 3, label = FALSE) +\n",
    "    coord_fixed() +\n",
    "  theme_graph() +\n",
    "  theme(legend.position = 'bottom')"
   ]
  },
  {
   "cell_type": "markdown",
   "metadata": {},
   "source": [
    "\n",
    "### Social Fabric\n",
    "\n"
   ]
  },
  {
   "cell_type": "code",
   "execution_count": null,
   "metadata": {
    "autoscroll": false,
    "collapsed": true
   },
   "outputs": [],
   "source": [
    "g %>% ggraph(layout = 'fabric', sort.by = community) +\n",
    "  geom_node_range(aes(colour = community), alpha = 0.3) +\n",
    "  geom_edge_span(aes(col = .N()$community[to]), end_shape = 'circle', alpha = 0.5) +\n",
    "  coord_fixed() +\n",
    "  theme_graph() +\n",
    "  theme(legend.position = 'none')"
   ]
  },
  {
   "cell_type": "markdown",
   "metadata": {},
   "source": [
    "\n",
    "\n",
    "## Visualizing Hirarchical networks\n",
    "\n",
    "* If the network is by definition hierarchical, edges can only exist between nodes of higher to lower dept (eg. tree structures).\n",
    "* This offers us possibility for quite some adittional ways of representing it which are geared towards hirarchical (=nested) structures\n",
    "\n",
    "* Here an example of the dependency structures of the `flare` package\n",
    "\n"
   ]
  },
  {
   "cell_type": "code",
   "execution_count": null,
   "metadata": {
    "autoscroll": false,
    "collapsed": true
   },
   "outputs": [],
   "source": [
    "edges <- flare$edges\n",
    "vertices <- flare$vertices %>% arrange(name) %>% mutate(name=factor(name, name))\n",
    "connections <- flare$imports"
   ]
  },
  {
   "cell_type": "code",
   "execution_count": null,
   "metadata": {
    "autoscroll": false,
    "collapsed": true
   },
   "outputs": [],
   "source": [
    "vertices %>% head()"
   ]
  },
  {
   "cell_type": "code",
   "execution_count": null,
   "metadata": {
    "autoscroll": false,
    "collapsed": true
   },
   "outputs": [],
   "source": [
    "edges %>% head()"
   ]
  },
  {
   "cell_type": "code",
   "execution_count": null,
   "metadata": {
    "autoscroll": false,
    "collapsed": true
   },
   "outputs": [],
   "source": [
    "connections %>% head()"
   ]
  },
  {
   "cell_type": "code",
   "execution_count": null,
   "metadata": {
    "autoscroll": false,
    "collapsed": true
   },
   "outputs": [],
   "source": [
    "g_hir <- tbl_graph(vertices, edges)"
   ]
  },
  {
   "cell_type": "code",
   "execution_count": null,
   "metadata": {
    "autoscroll": false,
    "collapsed": true
   },
   "outputs": [],
   "source": [
    "g_hir"
   ]
  },
  {
   "cell_type": "markdown",
   "metadata": {},
   "source": [
    "\n",
    "### Tree structures\n",
    "\n"
   ]
  },
  {
   "cell_type": "code",
   "execution_count": null,
   "metadata": {
    "autoscroll": false,
    "collapsed": true
   },
   "outputs": [],
   "source": [
    "g_hir %>% ggraph('tree') +\n",
    "  geom_edge_diagonal() +\n",
    "  theme_graph()"
   ]
  },
  {
   "cell_type": "code",
   "execution_count": null,
   "metadata": {
    "autoscroll": false,
    "collapsed": true
   },
   "outputs": [],
   "source": [
    "g_hir %>% ggraph( 'dendrogram') +\n",
    "    geom_edge_elbow() +\n",
    "  theme_graph()"
   ]
  },
  {
   "cell_type": "code",
   "execution_count": null,
   "metadata": {
    "autoscroll": false,
    "collapsed": true
   },
   "outputs": [],
   "source": [
    "g_hir %>% ggraph('dendrogram', circular = TRUE) +\n",
    "    geom_edge_elbow() +\n",
    "    coord_fixed() +\n",
    "  theme_graph()"
   ]
  },
  {
   "cell_type": "code",
   "execution_count": null,
   "metadata": {
    "autoscroll": false,
    "collapsed": true
   },
   "outputs": [],
   "source": [
    "# The connection object must refer to the ids of the leaves:\n",
    "from = match(connections$from, vertices$name)\n",
    "to = match(connections$to, vertices$name)"
   ]
  },
  {
   "cell_type": "code",
   "execution_count": null,
   "metadata": {
    "autoscroll": false,
    "collapsed": true
   },
   "outputs": [],
   "source": [
    "g_hir %>% ggraph(layout = 'dendrogram', circular = TRUE) +\n",
    "  geom_conn_bundle(data = get_con(from = from, to = to), alpha = 0.1) +\n",
    "  geom_edge_diagonal0() +\n",
    "  #geom_node_text(aes(filter = leaf, angle = node_angle(x, y), label = shortName),\n",
    "  # hjust = 'outward', size = 2) +\n",
    "  coord_fixed() +\n",
    "  theme_graph()"
   ]
  },
  {
   "cell_type": "markdown",
   "metadata": {},
   "source": [
    "\n",
    "### Non-edge-based\n",
    "\n"
   ]
  },
  {
   "cell_type": "code",
   "execution_count": null,
   "metadata": {
    "autoscroll": false,
    "collapsed": true
   },
   "outputs": [],
   "source": [
    "# An icicle plot\n",
    "g_hir %>% ggraph('partition') +\n",
    "  geom_node_tile(aes(fill = depth), size = 0.25) +\n",
    "  theme_graph()"
   ]
  },
  {
   "cell_type": "code",
   "execution_count": null,
   "metadata": {
    "autoscroll": false,
    "collapsed": true
   },
   "outputs": [],
   "source": [
    "# A sunburst plot\n",
    "g_hir %>% ggraph('partition', circular = TRUE) +\n",
    "  geom_node_arc_bar(aes(fill = depth), size = 0.25) +\n",
    "  coord_fixed() +\n",
    "  theme_graph()"
   ]
  },
  {
   "cell_type": "code",
   "execution_count": null,
   "metadata": {
    "autoscroll": false,
    "collapsed": true
   },
   "outputs": [],
   "source": [
    "g_hir %>% ggraph('circlepack') + # , weight = size\n",
    "  geom_node_circle(aes(fill = depth), size = 0.25, n = 50) +\n",
    "  coord_fixed() +\n",
    "  theme_graph()"
   ]
  },
  {
   "cell_type": "code",
   "execution_count": null,
   "metadata": {
    "autoscroll": false,
    "collapsed": true
   },
   "outputs": [],
   "source": [
    "g_hir %>% ggraph('treemap') +\n",
    "  geom_node_tile(aes(fill = depth), size = 0.25) +\n",
    "  theme_graph()"
   ]
  },
  {
   "cell_type": "markdown",
   "metadata": {},
   "source": [
    "\n",
    "## Geospatial networks\n",
    "\n",
    "### Defining a map\n",
    "\n"
   ]
  },
  {
   "cell_type": "code",
   "execution_count": null,
   "metadata": {
    "autoscroll": false,
    "collapsed": true
   },
   "outputs": [],
   "source": [
    "library(maps)"
   ]
  },
  {
   "cell_type": "code",
   "execution_count": null,
   "metadata": {
    "autoscroll": false,
    "collapsed": true
   },
   "outputs": [],
   "source": [
    "map_us <- map_data(\"usa\")"
   ]
  },
  {
   "cell_type": "code",
   "execution_count": null,
   "metadata": {
    "autoscroll": false,
    "collapsed": true
   },
   "outputs": [],
   "source": [
    "map_us %>%\n",
    "  head()"
   ]
  },
  {
   "cell_type": "markdown",
   "metadata": {},
   "source": [
    "\n",
    "### Getting some network data\n",
    "\n"
   ]
  },
  {
   "cell_type": "code",
   "execution_count": null,
   "metadata": {
    "autoscroll": false,
    "collapsed": true
   },
   "outputs": [],
   "source": [
    "library(anyflights)"
   ]
  },
  {
   "cell_type": "code",
   "execution_count": null,
   "metadata": {
    "autoscroll": false,
    "collapsed": true
   },
   "outputs": [],
   "source": [
    "us_airports <- get_airports() %>%\n",
    "  filter(lat >= 24 & lat <= 49 & lon >= -124 & lon <= -66)  %>%\n",
    "  rename(name_full = name,\n",
    "         name = faa)"
   ]
  },
  {
   "cell_type": "code",
   "execution_count": null,
   "metadata": {
    "autoscroll": false,
    "collapsed": true
   },
   "outputs": [],
   "source": [
    "us_airports %>% head()"
   ]
  },
  {
   "cell_type": "code",
   "execution_count": null,
   "metadata": {
    "autoscroll": false,
    "collapsed": true
   },
   "outputs": [],
   "source": [
    "flights <- get_flights(station = us_airports %>% pull(name), year = 2015, month = 5)"
   ]
  },
  {
   "cell_type": "code",
   "execution_count": null,
   "metadata": {
    "autoscroll": false,
    "collapsed": true
   },
   "outputs": [],
   "source": [
    "flights %>% head()"
   ]
  },
  {
   "cell_type": "code",
   "execution_count": null,
   "metadata": {
    "autoscroll": false,
    "collapsed": true
   },
   "outputs": [],
   "source": [
    "edges <- flights %>% count(origin, dest, sort = TRUE) %>%\n",
    "  rename(from = origin, to = dest, weight = n) %>%\n",
    "  semi_join(us_airports, by = c('from' = 'name')) %>%\n",
    "  semi_join(us_airports, by = c('to' = 'name')) %>%\n",
    "  filter(percent_rank(weight) >= 0.25)"
   ]
  },
  {
   "cell_type": "code",
   "execution_count": null,
   "metadata": {
    "autoscroll": false,
    "collapsed": true
   },
   "outputs": [],
   "source": [
    "g_geo <- tbl_graph(nodes = us_airports, edges = edges, directed = TRUE) %N>%\n",
    "  filter(!node_is_isolated())"
   ]
  },
  {
   "cell_type": "markdown",
   "metadata": {},
   "source": [
    "\n",
    "\n",
    "### Constructing a graph\n",
    "\n"
   ]
  },
  {
   "cell_type": "code",
   "execution_count": null,
   "metadata": {
    "autoscroll": false,
    "collapsed": true
   },
   "outputs": [],
   "source": [
    "coords <- g_geo %N>%\n",
    "  as_tibble() %>%\n",
    "  select(lat, lon) %>%\n",
    "  rename(x = lon, y = lat)"
   ]
  },
  {
   "cell_type": "code",
   "execution_count": null,
   "metadata": {
    "autoscroll": false,
    "collapsed": true
   },
   "outputs": [],
   "source": [
    "g_geo %>%\n",
    "  ggraph(layout = coords) +\n",
    "  geom_polygon(data = map_us, aes(x=long, y = lat, group = group), fill = \"#CECECE\", color = \"#515151\") +\n",
    "  geom_edge_arc(aes(width = weight,\n",
    "                    alpha = weight,\n",
    "                    filter = percent_rank(weight) >= 0.75,\n",
    "                    circular = FALSE),\n",
    "                strength = 0.33,\n",
    "                color = 'chocolate2') +\n",
    "  geom_node_point(aes(size = centrality_degree(),\n",
    "                      col = centrality_degree())) +\n",
    "  scale_edge_width_continuous(range = c(0.1, 1)) +\n",
    "  coord_fixed(1.3) +\n",
    "  theme_graph() +\n",
    "  theme(legend.position = 'none')"
   ]
  },
  {
   "cell_type": "markdown",
   "metadata": {},
   "source": [
    "\n",
    "## Interactive networks\n",
    "\n",
    "* There are numerous ways to to interactive network visualizations in R\n",
    "* For the sake of time, I just show you what I find the easiest and most consistent implementation (plotly unfortunately does by now not support ggraph)\n",
    "\n"
   ]
  },
  {
   "cell_type": "code",
   "execution_count": null,
   "metadata": {
    "autoscroll": false,
    "collapsed": true
   },
   "outputs": [],
   "source": [
    "library(ggiraph)"
   ]
  },
  {
   "cell_type": "code",
   "execution_count": null,
   "metadata": {
    "autoscroll": false,
    "collapsed": true
   },
   "outputs": [],
   "source": [
    "g_plot_int <- g %>%\n",
    "  ggraph(layout = layout_list[i]) +\n",
    "  geom_edge_fan(aes(color = year,\n",
    "                    width = weight,\n",
    "                    alpha = weight),\n",
    "                arrow = arrow(type = \"closed\", length = unit(2, \"mm\")),\n",
    "                start_cap = circle(1, \"mm\"),\n",
    "                end_cap = circle(1, \"mm\"),\n",
    "                show.legend = FALSE) +\n",
    "    scale_edge_width(range = c(0.1, 0.5)) +\n",
    "    geom_node_point(aes(size = centrality_degree(mode = 'in'),\n",
    "                        color = community,\n",
    "                        shape = gender),\n",
    "                    show.legend = FALSE) +\n",
    "  geom_point_interactive(aes(x, y, # Notice this extra layer\n",
    "                             tooltip = label, data_id = name,\n",
    "                             size = centrality_degree(mode = 'in')), alpha = 0.01) +\n",
    "    theme_graph() +\n",
    "  theme(legend.position = 'none')"
   ]
  },
  {
   "cell_type": "code",
   "execution_count": null,
   "metadata": {
    "Rmd_chunk_options": "fig.height=10, fig.width=10",
    "autoscroll": false,
    "collapsed": true
   },
   "outputs": [],
   "source": [
    "girafe(ggobj = g_plot_int, width_svg = 10, height_svg = 10) %>%\n",
    "    girafe_options(opts_zoom(max = 10), opts_tooltip(opacity = 0.7) )"
   ]
  },
  {
   "cell_type": "markdown",
   "metadata": {},
   "source": [
    "\n",
    "\n",
    "# Your turn\n",
    "Please do **Exercise 1** in the corresponding section on `Github`. This time you are about to do your own bibliographic analysis!\n",
    "\n",
    "# Endnotes\n",
    "\n",
    "### More info\n",
    "\n",
    "#### Packages & Ecosystem\n",
    "\n",
    "* `tidygraph` [here](https://tidygraph.data-imaginist.com/)\n",
    "* `ggraph` [here](https://ggraph.data-imaginist.com/)\n",
    "* `ggiraph` [here](https://davidgohel.github.io/ggiraph/)\n",
    "\n",
    "#### Other souces\n",
    "\n",
    "* [Intro: Network Visualizations in R using ggraph and graphlayouts](http://mr.schochastics.net/netVizR.html): Good intros to ggraph functionality & finetuning.\n",
    "* [Katherine Ognyanova's Blog)](https://kateto.net/): Her blog is full of some of the most complete introductions to network visualization. Does use igraph, but there are for sure 1 or tricks you can learn from her, particularly when it's about interactive network viosualization.\n",
    "* [Good slidedeck on static / interactive network viz in R](http://curleylab.psych.columbia.edu/netviz/netviz1.html#/): Worth visiting\n",
    "\n",
    "\n",
    "### Session info\n"
   ]
  },
  {
   "cell_type": "code",
   "execution_count": null,
   "metadata": {
    "autoscroll": false,
    "collapsed": true
   },
   "outputs": [],
   "source": [
    "sessionInfo()"
   ]
  },
  {
   "cell_type": "markdown",
   "metadata": {},
   "source": [
    "\n"
   ]
  }
 ],
 "metadata": {
  "Rmd_header": {
   "author": "Daniel S. Hain (dsh@business.aau.dk)",
   "date": "Updated `r format(Sys.time(), '%B %d, %Y')`",
   "output": {
    "html_notebook": {
     "code_folding": "show",
     "df_print": "paged",
     "theme": "flatly",
     "toc": true,
     "toc_depth": 2,
     "toc_float": {
      "collapsed": false
     }
    }
   },
   "title": "Intermediate Network Analysis: Network Vizualization: Application (R)"
  },
  "kernelspec": {
   "display_name": "R",
   "language": "R",
   "name": "ir"
  },
  "language_info": {
   "codemirror_mode": "r",
   "file_extension": ".r",
   "mimetype": "text/x-r-source",
   "name": "R",
   "pygments_lexer": "r"
  }
 },
 "nbformat": 4,
 "nbformat_minor": 0
}
