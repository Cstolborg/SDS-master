{
 "cells": [
  {
   "cell_type": "code",
   "execution_count": null,
   "metadata": {
    "Rmd_chunk_options": "setup, include=FALSE",
    "autoscroll": false,
    "collapsed": true
   },
   "outputs": [],
   "source": [
    "### Generic preamble\n",
    "rm(list=ls())\n",
    "Sys.setenv(LANG = \"en\") # For english language\n",
    "options(scipen = 5) # To deactivate annoying scientific number notation\n",
    "\n",
    "### Knitr options\n",
    "library(knitr) # For display of the markdown\n",
    "knitr::opts_chunk$set(warning=FALSE,\n",
    "                     message=FALSE,\n",
    "                     comment=FALSE,\n",
    "                     fig.align=\"center\"\n",
    "                     )"
   ]
  },
  {
   "cell_type": "code",
   "execution_count": null,
   "metadata": {
    "autoscroll": false,
    "collapsed": true
   },
   "outputs": [],
   "source": [
    "### Load standardpackages\n",
    "library(tidyverse) # Collection of all the good stuff like dplyr, ggplot2 ect.\n",
    "library(magrittr) # For extra-piping operators (eg. %<>%)\n",
    "\n",
    "library(tidygraph)\n",
    "library(ggraph)"
   ]
  },
  {
   "cell_type": "markdown",
   "metadata": {},
   "source": [
    "\n",
    "\n",
    "Welcome to your second part of the introduction to network analysis. In this session you will learn:\n",
    "\n",
    "1. What directed networks are, and when that matters.\n",
    "2. How different measures have to be calculated in directed networks.\n",
    "3. What multidimensional networks are, and how they matter.\n",
    "4. How to compare network measures between graphs, and with random graphs\n",
    "\n",
    "# Introduction\n",
    "\n",
    "Hello so far :)\n",
    "\n",
    "# Directed networks\n",
    "\n",
    "* Up to now, we did not pay attention to the direction of edges, and assumed them to be symetric (`A->B == B->A`). this makes sense in a lot of setting, for instance when we look at co-occurence networks.\n",
    "* However, in many cases, such as friendship networks, that might not be the case (the person you name a close friend not necessarily thinks the same about you).\n",
    "* In such cases, we would like to take this directionality into account, and analyse **directed networks**.\n",
    "\n",
    "Lets look a brief example of highschool students data, which had to name their close friends.\n",
    "\n"
   ]
  },
  {
   "cell_type": "code",
   "execution_count": null,
   "metadata": {
    "autoscroll": false,
    "collapsed": true
   },
   "outputs": [],
   "source": [
    "highschool %>%\n",
    "  head()"
   ]
  },
  {
   "cell_type": "markdown",
   "metadata": {},
   "source": [
    "\n",
    "Again, here it sometimes happens that friendship is not reciprocal, so we will create a directed friendship graph.\n",
    "\n"
   ]
  },
  {
   "cell_type": "code",
   "execution_count": null,
   "metadata": {
    "autoscroll": false,
    "collapsed": true
   },
   "outputs": [],
   "source": [
    "g <- highschool %>%\n",
    "  as_tbl_graph(directed = TRUE)"
   ]
  },
  {
   "cell_type": "code",
   "execution_count": null,
   "metadata": {
    "autoscroll": false,
    "collapsed": true
   },
   "outputs": [],
   "source": [
    "g"
   ]
  },
  {
   "cell_type": "code",
   "execution_count": null,
   "metadata": {
    "autoscroll": false,
    "collapsed": true
   },
   "outputs": [],
   "source": [
    "set.seed(1337)\n",
    "# The names where anonymized, which is a bit boring. So I will just give them some random names to associate with.\n",
    "library(randomNames)\n",
    "\n",
    "g <- g %N>%\n",
    "  mutate(gender = rbinom(n = n(), size = 1, prob = 0.5),\n",
    "         label= randomNames(gender = gender, name.order = \"first.last\"))"
   ]
  },
  {
   "cell_type": "code",
   "execution_count": null,
   "metadata": {
    "autoscroll": false,
    "collapsed": true
   },
   "outputs": [],
   "source": [
    "g %N>% as_tibble()"
   ]
  },
  {
   "cell_type": "markdown",
   "metadata": {},
   "source": [
    "\n",
    "* Lets plot this network briefly to get a sense.\n",
    "* Notice that we have edges for two years, so we can do a facet plot for every year.\n",
    "\n"
   ]
  },
  {
   "cell_type": "code",
   "execution_count": null,
   "metadata": {
    "autoscroll": false,
    "collapsed": true
   },
   "outputs": [],
   "source": [
    "set.seed(1337)\n",
    "g %E>%\n",
    "  ggraph(layout = \"nicely\") +\n",
    "    geom_edge_link(arrow = arrow()) +\n",
    "    geom_node_point() +\n",
    "    theme_graph() +\n",
    "    facet_edges(~year)"
   ]
  },
  {
   "cell_type": "markdown",
   "metadata": {},
   "source": [
    "We indeed see that the friendship structure alters slightly between years. To make it less complicated for now, we will only look at the 1958 network.\n",
    "\n"
   ]
  },
  {
   "cell_type": "code",
   "execution_count": null,
   "metadata": {
    "autoscroll": false,
    "collapsed": true
   },
   "outputs": [],
   "source": [
    "g <- g %E>%\n",
    "  filter(year == 1958) %N>%\n",
    "  filter(!node_is_isolated())"
   ]
  },
  {
   "cell_type": "code",
   "execution_count": null,
   "metadata": {
    "autoscroll": false,
    "collapsed": true
   },
   "outputs": [],
   "source": [
    "set.seed(1337)\n",
    "g %E>%\n",
    "  ggraph(layout = \"nicely\") +\n",
    "    geom_edge_link(arrow = arrow()) +\n",
    "    geom_node_point() +\n",
    "    theme_graph()"
   ]
  },
  {
   "cell_type": "markdown",
   "metadata": {},
   "source": [
    "\n",
    "## Centrality measures\n",
    "\n",
    "Our network is now directed, meaning a node-pair now has two different roles:\n",
    "\n",
    "* **Ego:** The node the edge loriginates from.\n",
    "* **Alter:** The node the edge leads to.\n",
    "\n",
    "Consequently, most network metrics have to take this directionality into account. For example, degree centrality is now differentiated between the **in-degree** centrality (now many edges lead to the node) and the **out-degree** centrality (now many edges lead to the node)\n",
    "\n"
   ]
  },
  {
   "cell_type": "code",
   "execution_count": null,
   "metadata": {
    "autoscroll": false,
    "collapsed": true
   },
   "outputs": [],
   "source": [
    "g <- g %N>%\n",
    "  mutate(cent_dgr_in = centrality_degree(mode = \"in\"),\n",
    "         cent_dgr_out = centrality_degree(mode = \"out\"))"
   ]
  },
  {
   "cell_type": "markdown",
   "metadata": {},
   "source": [
    "\n",
    "## Community Structures\n",
    "\n",
    "Now it is getting a bit more complicated. Most community detection algorithms implemented in `igraph` only work with undirected networks. So, now we could do 2 things:\n",
    "\n",
    "1. Convert the network in an undirected one.\n",
    "2. Use the \"edge betweenness\" algorithm, the only one implemented that can handle directed networks.\n",
    "\n"
   ]
  },
  {
   "cell_type": "code",
   "execution_count": null,
   "metadata": {
    "Rmd_chunk_options": "warning=FALSE,comment=FALSE,error=FALSE,message=FALSE",
    "autoscroll": false,
    "collapsed": true
   },
   "outputs": [],
   "source": [
    "g <- g %N>%\n",
    "  mutate(community = group_edge_betweenness(directed = TRUE) %>% as.factor())"
   ]
  },
  {
   "cell_type": "code",
   "execution_count": null,
   "metadata": {
    "autoscroll": false,
    "collapsed": true
   },
   "outputs": [],
   "source": [
    "g %E>%\n",
    "  ggraph(layout = \"nicely\") +\n",
    "    geom_edge_link(arrow = arrow()) +\n",
    "    geom_node_point(aes(col = community, size = cent_dgr_in)) +\n",
    "    theme_graph()"
   ]
  },
  {
   "cell_type": "markdown",
   "metadata": {},
   "source": [
    "\n",
    "\n",
    "# Case: Lawyers, Friends & Foes\n",
    "\n",
    "## Introduction to the case\n",
    "\n",
    "* Emmanuel Lazega, The Collegial Phenomenon: The Social Mechanisms of Cooperation Among Peers in a Corporate Law Partnership, Oxford University Press (2001).\n",
    "\n",
    "### Data\n",
    "* This data set comes from a network study of corporate law partnership that was carried out in a Northeastern US corporate law firm, referred to as SG&R, 1988-1991 in New England.\n",
    "* It includes (among others) measurements of networks among the 71 attorneys (partners and associates) of this firm, i.e. their strong-coworker network, advice network, friendship network, and indirect control networks.\n",
    "* Various members' attributes are also part of the dataset, including seniority, formal status, office in which they work, gender, lawschool attended, individual performance measurements (hours worked, fees brought in), attitudes concerning various management policy options, etc.\n",
    "* This dataset was used to identify social processes such as bounded solidarity, lateral control, quality control, knowledge sharing, balancing powers, regulation, etc. among peers.\n",
    "\n",
    "### Setting\n",
    "* What do corporate lawyers do? Litigation and corporate work.\n",
    "* Division of work and interdependencies.\n",
    "* Three offices, no departments, built-in pressures to grow, intake and assignment rules.\n",
    "* Partners and associates: hierarchy, up or out rule, billing targets.\n",
    "* Partnership agreement (sharing benefits equally, 90% exclusion rule, governance structure, elusive committee system) and incompleteness of the contracts.\n",
    "* Informal, unwritten rules (ex: no moonlighting, no investment in buildings, no nepotism, no borrowing to pay partners, etc.).\n",
    "* Huge incentives to behave opportunistically ; thus the dataset is appropriate for the study of social processes that make cooperation among rival partners possible.\n",
    "* Sociometric name generators used to elicit coworkers, advice, and 'friendship' ties at SG&R:\"Here is the list of all the members of your Firm.\"\n",
    "\n",
    "The networks where created according to the follwoing questionaire:\n",
    "\n",
    "* Strong coworkers network: \"Because most firms like yours are also organized very informally, it is difficult to get a clear idea of how the members really work together. Think back over the past year, consider all the lawyers in your Firm. Would you go through this list and check the names of those with whom you have worked with. By \"worked with\" I mean that you have spent time together on at least one case, that you have been assigned to the same case, that they read or used your work product or that you have read or used their work product; this includes professional work done within the Firm like Bar association work, administration, etc.\"\n",
    "* Basic advice network: \"Think back over the past year, consider all the lawyers in your Firm. To whom did you go for basic professional advice? For instance, you want to make sure that you are handling a case right, making a proper decision, and you want to consult someone whose professional opinions are in general of great value to you. By advice I do not mean simply technical advice.\"\n",
    "* 'Friendship' network:\n",
    "\"Would you go through this list, and check the names of those you socialize with outside work. You know their family, they know yours, for instance. I do not mean all the people you are simply on a friendly level with, or people you happen to meet at Firm functions.\"\n",
    "\n",
    "## Data preperation\n",
    "\n",
    "###  Load the data\n",
    "\n",
    "Lets load the data! The three networks refer to cowork, friendship, and advice. The first 36 respondents are the partners in the firm.\n",
    "\n"
   ]
  },
  {
   "cell_type": "code",
   "execution_count": null,
   "metadata": {
    "autoscroll": false,
    "collapsed": true
   },
   "outputs": [],
   "source": [
    "# Note the .dat format is a bit unconfortable to load with readr, since we have to specify the delimiters on our own. Therefore I use the convenient fread function by the data.table package, which is able to detect them without help\n",
    "library(data.table)\n",
    "mat_friendship <- fread('https://sds-aau.github.io/SDS-master/00_data/network_lawyers/ELfriend.dat') %>% as.matrix()\n",
    "mat_advice <- fread('https://sds-aau.github.io/SDS-master/00_data/network_lawyers/ELadv.dat') %>% as.matrix(dimnames = list(c(1:nrow(.)), c(1:ncol(.))))\n",
    "mat_work <- fread('https://sds-aau.github.io/SDS-master/00_data/network_lawyers/ELwork.dat') %>% as.matrix(dimnames = list(c(1:nrow(.)), c(1:ncol(.))))\n",
    "\n",
    "dimnames(mat_friendship) = list(c(1:nrow(mat_friendship)), c(1:ncol(mat_friendship)))\n",
    "dimnames(mat_advice) = list(c(1:nrow(mat_advice)), c(1:ncol(mat_advice)))\n",
    "dimnames(mat_work) = list(c(1:nrow(mat_work)), c(1:ncol(mat_work)))\n",
    "# Note that we have to overwrite the column and rownames of the matrices with 1:71 (corresponding to the name codes in the nodeslist)"
   ]
  },
  {
   "cell_type": "markdown",
   "metadata": {},
   "source": [
    "\n",
    "We also load a set of nodes\n",
    "\n"
   ]
  },
  {
   "cell_type": "code",
   "execution_count": null,
   "metadata": {
    "autoscroll": false,
    "collapsed": true
   },
   "outputs": [],
   "source": [
    "nodes <- fread('https://sds-aau.github.io/SDS-master/00_data/network_lawyers/ELattr.dat') %>% as_tibble()"
   ]
  },
  {
   "cell_type": "code",
   "execution_count": null,
   "metadata": {
    "autoscroll": false,
    "collapsed": true
   },
   "outputs": [],
   "source": [
    "nodes %>% head()"
   ]
  },
  {
   "cell_type": "markdown",
   "metadata": {},
   "source": [
    "\n",
    "### Cleaning up\n",
    "\n",
    "The variables in `nodes` are unnamed, but from the paper I know how they are coded, so we can give them names.\n",
    "\n"
   ]
  },
  {
   "cell_type": "code",
   "execution_count": null,
   "metadata": {
    "autoscroll": false,
    "collapsed": true
   },
   "outputs": [],
   "source": [
    "colnames(nodes) <- c(\"name\", \"seniority\", \"gender\", \"office\", \"tenure\", \"age\", \"practice\", \"school\")"
   ]
  },
  {
   "cell_type": "markdown",
   "metadata": {},
   "source": [
    "\n",
    "We can also recode the numeric codes in the data into something more intuitive. I agaion know from the data description of the paper the coding.\n",
    "\n",
    "* seniority status (1=partner; 2=associate)\n",
    "* gender (1=man; 2=woman)\n",
    "* office (1=Boston; 2=Hartford; 3=Providence)\n",
    "* years with the firm\n",
    "* age\n",
    "* practice (1=litigation; 2=corporate)\n",
    "* law school (1: harvard, yale; 2: ucon; 3: other)\n",
    "\n"
   ]
  },
  {
   "cell_type": "code",
   "execution_count": null,
   "metadata": {
    "autoscroll": false,
    "collapsed": true
   },
   "outputs": [],
   "source": [
    "nodes %<>%\n",
    "  mutate(name = name %>% as.numeric(),\n",
    "         seniority = recode(seniority, \"1\" = \"Partner\", \"2\" = \"Associate\"),\n",
    "         gender = recode(gender, \"1\" = \"Man\", \"2\" = \"Woman\"),\n",
    "         office = recode(office, \"1\" = \"Boston\", \"2\" = \"Hartford\", \"3\" = \"Providence\"),\n",
    "         practice = recode(practice, \"1\" = \"Litigation\", \"2\" = \"Corporate\"),\n",
    "         school = recode(school, \"1\" = \"Harvard, Yale\", \"2\" = \"Ucon\", \"3\" = \"Others\"))"
   ]
  },
  {
   "cell_type": "code",
   "execution_count": null,
   "metadata": {
    "autoscroll": false,
    "collapsed": true
   },
   "outputs": [],
   "source": [
    "nodes %>% head()"
   ]
  },
  {
   "cell_type": "markdown",
   "metadata": {},
   "source": [
    "\n",
    "### Generate the graph\n",
    "\n",
    "* Since we have now a **multidimensional** network (=different types of edges), we first load them into isolated networks.\n",
    "* We could also directly load them into one network with labeled edges, but that's a bit more complicated, so we keep it for the sake of clarity seperated for now.\n",
    "\n"
   ]
  },
  {
   "cell_type": "code",
   "execution_count": null,
   "metadata": {
    "autoscroll": false,
    "collapsed": true
   },
   "outputs": [],
   "source": [
    "g_friendship <- mat_friendship %>% as_tbl_graph(directed = TRUE) %E>%\n",
    "  mutate(type = \"friendship\") %N>%\n",
    "  mutate(name = name %>% as.numeric()) %>%\n",
    "  left_join(nodes, by = \"name\")\n",
    "\n",
    "g_advice <- mat_advice %>% as_tbl_graph(directed = TRUE) %E>%\n",
    "  mutate(type = \"advice\") %N>%\n",
    "  mutate(name = name %>% as.numeric()) %>%\n",
    "  left_join(nodes, by = \"name\")\n",
    "\n",
    "g_work <- mat_work %>% as_tbl_graph(directed = TRUE) %E>%\n",
    "  mutate(type = \"work\") %N>%\n",
    "  mutate(name = name %>% as.numeric()) %>%\n",
    "  left_join(nodes, by = \"name\")\n",
    "\n",
    "# Notice: The node names are taken from the matrices dimnames as string, therefore need to be converted as numeric"
   ]
  },
  {
   "cell_type": "markdown",
   "metadata": {},
   "source": [
    "\n",
    "### First inspection\n",
    "\n"
   ]
  },
  {
   "cell_type": "code",
   "execution_count": null,
   "metadata": {
    "autoscroll": false,
    "collapsed": true
   },
   "outputs": [],
   "source": [
    "# We could also join all the networks together.\n",
    "g_all <- g_friendship %>%\n",
    "  graph_join(g_advice, by = \"name\") %>%\n",
    "  graph_join(g_work, by = \"name\")"
   ]
  },
  {
   "cell_type": "code",
   "execution_count": null,
   "metadata": {
    "autoscroll": false,
    "collapsed": true
   },
   "outputs": [],
   "source": [
    "g_all %E>%\n",
    "  as_tibble() %>%\n",
    "  head()"
   ]
  },
  {
   "cell_type": "code",
   "execution_count": null,
   "metadata": {
    "Rmd_chunk_options": "fig.height= 7.5, fig.width=12.5",
    "autoscroll": false,
    "collapsed": true
   },
   "outputs": [],
   "source": [
    "# Then we could plot them pointly via an edge facett...\n",
    "g_all %>%\n",
    "  ggraph(layout = 'fr') +\n",
    "  geom_edge_fan(aes(col = type),\n",
    "                arrow = arrow(angle = 30, length = unit(0.25, 'cm'),type = \"closed\"),\n",
    "                alpha = 0.25) +\n",
    "  geom_node_point(col = 'purple') +\n",
    "  geom_node_text(aes(label = name)) +\n",
    "  theme_graph() +\n",
    "  theme(legend.position = \"none\") +\n",
    "  facet_edges(~type)"
   ]
  },
  {
   "cell_type": "markdown",
   "metadata": {},
   "source": [
    "\n",
    "This is convenient, yet somewhat of a compromise, since the layout is optimized on the full network of all edges. So it kind of fits to all, but not fully to one...\n",
    "\n",
    "## Network effects & structures\n",
    "\n",
    "for the following, we will only look at the friendship network, while i leave the analysis of the other's up to you.\n",
    "\n"
   ]
  },
  {
   "cell_type": "code",
   "execution_count": null,
   "metadata": {
    "autoscroll": false,
    "collapsed": true
   },
   "outputs": [],
   "source": [
    "g <- g_friendship"
   ]
  },
  {
   "cell_type": "markdown",
   "metadata": {},
   "source": [
    "\n",
    "Lets take a look\n",
    "\n"
   ]
  },
  {
   "cell_type": "code",
   "execution_count": null,
   "metadata": {
    "Rmd_chunk_options": "fig.height= 7.5, fig.width=12.5",
    "autoscroll": false,
    "collapsed": true
   },
   "outputs": [],
   "source": [
    "set.seed(1337)\n",
    "# Then we could plot them pointly via an edge facett...\n",
    "g %N>%\n",
    "  filter(!node_is_isolated()) %>%\n",
    "  ggraph(layout = 'stress') +\n",
    "  geom_edge_fan(arrow = arrow(angle = 30, length = unit(0.25, 'cm'),type = 'closed'), alpha = 0.25) +\n",
    "  geom_node_point(aes(col = office, size = centrality_eigen(directed = TRUE))) +\n",
    "  geom_node_text(aes(label = name, size = centrality_eigen(directed = TRUE))) +\n",
    "  theme_graph() +\n",
    "  theme(legend.position = \"bottom\") +\n",
    "  facet_edges(~type)"
   ]
  },
  {
   "cell_type": "markdown",
   "metadata": {},
   "source": [
    "\n",
    "### Node level (local)\n",
    "\n",
    "* We could look at all the node level characteristics (degree, betweenness etc.) again, but for the sake of time I skip that for now, since its all already in the last notebook.\n",
    "\n",
    "### Network level (global)\n",
    "\n"
   ]
  },
  {
   "cell_type": "code",
   "execution_count": null,
   "metadata": {
    "autoscroll": false,
    "collapsed": true
   },
   "outputs": [],
   "source": [
    "library(igraph)"
   ]
  },
  {
   "cell_type": "markdown",
   "metadata": {},
   "source": [
    "\n",
    "\n",
    "* Ok, lets do the whole exercise with getting the main-determinants of the network structure again. We can look at the classical structural determinants.\n",
    "\n"
   ]
  },
  {
   "cell_type": "code",
   "execution_count": null,
   "metadata": {
    "autoscroll": false,
    "collapsed": true
   },
   "outputs": [],
   "source": [
    "# Get density of a graph\n",
    "edge_density(g)"
   ]
  },
  {
   "cell_type": "code",
   "execution_count": null,
   "metadata": {
    "autoscroll": false,
    "collapsed": true
   },
   "outputs": [],
   "source": [
    "# Get the diameter of the graph g\n",
    "diameter(g, directed = TRUE)"
   ]
  },
  {
   "cell_type": "code",
   "execution_count": null,
   "metadata": {
    "autoscroll": false,
    "collapsed": true
   },
   "outputs": [],
   "source": [
    "# Get the average path length of the graph g\n",
    "mean_distance(g, directed = TRUE)"
   ]
  },
  {
   "cell_type": "code",
   "execution_count": null,
   "metadata": {
    "autoscroll": false,
    "collapsed": true
   },
   "outputs": [],
   "source": [
    "# Transistivity\n",
    "transitivity(g, type =\"global\")"
   ]
  },
  {
   "cell_type": "markdown",
   "metadata": {},
   "source": [
    "\n",
    "### Network level (global direced)\n",
    "\n",
    "* Since we here have a directed network, a couple of interesting additional metrics are available, explicitly taking into account th direction of edges.\n",
    "* While there are many more, we here will just take a look at some of the most important ones, which are also known to be popular mechanisms in social networks.\n",
    "\n",
    "![](https://sds-aau.github.io/SDS-master/00_media/networks_directed_metrics.png){width=500px}\n",
    "\n",
    "* Reciprocity measures the extend to which edges are reciprocal, meaning a edge between i & j implies also an edge between j & i\n",
    "\n"
   ]
  },
  {
   "cell_type": "code",
   "execution_count": null,
   "metadata": {
    "autoscroll": false,
    "collapsed": true
   },
   "outputs": [],
   "source": [
    "# reciprocity\n",
    "reciprocity(g)"
   ]
  },
  {
   "cell_type": "markdown",
   "metadata": {},
   "source": [
    "\n",
    "* We have another important concept that often explains edge-formation in directed (social) networks: **Assortativity**, also called **homopholy**.\n",
    "* This is a measure of how preferentially attached vertices are to other vertices with identical attributes. In other words: How much \"*birds of the same feather flock together *\".\n",
    "* Lets first look at people of the same tenure flock together.\n",
    "\n"
   ]
  },
  {
   "cell_type": "code",
   "execution_count": null,
   "metadata": {
    "autoscroll": false,
    "collapsed": true
   },
   "outputs": [],
   "source": [
    "assortativity(g, V(g)$tenure, directed = TRUE)"
   ]
  },
  {
   "cell_type": "markdown",
   "metadata": {},
   "source": [
    "\n",
    "* What about people from elite universities?\n",
    "\n"
   ]
  },
  {
   "cell_type": "code",
   "execution_count": null,
   "metadata": {
    "autoscroll": false,
    "collapsed": true
   },
   "outputs": [],
   "source": [
    "assortativity(g, V(g)$school == \"Harvard, Yale\", directed = TRUE)"
   ]
  },
  {
   "cell_type": "markdown",
   "metadata": {},
   "source": [
    "\n",
    "* Lastly, what about the popularity (or \"Matthew\") effect?\n",
    "\n"
   ]
  },
  {
   "cell_type": "code",
   "execution_count": null,
   "metadata": {
    "autoscroll": false,
    "collapsed": true
   },
   "outputs": [],
   "source": [
    "assortativity(g, degree(g, mode = \"in\"), directed = TRUE)"
   ]
  },
  {
   "cell_type": "markdown",
   "metadata": {},
   "source": [
    "\n",
    "* One more thing we didn't talk about yet: Small worlds.\n",
    "* Small worlds are an interesting network structure, combining short path lenght betwen the nodes with a high clustering coefficient.\n",
    "* That means, that we have small interconnected clusters, which are in turn connected by **gatekeepers** (the edges we call **bridges** or **structural holes**).\n",
    "\n",
    "![](https://sds-aau.github.io/SDS-master/00_media/networks_smallworld2.jpg){width=500px}\n",
    "\n",
    "This leads to an interesting setup, which has proven to be conductive for efficient communication and fast diffusion of information in social networks.\n",
    "\n",
    "![](https://sds-aau.github.io/SDS-master/00_media/networks_smallworld1.jpg){width=500px}\n",
    "\n",
    "We calculate it for now in an easy way:\n",
    "\n"
   ]
  },
  {
   "cell_type": "code",
   "execution_count": null,
   "metadata": {
    "autoscroll": false,
    "collapsed": true
   },
   "outputs": [],
   "source": [
    "transitivity(g, type =\"global\") / mean_distance(g, directed = TRUE)"
   ]
  },
  {
   "cell_type": "markdown",
   "metadata": {},
   "source": [
    "\n",
    "However, you by now probably wonder how to interprete this numbers. Are they high, low, or whatever? What is the reference? In fact, it's very hard to say. The best way to say something about that is to compare it with what a random network would look like.\n",
    "\n",
    "So, lets create a random network. Here, we use the `play_erdos_renyi()` function, which creates a network with a given number of nodes and edge-density, but where the edges are constructed completely random.\n",
    "\n"
   ]
  },
  {
   "cell_type": "code",
   "execution_count": null,
   "metadata": {
    "autoscroll": false,
    "collapsed": true
   },
   "outputs": [],
   "source": [
    "g_r <- play_erdos_renyi(n = g %>% gorder(),\n",
    "                        m  = g %>% gsize(),\n",
    "                        directed = TRUE,\n",
    "                        loops = FALSE)"
   ]
  },
  {
   "cell_type": "markdown",
   "metadata": {},
   "source": [
    "\n",
    "Looks kind of different. However, one randomly created network doesn't present a good baseline. So, lets better create a bunch, and compare our network to the average values of the randomly generated ones.\n",
    "\n"
   ]
  },
  {
   "cell_type": "code",
   "execution_count": null,
   "metadata": {
    "autoscroll": false,
    "collapsed": true
   },
   "outputs": [],
   "source": [
    "# Generate n random graphs\n",
    "n = 1000\n",
    "g_l <- vector('list', n)\n",
    "\n",
    "for(i in 1:n){\n",
    "  g_l[[i]] <- play_erdos_renyi(n = g %>% gorder(),\n",
    "                        m  = g %>% gsize(),\n",
    "                        directed = TRUE,\n",
    "                        loops = FALSE)\n",
    "}"
   ]
  },
  {
   "cell_type": "markdown",
   "metadata": {},
   "source": [
    "\n",
    "\n",
    "Now we can see how meaningful our observed network statistics are, by comparing them with the mean of the statistics in the random network.\n",
    "\n"
   ]
  },
  {
   "cell_type": "code",
   "execution_count": null,
   "metadata": {
    "autoscroll": false,
    "collapsed": true
   },
   "outputs": [],
   "source": [
    "# Calculate average path length of 1000 random graphs\n",
    "dist_r <- g_l %>% lapply(mean_distance, directed = TRUE) %>% unlist() #%>% mean()\n",
    "cc_r <- g_l %>% lapply(transitivity, type = \"global\") %>% unlist() #%>% mean()\n",
    "rp_r <- g_l %>% lapply(reciprocity) %>% unlist() #%>% mean()"
   ]
  },
  {
   "cell_type": "markdown",
   "metadata": {},
   "source": [
    "\n",
    "Lets see:\n",
    "\n"
   ]
  },
  {
   "cell_type": "code",
   "execution_count": null,
   "metadata": {
    "autoscroll": false,
    "collapsed": true
   },
   "outputs": [],
   "source": [
    "stats_friend <- tibble(density = g %>% edge_density(),\n",
    "                       diameter = g %>% diameter(directed = TRUE),\n",
    "                       reciprocity = g %>% reciprocity(),\n",
    "                       reciprocity_score = mean(reciprocity(g) > rp_r),\n",
    "                       distance = g %>% mean_distance(directed = TRUE),\n",
    "                       distance_score = mean(mean_distance(g, directed = TRUE) > dist_r),\n",
    "                       clustering = g %>% transitivity(type = \"global\"),\n",
    "                       clustering_score = mean(transitivity(g, type = \"global\")  > cc_r),\n",
    "                       small_world = mean(transitivity(g, type = \"global\")  > cc_r) / mean(mean_distance(g, directed = TRUE) > dist_r) )\n",
    ""
   ]
  },
  {
   "cell_type": "code",
   "execution_count": null,
   "metadata": {
    "autoscroll": false,
    "collapsed": true
   },
   "outputs": [],
   "source": [
    "stats_friend"
   ]
  },
  {
   "cell_type": "markdown",
   "metadata": {},
   "source": [
    "\n",
    "## Your turn\n",
    "Please do **Exercise 1** in the corresponding section on `Github`.\n",
    "\n",
    "# Endnotes\n",
    "\n",
    "### Suggestions for further study\n",
    "\n",
    "#### Literature\n",
    "\n",
    "Classics\n",
    "\n",
    "* Wasserman, S., & Faust, K. (1994). Social network analysis: Methods and applications (Vol. 8). Cambridge university press.\n",
    "* Carrington, P. J., Scott, J., & Wasserman, S. (Eds.). (2005). Models and methods in social network analysis (Vol. 28). Cambridge university pres\n",
    "\n",
    "Own work on directed networks\n",
    "\n",
    "* Hain, D., Buchmann, T., Kudic, M., & Müller, M. (2018). Endogenous dynamics of innovation networks in the German automotive industry: analysing structural network evolution using a stochastic actor-oriented approach. International Journal of Computational Economics and Econometrics, 8(3-4), 325-344.\n",
    "* Hain, Daniel S., and Roman Jurowetzki. \"Incremental by Design? On the Role of Incumbents in Technology Niches.\" Foundations of Economic Change. Springer, Cham, 2017. 299-332.\n",
    "\n",
    "\n",
    "### Session Info\n",
    "\n"
   ]
  },
  {
   "cell_type": "code",
   "execution_count": null,
   "metadata": {
    "autoscroll": false,
    "collapsed": true
   },
   "outputs": [],
   "source": [
    "sessionInfo()"
   ]
  },
  {
   "cell_type": "markdown",
   "metadata": {},
   "source": [
    "\n",
    "\n",
    "\n",
    "\n",
    "\n"
   ]
  }
 ],
 "metadata": {
  "Rmd_header": {
   "author": "Daniel S. Hain (dsh@business.aau.dk)",
   "date": "Updated `r format(Sys.time(), '%B %d, %Y')`",
   "output": {
    "html_notebook": {
     "code_folding": "show",
     "df_print": "paged",
     "theme": "flatly",
     "toc": true,
     "toc_depth": 2,
     "toc_float": {
      "collapsed": false
     }
    }
   },
   "title": "Intermediate (Directed) Network Analysis: Application (R)"
  },
  "kernelspec": {
   "display_name": "R",
   "language": "R",
   "name": "ir"
  },
  "language_info": {
   "codemirror_mode": "r",
   "file_extension": ".r",
   "mimetype": "text/x-r-source",
   "name": "R",
   "pygments_lexer": "r"
  }
 },
 "nbformat": 4,
 "nbformat_minor": 0
}
