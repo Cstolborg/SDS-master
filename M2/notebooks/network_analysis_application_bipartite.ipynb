{
  "nbformat": 4,
  "nbformat_minor": 0,
  "metadata": {
    "Rmd_header": {
      "author": "Daniel S. Hain (dsh@business.aau.dk)",
      "date": "Updated `r format(Sys.time(), '%B %d, %Y')`",
      "output": {
        "html_notebook": {
          "code_folding": "show",
          "df_print": "paged",
          "theme": "flatly",
          "toc": true,
          "toc_depth": 2,
          "toc_float": {
            "collapsed": false
          }
        }
      },
      "title": "Advanced Network Analysis: Bipartite (2-mode) netwpoks: Application (R)"
    },
    "kernelspec": {
      "display_name": "R",
      "language": "R",
      "name": "ir"
    },
    "language_info": {
      "codemirror_mode": "r",
      "file_extension": ".r",
      "mimetype": "text/x-r-source",
      "name": "R",
      "pygments_lexer": "r"
    },
    "colab": {
      "name": "network_analysis_application_bipartite.ipynb",
      "provenance": [],
      "include_colab_link": true
    }
  },
  "cells": [
    {
      "cell_type": "markdown",
      "metadata": {
        "id": "view-in-github",
        "colab_type": "text"
      },
      "source": [
        "<a href=\"https://colab.research.google.com/github/SDS-AAU/SDS-master/blob/master/M2/notebooks/network_analysis_application_bipartite.ipynb\" target=\"_parent\"><img src=\"https://colab.research.google.com/assets/colab-badge.svg\" alt=\"Open In Colab\"/></a>"
      ]
    },
    {
      "cell_type": "code",
      "metadata": {
        "autoscroll": false,
        "id": "XwoOWxLS_J-j"
      },
      "source": [
        "### Load standardpackages\n",
        "library(tidyverse) # Collection of all the good stuff like dplyr, ggplot2 ect.\n",
        "library(magrittr) # For extra-piping operators (eg. %<>%)\n",
        "\n",
        "library(tidygraph)\n",
        "library(ggraph)\n",
        "library(igraph)"
      ],
      "execution_count": null,
      "outputs": []
    },
    {
      "cell_type": "markdown",
      "metadata": {
        "id": "rHJ98UiC_J-l"
      },
      "source": [
        "\n",
        "\n",
        "In this session, you will learn:\n",
        "\n",
        "1. What are alternative ways to create network structures.\n",
        "2. What are different options to visualize networks and highlight properties.\n",
        "3. How to analyse multi-modal networks.\n",
        "\n",
        "# Types of networks\n",
        "\n",
        "We up to now already talked about different ways how networks can be constructed. Up to now, we mainly focussed on:\n",
        "\n",
        "* Interaction between entities\n",
        "* Co-occurence\n",
        "\n",
        "However, network analysis and modelling is also fully consistent with other structures, which are often a natural outcome of supervised or unsupervised ML exercises:\n",
        "\n",
        "* Similarities\n",
        "* Hirarchies (tree-structures)\n",
        "\n",
        "## Similarity networks\n",
        "\n",
        "* Since similarity is a relational property between entities, similarity matrices obviously can be modeled as a network. Lets illustrate that at the classican `mtcars` example.\n",
        "\n"
      ]
    },
    {
      "cell_type": "code",
      "metadata": {
        "autoscroll": false,
        "id": "L83qc9Kt_J-l"
      },
      "source": [
        "mtcars %>% head()"
      ],
      "execution_count": null,
      "outputs": []
    },
    {
      "cell_type": "markdown",
      "metadata": {
        "id": "nJmchTJG_J-o"
      },
      "source": [
        "\n",
        "* We could first run a PCA to reduce the dimensionality of the numerical data.\n",
        "\n"
      ]
    },
    {
      "cell_type": "code",
      "metadata": {
        "autoscroll": false,
        "id": "WHZ2ekTC_J-o"
      },
      "source": [
        "cars_pca <- mtcars[,c(1:7,10,11)] %>%\n",
        "  drop_na() %>%\n",
        "  prcomp(center = TRUE , scale = TRUE)"
      ],
      "execution_count": null,
      "outputs": []
    },
    {
      "cell_type": "markdown",
      "metadata": {
        "id": "Zw8WPdik_J-q"
      },
      "source": [
        "\n",
        "* Next, we could create a distance matrix (using the `dist()`) function.\n",
        "\n"
      ]
    },
    {
      "cell_type": "code",
      "metadata": {
        "autoscroll": false,
        "id": "rRwSXeO0_J-r"
      },
      "source": [
        "cars_dist <- cars_pca$x %>% dist(method = \"euclidean\")"
      ],
      "execution_count": null,
      "outputs": []
    },
    {
      "cell_type": "markdown",
      "metadata": {
        "id": "M7lue-W6_J-t"
      },
      "source": [
        "\n",
        "La voila. Such a distance matrix representas a relational structure and can be modelled as a network.\n",
        "\n"
      ]
    },
    {
      "cell_type": "code",
      "metadata": {
        "autoscroll": false,
        "id": "BrMqMvgc_J-u"
      },
      "source": [
        "g <- cars_dist %>%\n",
        "  as.matrix() %>%\n",
        "  as_tbl_graph(directed = FALSE)"
      ],
      "execution_count": null,
      "outputs": []
    },
    {
      "cell_type": "code",
      "metadata": {
        "autoscroll": false,
        "id": "AAxly2Tl_J-w"
      },
      "source": [
        "g <- g %>% simplify() %>% as_tbl_graph()"
      ],
      "execution_count": null,
      "outputs": []
    },
    {
      "cell_type": "code",
      "metadata": {
        "autoscroll": false,
        "id": "cjyI8Vj__J-z"
      },
      "source": [
        "g"
      ],
      "execution_count": null,
      "outputs": []
    },
    {
      "cell_type": "markdown",
      "metadata": {
        "id": "O7bF_n3n_J-2"
      },
      "source": [
        "\n",
        "* Since the network is based on a distance matrix, we would like to reverse that to get edges representing similarity.\n",
        "* Since similarity structures are usually fully connected networks, we probably also want to create some sparsity by deleting lower quantile edge weights.\n",
        "\n"
      ]
    },
    {
      "cell_type": "code",
      "metadata": {
        "autoscroll": false,
        "id": "EDOHDY14_J-2"
      },
      "source": [
        "g <- g %E>%\n",
        "  mutate(weight = max(weight) - weight) %>%\n",
        "  filter(weight >= weight %>% quantile(0.75)) %N>%\n",
        "  filter(!node_is_isolated()) %>%\n",
        "  mutate(community = group_louvain(weights = weight) %>% factor())"
      ],
      "execution_count": null,
      "outputs": []
    },
    {
      "cell_type": "markdown",
      "metadata": {
        "id": "uI6A1VKQ_J-4"
      },
      "source": [
        "\n",
        "Lets take a look!\n",
        "\n"
      ]
    },
    {
      "cell_type": "code",
      "metadata": {
        "autoscroll": false,
        "id": "xKjwG_HB_J-5"
      },
      "source": [
        "set.seed(1337)\n",
        "g %>% ggraph(layout = \"nicely\") +\n",
        "  geom_node_point(aes(col = community, size = centrality_degree(weights = weight))) +\n",
        "  geom_edge_link(aes(width = weight), alpha = 0.25) +\n",
        "  scale_edge_width(range = c(0.1, 2)) +\n",
        "  geom_node_text(aes(label = name, filter = percent_rank(centrality_degree(weights = weight)) > 0.5), repel = TRUE) +\n",
        "  theme_graph() +\n",
        "  theme(legend.position = 'bottom')"
      ],
      "execution_count": null,
      "outputs": []
    },
    {
      "cell_type": "markdown",
      "metadata": {
        "id": "L4Zo2QYI_J-7"
      },
      "source": [
        "\n",
        "\n",
        "## Hierarchy (tree) networks\n",
        "\n",
        "Hirarchical structures are obviously also relational. The difference is, that the connectivity structure tends to be constraint to other levels.\n",
        "\n"
      ]
    },
    {
      "cell_type": "code",
      "metadata": {
        "autoscroll": false,
        "collapsed": true,
        "id": "QFrKfeiv_J-7"
      },
      "source": [
        "create_tree(20, 3) %>%\n",
        "    mutate(leaf = node_is_leaf(), root = node_is_root()) %>%\n",
        "    ggraph(layout = 'tree') +\n",
        "    geom_edge_diagonal() +\n",
        "    geom_node_point(aes(filter = leaf), colour = 'forestgreen', size = 10) +\n",
        "    geom_node_point(aes(filter = root), colour = 'firebrick', size = 10) +\n",
        "    theme_graph()"
      ],
      "execution_count": null,
      "outputs": []
    },
    {
      "cell_type": "markdown",
      "metadata": {
        "id": "RpFUUEdc_J--"
      },
      "source": [
        "\n",
        "* In addition to real life examples such as organigrams, evolutionary trees etc., many ML models result in tree-structures (eg. decision trees).\n",
        "* We will at our car example execute a hierarchical clustering, which leads to a tree structure (visualized in the dendogram).\n",
        "\n"
      ]
    },
    {
      "cell_type": "code",
      "metadata": {
        "autoscroll": false,
        "collapsed": true,
        "id": "1QV7HRJF_J--"
      },
      "source": [
        "cars_hc <- cars_dist %>%\n",
        "  hclust(method = \"ward.D2\")"
      ],
      "execution_count": null,
      "outputs": []
    },
    {
      "cell_type": "markdown",
      "metadata": {
        "id": "wWuj3MRy_J_A"
      },
      "source": [
        "\n",
        "Again, this structure can be directly transfered to a graph object.\n",
        "\n"
      ]
    },
    {
      "cell_type": "code",
      "metadata": {
        "autoscroll": false,
        "collapsed": true,
        "id": "HakiRT98_J_B"
      },
      "source": [
        "g <- cars_hc %>% as_tbl_graph()"
      ],
      "execution_count": null,
      "outputs": []
    },
    {
      "cell_type": "code",
      "metadata": {
        "autoscroll": false,
        "collapsed": true,
        "id": "YxWoxApQ_J_D"
      },
      "source": [
        "g"
      ],
      "execution_count": null,
      "outputs": []
    },
    {
      "cell_type": "code",
      "metadata": {
        "autoscroll": false,
        "collapsed": true,
        "id": "ozSTkIxw_J_F"
      },
      "source": [
        "g %>% ggraph(layout = 'dendrogram') +\n",
        "  geom_edge_diagonal(aes(col = .N()$height[from])) +\n",
        "  geom_node_point(aes(col =height)) +\n",
        "  geom_node_text(aes(filter = leaf, label = label), angle=90, hjust=1, nudge_y=-0.1) +\n",
        "  theme_graph() +\n",
        "  theme(legend.position = 'none')\n",
        "  ylim(-0.6, NA)"
      ],
      "execution_count": null,
      "outputs": []
    },
    {
      "cell_type": "markdown",
      "metadata": {
        "id": "2DEQtNPE_J_H"
      },
      "source": [
        "\n",
        "\n",
        "# Multi-Modal Networks\n",
        "\n",
        "## Intuition\n",
        "\n",
        "* Now its time to talk about an interesting type of networks, multi-modal. This means, a network has several \"modes\", meaning connects entities on different conceptual levels. T\n",
        "* he most common one is a **2-mode** (or **bipartite**) network.\n",
        "* Examples could be an Author $\\rightarrow$ Paper, Inventor $\\rightarrow$ Patent, Member $\\rightarrow$ Club network.\n",
        "* Here, the elements in the different modes represent different things.\n",
        "* We can alalyse them in seperation (and sometimes we should), but often its helpful to \"project\"\" them onto one mode.\n",
        "* Here, we create a node in one mode by joint association with another mode.\n",
        "\n",
        "![](https://sds-aau.github.io/SDS-master/00_media/networks_2mode.png){width=500px}\n",
        "## Demonstartion\n",
        "\n",
        "* While that sounds simple, it can be a very powerful technique, as I will demonstrate now.\n",
        "\n"
      ]
    },
    {
      "cell_type": "code",
      "metadata": {
        "autoscroll": false,
        "id": "hJGJNz4U_J_H"
      },
      "source": [
        "set.seed(1337)\n",
        "g <- create_bipartite(4, 10, directed = TRUE, mode = \"out\") %E>%\n",
        "  sample_n(15)"
      ],
      "execution_count": null,
      "outputs": []
    },
    {
      "cell_type": "code",
      "metadata": {
        "autoscroll": false,
        "id": "oC9lwpI0_J_J"
      },
      "source": [
        "people <- c('Jesper', 'Pernille', 'Morten', 'Lise', 'Christian', 'Mette', 'Casper', 'Dorte', 'Jacob', 'Helle')\n",
        "places <- c('Yoga House', 'Crossfit', 'Jazz Club', 'Jomfru Anne Gade')"
      ],
      "execution_count": null,
      "outputs": []
    },
    {
      "cell_type": "code",
      "metadata": {
        "autoscroll": false,
        "id": "u3GcDi0-_J_N"
      },
      "source": [
        "g <- g %N>%\n",
        "  mutate(name = c(places, people))"
      ],
      "execution_count": null,
      "outputs": []
    },
    {
      "cell_type": "code",
      "metadata": {
        "autoscroll": false,
        "id": "TqCwaQNQ_J_O"
      },
      "source": [
        "g"
      ],
      "execution_count": null,
      "outputs": []
    },
    {
      "cell_type": "code",
      "metadata": {
        "autoscroll": false,
        "id": "daj945u0_J_Q"
      },
      "source": [
        "set.seed(1337)\n",
        "p0 <- g %>% ggraph(\"bipartite\") +\n",
        "  geom_edge_link(alpha = 0.25) +\n",
        "  geom_node_point(aes(col = type, size = centrality_degree(mode = 'all'))) +\n",
        "  geom_node_text(aes(label = name), repel = TRUE) +\n",
        "  theme_graph() +\n",
        "  theme(legend.position = 'none') +\n",
        "  labs(title = '2-mode network places-people')\n",
        "\n",
        "p0"
      ],
      "execution_count": null,
      "outputs": []
    },
    {
      "cell_type": "markdown",
      "metadata": {
        "id": "N49qLtCI_J_S"
      },
      "source": [
        "\n",
        "## Creating bipartite projections\n",
        "\n",
        "### Within the fraph object\n",
        "\n",
        "* Having a 2-mode network, we can use the `igraph` function `bipartite_projection` to create a 2x 1-mode network out of it.\n",
        "\n"
      ]
    },
    {
      "cell_type": "code",
      "metadata": {
        "autoscroll": false,
        "collapsed": true,
        "id": "5B6kg5td_J_T"
      },
      "source": [
        "g_projected <- g %>% bipartite_projection()"
      ],
      "execution_count": null,
      "outputs": []
    },
    {
      "cell_type": "markdown",
      "metadata": {
        "id": "RFRyPJM3_J_W"
      },
      "source": [
        "\n",
        "* We now will have a 1-mode network between people as well as one between places.\n",
        "\n"
      ]
    },
    {
      "cell_type": "code",
      "metadata": {
        "autoscroll": false,
        "collapsed": true,
        "id": "qI1DwDO6_J_W"
      },
      "source": [
        "g_projected"
      ],
      "execution_count": null,
      "outputs": []
    },
    {
      "cell_type": "code",
      "metadata": {
        "autoscroll": false,
        "collapsed": true,
        "id": "6RC8X4f6_J_Z"
      },
      "source": [
        "g_places <- g_projected[['proj1']] %>% as_tbl_graph(directed = FALSE)\n",
        "g_people <- g_projected[['proj2']] %>% as_tbl_graph(directed = FALSE)"
      ],
      "execution_count": null,
      "outputs": []
    },
    {
      "cell_type": "markdown",
      "metadata": {
        "id": "9iEs86OC_J_b"
      },
      "source": [
        "\n",
        "* Lets take a look:\n",
        "\n"
      ]
    },
    {
      "cell_type": "code",
      "metadata": {
        "Rmd_chunk_options": "fig.width=10, fig.height=10",
        "autoscroll": false,
        "collapsed": true,
        "id": "fRy7K9Tm_J_b"
      },
      "source": [
        "set.seed(1337)\n",
        "library(patchwork)\n",
        "\n",
        "p1 <- g_places %>% ggraph(layout = \"nicely\") +\n",
        "  geom_node_point(aes(size = centrality_degree(weights = weight)), col = 'red') +\n",
        "  geom_edge_link(aes(width = weight), alpha = 0.25) +\n",
        "  scale_edge_width(range = c(0.1, 2)) +\n",
        "  geom_node_text(aes(label = name), repel = TRUE) +\n",
        "  theme_graph() +\n",
        "  theme(legend.position = 'none') +\n",
        "  labs(title = '1-mode network places')\n",
        "\n",
        "p2 <- g_people %>% ggraph(layout = \"nicely\") +\n",
        "  geom_node_point(aes(size = centrality_degree(weights = weight)), col = 'skyblue2') +\n",
        "  geom_edge_link(aes(width = weight), alpha = 0.25) +\n",
        "  scale_edge_width(range = c(0.1, 2)) +\n",
        "  geom_node_text(aes(label = name), repel = TRUE) +\n",
        "  theme_graph() +\n",
        "  theme(legend.position = 'none') +\n",
        "  labs(title = '1-mode network people')\n",
        "\n",
        "p0 / (p1 + p2)"
      ],
      "execution_count": null,
      "outputs": []
    },
    {
      "cell_type": "markdown",
      "metadata": {
        "id": "NPQBRNM6_J_d"
      },
      "source": [
        "\n",
        "* Alright, but lets assume we have a 2-mode edgelist to start with... what possibilities do we have then?\n",
        "\n"
      ]
    },
    {
      "cell_type": "code",
      "metadata": {
        "autoscroll": false,
        "collapsed": true,
        "id": "m_DpaQ1N_J_d"
      },
      "source": [
        "el_2m <- g %E>%\n",
        "  mutate(from_name = .N()$name[from],\n",
        "         to_name = .N()$name[to]) %>%\n",
        "  as.tibble() %>%\n",
        "  select(to_name, from_name) %>%\n",
        "  rename(from = to_name, to = from_name)"
      ],
      "execution_count": null,
      "outputs": []
    },
    {
      "cell_type": "code",
      "metadata": {
        "autoscroll": false,
        "collapsed": true,
        "id": "eOvJ9ugw_J_f"
      },
      "source": [
        "el_2m"
      ],
      "execution_count": null,
      "outputs": []
    },
    {
      "cell_type": "markdown",
      "metadata": {
        "id": "I54MYZOu_J_h"
      },
      "source": [
        "\n",
        "* Such an edgelist could obviously be loaded into a graph object the usual way.\n",
        "* We just have to assign types then\n",
        "\n"
      ]
    },
    {
      "cell_type": "code",
      "metadata": {
        "autoscroll": false,
        "collapsed": true,
        "id": "urgcu1nv_J_h"
      },
      "source": [
        "g_2m <- el_2m %>% as_tbl_graph(directed = TRUE)  %N>%\n",
        "  mutate(type = name %in% (el_2m %>% pull(from)))"
      ],
      "execution_count": null,
      "outputs": []
    },
    {
      "cell_type": "markdown",
      "metadata": {
        "id": "lkmEdDNu_J_j"
      },
      "source": [
        "\n",
        "\n",
        "### Via matrix nultiplication\n",
        "\n",
        "* We can also do the projection outside of the graph and first create a 2-mode matrix.\n",
        "* This can easily be done by crosstabulating the edgelist.\n",
        "\n"
      ]
    },
    {
      "cell_type": "code",
      "metadata": {
        "autoscroll": false,
        "collapsed": true,
        "id": "8uPLCUyb_J_j"
      },
      "source": [
        "mat_2m <- el_2m %>%\n",
        "  table() %>%\n",
        "  as.matrix()"
      ],
      "execution_count": null,
      "outputs": []
    },
    {
      "cell_type": "code",
      "metadata": {
        "autoscroll": false,
        "collapsed": true,
        "id": "eDNZcs6__J_l"
      },
      "source": [
        "mat_2m"
      ],
      "execution_count": null,
      "outputs": []
    },
    {
      "cell_type": "markdown",
      "metadata": {
        "id": "6IuX9il9_J_n"
      },
      "source": [
        "\n",
        "* Again, sparse matrices are usually more efficient.\n",
        "\n"
      ]
    },
    {
      "cell_type": "code",
      "metadata": {
        "autoscroll": false,
        "collapsed": true,
        "id": "203VHWMT_J_n"
      },
      "source": [
        "library(Matrix)\n",
        "mat_2m %<>% Matrix(sparse = TRUE)\n",
        "\n",
        "mat_2m"
      ],
      "execution_count": null,
      "outputs": []
    },
    {
      "cell_type": "markdown",
      "metadata": {
        "id": "eL_Uj5uI_J_o"
      },
      "source": [
        "\n",
        "\n",
        "* Matrix algebra can help to do the 1-mode projection directly in the matrix\n",
        "* Taking the dotproduct of the matrix and its transposed form will result in the 1-mode projection of mode 1 (`m %*% t(m)`)\n",
        "\n"
      ]
    },
    {
      "cell_type": "code",
      "metadata": {
        "autoscroll": false,
        "collapsed": true,
        "id": "TMs8BiJY_J_p"
      },
      "source": [
        "mat_people <- mat_2m %*% t(mat_2m)"
      ],
      "execution_count": null,
      "outputs": []
    },
    {
      "cell_type": "code",
      "metadata": {
        "autoscroll": false,
        "collapsed": true,
        "id": "Uo22-8Gb_J_r"
      },
      "source": [
        "mat_people"
      ],
      "execution_count": null,
      "outputs": []
    },
    {
      "cell_type": "markdown",
      "metadata": {
        "id": "6amFjDhH_J_t"
      },
      "source": [
        "\n",
        "* Taking the dotproduct of the transposed matrix and its original form will result in the 1-mode projection of mode 1 (`t(m) %*% m`)\n",
        "\n"
      ]
    },
    {
      "cell_type": "code",
      "metadata": {
        "autoscroll": false,
        "collapsed": true,
        "id": "m2SLwOok_J_t"
      },
      "source": [
        "mat_places <- t(mat_2m) %*% mat_2m"
      ],
      "execution_count": null,
      "outputs": []
    },
    {
      "cell_type": "code",
      "metadata": {
        "autoscroll": false,
        "collapsed": true,
        "id": "XoV5iFTw_J_v"
      },
      "source": [
        "mat_places"
      ],
      "execution_count": null,
      "outputs": []
    },
    {
      "cell_type": "markdown",
      "metadata": {
        "id": "1Rq6dXGS_J_x"
      },
      "source": [
        "\n",
        "* Note this is still very inefficient, since the matrix is first created in full, and then transformed to a sparse one.\n",
        "* Directly starting with a sparse matrix makes the process much more efficient\n",
        "* That makes a huge difference for large graphs\n",
        "* I here provide you an efficient function to use\n",
        "\n"
      ]
    },
    {
      "cell_type": "code",
      "metadata": {
        "autoscroll": false,
        "collapsed": true,
        "id": "sRNjM9PQ_J_y"
      },
      "source": [
        "## Helper function\n",
        "el_to_sparse_matrix <- function(data, # the edgelist\n",
        "                                mode_1, # which variable indicates mode 1\n",
        "                                mode_2, # which variable indicates mode 2\n",
        "                                projection = 'none' # If a pojection should be done, possible is 'none', 'mode1', 'mode2'\n",
        "                                ){\n",
        "\n",
        "  # Define inputs\n",
        "  i_input <- data %>% pull({{mode_1}})\n",
        "  j_input <- data %>% pull({{mode_2}})\n",
        "\n",
        "  require(Matrix)\n",
        "  mat <- spMatrix(nrow = i_input %>% n_distinct(),\n",
        "                  ncol = j_input %>% n_distinct(),\n",
        "                  i = i_input %>% factor() %>% as.numeric(),\n",
        "                  j = j_input %>% factor() %>% as.numeric(),\n",
        "                  x = rep(1, i_input %>% length() ) )\n",
        "\n",
        "  row.names(mat) <- i_input %>% factor() %>% levels()\n",
        "  colnames(mat) <- j_input %>% factor() %>% levels()\n",
        "\n",
        "  # Projection if necessary\n",
        "  if(projection == 'mode1'){mat %<>% tcrossprod()}\n",
        "  if(projection == 'mode2'){mat %<>% crossprod()}\n",
        "\n",
        "  return(mat)\n",
        "}"
      ],
      "execution_count": null,
      "outputs": []
    },
    {
      "cell_type": "code",
      "metadata": {
        "autoscroll": false,
        "collapsed": true,
        "id": "20M7x8eG_J_1"
      },
      "source": [
        "mat_people <- el_2m %>% el_to_sparse_matrix(from, to, projection = 'mode1')\n",
        "mat_places <- el_2m %>% el_to_sparse_matrix(from, to, projection = 'mode2')"
      ],
      "execution_count": null,
      "outputs": []
    },
    {
      "cell_type": "code",
      "metadata": {
        "autoscroll": false,
        "collapsed": true,
        "id": "ECsTnCAY_J_3"
      },
      "source": [
        "mat_people\n",
        "mat_places"
      ],
      "execution_count": null,
      "outputs": []
    },
    {
      "cell_type": "markdown",
      "metadata": {
        "id": "eeAEgSoQ_J_5"
      },
      "source": [
        "\n",
        "\n",
        "### Via Joins\n",
        "\n",
        "* FInally, the easiest way\n",
        "\n"
      ]
    },
    {
      "cell_type": "code",
      "metadata": {
        "autoscroll": false,
        "collapsed": true,
        "id": "SkwJUHI6_J_6"
      },
      "source": [
        "el_people <- el_2m %>% left_join(el_2m, by = 'to') %>%\n",
        "  select(-to) %>%\n",
        "  rename(from = from.x, to = from.y) %>%\n",
        "  filter(from != to) %>%\n",
        "  count(from, to, name = 'weight')"
      ],
      "execution_count": null,
      "outputs": []
    },
    {
      "cell_type": "code",
      "metadata": {
        "autoscroll": false,
        "collapsed": true,
        "id": "2X1wDryG_J_8"
      },
      "source": [
        "el_people"
      ],
      "execution_count": null,
      "outputs": []
    },
    {
      "cell_type": "code",
      "metadata": {
        "autoscroll": false,
        "collapsed": true,
        "id": "q1RqpP2M_J_-"
      },
      "source": [
        "el_places <- el_2m %>% left_join(el_2m, by = 'from') %>%\n",
        "  select(-from) %>%\n",
        "  rename(from = to.x, to = to.y) %>%\n",
        "  filter(from != to) %>%\n",
        "  count(from, to, name = 'weight')"
      ],
      "execution_count": null,
      "outputs": []
    },
    {
      "cell_type": "code",
      "metadata": {
        "autoscroll": false,
        "collapsed": true,
        "id": "iNW-KShp_KAB"
      },
      "source": [
        "el_places"
      ],
      "execution_count": null,
      "outputs": []
    },
    {
      "cell_type": "markdown",
      "metadata": {
        "id": "4vEgcyB2_KAC"
      },
      "source": [
        "\n",
        "\n",
        "# Case study: Bibliographic networks\n",
        "\n",
        "## Basics\n",
        "\n",
        "Lets talk about bibliographic networks. In short, that are networks between documents which cite each others. That can be (commonly) academic publications, but also patents or policy reports. Conceptually, we can see them as 2 mode networks, between articles and their reference. That helps us to apply some interesting metrics, such as:\n",
        "\n",
        "* direct citations\n",
        "* Bibliographic coupling\n",
        "* Co--citations\n",
        "\n",
        "Interestingly, different projections of this 2-mode network give the whole resulting 1-mode network a different meaning.\n",
        "\n",
        "![](https://sds-aau.github.io/SDS-master/00_media/networks_biblio.png){width=500px}\n",
        "\n",
        "* We will here do a brief bibliometric network analysis.\n",
        "* While there exist specialized packages to do it more conveniently (eg. [bibliometrix](https://www.bibliometrix.org/)), we will for mximum clarity construct everything somewhat by hand.\n",
        "\n",
        "* I will illustrate more in detail in the following. The example is based on some own work, where i here in  very simple way recreate some parts of the analysis.\n",
        "* Rakas, M., & Hain, D. S. (2019). The state of innovation system research: What happens beneath the surface?. Research Policy, 45 (9). DOI: https://doi.org/10.1016/j.respol.2019.04.011\n",
        "\n",
        "\n",
        "## The Data\n",
        "\n",
        "* We will use bibliometrix data on articles from Scopus on recent publications containing the term `network analysis` in their title, abstract, or keywords.\n",
        "* To do so, we first use the following search string: `TITLE-ABS-KEY ( \"network analysis\" )  AND  ( LIMIT-TO ( DOCTYPE ,  \"ar\" )  OR  LIMIT-TO ( DOCTYPE ,  \"cp\" ) )  AND  ( LIMIT-TO ( LANGUAGE ,  \"English\" ) )  AND  ( LIMIT-TO ( SRCTYPE ,  \"j\" )  OR  LIMIT-TO ( SRCTYPE ,  \"p\" ) )  AND  ( LIMIT-TO ( PUBYEAR ,  2021 )  OR  LIMIT-TO ( PUBYEAR ,  2020 )  OR  LIMIT-TO ( PUBYEAR ,  2019 )  OR  LIMIT-TO ( PUBYEAR ,  2018 )  OR  LIMIT-TO ( PUBYEAR ,  2017 )  OR  LIMIT-TO ( PUBYEAR ,  2016 )  OR  LIMIT-TO ( PUBYEAR ,  2015 ) ) `\n",
        "* We sort the results by citations, and download the 2k most cited ones as `csv`. We select al possible fields to download.\n",
        "\n"
      ]
    },
    {
      "cell_type": "code",
      "metadata": {
        "autoscroll": false,
        "id": "WUnZcnZw_KAC"
      },
      "source": [
        "rm(list=ls())\n",
        "data <- read_csv('https://github.com/SDS-AAU/SDS-master/raw/master/00_data/networks_bibliometrics/biblio_nw.csv')"
      ],
      "execution_count": null,
      "outputs": []
    },
    {
      "cell_type": "code",
      "metadata": {
        "autoscroll": false,
        "id": "KLtnzk85_KAE"
      },
      "source": [
        "data %>%\n",
        "  glimpse()"
      ],
      "execution_count": null,
      "outputs": []
    },
    {
      "cell_type": "markdown",
      "metadata": {
        "id": "rwmARTUI_KAG"
      },
      "source": [
        "\n",
        "## Preprocessing\n",
        "\n"
      ]
    },
    {
      "cell_type": "code",
      "metadata": {
        "autoscroll": false,
        "collapsed": true,
        "id": "wcHFnjOV_KAG"
      },
      "source": [
        "data %<>%\n",
        "  select(EID, Authors, `Author(s) ID`, Title, `Abbreviated Source Title`, Year, Affiliations, `Author Keywords`, `Cited by`, Abstract, References) %>%\n",
        "  rename(author = Authors,\n",
        "         author_id = `Author(s) ID`,\n",
        "         title = Title,\n",
        "         journal = `Abbreviated Source Title`,\n",
        "         year = Year,\n",
        "         affiliation = Affiliations,\n",
        "         keywords = `Author Keywords`,\n",
        "         citations = `Cited by`,\n",
        "         Abstract = Abstract,\n",
        "         references = References)"
      ],
      "execution_count": null,
      "outputs": []
    },
    {
      "cell_type": "code",
      "metadata": {
        "autoscroll": false,
        "collapsed": true,
        "id": "xQD6I13D_KAH"
      },
      "source": [
        "data[2, 'author']"
      ],
      "execution_count": null,
      "outputs": []
    },
    {
      "cell_type": "code",
      "metadata": {
        "autoscroll": false,
        "collapsed": true,
        "id": "1cGVsgzB_KAK"
      },
      "source": [
        "data[2, 'author_id']"
      ],
      "execution_count": null,
      "outputs": []
    },
    {
      "cell_type": "code",
      "metadata": {
        "autoscroll": false,
        "collapsed": true,
        "id": "4ou1tYHe_KAL"
      },
      "source": [
        "data[2, 'affiliation']"
      ],
      "execution_count": null,
      "outputs": []
    },
    {
      "cell_type": "code",
      "metadata": {
        "autoscroll": false,
        "collapsed": true,
        "id": "iR9zJ1H9_KAM"
      },
      "source": [
        "data[2, \"keywords\"]"
      ],
      "execution_count": null,
      "outputs": []
    },
    {
      "cell_type": "code",
      "metadata": {
        "autoscroll": false,
        "collapsed": true,
        "id": "pSD6Ayol_KAP"
      },
      "source": [
        "data[2, \"references\"]"
      ],
      "execution_count": null,
      "outputs": []
    },
    {
      "cell_type": "code",
      "metadata": {
        "autoscroll": false,
        "collapsed": true,
        "id": "d5_JoTOY_KAR"
      },
      "source": [
        "data %<>%\n",
        "  mutate(author = author %>% str_split(', '),\n",
        "         author_id = author_id %>% str_split(';'),\n",
        "         affiliation = affiliation %>% str_split(';'),\n",
        "         keywords = keywords %>% str_split('; '),\n",
        "         references = references %>% str_split('; '))"
      ],
      "execution_count": null,
      "outputs": []
    },
    {
      "cell_type": "code",
      "metadata": {
        "autoscroll": false,
        "collapsed": true,
        "id": "Ac1UI8Dr_KAS"
      },
      "source": [
        "data %>% select(title, author, citations) %>%\n",
        "  unnest(author) %>%\n",
        "  head()"
      ],
      "execution_count": null,
      "outputs": []
    },
    {
      "cell_type": "code",
      "metadata": {
        "autoscroll": false,
        "collapsed": true,
        "id": "Dybm7JP7_KAT"
      },
      "source": [
        "data %>% select(title, author, citations) %>%\n",
        "  unnest(author) %>%\n",
        "  group_by(author) %>%\n",
        "  summarise(n = n(),\n",
        "            citations = citations %>% sum(na.rm = TRUE)) %>%\n",
        "  arrange(desc(citations)) %>%\n",
        "  head(10)"
      ],
      "execution_count": null,
      "outputs": []
    },
    {
      "cell_type": "markdown",
      "metadata": {
        "id": "H1P7vfgC_KAV"
      },
      "source": [
        "## Bipartite Network Generation\n",
        "\n",
        "I will now transfer them to an article $\\rightarrow$ reference edgelist.\n",
        "\n"
      ]
    },
    {
      "cell_type": "code",
      "metadata": {
        "autoscroll": false,
        "collapsed": true,
        "id": "r_UvKFn__KAW"
      },
      "source": [
        "el_2m <- data %>% select(EID, references) %>% unnest(references)"
      ],
      "execution_count": null,
      "outputs": []
    },
    {
      "cell_type": "code",
      "metadata": {
        "autoscroll": false,
        "collapsed": true,
        "id": "RujDBsuS_KAX"
      },
      "source": [
        "el_2m %>% head()"
      ],
      "execution_count": null,
      "outputs": []
    },
    {
      "cell_type": "markdown",
      "metadata": {
        "id": "-ahk7vCn_KAZ"
      },
      "source": [
        "\n",
        "### Bibliographic Coupling\n",
        "\n",
        "#### Create the graph\n",
        "\n",
        "* We now need to create a projection of the 2-mode matrix to one of the modes.\n",
        "* We could do that more efficiently via using the sparse matrix calculation I did before, but for maximum clarity lets do it via a join.\n",
        "* We will first create the article to article network.\n",
        "\n"
      ]
    },
    {
      "cell_type": "code",
      "metadata": {
        "autoscroll": false,
        "collapsed": true,
        "id": "epkMfuGs_KAZ"
      },
      "source": [
        "el_bib <- el_2m %>% left_join(el_2m, by = 'references') %>%\n",
        "  rename(from = EID.x,\n",
        "         to = EID.y) %>%\n",
        "  select(from, to) %>%\n",
        "  filter(from != to) %>%\n",
        "  count(from, to, name = 'weight')"
      ],
      "execution_count": null,
      "outputs": []
    },
    {
      "cell_type": "code",
      "metadata": {
        "autoscroll": false,
        "collapsed": true,
        "id": "P9DFhSkU_KAc"
      },
      "source": [
        "el_bib %>% head()"
      ],
      "execution_count": null,
      "outputs": []
    },
    {
      "cell_type": "code",
      "metadata": {
        "autoscroll": false,
        "collapsed": true,
        "id": "ADhvQdFz_KAd"
      },
      "source": [
        "el_bib %>%\n",
        "  ggplot(aes(x = weight)) +\n",
        "  geom_histogram()"
      ],
      "execution_count": null,
      "outputs": []
    },
    {
      "cell_type": "code",
      "metadata": {
        "autoscroll": false,
        "collapsed": true,
        "id": "1Kw1fu6O_KAe"
      },
      "source": [
        "el_bib %<>%\n",
        "  filter(weight >=2)"
      ],
      "execution_count": null,
      "outputs": []
    },
    {
      "cell_type": "code",
      "metadata": {
        "autoscroll": false,
        "collapsed": true,
        "id": "ea-QW3vh_KAf"
      },
      "source": [
        "el_bib %>%\n",
        "  ggplot(aes(x = weight)) +\n",
        "  geom_histogram()"
      ],
      "execution_count": null,
      "outputs": []
    },
    {
      "cell_type": "markdown",
      "metadata": {
        "id": "hN1PqkV0_KAh"
      },
      "source": [
        "* Ok, great, we now can create a graph\n",
        "\n"
      ]
    },
    {
      "cell_type": "code",
      "metadata": {
        "autoscroll": false,
        "collapsed": true,
        "id": "SuQjr5i5_KAh"
      },
      "source": [
        "g_bib <- el_bib %>% as_tbl_graph(directed = FALSE) %>%\n",
        "  igraph::simplify() %>%\n",
        "  as_tbl_graph(directed = FALSE)"
      ],
      "execution_count": null,
      "outputs": []
    },
    {
      "cell_type": "code",
      "metadata": {
        "autoscroll": false,
        "collapsed": true,
        "id": "aYijfNHj_KAi"
      },
      "source": [
        "g_bib"
      ],
      "execution_count": null,
      "outputs": []
    },
    {
      "cell_type": "code",
      "metadata": {
        "autoscroll": false,
        "collapsed": true,
        "id": "-hqCZoB__KAj"
      },
      "source": [
        "g_bib <- g_bib %N>%\n",
        "  filter(!node_is_isolated()) %N>%\n",
        "  filter(percent_rank(centrality_degree(weights = weight)) >= 0.5)"
      ],
      "execution_count": null,
      "outputs": []
    },
    {
      "cell_type": "markdown",
      "metadata": {
        "id": "yIT8QX_m_KAm"
      },
      "source": [
        "\n",
        "\n",
        "* A first obvious thing to do would be a community detection\n",
        "\n"
      ]
    },
    {
      "cell_type": "code",
      "metadata": {
        "autoscroll": false,
        "collapsed": true,
        "id": "Mja66BWY_KAm"
      },
      "source": [
        "g_bib <- g_bib %N>%\n",
        "  mutate(com = group_louvain(weights = weight))"
      ],
      "execution_count": null,
      "outputs": []
    },
    {
      "cell_type": "markdown",
      "metadata": {
        "id": "JId33rqM_KAn"
      },
      "source": [
        "\n",
        "* Now, we can also create community internal statistics, such as the within-community degree.\n",
        "* To do so, we use the powerful `morph()` functions of `tidygraph`, which basically let you apply `group_by` style operations on graph structures, where graph calculations are execited on subgraphs.\n",
        "* That let you e.g. contract nodes, work on the linegraph representation, split communities to separate graphs etc.\n",
        "\n"
      ]
    },
    {
      "cell_type": "code",
      "metadata": {
        "autoscroll": false,
        "collapsed": true,
        "id": "KI7jzupw_KAn"
      },
      "source": [
        "g_bib <- g_bib %N>%\n",
        "  morph(to_split, com) %>%\n",
        "    mutate(cent_dgr_int = centrality_degree(weights = weight)) %>%\n",
        "    mutate(com_center = cent_dgr_int == max(cent_dgr_int)) %>%\n",
        "  unmorph()"
      ],
      "execution_count": null,
      "outputs": []
    },
    {
      "cell_type": "code",
      "metadata": {
        "autoscroll": false,
        "collapsed": true,
        "id": "OHb8RDcY_KAp"
      },
      "source": [
        "g_bib %N>%\n",
        "  as_tibble() %>%\n",
        "  count(com, sort = TRUE)"
      ],
      "execution_count": null,
      "outputs": []
    },
    {
      "cell_type": "markdown",
      "metadata": {
        "id": "IHPGnR4t_KAs"
      },
      "source": [
        "\n",
        "* Ok, seems like there are too many communities to do something meaningful.\n",
        "* Lets restrict it to only only communities with more than 20 members.\n",
        "\n"
      ]
    },
    {
      "cell_type": "code",
      "metadata": {
        "autoscroll": false,
        "collapsed": true,
        "id": "kKoYs6wV_KAs"
      },
      "source": [
        "g_bib <- g_bib %N>%\n",
        "  add_count(com, name = 'com_n') %>%\n",
        "  mutate(com = ifelse(com_n >= 20, com, NA) ) %>%\n",
        "  select(-com_n)"
      ],
      "execution_count": null,
      "outputs": []
    },
    {
      "cell_type": "code",
      "metadata": {
        "autoscroll": false,
        "collapsed": true,
        "id": "iAp_wSkc_KAt"
      },
      "source": [
        "g_bib <- g_bib %N>%\n",
        "  left_join(data %>% select(EID, title, journal, year, citations), by = c('name' = 'EID')) %>%\n",
        "  mutate(title = title %>% str_trunc(30))"
      ],
      "execution_count": null,
      "outputs": []
    },
    {
      "cell_type": "markdown",
      "metadata": {
        "id": "Hpdv1aj7_KAu"
      },
      "source": [
        "\n",
        "\n",
        "* Lets take a look at the network.\n",
        "\n"
      ]
    },
    {
      "cell_type": "code",
      "metadata": {
        "Rmd_chunk_options": "fig.height=12.5, fig.width=12.5",
        "autoscroll": false,
        "collapsed": true,
        "id": "5UJkO8X9_KAv"
      },
      "source": [
        "set.seed(1337)\n",
        "g_bib %>%\n",
        "  ggraph(layout = 'graphopt') +\n",
        "  geom_edge_link(aes(width = weight,\n",
        "                     color = .N()$com[from] %>% as.factor()), # Notice that\n",
        "                alpha = 0.5,\n",
        "                show.legend = FALSE) +\n",
        "      scale_edge_width(range = c(0.5, 2)) +\n",
        "  geom_node_point(aes(color = com %>% as.factor(),\n",
        "                      size = centrality_degree(weight = weight),\n",
        "                      alpha = citations)) +\n",
        "  geom_node_text(aes(label = title, filter = com_center == TRUE), repel = TRUE) +\n",
        "  theme_graph()   +\n",
        "  theme(legend.position = 'bottom') +\n",
        "  labs(title = 'Bibliographic Coupling Network',\n",
        "       subtitle = 'Network Analysis 2015-2020',\n",
        "       color = 'Community',\n",
        "       size = 'Degree',\n",
        "       alpha = 'Citations')"
      ],
      "execution_count": null,
      "outputs": []
    },
    {
      "cell_type": "code",
      "metadata": {
        "autoscroll": false,
        "collapsed": true,
        "id": "A9F-8mNJ_KAw"
      },
      "source": [
        "data %>%\n",
        "  select(EID, author, year, title, journal, citations) %>%\n",
        "  inner_join(g_bib %N>% as_tibble() %>% select(name, com, cent_dgr_int), by = c('EID' = 'name')) %>%\n",
        "  group_by(com) %>%\n",
        "    arrange(desc(cent_dgr_int)) %>%\n",
        "    slice(1:10) %>%\n",
        "  ungroup() %>%\n",
        "  select(com, title, cent_dgr_int, citations) %>%\n",
        "  mutate(title = title %>% str_trunc(75))"
      ],
      "execution_count": null,
      "outputs": []
    },
    {
      "cell_type": "markdown",
      "metadata": {
        "id": "lLAwDovb_KAx"
      },
      "source": [
        "\n",
        "## Co-Citation Analysis\n",
        "\n",
        "* We can now do exactly the same for the reference (=co-citation) network\n",
        "\n",
        "#### Create the graph\n",
        "\n"
      ]
    },
    {
      "cell_type": "code",
      "metadata": {
        "autoscroll": false,
        "collapsed": true,
        "id": "xWLcIxLH_KAy"
      },
      "source": [
        "el_cit <- el_2m %>% left_join(el_2m, by = 'EID') %>%\n",
        "  rename(from = references.x,\n",
        "         to = references.y) %>%\n",
        "  select(from, to) %>%\n",
        "  filter(from != to) %>%\n",
        "  count(from, to, name = 'weight')"
      ],
      "execution_count": null,
      "outputs": []
    },
    {
      "cell_type": "code",
      "metadata": {
        "autoscroll": false,
        "collapsed": true,
        "id": "JQtdqcEN_KAz"
      },
      "source": [
        "el_cit %<>%\n",
        "  filter(weight >=3,\n",
        "         !str_detect(from, '\\\\:\\\\, '),\n",
        "         !str_detect(to, '\\\\:\\\\, '),\n",
        "         str_length(from) > 50,\n",
        "         str_length(to) > 50\n",
        "         )"
      ],
      "execution_count": null,
      "outputs": []
    },
    {
      "cell_type": "code",
      "metadata": {
        "autoscroll": false,
        "collapsed": true,
        "id": "M4Nyseh-_KA0"
      },
      "source": [
        "el_cit %>%\n",
        "  ggplot(aes(x = weight)) +\n",
        "  geom_histogram()"
      ],
      "execution_count": null,
      "outputs": []
    },
    {
      "cell_type": "code",
      "metadata": {
        "autoscroll": false,
        "collapsed": true,
        "id": "7cP83yAk_KA2"
      },
      "source": [
        "g_cit <- el_cit %>% as_tbl_graph(directed = FALSE) %>%\n",
        "  igraph::simplify() %>%\n",
        "  as_tbl_graph(directed = FALSE)  %N>%\n",
        "  filter(!node_is_isolated()) %N>%\n",
        "  filter(percent_rank(centrality_degree(weights = weight)) >= 0.5) %N>%\n",
        "  mutate(com = group_louvain(weights = weight)) %N>%\n",
        "  morph(to_split, com) %>%\n",
        "    mutate(cent_dgr_int = centrality_degree(weights = weight)) %>%\n",
        "    mutate(com_center = cent_dgr_int == max(cent_dgr_int)) %>%\n",
        "  unmorph()"
      ],
      "execution_count": null,
      "outputs": []
    },
    {
      "cell_type": "code",
      "metadata": {
        "autoscroll": false,
        "collapsed": true,
        "id": "tKiPVxjg_KA3"
      },
      "source": [
        "g_cit %N>%\n",
        "  as_tibble() %>%\n",
        "  count(com, sort = TRUE)"
      ],
      "execution_count": null,
      "outputs": []
    },
    {
      "cell_type": "markdown",
      "metadata": {
        "id": "dgjffMfo_KA5"
      },
      "source": [
        "\n",
        "* Ok, seems like there are too many communities to do something meaningful.\n",
        "* Lets restrict it to only only communities with more than 20 members.\n",
        "\n"
      ]
    },
    {
      "cell_type": "code",
      "metadata": {
        "autoscroll": false,
        "collapsed": true,
        "id": "s4Y5X95V_KA5"
      },
      "source": [
        "g_cit <- g_cit %N>%\n",
        "  add_count(com, name = 'com_n') %>%\n",
        "  mutate(com = ifelse(com_n >= 10, com, NA) ) %>%\n",
        "  select(-com_n)"
      ],
      "execution_count": null,
      "outputs": []
    },
    {
      "cell_type": "markdown",
      "metadata": {
        "id": "YudMHGHo_KA6"
      },
      "source": [
        "\n",
        "Lets take a look at the network.\n",
        "\n"
      ]
    },
    {
      "cell_type": "code",
      "metadata": {
        "Rmd_chunk_options": "fig.height=12.5, fig.width=12.5",
        "autoscroll": false,
        "collapsed": true,
        "id": "loMBWyYJ_KA6"
      },
      "source": [
        "set.seed(1337)\n",
        "g_cit %N>%\n",
        "  mutate(name = name %>% str_trunc(75)) %>%\n",
        "  ggraph(layout = 'graphopt') +\n",
        "  geom_edge_link(aes(width = weight,\n",
        "                     color = .N()$com[from] %>% as.factor()), # Notice that\n",
        "                alpha = 0.5,\n",
        "                show.legend = FALSE) +\n",
        "      scale_edge_width(range = c(0.5, 2)) +\n",
        "  geom_node_point(aes(color = com %>% as.factor(),\n",
        "                      size = centrality_degree(weight = weight),\n",
        "                      alpha = cent_dgr_int)) +\n",
        "  geom_node_text(aes(label = name, filter = com_center == TRUE & percent_rank(cent_dgr_int) > 0.80 ), repel = TRUE) +\n",
        "  theme_graph()   +\n",
        "  theme(legend.position = 'bottom') +\n",
        "  labs(title = 'Bibliographic Coupling Network',\n",
        "       subtitle = 'Network Analysis 2015-2020',\n",
        "       color = 'Community',\n",
        "       size = 'Degree',\n",
        "       alpha = 'Citations')"
      ],
      "execution_count": null,
      "outputs": []
    },
    {
      "cell_type": "code",
      "metadata": {
        "autoscroll": false,
        "collapsed": true,
        "id": "PLnub9_V_KA7"
      },
      "source": [
        "g_cit %N>%\n",
        "  as_tibble() %>%\n",
        "  group_by(com) %>%\n",
        "    arrange(desc(cent_dgr_int)) %>%\n",
        "    slice(1:10) %>%\n",
        "  ungroup() %>%\n",
        "  mutate(name = name %>% str_trunc(75)) %>%\n",
        "  select(com, name, cent_dgr_int)"
      ],
      "execution_count": null,
      "outputs": []
    },
    {
      "cell_type": "markdown",
      "metadata": {
        "id": "DFZvXSB__KA8"
      },
      "source": [
        "\n",
        "\n",
        "## Joint analysis\n",
        "\n"
      ]
    },
    {
      "cell_type": "code",
      "metadata": {
        "autoscroll": false,
        "collapsed": true,
        "id": "dT6uaOee_KA9"
      },
      "source": [
        "el_joint <- el_2m %>%\n",
        "  inner_join(g_bib %N>% as_tibble() %>% select(name, com) %>% drop_na(), by = c('EID' = 'name')) %>%\n",
        "  inner_join(g_cit %N>% as_tibble() %>% select(name, com) %>% drop_na(), by = c('references' = 'name')) %>%\n",
        "  rename(from = com.x, to = com.y) %>%\n",
        "  count(from, to, name = 'weight')"
      ],
      "execution_count": null,
      "outputs": []
    },
    {
      "cell_type": "code",
      "metadata": {
        "autoscroll": false,
        "collapsed": true,
        "id": "5u9dzsJu_KA-"
      },
      "source": [
        "el_joint"
      ],
      "execution_count": null,
      "outputs": []
    },
    {
      "cell_type": "code",
      "metadata": {
        "autoscroll": false,
        "collapsed": true,
        "id": "KtIZnJc3_KA_"
      },
      "source": [
        "el_joint %<>%\n",
        "  mutate(from = paste('bib', from, sep = '_'),\n",
        "         to = paste('cit', to, sep = '_'))"
      ],
      "execution_count": null,
      "outputs": []
    },
    {
      "cell_type": "code",
      "metadata": {
        "autoscroll": false,
        "collapsed": true,
        "id": "QIUZ8WzU_KBA"
      },
      "source": [
        "g_joint <- el_joint %>% as_tbl_graph(directed = TRUE)"
      ],
      "execution_count": null,
      "outputs": []
    },
    {
      "cell_type": "code",
      "metadata": {
        "autoscroll": false,
        "collapsed": true,
        "id": "6OsLIOXM_KBB"
      },
      "source": [
        "g_joint <- g_joint %N>%\n",
        "  mutate(type = name %>% str_detect('bib'))"
      ],
      "execution_count": null,
      "outputs": []
    },
    {
      "cell_type": "code",
      "metadata": {
        "autoscroll": false,
        "collapsed": true,
        "id": "j8O4Gzjm_KBC"
      },
      "source": [
        "g_joint %>% ggraph(\"bipartite\") +\n",
        "  geom_edge_link(alpha = 0.25) +\n",
        "  geom_node_point(aes(col = type, size = centrality_degree(mode = 'all'))) +\n",
        "  geom_node_text(aes(label = name), repel = TRUE) +\n",
        "  theme_graph() +\n",
        "  theme(legend.position = 'none')"
      ],
      "execution_count": null,
      "outputs": []
    },
    {
      "cell_type": "markdown",
      "metadata": {
        "id": "Hn-mml9r_KBE"
      },
      "source": [
        "\n",
        "\n",
        "# Endnotes\n",
        "\n",
        "### Complementary exercises\n",
        "\n",
        "Please do **Exercise 1** in the corresponding section on `Github`. This time you are about to do your own bibliographic analysis!\n",
        "\n",
        "### References\n",
        "\n",
        "Paper mentioned in the text\n",
        "\n",
        "* Rakas, M., & Hain, D. S. (2019). The state of innovation system research: What happens beneath the surface?. Research Policy, 45 (9). DOI: https://doi.org/10.1016/j.respol.2019.04.011\n",
        "\n",
        "Other own work dealing with 2-mode networks\n",
        "\n",
        "* Hain, Daniel S., and Roman Jurowetzki. \"Incremental by Design? On the Role of Incumbents in Technology Niches.\" In Foundations of Economic Change, pp. 299-332. Springer, Cham, 2017.\n",
        "* Hain, D., Buchmann, T., Kudic, M., & Müller, M. (2018). Endogenous dynamics of innovation networks in the German automotive industry: analysing structural network evolution using a stochastic actor-oriented approach. International Journal of Computational Economics and Econometrics, 8(3-4), 325-344.\n",
        "* Jurowetzki, Roman, and Daniel S. Hain. \"Mapping the (r-) evolution of technological fields–a semantic network approach.\" Social Informatics, pp. 359-383. Springer, Cham, 2014.\n",
        "\n",
        "### Packages & Ecosystem\n",
        "\n",
        "You can find more info about:\n",
        "\n",
        "* `tidygraph` [here](https://tidygraph.data-imaginist.com/)\n",
        "* `ggraph` [here](https://ggraph.data-imaginist.com/)\n",
        "* `bibliometrix` [here](http://www.bibliometrix.org/)\n",
        "\n",
        "### Other Sources\n",
        "\n",
        "* An example notebook where I use the ideas presented hee for a simple analysis of technological relatedness can be found [here](https://rawcdn.githack.com/daniel-hain/SDC_IM/9bf8683ffeea703e50e5506ac0eb3dd7544621c3/S3_2_Economic_complexity.html)\n",
        "\n",
        "\n",
        "### Session info\n"
      ]
    },
    {
      "cell_type": "code",
      "metadata": {
        "autoscroll": false,
        "id": "Nlu_mLNm_KBE"
      },
      "source": [
        "sessionInfo()"
      ],
      "execution_count": null,
      "outputs": []
    },
    {
      "cell_type": "markdown",
      "metadata": {
        "id": "uj_pLXWt_KBH"
      },
      "source": [
        "\n",
        "\n",
        "\n",
        "\n"
      ]
    }
  ]
}