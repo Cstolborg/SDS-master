{
 "cells": [
  {
   "cell_type": "code",
   "execution_count": null,
   "metadata": {
    "Rmd_chunk_options": "setup, include=FALSE",
    "autoscroll": false,
    "collapsed": true
   },
   "outputs": [],
   "source": [
    "### Generic preamble\n",
    "rm(list=ls())\n",
    "Sys.setenv(LANG = \"en\") # For english language\n",
    "options(scipen = 5) # To deactivate annoying scientific number notation\n",
    "\n",
    "### Knitr options\n",
    "library(knitr) # For display of the markdown\n",
    "knitr::opts_chunk$set(warning=FALSE,\n",
    "                     message=FALSE,\n",
    "                     comment=FALSE,\n",
    "                     fig.align=\"center\"\n",
    "                     )"
   ]
  },
  {
   "cell_type": "code",
   "execution_count": null,
   "metadata": {
    "autoscroll": false,
    "collapsed": true
   },
   "outputs": [],
   "source": [
    "### Load standardpackages\n",
    "library(tidyverse) # Collection of all the good stuff like dplyr, ggplot2 ect.\n",
    "library(magrittr) # For extra-piping operators (eg. %<>%)"
   ]
  },
  {
   "cell_type": "markdown",
   "metadata": {},
   "source": [
    "\n",
    "### This session\n",
    "\n",
    "In this applied session, you will:\n",
    "\n",
    "\n",
    "# Network data structures\n",
    "\n",
    "* Below an example ofa minimal edge list created with the `tibble()` function.\n",
    "* In this case, let us assume this network to be unweighted, meaning a connection can be eiter tresent or absent.\n",
    "\n"
   ]
  },
  {
   "cell_type": "code",
   "execution_count": null,
   "metadata": {
    "Rmd_chunk_options": "edgelists",
    "autoscroll": false,
    "collapsed": true
   },
   "outputs": [],
   "source": [
    "edge_list <- tibble(from = c(1, 2, 2, 1, 4),\n",
    "                    to = c(2, 3, 4, 5, 1))"
   ]
  },
  {
   "cell_type": "code",
   "execution_count": null,
   "metadata": {
    "autoscroll": false,
    "collapsed": true
   },
   "outputs": [],
   "source": [
    "edge_list"
   ]
  },
  {
   "cell_type": "markdown",
   "metadata": {},
   "source": [
    "\n",
    "## Adjacency Matrix\n",
    "\n",
    "* A second popular form of network representation is the **adjacency-matrix** (also called **socio-matrix**).\n",
    "* It is represented as a $n*n$ matrix, where $n$ stands for the number of elements of which their relationships should be represented.\n",
    "* The value in the cell that intercepts row $n$ and column $m$ indicates if an edge is present (=1) or absent (=0).\n",
    "* Tip: Given an edgelist, an adjacency matrix can easily be produced by crosstabulating:\n",
    "\n"
   ]
  },
  {
   "cell_type": "code",
   "execution_count": null,
   "metadata": {
    "Rmd_chunk_options": "matrix",
    "autoscroll": false,
    "collapsed": true
   },
   "outputs": [],
   "source": [
    "adj_matrix <- edge_list %>%\n",
    "  table() %>%\n",
    "  as.matrix()"
   ]
  },
  {
   "cell_type": "code",
   "execution_count": null,
   "metadata": {
    "autoscroll": false,
    "collapsed": true
   },
   "outputs": [],
   "source": [
    "adj_matrix"
   ]
  },
  {
   "cell_type": "markdown",
   "metadata": {},
   "source": [
    "\n",
    "\n",
    "*Note:*\n",
    "\n",
    "* Existing as well as not existing connections are stored. Since most networks in reality are **sparse** (= more potential connections are inactive than active)\n",
    "* This is inefficient for storrage and computation.\n",
    "* Here, a sparse `dgCMatrix` object from the `Matrix`can be helpful.\n",
    "* This sparse datasructure only stores a reference to non-empty cells and their values.\n",
    "\n"
   ]
  },
  {
   "cell_type": "code",
   "execution_count": null,
   "metadata": {
    "autoscroll": false,
    "collapsed": true
   },
   "outputs": [],
   "source": [
    "library(Matrix)\n",
    "sparse_matrix <- edge_list %>%\n",
    "  table() %>%\n",
    "  Matrix(sparse = TRUE)"
   ]
  },
  {
   "cell_type": "code",
   "execution_count": null,
   "metadata": {
    "autoscroll": false,
    "collapsed": true
   },
   "outputs": [],
   "source": [
    "sparse_matrix"
   ]
  },
  {
   "cell_type": "code",
   "execution_count": null,
   "metadata": {
    "autoscroll": false,
    "collapsed": true
   },
   "outputs": [],
   "source": [
    "sparse_matrix %>% glimpse()"
   ]
  },
  {
   "cell_type": "markdown",
   "metadata": {},
   "source": [
    "\n",
    "## Nodelists\n",
    "* Edgelists as well as adjacency matrices only stores connectivity pattern between nodes, but due to their structure cannot store informations on the nodes in which we might be interested.\n",
    "* Therefore, we in many cases also provide a a **node list** with these informations (such as the names of the nodes or any kind of groupings).\n",
    "\n"
   ]
  },
  {
   "cell_type": "code",
   "execution_count": null,
   "metadata": {
    "Rmd_chunk_options": "nodelists",
    "autoscroll": false,
    "collapsed": true
   },
   "outputs": [],
   "source": [
    "node_list <- tibble(id = 1:5,\n",
    "                    name = c(\"Jesper\", \"Pernille\", \"Jacob\", \"Dorte\", \"Donald\"),\n",
    "                    gender = c(\"M\", \"F\", \"M\", \"F\", \"M\"),\n",
    "                    group = c(\"A\", \"B\", \"B\", \"A\", \"C\"))"
   ]
  },
  {
   "cell_type": "code",
   "execution_count": null,
   "metadata": {
    "autoscroll": false,
    "collapsed": true
   },
   "outputs": [],
   "source": [
    "node_list"
   ]
  },
  {
   "cell_type": "markdown",
   "metadata": {},
   "source": [
    "\n",
    "\n",
    "## Graph objects\n",
    "\n",
    "### Graph objects in [`igraph`](https://igraph.org/r/)\n",
    "\n",
    "* One of the most popular network/graph analytics framework in `R` and `Python` alike is [`igraph`](http://igraph.org). * It provides a powerful toolbox for analysis as well as plotting alike. Lets take a peak.\n",
    "* To create an `igraph` object from an edge-list data frame we can use the `graph_from_data_frame()` function.\n",
    "* There are three arguments in the `graph_from_data_frame()` function: d, vertices, and directed.\n",
    "   * d refers to the edge list,\n",
    "   * vertices to the node list,\n",
    "   *directed can be either `TRUE` or `FALSE` depending on whether the data is directed or undirected.\n",
    "* By default, `graph.data.frame()` treats the first two columns of the edge list and any remaining columns as edge attributes.\n",
    "\n"
   ]
  },
  {
   "cell_type": "code",
   "execution_count": null,
   "metadata": {
    "autoscroll": false,
    "collapsed": true
   },
   "outputs": [],
   "source": [
    "library(igraph)"
   ]
  },
  {
   "cell_type": "code",
   "execution_count": null,
   "metadata": {
    "autoscroll": false,
    "collapsed": true
   },
   "outputs": [],
   "source": [
    "g <- graph_from_data_frame(d = edge_list, vertices = node_list, directed = FALSE)\n",
    "# g <- graph_from_adjacency_matrix(adj_matrix, mode = \"undirected\") # Same for the adjacency matrix"
   ]
  },
  {
   "cell_type": "code",
   "execution_count": null,
   "metadata": {
    "autoscroll": false,
    "collapsed": true
   },
   "outputs": [],
   "source": [
    "g"
   ]
  },
  {
   "cell_type": "markdown",
   "metadata": {},
   "source": [
    "\n",
    "\n",
    "Lets inspect the resulting object. An `igraph` graph object summary reveals some interesting informations.\n",
    "\n",
    "* First, it tells us the graph-type: undirected `UN`, or  directed `DN`\n",
    "* Afterwards, the number of nodes (4), and edges (5)\n",
    "* Followed by the node attributes (node level variables), which in this case are only their name, gender, and group (`attr: name (v/c), gender (v/c), group (v/c)`)\n",
    "* Lastly, a list of all existing edges. Note: `n--m` indicates an undirected, `n->m` an directed edge.\n",
    "\n",
    "Lets take a look at the structure of the object:\n",
    "\n"
   ]
  },
  {
   "cell_type": "code",
   "execution_count": null,
   "metadata": {
    "autoscroll": false,
    "collapsed": true
   },
   "outputs": [],
   "source": [
    "g[[1:2]]%>% glimpse() # Note the double brackets (g is a list object)"
   ]
  },
  {
   "cell_type": "markdown",
   "metadata": {},
   "source": [
    "\n",
    "* We see, the object has a list-format, consisting of sepperate lists for every node, containing some attributes which are irrelevant now, and an edgelist for every node, capturing its ego-network (eg., `..$ Jesper: 'igraph.vs' Named int [1:3] 2 4 5`)\n",
    "* We can also plot it to take a look. `igraph` object can be directly used with the `plot()` function.\n",
    "* The results can be adjusted with a set of parameters we will discover later.\n",
    "* It's not super pretty, therefore we will later also explore more powerfull plotting tools for gaphs. However, its quick&dirty, so lets take it like that for now.\n",
    "\n"
   ]
  },
  {
   "cell_type": "code",
   "execution_count": null,
   "metadata": {
    "autoscroll": false,
    "collapsed": true
   },
   "outputs": [],
   "source": [
    "plot(g)"
   ]
  },
  {
   "cell_type": "markdown",
   "metadata": {},
   "source": [
    "\n",
    "*Note:* We will not venture further into the `igraph` plotting functionality, since we will go all in with `ggraph`. However, there is a very neath tutorial [here](https://raw.githack.com/kateto/R-Network-Visualization-Workshop/master/Sunbelt%202019%20R%20Network%20Visualization%20Workshop.html), that will tell you everything you need to know, in case you are interested.\n",
    "\n",
    "We can inspect and manipulate the nodes via `V(g)` (V for vertices, its graph-theory slang), and edges with `E(g)`\n",
    "\n"
   ]
  },
  {
   "cell_type": "code",
   "execution_count": null,
   "metadata": {
    "autoscroll": false,
    "collapsed": true
   },
   "outputs": [],
   "source": [
    "V(g)"
   ]
  },
  {
   "cell_type": "code",
   "execution_count": null,
   "metadata": {
    "autoscroll": false,
    "collapsed": true
   },
   "outputs": [],
   "source": [
    "E(g)"
   ]
  },
  {
   "cell_type": "markdown",
   "metadata": {},
   "source": [
    "\n",
    "We can also use most of the base-R slicing&dicing.\n",
    "\n"
   ]
  },
  {
   "cell_type": "code",
   "execution_count": null,
   "metadata": {
    "autoscroll": false,
    "collapsed": true
   },
   "outputs": [],
   "source": [
    "V(g)[1:3]"
   ]
  },
  {
   "cell_type": "code",
   "execution_count": null,
   "metadata": {
    "autoscroll": false,
    "collapsed": true
   },
   "outputs": [],
   "source": [
    "E(g)[2:4]"
   ]
  },
  {
   "cell_type": "markdown",
   "metadata": {},
   "source": [
    "\n",
    "\n",
    "Remember, it's a list-object. So, if we just want to have the values, we have to use the double bracket `[[x]]`.\n",
    "\n"
   ]
  },
  {
   "cell_type": "code",
   "execution_count": null,
   "metadata": {
    "autoscroll": false,
    "collapsed": true
   },
   "outputs": [],
   "source": [
    "V(g)[[1:3]]"
   ]
  },
  {
   "cell_type": "markdown",
   "metadata": {},
   "source": [
    "\n",
    "We can also use the `$` notation.\n",
    "\n"
   ]
  },
  {
   "cell_type": "code",
   "execution_count": null,
   "metadata": {
    "autoscroll": false,
    "collapsed": true
   },
   "outputs": [],
   "source": [
    "V(g)$name"
   ]
  },
  {
   "cell_type": "markdown",
   "metadata": {},
   "source": [
    "\n",
    "There is obviously a lot more to say about `igraph` and its rich functionality. You will learn much of the abse functionality of `igraph` in your DC assignments. Furthermore [Katya Ognyanova](https://kateto.net/), has a [brilliant tutorial](https://kateto.net/networks-r-igraph) that can be studied.\n",
    "\n",
    "### Graph objects in [`tidygraph`](https://tidygraph.data-imaginist.com/)\n",
    "\n",
    "* While the `igraph` functionality still represents the core of `R`'s network analysis toolbox, recent developments have made network analytics much more accessible and intuitive.\n",
    "* [Thomas Lin Pedersen](http://www.data-imaginist.com) (also known as the developer of beloved packages like `ggforce`, `gganimate`, and the `R` implementation of `lime`)  has recently released the [`tidygraph`](https://tidygraph.data-imaginist.com/) package.\n",
    "* It leverage the power of `igraph` in a manner consistent with the [`tidyverse`](http://www.tidyverse.org) workflow.\n",
    "* It represents a lightweight wrapper around the core `igraph` object and functionality which makes it accessible for much of the traditional `dplyr` workflows.\n",
    "* Even better, he tops it up with [`ggraph`](https://cran.r-project.org/web/packages/ggraph/index.html), a consistent `ggplot2`-look-and-feel network visualization package.\n",
    "* For that reason, we will mostly work with the `tidygraph` framework, while we still in some few cases need to draw from the base `igraph` functionality.\n",
    "\n",
    "![](https://sds-aau.github.io/SDS-master/00_media/networks_data_structure.png)\n",
    "\n",
    "All `tidygraph`functions are excellently documented [here](https://tidygraph.data-imaginist.com/reference/index.html)\n",
    "\n",
    "\n",
    "### Creating a`tbl_graph`\n",
    "\n"
   ]
  },
  {
   "cell_type": "code",
   "execution_count": null,
   "metadata": {
    "autoscroll": false,
    "collapsed": true
   },
   "outputs": [],
   "source": [
    "library(tidygraph)"
   ]
  },
  {
   "cell_type": "markdown",
   "metadata": {},
   "source": [
    "\n",
    "\n",
    "* We here created the `tbl_graph` directly from the `igraph` object.\n",
    "\n"
   ]
  },
  {
   "cell_type": "code",
   "execution_count": null,
   "metadata": {
    "autoscroll": false,
    "collapsed": true
   },
   "outputs": [],
   "source": [
    "g  %<>% as_tbl_graph()"
   ]
  },
  {
   "cell_type": "code",
   "execution_count": null,
   "metadata": {
    "autoscroll": false,
    "collapsed": true
   },
   "outputs": [],
   "source": [
    "g"
   ]
  },
  {
   "cell_type": "markdown",
   "metadata": {},
   "source": [
    "\n",
    "* We see a more intuitive representation of the datastructure, consisting of a node as well as an edge dataframe.\n",
    "* We could for sure also create it based on our initial node- and edgelist.\n",
    "\n"
   ]
  },
  {
   "cell_type": "code",
   "execution_count": null,
   "metadata": {
    "autoscroll": false,
    "collapsed": true
   },
   "outputs": [],
   "source": [
    "g <- tbl_graph(edges = edge_list, nodes = node_list, directed = FALSE)"
   ]
  },
  {
   "cell_type": "markdown",
   "metadata": {},
   "source": [
    "\n",
    "* **Note:** The `tbl_graph` class is a thin wrapper around an `igraph` object that provides methods for manipulating the graph using the tidy API.\n",
    "* As it is just a subclass of `igraph`, every `igraph` method and its syntax will work as expected and can be used if necessary. However, it might convert it back into an original `igraph` object.\n",
    "\n"
   ]
  },
  {
   "cell_type": "code",
   "execution_count": null,
   "metadata": {
    "autoscroll": false,
    "collapsed": true
   },
   "outputs": [],
   "source": [
    "V(g)"
   ]
  },
  {
   "cell_type": "markdown",
   "metadata": {},
   "source": [
    "\n",
    "* In adittionan, the `as_tbl_graph()` function also can transform different types of network data from objects such as `data.frame`, `matrix`, `dendrogram`, `igraph`, etc.\n",
    "\n",
    "### Acessing and manipulating nodes and edges\n",
    "\n",
    "* But how can a graph object be manipulated with `dplyr` syntax?\n",
    "* We know that a graph object contains an edge as well as node dataframe, so commands like `g %>% filter(name == \"Pernille\")` would be confusing, since it is unclear if we refer to nodes or edges.\n",
    "* `tidygraph`'s solution here are selective **activation pipes**:\n",
    "   * `%N>%` activates nodes (short for longer alternative:`%>% activate_nodes()`)\n",
    "   * `%E>%` activates edges (short for longer alternative:`%>% activate_edges()`)\n",
    "* Consequently, functions are executed on the currently active dataframe of either nodes or edges.\n",
    "* With this simple syntax trick, graphs become subject to most commonly known data manipulation workflows for tabular data.\n",
    "\n"
   ]
  },
  {
   "cell_type": "code",
   "execution_count": null,
   "metadata": {
    "autoscroll": false,
    "collapsed": true
   },
   "outputs": [],
   "source": [
    "g %N>%\n",
    "  filter(gender == \"F\")"
   ]
  },
  {
   "cell_type": "markdown",
   "metadata": {},
   "source": [
    "\n",
    "* Note that filtering nodes will simultaneously result in a filtering of edges. We for sure can also do manipulatings on both nodes and edges in one pipeline.\n",
    "\n"
   ]
  },
  {
   "cell_type": "code",
   "execution_count": null,
   "metadata": {
    "autoscroll": false,
    "collapsed": true
   },
   "outputs": [],
   "source": [
    "g %N>%\n",
    "  filter(group %in% c(\"A\", \"B\")) %E>%\n",
    "  filter(to == 2)"
   ]
  },
  {
   "cell_type": "markdown",
   "metadata": {},
   "source": [
    "\n",
    "* Note that the filtering of edges did not reduce the nodeset. While nodes can be isolated in a nework, edges without an adjacent node cannot exist.\n",
    "* We can also pull the virtual node or edge dataframe out of the `tbl_graph` and use it for tabular analysis.\n",
    "\n"
   ]
  },
  {
   "cell_type": "code",
   "execution_count": null,
   "metadata": {
    "autoscroll": false,
    "collapsed": true
   },
   "outputs": [],
   "source": [
    "g %N>%\n",
    "  filter(group == \"B\") %>%\n",
    "  as_tibble()"
   ]
  },
  {
   "cell_type": "markdown",
   "metadata": {},
   "source": [
    "\n",
    "\n",
    "### Visualization (preview)\n",
    "\n",
    "* One last thing for now: While `igraph` also provides a powerful network visualization functionality, I will also mostly go with Thomas sister package, [`ggraph`](https://github.com/thomasp85/ggraph), which provides a network visualization interface compatible and consistent with `ggplot2`\n",
    "* The rest works like any `ggplot` function call, just that we use special geoms for our network\n",
    "* Fir instance, we use: `geom_edge_density()` to draw a shadow where the edge density is higher, `geom_edge_link()` to connect edges with a straight line, `geom_node_point()` to draw node points and `geom_node_text()` to draw the labels. More options can be found here.\n",
    "\n"
   ]
  },
  {
   "cell_type": "code",
   "execution_count": null,
   "metadata": {
    "autoscroll": false,
    "collapsed": true
   },
   "outputs": [],
   "source": [
    "library(ggraph)"
   ]
  },
  {
   "cell_type": "code",
   "execution_count": null,
   "metadata": {
    "autoscroll": false,
    "collapsed": true
   },
   "outputs": [],
   "source": [
    "g %>% ggraph(layout = \"nicely\") +\n",
    "  geom_edge_link() +\n",
    "  geom_node_point() +\n",
    "  geom_node_text(aes(label = name))"
   ]
  },
  {
   "cell_type": "markdown",
   "metadata": {},
   "source": [
    "\n",
    "Not very impressive up to now, but wait for the real stuff to come in later sessions.\n",
    "\n",
    "# Network analysis and measures\n",
    "\n"
   ]
  },
  {
   "cell_type": "code",
   "execution_count": null,
   "metadata": {
    "autoscroll": false,
    "collapsed": true
   },
   "outputs": [],
   "source": [
    "# generate a sample network: play_smallworld() Create graphs based on the Watts-Strogatz small- world model.\n",
    "set.seed(1337)\n",
    "g <- play_barabasi_albert(n = 200, # Number of nodes\n",
    "                          power = 0.75, # Power of preferential attachment effect\n",
    "                          directed = FALSE # Undirected network\n",
    "                          )"
   ]
  },
  {
   "cell_type": "code",
   "execution_count": null,
   "metadata": {
    "autoscroll": false,
    "collapsed": true
   },
   "outputs": [],
   "source": [
    "set.seed(1337)\n",
    "g %>%\n",
    "    ggraph(layout = \"fr\") +\n",
    "    geom_edge_link() +\n",
    "    geom_node_point() +\n",
    "    theme_graph() # Adding `theme_graph()` introduces a stileguide better suited for rgaphs"
   ]
  },
  {
   "cell_type": "markdown",
   "metadata": {},
   "source": [
    "\n",
    "\n",
    "## Node level measures\n",
    "\n",
    "Centralities can be easily created on node level wit the `centrality_[...]` function. All centralities available can be found [here](https://tidygraph.data-imaginist.com/reference/index.html)\n",
    "\n"
   ]
  },
  {
   "cell_type": "code",
   "execution_count": null,
   "metadata": {
    "autoscroll": false,
    "collapsed": true
   },
   "outputs": [],
   "source": [
    "g <- g %N>%\n",
    "  mutate(centrality_dgr = centrality_degree(),\n",
    "         centrality_eigen = centrality_eigen(),\n",
    "         centrality_between = centrality_betweenness())"
   ]
  },
  {
   "cell_type": "code",
   "execution_count": null,
   "metadata": {
    "autoscroll": false,
    "collapsed": true
   },
   "outputs": [],
   "source": [
    "g %N>%\n",
    "  as_tibble() %>%\n",
    "  head()"
   ]
  },
  {
   "cell_type": "markdown",
   "metadata": {},
   "source": [
    "\n",
    "#### Degree centrality\n",
    "\n"
   ]
  },
  {
   "cell_type": "code",
   "execution_count": null,
   "metadata": {
    "autoscroll": false,
    "collapsed": true
   },
   "outputs": [],
   "source": [
    "set.seed(1337)\n",
    "g %>%\n",
    "    ggraph(layout = \"fr\") +\n",
    "    geom_edge_link() +\n",
    "    geom_node_point(aes(size = centrality_dgr, colour = centrality_dgr)) +\n",
    "    scale_color_continuous(guide = \"legend\") +\n",
    "    theme_graph()"
   ]
  },
  {
   "cell_type": "markdown",
   "metadata": {},
   "source": [
    "\n",
    "#### Eigenvector centrality\n",
    "\n"
   ]
  },
  {
   "cell_type": "code",
   "execution_count": null,
   "metadata": {
    "autoscroll": false,
    "collapsed": true
   },
   "outputs": [],
   "source": [
    "set.seed(1337)\n",
    "g %>%\n",
    "    ggraph(layout = \"fr\") +\n",
    "    geom_edge_link() +\n",
    "    geom_node_point(aes(size = centrality_eigen, colour = centrality_eigen)) +\n",
    "    scale_color_continuous(guide = \"legend\") +\n",
    "    theme_graph()"
   ]
  },
  {
   "cell_type": "markdown",
   "metadata": {},
   "source": [
    "\n",
    "#### Betweenness centrality\n",
    "\n"
   ]
  },
  {
   "cell_type": "code",
   "execution_count": null,
   "metadata": {
    "autoscroll": false,
    "collapsed": true
   },
   "outputs": [],
   "source": [
    "set.seed(1337)\n",
    "g %>%\n",
    "    ggraph(layout = \"fr\") +\n",
    "    geom_edge_link() +\n",
    "    geom_node_point(aes(size = centrality_between, colour = centrality_between)) +\n",
    "    scale_color_continuous(guide = \"legend\") +\n",
    "    theme_graph()"
   ]
  },
  {
   "cell_type": "markdown",
   "metadata": {},
   "source": [
    "\n",
    "\n",
    "## Clustering (Community detection)\n",
    "\n",
    "* All clustering algorithms from `igraph` are available in tidygraph using the `group_*` prefix.\n",
    "* All of these functions return an integer vector with nodes (or edges) sharing the same integer being grouped together.\n",
    "* There are-just like for clusterin of tabular data in UML-many different algorithms and approaches to\n",
    "\n",
    "Lets illustrate\n",
    "\n"
   ]
  },
  {
   "cell_type": "code",
   "execution_count": null,
   "metadata": {
    "autoscroll": false,
    "collapsed": true
   },
   "outputs": [],
   "source": [
    "set.seed(1337)\n",
    "# We create an example network\n",
    "g <- play_islands(n_islands = 5, # \tThe number of densely connected islands\n",
    "                  size_islands = 15, # The number of nodes in each island\n",
    "                  p_within = 0.75, # The probability of edges within and between groups/blocks\n",
    "                  m_between = 5 # The number of edges between groups/islands\n",
    "                  )"
   ]
  },
  {
   "cell_type": "code",
   "execution_count": null,
   "metadata": {
    "autoscroll": false,
    "collapsed": true
   },
   "outputs": [],
   "source": [
    "set.seed(1337)\n",
    "# As planned, we clearely see distinct communities\n",
    "g %>%\n",
    "    ggraph(layout = 'kk') +\n",
    "    geom_edge_link() +\n",
    "    geom_node_point(size = 7) +\n",
    "    theme_graph()"
   ]
  },
  {
   "cell_type": "code",
   "execution_count": null,
   "metadata": {
    "autoscroll": false,
    "collapsed": true
   },
   "outputs": [],
   "source": [
    "set.seed(1337)\n",
    "# We run a community detection simply with the group_* function of tidygraph. here, the Lovain algorithm is a well performing and fast choice.\n",
    "g <- g %N>%\n",
    "    mutate(community = group_louvain() %>% as.factor())"
   ]
  },
  {
   "cell_type": "code",
   "execution_count": null,
   "metadata": {
    "autoscroll": false,
    "collapsed": true
   },
   "outputs": [],
   "source": [
    "set.seed(1337)\n",
    "# Lets see how well it did...\n",
    "g %>%\n",
    "    ggraph(layout = 'kk') +\n",
    "    geom_edge_link() +\n",
    "    geom_node_point(aes(colour = community), size = 7) +\n",
    "    theme_graph()"
   ]
  },
  {
   "cell_type": "markdown",
   "metadata": {},
   "source": [
    "\n",
    "## Neighborhood of a Node\n",
    "\n",
    "* Lets check the size of all nodes neighborhood at distance 2.\n",
    "\n"
   ]
  },
  {
   "cell_type": "code",
   "execution_count": null,
   "metadata": {
    "autoscroll": false,
    "collapsed": true
   },
   "outputs": [],
   "source": [
    "g %N>%\n",
    "  mutate(neighborhood_size = local_size(order = 2)) %>%\n",
    "  as_tibble() %>%\n",
    "  arrange(desc(neighborhood_size)) %>%\n",
    "  head()"
   ]
  },
  {
   "cell_type": "markdown",
   "metadata": {},
   "source": [
    "\n",
    "' We can also not only look at it, but produce a new sub-graph only of this ego-network.\n",
    "' Here, we need to use the base `igraph` function. Note that it produces an `igraph` object, so we have to make a `tidygraph` again...\n",
    "\n"
   ]
  },
  {
   "cell_type": "code",
   "execution_count": null,
   "metadata": {
    "autoscroll": false,
    "collapsed": true
   },
   "outputs": [],
   "source": [
    "g1 <- make_ego_graph(g, 2, nodes = 1)[[1]] %>% as_tbl_graph()\n",
    "g50 <- make_ego_graph(g, 2, nodes = 50)[[1]] %>% as_tbl_graph()"
   ]
  },
  {
   "cell_type": "code",
   "execution_count": null,
   "metadata": {
    "autoscroll": false,
    "collapsed": true
   },
   "outputs": [],
   "source": [
    "set.seed(1337)\n",
    "g1 %>%\n",
    "    ggraph(layout = 'kk') +\n",
    "    geom_edge_link() +\n",
    "    geom_node_point(aes(colour = community), size = 7) +\n",
    "    theme_graph()"
   ]
  },
  {
   "cell_type": "code",
   "execution_count": null,
   "metadata": {
    "autoscroll": false,
    "collapsed": true
   },
   "outputs": [],
   "source": [
    "set.seed(1337)\n",
    "g50 %>%\n",
    "    ggraph(layout = 'kk') +\n",
    "    geom_edge_link() +\n",
    "    geom_node_point(aes(colour = community), size = 7) +\n",
    "    theme_graph()"
   ]
  },
  {
   "cell_type": "markdown",
   "metadata": {},
   "source": [
    "\n",
    "## (Global) Network structure\n",
    "\n",
    "* Finally, it is often also informative to look at the overal characteristics of the network. We will do this in more detail next time, but just so you know:\n",
    "\n",
    "* The **density** of a measure represents the share of all connected to all possible connections in the network\n",
    "\n"
   ]
  },
  {
   "cell_type": "code",
   "execution_count": null,
   "metadata": {
    "autoscroll": false,
    "collapsed": true
   },
   "outputs": [],
   "source": [
    "edge_density(g)"
   ]
  },
  {
   "cell_type": "markdown",
   "metadata": {},
   "source": [
    "\n",
    "***Transistivity**, also c alled the **Clustering Cefficient** indicates how much the network tends to be locally clustered.\n",
    "* That is measured by the share of **closed triplets**. Again,w e will dig into that next time.\n",
    "\n"
   ]
  },
  {
   "cell_type": "code",
   "execution_count": null,
   "metadata": {
    "autoscroll": false,
    "collapsed": true
   },
   "outputs": [],
   "source": [
    "transitivity(g)"
   ]
  },
  {
   "cell_type": "markdown",
   "metadata": {},
   "source": [
    "\n",
    "* The **diameter** is the longest of the shortest paths between two nodes of the network.\n",
    "\n"
   ]
  },
  {
   "cell_type": "code",
   "execution_count": null,
   "metadata": {
    "autoscroll": false,
    "collapsed": true
   },
   "outputs": [],
   "source": [
    "diameter(g, directed = F, weights = NA)"
   ]
  },
  {
   "cell_type": "markdown",
   "metadata": {},
   "source": [
    "\n",
    "* Finally, the **mean distance**, or **average path lenght** represents the mean of all shortest paths between all nodes. It is a measure of diffusion potential within a network.\n",
    "\n"
   ]
  },
  {
   "cell_type": "code",
   "execution_count": null,
   "metadata": {
    "autoscroll": false,
    "collapsed": true
   },
   "outputs": [],
   "source": [
    "mean_distance(g, directed = F)"
   ]
  },
  {
   "cell_type": "markdown",
   "metadata": {},
   "source": [
    "\n",
    "\n",
    "# Case: Networks are coming...\n",
    "\n",
    "![](https://sds-aau.github.io/SDS-master/00_media/random_got.jpg)\n",
    "\n",
    "* So, lets get serious. Appropriate for the weather these days in Denmark, the theme is \"winter is comming...\".\n",
    "* Therefore, we will have some fun analysing the Game of Thrones data provided by [Andrew Beveridge](https://github.com/mathbeveridge/asoiaf).\n",
    "* It is a Character Interaction Networks for George R. R. Martin's \"A Song of Ice and Fire\" saga (yes, we are talking about the books...).\n",
    "* These networks were created by connecting two characters whenever their names (or nicknames) appeared within 15 words of one another in one of the books in \"A Song of Ice and Fire.\"\n",
    "* The edge weight corresponds to the number of interactions.\n",
    "* This is a nice skill you will have after the second part of M2 on your own.\n",
    "\n",
    "## Build the graph\n",
    "\n",
    "* First, we load all nodes, representing all characters appearing in the books:\n",
    "\n"
   ]
  },
  {
   "cell_type": "code",
   "execution_count": null,
   "metadata": {
    "autoscroll": false,
    "collapsed": true
   },
   "outputs": [],
   "source": [
    "edges <- read_csv('https://sds-aau.github.io/SDS-master/00_data/GoT_network/asoiaf-all-edges.csv')"
   ]
  },
  {
   "cell_type": "code",
   "execution_count": null,
   "metadata": {
    "autoscroll": false,
    "collapsed": true
   },
   "outputs": [],
   "source": [
    "edges %>% head()"
   ]
  },
  {
   "cell_type": "code",
   "execution_count": null,
   "metadata": {
    "autoscroll": false,
    "collapsed": true
   },
   "outputs": [],
   "source": [
    "colnames(edges) <- tolower(colnames(edges))"
   ]
  },
  {
   "cell_type": "markdown",
   "metadata": {},
   "source": [
    "\n",
    "\n",
    "* So, that's what we have, a classical edgelist, with id1 in column 1 and id2 in column2.\n",
    "* Note, the edges are in this case weighted.\n",
    "\n",
    "Ok, lets see how many characters we have overal.\n",
    "\n"
   ]
  },
  {
   "cell_type": "code",
   "execution_count": null,
   "metadata": {
    "autoscroll": false,
    "collapsed": true
   },
   "outputs": [],
   "source": [
    "n_distinct(c(edges$source, edges$target))"
   ]
  },
  {
   "cell_type": "markdown",
   "metadata": {},
   "source": [
    "\n",
    "* Because there are so many characters in the books, many of them minor,\n",
    "* I am subsetting the data to the 100 characters with the most interactions across all books.\n",
    "* The edges are undirected, therefore there are no redundant Source-Target combinations.\n",
    "* Because of this, I pivot Source and Target data before summing up the weights.\n",
    "\n",
    "\n"
   ]
  },
  {
   "cell_type": "code",
   "execution_count": null,
   "metadata": {
    "autoscroll": false,
    "collapsed": true
   },
   "outputs": [],
   "source": [
    "chars_main <- edges %>%\n",
    "  select(-type) %>%\n",
    "  pivot_longer(source:target) %>%\n",
    "  group_by(value) %>%\n",
    "  summarise(sum_weight = sum(weight)) %>%\n",
    "  ungroup() %>%\n",
    "  arrange(desc(sum_weight)) %>%\n",
    "  slice(1:100) %>%\n",
    "  rename(name = value)"
   ]
  },
  {
   "cell_type": "code",
   "execution_count": null,
   "metadata": {
    "autoscroll": false,
    "collapsed": true
   },
   "outputs": [],
   "source": [
    "head(chars_main)"
   ]
  },
  {
   "cell_type": "markdown",
   "metadata": {},
   "source": [
    "\n",
    "* So far so good, if we only go by edge weights,\n",
    "* Lets reduce our edgelist to this main characters, just to warm up and keep the overview.\n",
    "\n"
   ]
  },
  {
   "cell_type": "code",
   "execution_count": null,
   "metadata": {
    "autoscroll": false,
    "collapsed": true
   },
   "outputs": [],
   "source": [
    "edges %<>%\n",
    "  filter(source %in% chars_main$name & target %in% chars_main$name) %>%\n",
    "  select(source, target, weight) %>%\n",
    "  rename(from = source,\n",
    "         to = target)\n",
    "# Note: Since it is small data, this way with %in% is ok. However, with large datasets I would filter via semi_join() instead (more efficient)"
   ]
  },
  {
   "cell_type": "markdown",
   "metadata": {},
   "source": [
    "\n",
    "Now we can convert our edgelist into a `tbl_graph` object structure.\n",
    "\n"
   ]
  },
  {
   "cell_type": "code",
   "execution_count": null,
   "metadata": {
    "autoscroll": false,
    "collapsed": true
   },
   "outputs": [],
   "source": [
    "g <- edges %>% as_tbl_graph(directed = FALSE)"
   ]
  },
  {
   "cell_type": "code",
   "execution_count": null,
   "metadata": {
    "autoscroll": false,
    "collapsed": true
   },
   "outputs": [],
   "source": [
    "g"
   ]
  },
  {
   "cell_type": "markdown",
   "metadata": {},
   "source": [
    "\n",
    "* We can use some of the `tidygraph` helpers to briefly clean the graph. Check `?node_is_*` and `?edge_is_*` for options.\n",
    "\n"
   ]
  },
  {
   "cell_type": "code",
   "execution_count": null,
   "metadata": {
    "autoscroll": false,
    "collapsed": true
   },
   "outputs": [],
   "source": [
    "# Filtering out multiple edges and isolated nodes (unconnected), in case there are some\n",
    "g <- g %E>%\n",
    "  filter(!edge_is_multiple()) %N>%\n",
    "  filter(!node_is_isolated())"
   ]
  },
  {
   "cell_type": "markdown",
   "metadata": {},
   "source": [
    "\n",
    "* Note that the edges in this graph are weighted. We can briefly look at the weight distribution:\n",
    "\n"
   ]
  },
  {
   "cell_type": "code",
   "execution_count": null,
   "metadata": {
    "autoscroll": false,
    "collapsed": true
   },
   "outputs": [],
   "source": [
    "g %E>%\n",
    "  as_tibble() %>%\n",
    "  ggplot(aes(x = weight)) +\n",
    "  geom_histogram()"
   ]
  },
  {
   "cell_type": "markdown",
   "metadata": {},
   "source": [
    "\n",
    "We see a right skewed distribution with many weak and some very strong edges. Lets take a look what are the edges with the highest weight (meaning here: the characters with most intraction).\n",
    "\n"
   ]
  },
  {
   "cell_type": "code",
   "execution_count": null,
   "metadata": {
    "autoscroll": false,
    "collapsed": true
   },
   "outputs": [],
   "source": [
    "g %E>%\n",
    "  as_tibble() %>%\n",
    "  arrange(desc(weight)) %>%\n",
    "  head()"
   ]
  },
  {
   "cell_type": "markdown",
   "metadata": {},
   "source": [
    "\n",
    "`tidygraph` always uses numeric IDs for nodes, which are also labeling the edges. This is not very helpful to get insights. So, lets take the node names in instead.\n",
    "\n"
   ]
  },
  {
   "cell_type": "code",
   "execution_count": null,
   "metadata": {
    "autoscroll": false,
    "collapsed": true
   },
   "outputs": [],
   "source": [
    "# We access the nodes directly via .N(). The same can be done for edges with .E() and the graph with .G(). Check ?context_accessors for more infos\n",
    "g %E>%\n",
    "  mutate(name_from = .N()$name[from],\n",
    "         name_to = .N()$name[to]) %>%\n",
    "  as_tibble() %>%\n",
    "  select(name_from, name_to, weight) %>%\n",
    "  arrange(desc(weight)) %>%\n",
    "  head()"
   ]
  },
  {
   "cell_type": "markdown",
   "metadata": {},
   "source": [
    "\n",
    "## Node Characteristics\n",
    "\n"
   ]
  },
  {
   "cell_type": "code",
   "execution_count": null,
   "metadata": {
    "autoscroll": false,
    "collapsed": true
   },
   "outputs": [],
   "source": [
    "g <- g %N>%\n",
    "  mutate(centrality_dgr = centrality_degree(weights = weight),\n",
    "         centrality_eigen = centrality_eigen(weights = weight),\n",
    "         centrality_between = centrality_betweenness(weights = weight))"
   ]
  },
  {
   "cell_type": "code",
   "execution_count": null,
   "metadata": {
    "autoscroll": false,
    "collapsed": true
   },
   "outputs": [],
   "source": [
    "bind_cols(g %N>%\n",
    "            select(name, centrality_dgr) %>%\n",
    "            arrange(desc(centrality_dgr)) %>%\n",
    "            as_tibble(),\n",
    "          g %N>%\n",
    "            select(name, centrality_eigen) %>%\n",
    "            arrange(desc(centrality_eigen)) %>%\n",
    "            as_tibble(),\n",
    "          g %N>%\n",
    "            select(name, centrality_between) %>%\n",
    "            arrange(desc(centrality_between)) %>%\n",
    "            as_tibble()) %>%\n",
    "  mutate_if(is.numeric, round, 1) %>%\n",
    "  head()"
   ]
  },
  {
   "cell_type": "markdown",
   "metadata": {},
   "source": [
    "\n",
    "## Communities & Groups\n",
    "\n"
   ]
  },
  {
   "cell_type": "code",
   "execution_count": null,
   "metadata": {
    "autoscroll": false,
    "collapsed": true
   },
   "outputs": [],
   "source": [
    "g <- g %N>%\n",
    "    mutate(community = group_louvain() %>% as.factor())"
   ]
  },
  {
   "cell_type": "code",
   "execution_count": null,
   "metadata": {
    "autoscroll": false,
    "collapsed": true
   },
   "outputs": [],
   "source": [
    "g %N>%\n",
    "  select(name, community, centrality_dgr) %>%\n",
    "  as_tibble() %>%\n",
    "  arrange(community, desc(centrality_dgr)) %>%\n",
    "  group_by(community) %>%\n",
    "  slice(1:5) %>% mutate(n = 1:5) %>%\n",
    "  ungroup() %>%\n",
    "  select(-centrality_dgr) %>%\n",
    "  spread(community, name)\n",
    ""
   ]
  },
  {
   "cell_type": "markdown",
   "metadata": {},
   "source": [
    "\n",
    "## Network Visualization I\n",
    "\n",
    "Ok, lets give it a first minimal shot:\n",
    "\n"
   ]
  },
  {
   "cell_type": "code",
   "execution_count": null,
   "metadata": {
    "autoscroll": false,
    "collapsed": true
   },
   "outputs": [],
   "source": [
    "g %>% ggraph(layout = \"fr\") +\n",
    "    geom_edge_link() +\n",
    "    geom_node_point() +\n",
    "  geom_node_text(aes(label = name))"
   ]
  },
  {
   "cell_type": "markdown",
   "metadata": {},
   "source": [
    "\n",
    "Not very exciting. Maybe we can do a bit better, using more options in the `ggraph` functionality to visualize aspects of the network.\n",
    "\n"
   ]
  },
  {
   "cell_type": "code",
   "execution_count": null,
   "metadata": {
    "Rmd_chunk_options": "fig.height=15, fig.width=20",
    "autoscroll": false,
    "collapsed": true
   },
   "outputs": [],
   "source": [
    "g %E>%\n",
    "  filter(weight >= quantile(weight, 0.5)) %N>%\n",
    "  filter(!node_is_isolated()) %>%\n",
    "  ggraph(layout = \"fr\") +\n",
    "    geom_edge_link(aes(width = weight), alpha = 0.2) +\n",
    "    geom_node_point(aes(color = community, size = centrality_eigen)) +\n",
    "    geom_node_text(aes(label = name, size = centrality_eigen), repel = TRUE) +\n",
    "    scale_color_brewer(palette = \"Set1\") +\n",
    "    theme_graph() +\n",
    "    labs(title = \"A Song of Ice and Fire character network\",\n",
    "         subtitle = \"Nodes are colored by community\")"
   ]
  },
  {
   "cell_type": "markdown",
   "metadata": {},
   "source": [
    "\n",
    "## Your turn\n",
    "Please do **Exercise 1** in the corresponding section on `Github`.\n",
    "\n",
    "# Endnotes\n",
    "\n",
    "### Packages & Ecosystem\n",
    "\n",
    "* tidygraph [here](https://tidygraph.data-imaginist.com/)\n",
    "* ggraph [here](https://www.data-imaginist.com/2017/announcing-ggraph/)\n",
    "\n",
    "### Suggestions for further study\n",
    "\n",
    "* DataCamp (!All courses have somewhat outdated ecosystems)\n",
    "   * [Network Analysis in R](https://learn.datacamp.com/courses/network-analysis-in-r): Good for some of the basics\n",
    "   * [Case Studies: Network Analysis in R](https://learn.datacamp.com/courses/case-studies-network-analysis-in-r): Good to get some first practice.\n",
    "   * [Predictive Analytics using Networked Data in R](https://learn.datacamp.com/courses/predictive-analytics-using-networked-data-in-r):\n",
    "   * Further: A Datacamp Python project for the same (GoT) data set [here](https://www.datacamp.com/projects/76?utm_campaign=broadcast&utm_medium=broadcast_8&utm_source=main)\n",
    "\n",
    "\n",
    "### Session Info\n",
    "\n"
   ]
  },
  {
   "cell_type": "code",
   "execution_count": null,
   "metadata": {
    "autoscroll": false,
    "collapsed": true
   },
   "outputs": [],
   "source": [
    "sessionInfo()"
   ]
  },
  {
   "cell_type": "markdown",
   "metadata": {},
   "source": [
    "\n",
    "\n",
    "\n",
    "\n",
    "\n"
   ]
  }
 ],
 "metadata": {
  "Rmd_header": {
   "author": "Daniel S. Hain (dsh@business.aau.dk)",
   "date": "Updated `r format(Sys.time(), '%B %d, %Y')`",
   "output": {
    "html_notebook": {
     "code_folding": "show",
     "df_print": "paged",
     "theme": "flatly",
     "toc": true,
     "toc_depth": 2,
     "toc_float": {
      "collapsed": false
     }
    }
   },
   "title": "Introduction to Network Analysis: Application (R)"
  },
  "kernelspec": {
   "display_name": "R",
   "language": "R",
   "name": "ir"
  },
  "language_info": {
   "codemirror_mode": "r",
   "file_extension": ".r",
   "mimetype": "text/x-r-source",
   "name": "R",
   "pygments_lexer": "r"
  }
 },
 "nbformat": 4,
 "nbformat_minor": 0
}
